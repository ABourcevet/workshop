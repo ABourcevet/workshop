{
 "cells": [
  {
   "cell_type": "markdown",
   "metadata": {},
   "source": [
    "# Amazon SageMaker Lineage\n",
    "Amazon SageMaker Lineage enables events that happen within SageMaker to be traced via a graph structure.  The data simplifies generating reports, making comparisons, or discovering relationships between events.  For example easily trace both how a model was generated and where the model was deployed. \n",
    "\n",
    "The lineage graph is created automatically by SageMaker and you can directly create or modify your own graphs.\n",
    "\n",
    "\n",
    "## Key Concepts\n",
    "\n",
    "* **Lineage Graph** - A connected graph tracing your machine learning workflow end to end. \n",
    "* **Artifacts** - Represents a URI addressable object or data.  Artifacts are typically inputs or outputs to Actions.  \n",
    "* **Actions**  - Represents an action taken such as a computation, transformation, or job.  \n",
    "* **Contexts** - Provides a method to logically group other entities.\n",
    "* **Associations** - A directed edge in the lineage graph that links two entities.\n",
    "* **Lineage Traversal** - Starting from an arbitrary point trace the lineage graph to discover and analyze relationships between steps in your workflow.\n",
    "* **Experiments** - Experiment entites (Experiments, Trials, and Trial Components) are also part of the lineage graph and can be associated wtih Artifacts, Actions, or Contexts.\n"
   ]
  },
  {
   "cell_type": "markdown",
   "metadata": {},
   "source": [
    "## Notebook Overview\n",
    "\n",
    "This notebook demonstrates how to:\n",
    "* Understand the basics of lineage entities.\n",
    "* Create and associate lineage entities to track your workflow.\n",
    "* Traverse the associations between lineage entities."
   ]
  },
  {
   "cell_type": "markdown",
   "metadata": {},
   "source": [
    "## Prerequisites\n",
    "\n",
    "Select the `Python 3 (Data Science)` kernel in SageMaker Studio."
   ]
  },
  {
   "cell_type": "code",
   "execution_count": 1,
   "metadata": {},
   "outputs": [],
   "source": [
    "import boto3\n",
    "import sagemaker\n",
    "\n",
    "region = boto3.Session().region_name\n",
    "sagemaker_session = sagemaker.session.Session()\n",
    "default_bucket = sagemaker_session.default_bucket()"
   ]
  },
  {
   "cell_type": "code",
   "execution_count": 2,
   "metadata": {},
   "outputs": [
    {
     "name": "stdout",
     "output_type": "stream",
     "text": [
      "Unique id is 1606875981\n"
     ]
    }
   ],
   "source": [
    "from datetime import datetime\n",
    "from sagemaker.lineage.context import Context\n",
    "from sagemaker.lineage.action import Action\n",
    "from sagemaker.lineage.association import Association\n",
    "from sagemaker.lineage.artifact import Artifact\n",
    "\n",
    "unique_id = str(int(datetime.now().replace(microsecond=0).timestamp()))\n",
    "\n",
    "print(f'Unique id is {unique_id}')"
   ]
  },
  {
   "cell_type": "code",
   "execution_count": 3,
   "metadata": {},
   "outputs": [],
   "source": [
    "# create an example context\n",
    "\n",
    "# the name must be unique across all other contexts\n",
    "context_name = f'machine-learning-workflow-{unique_id}' \n",
    "\n",
    "ml_workflow_context = Context.create(\n",
    "    context_name=context_name, \n",
    "    context_type='MLWorkflow',    \n",
    "    source_uri=unique_id,\n",
    "    # properties services as a method to store metdata on lineage entities in additional to Tags\n",
    "    properties={\"example\": \"true\"})"
   ]
  },
  {
   "cell_type": "code",
   "execution_count": 4,
   "metadata": {},
   "outputs": [
    {
     "name": "stdout",
     "output_type": "stream",
     "text": [
      "machine-learning-workflow-1606875981\n",
      "tensorflow-training-201129-2249-002-19a0db08-tf-1606694592-1606694593-aws-endpoint\n",
      "tensorflow-training-201129-2302-005-aec2a92a-tf-1606694522-1606694523-aws-endpoint\n",
      "automl-dm-ep-17-05-08-54-1605589735-aws-endpoint\n",
      "blazingtext-2020-11-16-22-36-49-919-1605566210-aws-endpoint\n",
      "blazingtext-2020-11-16-22-12-27-702-1605564749-aws-endpoint\n",
      "blazingtext-2020-11-16-21-28-33-967-1605562114-aws-endpoint\n",
      "blazingtext-2020-11-16-20-08-37-896-1605557319-aws-endpoint\n",
      "blazingtext-2020-11-16-20-04-02-392-1605557043-aws-endpoint\n",
      "automl-dm-ep-16-03-46-28-1605498389-aws-endpoint\n",
      "blazingtext-2020-11-16-02-55-56-428-1605495574-aws-endpoint\n",
      "blazingtext-2020-11-16-02-12-23-539-1605492967-aws-endpoint\n",
      "blazingtext-2020-11-12-21-54-13-547-1605218054-aws-endpoint\n",
      "tensorflow-training-2020-11-12-04-21-00-570-pt-1605216266-1605216267-aws-endpoint\n",
      "blazingtext-2020-11-12-19-11-50-335-1605208311-aws-endpoint\n",
      "blazingtext-2020-11-12-17-23-46-545-1605201827-aws-endpoint\n",
      "tensorflow-training-2020-11-12-04-21-00-570-tf-1605200530-1605200827-aws-endpoint\n",
      "tensorflow-training-2020-11-12-04-21-00-570-pt-1605200511-1605200512-aws-endpoint\n",
      "blazingtext-2020-11-12-04-06-17-336-1605153978-aws-endpoint\n",
      "blazingtext-2020-11-12-03-42-26-877-1605152547-aws-endpoint\n",
      "blazingtext-2020-11-12-03-19-09-602-1605151150-aws-endpoint\n",
      "recommender-2020-11-08-21-52-19-010-1604872339-aws-endpoint\n",
      "factorization-machines-2020-11-08-21-51-11-148-1604872272-aws-endpoint\n",
      "factorization-machines-2020-11-08-21-42-45-696-1604871766-aws-endpoint\n",
      "recommender-2020-11-08-21-24-56-345-1604870697-aws-endpoint\n",
      "blazingtext-2020-11-08-21-18-58-358-1604870339-aws-endpoint\n",
      "blazingtext-2020-11-08-21-04-45-364-1604869487-aws-endpoint\n",
      "factorization-machines-2020-11-08-20-43-38-128-1604868532-aws-endpoint\n",
      "blazingtext-2020-11-07-07-24-10-980-1604733851-aws-endpoint\n",
      "blazingtext-2020-11-07-07-03-41-719-1604732622-aws-endpoint\n",
      "tensorflow-training-2020-11-01-22-06-36-294-tf-1604331155-1604331156-aws-endpoint\n",
      "tensorflow-training-2020-11-01-20-37-48-849-tf-1604268481-1604268482-aws-endpoint\n",
      "tensorflow-training-2020-11-01-19-44-35-382-tf-1604260899-1604260900-aws-endpoint\n",
      "tensorflow-training-2020-11-01-01-55-19-347-tf-1604196343-1604196344-aws-endpoint\n",
      "tensorflow-training-2020-10-31-01-47-18-351-tf-1604195546-1604195547-aws-endpoint\n",
      "tensorflow-training-2020-10-31-01-47-18-351-tf-1604194462-1604194464-aws-endpoint\n",
      "tensorflow-training-2020-10-31-01-47-18-351-tf-1604176812-1604176814-aws-endpoint\n",
      "tensorflow-training-2020-09-23-00-04-38-996-tf-1604066368-1604066369-aws-endpoint\n",
      "tensorflow-training-2020-09-23-00-04-38-996-pt-1602213778-1602213779-aws-endpoint\n",
      "tensorflow-training-2020-09-23-00-04-38-996-abtest-1600984161-1600984161-aws-endpoint\n",
      "training-pipeline-run-1600902944-1600904794-aws-endpoint\n",
      "roberta-model-2020-09-23-21-36-45-338-1600897068-aws-endpoint\n",
      "tensorflow-training-2020-09-23-00-04-38-996-pt-1600824788-1600824789-aws-endpoint\n",
      "tensorflow-training-2020-09-23-00-04-38-996-tf-1600823917-1600823919-aws-endpoint\n",
      "tensorflow-training-2020-09-14-00-26-31-210-pt-1600562402-1600562402-aws-endpoint\n",
      "tensorflow-training-2020-09-14-00-26-31-210-tf-1600562383-1600562385-aws-endpoint\n",
      "tensorflow-inference-eia-2020-05-17-01-43-34-684-1589679815-aws-endpoint\n"
     ]
    }
   ],
   "source": [
    "# list all the contexts\n",
    "\n",
    "contexts = Context.list(sort_by='CreationTime', sort_order='Descending')\n",
    "\n",
    "for ctx in contexts:\n",
    "    print(ctx.context_name)"
   ]
  },
  {
   "cell_type": "code",
   "execution_count": 5,
   "metadata": {},
   "outputs": [],
   "source": [
    "# create an example action and associate it with the context\n",
    "\n",
    "model_build_action = Action.create(\n",
    "    action_name=f\"model-build-step-{unique_id}\",\n",
    "    action_type=\"ModelBuild\",\n",
    "    source_uri=unique_id,\n",
    "    properties={\"Example\": \"Metadata\"},\n",
    ")"
   ]
  },
  {
   "cell_type": "code",
   "execution_count": 6,
   "metadata": {},
   "outputs": [],
   "source": [
    "# Association Type can be Produced|DerivedFrom|AssociatedWith|ContributedTo\n",
    "context_action_association = Association.create(\n",
    "    source_arn=ml_workflow_context.context_arn,\n",
    "    destination_arn=model_build_action.action_arn,\n",
    "    association_type='AssociatedWith'\n",
    ")"
   ]
  },
  {
   "cell_type": "code",
   "execution_count": 7,
   "metadata": {},
   "outputs": [
    {
     "name": "stdout",
     "output_type": "stream",
     "text": [
      "model-build-step-1606875981 has an incoming association from machine-learning-workflow-1606875981\n",
      "machine-learning-workflow-1606875981 has an outgoing association to model-build-step-1606875981\n"
     ]
    }
   ],
   "source": [
    "# now the Action and Context are associated:\n",
    "incoming_associations_to_action = Association.list(destination_arn=model_build_action.action_arn)\n",
    "for association in incoming_associations_to_action:\n",
    "    print(f'{model_build_action.action_name} has an incoming association from {association.source_name}')\n",
    "\n",
    "outgoing_associations_from_context = Association.list(source_arn=ml_workflow_context.context_arn)\n",
    "for association in outgoing_associations_from_context:\n",
    "    print(f'{ml_workflow_context.context_name} has an outgoing association to {association.destination_name}')"
   ]
  },
  {
   "cell_type": "code",
   "execution_count": 8,
   "metadata": {},
   "outputs": [],
   "source": [
    "# create an artifact representing inputs to the model building action\n",
    "input_test_images = Artifact.create(\n",
    "    artifact_name='mnist-test-images',\n",
    "    artifact_type='TestData',\n",
    "    source_types=[{\"SourceIdType\": \"Custom\", \"Value\": unique_id}],\n",
    "    source_uri='https://sagemaker-sample-files.s3.amazonaws.com/datasets/image/MNIST/t10k-images-idx3-ubyte.gz')\n",
    "\n",
    "input_test_labels = Artifact.create(\n",
    "    artifact_name='mnist-test-labels',\n",
    "    artifact_type='TestLabels',\n",
    "    source_types=[{\"SourceIdType\": \"Custom\", \"Value\": unique_id}],\n",
    "    source_uri='https://sagemaker-sample-files.s3.amazonaws.com/datasets/image/MNIST/t10k-labels-idx1-ubyte.gz')"
   ]
  },
  {
   "cell_type": "code",
   "execution_count": 9,
   "metadata": {},
   "outputs": [],
   "source": [
    "# create an artifact representing a trained model\n",
    "output_model = Artifact.create(\n",
    "    artifact_name='mnist-model',\n",
    "    artifact_type='Model',\n",
    "    source_types=[{\"SourceIdType\": \"Custom\", \"Value\": unique_id}],\n",
    "    source_uri='s3://sagemaker-sample-files.s3.amazonaws.com/datasets/image/MNIST/model/tensorflow-training-2020-11-20-23-57-13-077/model.tar.gz'\n",
    ")"
   ]
  },
  {
   "cell_type": "code",
   "execution_count": 10,
   "metadata": {},
   "outputs": [
    {
     "data": {
      "text/plain": [
       "Association(sagemaker_session=<sagemaker.session.Session object at 0x7f202e24e5d0>,source_arn='arn:aws:sagemaker:us-east-1:835319576252:artifact/4312e059f7a5cb2340f9b624bc5d0173',destination_arn='arn:aws:sagemaker:us-east-1:835319576252:action/model-build-step-1606875981',association_type=None,response_metadata={'RequestId': '8b07349d-b0aa-4a02-8bdc-a3a7da46e9c9', 'HTTPStatusCode': 200, 'HTTPHeaders': {'x-amzn-requestid': '8b07349d-b0aa-4a02-8bdc-a3a7da46e9c9', 'content-type': 'application/x-amz-json-1.1', 'content-length': '193', 'date': 'Wed, 02 Dec 2020 02:26:26 GMT'}, 'RetryAttempts': 0})"
      ]
     },
     "execution_count": 10,
     "metadata": {},
     "output_type": "execute_result"
    }
   ],
   "source": [
    "# associate the data set artifact with an incoming association to the example action\n",
    "Association.create(source_arn=input_test_images.artifact_arn, destination_arn=model_build_action.action_arn)\n",
    "Association.create(source_arn=input_test_labels.artifact_arn, destination_arn=model_build_action.action_arn)"
   ]
  },
  {
   "cell_type": "code",
   "execution_count": 11,
   "metadata": {},
   "outputs": [
    {
     "data": {
      "text/plain": [
       "Association(sagemaker_session=<sagemaker.session.Session object at 0x7f202dac1750>,source_arn='arn:aws:sagemaker:us-east-1:835319576252:action/model-build-step-1606875981',destination_arn='arn:aws:sagemaker:us-east-1:835319576252:artifact/4ef87bec69f37f53d9c14a2e18d59c6c',association_type=None,response_metadata={'RequestId': 'b531aed0-d4fd-4964-b835-36c8d61d0d13', 'HTTPStatusCode': 200, 'HTTPHeaders': {'x-amzn-requestid': 'b531aed0-d4fd-4964-b835-36c8d61d0d13', 'content-type': 'application/x-amz-json-1.1', 'content-length': '193', 'date': 'Wed, 02 Dec 2020 02:26:26 GMT'}, 'RetryAttempts': 0})"
      ]
     },
     "execution_count": 11,
     "metadata": {},
     "output_type": "execute_result"
    }
   ],
   "source": [
    "# associate the example action with an outgoing association to the model artifact\n",
    "Association.create(source_arn=model_build_action.action_arn, destination_arn=output_model.artifact_arn)"
   ]
  },
  {
   "cell_type": "markdown",
   "metadata": {},
   "source": [
    "## Cleanup"
   ]
  },
  {
   "cell_type": "code",
   "execution_count": null,
   "metadata": {},
   "outputs": [
    {
     "name": "stdout",
     "output_type": "stream",
     "text": [
      "Deleting context AbaloneModelPackageGroup-Example-1606877102-aws-model-package-group\n",
      "Deleting context sagemaker-xgboost-2020-12-02-02-42-02-102-1606876922-aws-endpoint\n",
      "Deleting context BERT-Reviews-16068763784893226-1606876441-aws-model-package-group\n",
      "Deleting context tensorflow-inference-eia-2020-05-17-01-43-34-684-1589679815-aws-endpoint\n",
      "Deleting action bert-reviews-16068763784893226-1-Approved-1606939865-aws-model-package\n",
      "Deleting action bert-reviews-16068763784893226-1-PendingManualApproval-1606891274-aws-model-package\n",
      "Deleting action abalonemodelpackagegroup-example-3-Approved-1606877819-aws-model-package\n",
      "Deleting action abalonemodelpackagegroup-example-2-Approved-1606877529-aws-model-package\n",
      "Deleting action abalonemodelpackagegroup-example-1-PendingManualApproval-1606877103-aws-model-package\n",
      "Deleting action sagemaker-xgboost-2020-12-02-02-42-02-102-1606876922-1-aws-endpoint\n",
      "Deleting action blazingtext-2020-11-12-19-11-50-335-1605208311-1-aws-endpoint\n",
      "Deleting action blazingtext-2020-11-12-17-23-46-545-1605201827-1-aws-endpoint\n",
      "Deleting action tensorflow-training-2020-11-12-04-21-00-570-tf-1605200530-1605200827-2-aws-endpoint\n",
      "Deleting action tensorflow-training-2020-11-12-04-21-00-570-tf-1605200530-1605200827-1-aws-endpoint\n",
      "Deleting action tensorflow-training-2020-11-12-04-21-00-570-pt-1605200511-1605200512-1-aws-endpoint\n",
      "Deleting action blazingtext-2020-11-12-04-06-17-336-1605153978-1-aws-endpoint\n",
      "Deleting action blazingtext-2020-11-12-03-42-26-877-1605152547-1-aws-endpoint\n",
      "Deleting action blazingtext-2020-11-12-03-19-09-602-1605151150-2-aws-endpoint\n",
      "Deleting action blazingtext-2020-11-12-03-19-09-602-1605151150-1-aws-endpoint\n",
      "Deleting action recommender-2020-11-08-21-52-19-010-1604872339-1-aws-endpoint\n",
      "Deleting action factorization-machines-2020-11-08-21-51-11-148-1604872272-1-aws-endpoint\n",
      "Deleting action factorization-machines-2020-11-08-21-42-45-696-1604871766-1-aws-endpoint\n",
      "Deleting action recommender-2020-11-08-21-24-56-345-1604870697-1-aws-endpoint\n",
      "Deleting action blazingtext-2020-11-08-21-18-58-358-1604870339-1-aws-endpoint\n",
      "Deleting action blazingtext-2020-11-08-21-04-45-364-1604869487-1-aws-endpoint\n",
      "Deleting action factorization-machines-2020-11-08-20-43-38-128-1604868532-1-aws-endpoint\n",
      "Deleting action blazingtext-2020-11-07-07-24-10-980-1604733851-1-aws-endpoint\n",
      "Deleting action blazingtext-2020-11-07-07-03-41-719-1604732622-1-aws-endpoint\n",
      "Deleting action tensorflow-training-2020-11-01-22-06-36-294-tf-1604331155-1604331156-1-aws-endpoint\n",
      "Deleting action tensorflow-training-2020-11-01-20-37-48-849-tf-1604268481-1604268482-1-aws-endpoint\n",
      "Deleting action tensorflow-training-2020-11-01-19-44-35-382-tf-1604260899-1604260900-1-aws-endpoint\n",
      "Deleting action tensorflow-training-2020-11-01-01-55-19-347-tf-1604196343-1604196344-2-aws-endpoint\n",
      "Deleting action tensorflow-training-2020-10-31-01-47-18-351-tf-1604195546-1604195547-2-aws-endpoint\n",
      "Deleting action tensorflow-training-2020-10-31-01-47-18-351-tf-1604194462-1604194464-2-aws-endpoint\n",
      "Deleting action tensorflow-training-2020-10-31-01-47-18-351-tf-1604176812-1604176814-3-aws-endpoint\n",
      "Deleting action tensorflow-training-2020-10-31-01-47-18-351-tf-1604176812-1604176814-2-aws-endpoint\n",
      "Deleting action tensorflow-training-2020-09-23-00-04-38-996-tf-1604066368-1604066369-3-aws-endpoint\n",
      "Deleting action tensorflow-training-2020-09-23-00-04-38-996-tf-1604066368-1604066369-2-aws-endpoint\n",
      "Deleting action tensorflow-training-2020-09-23-00-04-38-996-tf-1604066368-1604066369-1-aws-endpoint\n",
      "Deleting action tensorflow-training-2020-09-23-00-04-38-996-tf-1604066368-1604066369-4-aws-endpoint\n",
      "Deleting action tensorflow-training-2020-09-23-00-04-38-996-pt-1602213778-1602213779-2-aws-endpoint\n",
      "Deleting action tensorflow-training-2020-09-23-00-04-38-996-pt-1602213778-1602213779-3-aws-endpoint\n",
      "Deleting action tensorflow-training-2020-09-23-00-04-38-996-abtest-1600984161-1600984161-5-aws-endpoint\n",
      "Deleting action tensorflow-training-2020-09-23-00-04-38-996-abtest-1600984161-1600984161-4-aws-endpoint\n",
      "Deleting action training-pipeline-run-1600902944-1600904794-5-aws-endpoint\n",
      "Deleting action training-pipeline-run-1600902944-1600904794-4-aws-endpoint\n",
      "Deleting action roberta-model-2020-09-23-21-36-45-338-1600897068-2-aws-endpoint\n",
      "Deleting action tensorflow-training-2020-09-23-00-04-38-996-pt-1600824788-1600824789-3-aws-endpoint\n",
      "Deleting action tensorflow-training-2020-09-23-00-04-38-996-pt-1600824788-1600824789-4-aws-endpoint\n",
      "Deleting action tensorflow-training-2020-09-23-00-04-38-996-tf-1600823917-1600823919-4-aws-endpoint\n",
      "Deleting action tensorflow-training-2020-09-23-00-04-38-996-tf-1600823917-1600823919-3-aws-endpoint\n",
      "Deleting action tensorflow-training-2020-09-14-00-26-31-210-pt-1600562402-1600562402-4-aws-endpoint\n",
      "Deleting action tensorflow-training-2020-09-14-00-26-31-210-pt-1600562402-1600562402-5-aws-endpoint\n",
      "Deleting action tensorflow-training-2020-09-14-00-26-31-210-tf-1600562383-1600562385-5-aws-endpoint\n",
      "Deleting action tensorflow-training-2020-09-14-00-26-31-210-tf-1600562383-1600562385-4-aws-endpoint\n",
      "Deleting action tensorflow-inference-eia-2020-05-17-01-43-34-684-1589679815-16-aws-endpoint\n",
      "Deleting action tensorflow-inference-eia-2020-05-17-01-43-34-684-1589679815-15-aws-endpoint\n",
      "Deleting action tensorflow-inference-eia-2020-05-17-01-43-34-684-1589679815-17-aws-endpoint\n",
      "Deleting artifact arn:aws:sagemaker:us-east-1:835319576252:artifact/b2492a7ef36c99157adba7b6cffaa34d None\n",
      "Deleting artifact arn:aws:sagemaker:us-east-1:835319576252:artifact/aa4ef41821a3c875bae3c8bd74f9258b None\n",
      "Deleting artifact arn:aws:sagemaker:us-east-1:835319576252:artifact/2d826d2b956b530e7181022621b148e1 None\n",
      "Deleting artifact arn:aws:sagemaker:us-east-1:835319576252:artifact/e5b485363f99f572ca52b42690308b61 None\n",
      "Deleting artifact arn:aws:sagemaker:us-east-1:835319576252:artifact/a886ff171e86dd69a0dd575be9649fac None\n",
      "Deleting artifact arn:aws:sagemaker:us-east-1:835319576252:artifact/c0f84f515e957a6114c31418b728c2ef None\n",
      "Deleting artifact arn:aws:sagemaker:us-east-1:835319576252:artifact/75c398ef1362c702787e1d3091112028 None\n",
      "Deleting artifact arn:aws:sagemaker:us-east-1:835319576252:artifact/f3c304a7d8e5a1a43b679694d05ea108 None\n",
      "Deleting artifact arn:aws:sagemaker:us-east-1:835319576252:artifact/efb8dc33acfc1bfb8802ce5f4024a7f6 None\n",
      "Deleting artifact arn:aws:sagemaker:us-east-1:835319576252:artifact/3d56164367eea27d62198e089c10565d None\n",
      "Deleting artifact arn:aws:sagemaker:us-east-1:835319576252:artifact/c1f25acb9a8dbee189ace537090b728e None\n",
      "Deleting artifact arn:aws:sagemaker:us-east-1:835319576252:artifact/f6e5bf361cd8bcf07f2c354ca3586c15 None\n",
      "Deleting artifact arn:aws:sagemaker:us-east-1:835319576252:artifact/9b965adfbb00ce8d5630c876d850d30b None\n",
      "Deleting artifact arn:aws:sagemaker:us-east-1:835319576252:artifact/9f828a4ff9329f7c182ec0522434780a None\n",
      "Deleting artifact arn:aws:sagemaker:us-east-1:835319576252:artifact/e06ff95c6c81705f40af1633e919c85e None\n",
      "Deleting artifact arn:aws:sagemaker:us-east-1:835319576252:artifact/52d5c801362a41ed4d15fd28c7789fb7 None\n",
      "Deleting artifact arn:aws:sagemaker:us-east-1:835319576252:artifact/6e2d2b5901762e615e2c806f183a9946 None\n",
      "Deleting artifact arn:aws:sagemaker:us-east-1:835319576252:artifact/da7c14bcf92fcd72b7f466c5038ab2d5 None\n",
      "Deleting artifact arn:aws:sagemaker:us-east-1:835319576252:artifact/31ad5ab05481d7df44f4410d70752e5b None\n",
      "Deleting artifact arn:aws:sagemaker:us-east-1:835319576252:artifact/d2966995ed4a4f127e2c73bc49dd97d1 None\n",
      "Deleting artifact arn:aws:sagemaker:us-east-1:835319576252:artifact/27f86b74d18c857b2cbfba096011e461 None\n",
      "Deleting artifact arn:aws:sagemaker:us-east-1:835319576252:artifact/aea0924303caf7c8c859fab8553a7ef5 None\n",
      "Deleting artifact arn:aws:sagemaker:us-east-1:835319576252:artifact/609f57346fdc3a97b61b0dbf8da6567d None\n",
      "Deleting artifact arn:aws:sagemaker:us-east-1:835319576252:artifact/81dae87ccbc3b0c562bedc42fcd611d8 None\n",
      "Deleting artifact arn:aws:sagemaker:us-east-1:835319576252:artifact/670798671ba0fb770287414ad4d6203d None\n",
      "Deleting artifact arn:aws:sagemaker:us-east-1:835319576252:artifact/a02207f0276eadeced90f8289f2a808e None\n",
      "Deleting artifact arn:aws:sagemaker:us-east-1:835319576252:artifact/f5fa3f980dcbb74ddfeff9a660b1397e None\n",
      "Deleting artifact arn:aws:sagemaker:us-east-1:835319576252:artifact/830b8ebc68af0208b81e3922403efc4a None\n",
      "Deleting artifact arn:aws:sagemaker:us-east-1:835319576252:artifact/2ff33e65798e924df809e0e2e4559956 None\n"
     ]
    }
   ],
   "source": [
    "def delete_associations(arn):\n",
    "    # delete incoming associations\n",
    "    incoming_associations = Association.list(destination_arn=arn)\n",
    "    for summary in incoming_associations:\n",
    "        assct = Association(\n",
    "            source_arn=summary.source_arn, \n",
    "            destination_arn=summary.destination_arn,\n",
    "            sagemaker_session=sagemaker_session)\n",
    "        assct.delete()\n",
    "        time.sleep(3)\n",
    "    \n",
    "    # delete outgoing associations\n",
    "    outgoing_associations = Association.list(source_arn=arn)\n",
    "    for summary in outgoing_associations:\n",
    "        assct = Association(\n",
    "            source_arn=summary.source_arn, \n",
    "            destination_arn=summary.destination_arn,\n",
    "            sagemaker_session=sagemaker_session)\n",
    "        assct.delete()\n",
    "        time.sleep(3)        \n",
    "\n",
    "import time\n",
    "\n",
    "def delete_lineage_data():\n",
    "    for summary in Context.list():\n",
    "        print(f'Deleting context {summary.context_name}')\n",
    "        delete_associations(summary.context_arn)\n",
    "        ctx = Context(context_name=summary.context_name, sagemaker_session=sagemaker_session)        \n",
    "        ctx.delete()\n",
    "        time.sleep(3)\n",
    "\n",
    "    for summary in Action.list():\n",
    "        print(f'Deleting action {summary.action_name}')\n",
    "        delete_associations(summary.action_arn)\n",
    "        actn = Action(action_name=summary.action_name, sagemaker_session=sagemaker_session)\n",
    "        actn.delete()\n",
    "        time.sleep(3)        \n",
    "\n",
    "    for summary in Artifact.list():\n",
    "        print(f'Deleting artifact {summary.artifact_arn} {summary.artifact_name}')\n",
    "        delete_associations(summary.artifact_arn)\n",
    "        artfct = Artifact(artifact_arn=summary.artifact_arn, sagemaker_session=sagemaker_session)\n",
    "        artfct.delete()\n",
    "        time.sleep(3)        \n",
    "\n",
    "delete_lineage_data()"
   ]
  },
  {
   "cell_type": "markdown",
   "metadata": {},
   "source": [
    "## Caveats\n",
    "\n",
    "* Associations cannot be created between two experiment entities. For example between an Experiment and Trial.\n",
    "* Associations can only be created between the following resources: Experiment, Trial, Trial Component, Action, Artifact, or Context.\n",
    "* The maximum number of manually created lineage entities are:\n",
    "  * Artifacts: 6000\n",
    "  * Contexts: 500\n",
    "  * Actions: 3000\n",
    "  * Associations: 6000\n",
    "* There is no limit on the number of lineage entities created automatically by SageMaker."
   ]
  },
  {
   "cell_type": "markdown",
   "metadata": {},
   "source": [
    "## Contact\n",
    "\n",
    "Submit any questions or issues to https://github.com/aws/sagemaker-experiments/issues or mention @aws/sagemakerexperimentsadmin"
   ]
  }
 ],
 "metadata": {
  "instance_type": "ml.t3.medium",
  "kernelspec": {
   "display_name": "Python 3 (Data Science)",
   "language": "python",
   "name": "python3__SAGEMAKER_INTERNAL__arn:aws:sagemaker:us-east-1:081325390199:image/datascience-1.0"
  },
  "language_info": {
   "codemirror_mode": {
    "name": "ipython",
    "version": 3
   },
   "file_extension": ".py",
   "mimetype": "text/x-python",
   "name": "python",
   "nbconvert_exporter": "python",
   "pygments_lexer": "ipython3",
   "version": "3.7.6"
  }
 },
 "nbformat": 4,
 "nbformat_minor": 4
}
