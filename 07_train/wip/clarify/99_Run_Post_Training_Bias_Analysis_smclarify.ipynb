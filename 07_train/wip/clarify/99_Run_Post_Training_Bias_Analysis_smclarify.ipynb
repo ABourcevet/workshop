{
 "cells": [
  {
   "cell_type": "markdown",
   "metadata": {},
   "source": [
    "# Run Post-Training Bias Analysis With `smclarify`\n",
    "\n",
    "https://github.com/aws/amazon-sagemaker-clarify"
   ]
  },
  {
   "cell_type": "code",
   "execution_count": 1,
   "metadata": {},
   "outputs": [],
   "source": [
    "!pip install -q smclarify==0.1"
   ]
  },
  {
   "cell_type": "code",
   "execution_count": 2,
   "metadata": {},
   "outputs": [],
   "source": [
    "from smclarify.bias.report import *\n",
    "from smclarify.util.dataset import Datasets, german_lending_readable_values\n",
    "from typing import Dict\n",
    "from collections import defaultdict\n",
    "import pandas as pd"
   ]
  },
  {
   "cell_type": "code",
   "execution_count": 3,
   "metadata": {},
   "outputs": [
    {
     "data": {
      "text/plain": [
       "(81040, 15)"
      ]
     },
     "execution_count": 3,
     "metadata": {},
     "output_type": "execute_result"
    }
   ],
   "source": [
    "df = pd.read_csv('./amazon_reviews_us_giftcards_software_videogames_balanced.csv')\n",
    "df.shape"
   ]
  },
  {
   "cell_type": "code",
   "execution_count": 4,
   "metadata": {},
   "outputs": [
    {
     "data": {
      "text/html": [
       "<div>\n",
       "<style scoped>\n",
       "    .dataframe tbody tr th:only-of-type {\n",
       "        vertical-align: middle;\n",
       "    }\n",
       "\n",
       "    .dataframe tbody tr th {\n",
       "        vertical-align: top;\n",
       "    }\n",
       "\n",
       "    .dataframe thead th {\n",
       "        text-align: right;\n",
       "    }\n",
       "</style>\n",
       "<table border=\"1\" class=\"dataframe\">\n",
       "  <thead>\n",
       "    <tr style=\"text-align: right;\">\n",
       "      <th></th>\n",
       "      <th>marketplace</th>\n",
       "      <th>customer_id</th>\n",
       "      <th>review_id</th>\n",
       "      <th>product_id</th>\n",
       "      <th>product_parent</th>\n",
       "      <th>product_title</th>\n",
       "      <th>product_category</th>\n",
       "      <th>star_rating</th>\n",
       "      <th>helpful_votes</th>\n",
       "      <th>total_votes</th>\n",
       "      <th>vine</th>\n",
       "      <th>verified_purchase</th>\n",
       "      <th>review_headline</th>\n",
       "      <th>review_body</th>\n",
       "      <th>review_date</th>\n",
       "    </tr>\n",
       "  </thead>\n",
       "  <tbody>\n",
       "    <tr>\n",
       "      <th>0</th>\n",
       "      <td>US</td>\n",
       "      <td>43630866</td>\n",
       "      <td>R3K6VPY2NE6262</td>\n",
       "      <td>B004LLIKVU</td>\n",
       "      <td>473048287</td>\n",
       "      <td>Amazon.com eGift Cards</td>\n",
       "      <td>Gift Card</td>\n",
       "      <td>5</td>\n",
       "      <td>0</td>\n",
       "      <td>0</td>\n",
       "      <td>N</td>\n",
       "      <td>Y</td>\n",
       "      <td>works great</td>\n",
       "      <td>i like the gift cards, if you need something q...</td>\n",
       "      <td>2013-10-27</td>\n",
       "    </tr>\n",
       "    <tr>\n",
       "      <th>1</th>\n",
       "      <td>US</td>\n",
       "      <td>52721479</td>\n",
       "      <td>R2VSBSVBPO5N94</td>\n",
       "      <td>B00CT77B7M</td>\n",
       "      <td>473048287</td>\n",
       "      <td>Amazon.com eGift Cards</td>\n",
       "      <td>Gift Card</td>\n",
       "      <td>5</td>\n",
       "      <td>0</td>\n",
       "      <td>0</td>\n",
       "      <td>N</td>\n",
       "      <td>Y</td>\n",
       "      <td>Five Stars</td>\n",
       "      <td>Beautiful card, the person receiving this also...</td>\n",
       "      <td>2015-05-25</td>\n",
       "    </tr>\n",
       "    <tr>\n",
       "      <th>2</th>\n",
       "      <td>US</td>\n",
       "      <td>25341626</td>\n",
       "      <td>RC62YY8GHYO67</td>\n",
       "      <td>B004LLIKVU</td>\n",
       "      <td>473048287</td>\n",
       "      <td>Amazon.com eGift Cards</td>\n",
       "      <td>Gift Card</td>\n",
       "      <td>5</td>\n",
       "      <td>0</td>\n",
       "      <td>0</td>\n",
       "      <td>N</td>\n",
       "      <td>Y</td>\n",
       "      <td>Five Stars</td>\n",
       "      <td>The Amazon Gift Card is the Perfect Gift somet...</td>\n",
       "      <td>2015-05-15</td>\n",
       "    </tr>\n",
       "    <tr>\n",
       "      <th>3</th>\n",
       "      <td>US</td>\n",
       "      <td>42898788</td>\n",
       "      <td>R35VSTQDN6CPDG</td>\n",
       "      <td>B004LLIKVU</td>\n",
       "      <td>473048287</td>\n",
       "      <td>Amazon.com eGift Cards</td>\n",
       "      <td>Gift Card</td>\n",
       "      <td>5</td>\n",
       "      <td>0</td>\n",
       "      <td>0</td>\n",
       "      <td>N</td>\n",
       "      <td>Y</td>\n",
       "      <td>Five Stars</td>\n",
       "      <td>ilove</td>\n",
       "      <td>2014-10-29</td>\n",
       "    </tr>\n",
       "    <tr>\n",
       "      <th>4</th>\n",
       "      <td>US</td>\n",
       "      <td>2943280</td>\n",
       "      <td>R3RA8FDVJDSKB5</td>\n",
       "      <td>B00H5BMH44</td>\n",
       "      <td>81025991</td>\n",
       "      <td>Amazon eGift Card - Hoops and Yoyo Cake Face (...</td>\n",
       "      <td>Gift Card</td>\n",
       "      <td>5</td>\n",
       "      <td>0</td>\n",
       "      <td>0</td>\n",
       "      <td>N</td>\n",
       "      <td>Y</td>\n",
       "      <td>Five Stars</td>\n",
       "      <td>I love Hoops and Yoyo. It is fun.</td>\n",
       "      <td>2014-12-10</td>\n",
       "    </tr>\n",
       "  </tbody>\n",
       "</table>\n",
       "</div>"
      ],
      "text/plain": [
       "  marketplace  customer_id       review_id  product_id  product_parent  \\\n",
       "0          US     43630866  R3K6VPY2NE6262  B004LLIKVU       473048287   \n",
       "1          US     52721479  R2VSBSVBPO5N94  B00CT77B7M       473048287   \n",
       "2          US     25341626   RC62YY8GHYO67  B004LLIKVU       473048287   \n",
       "3          US     42898788  R35VSTQDN6CPDG  B004LLIKVU       473048287   \n",
       "4          US      2943280  R3RA8FDVJDSKB5  B00H5BMH44        81025991   \n",
       "\n",
       "                                       product_title product_category  \\\n",
       "0                             Amazon.com eGift Cards        Gift Card   \n",
       "1                             Amazon.com eGift Cards        Gift Card   \n",
       "2                             Amazon.com eGift Cards        Gift Card   \n",
       "3                             Amazon.com eGift Cards        Gift Card   \n",
       "4  Amazon eGift Card - Hoops and Yoyo Cake Face (...        Gift Card   \n",
       "\n",
       "   star_rating  helpful_votes  total_votes vine verified_purchase  \\\n",
       "0            5              0            0    N                 Y   \n",
       "1            5              0            0    N                 Y   \n",
       "2            5              0            0    N                 Y   \n",
       "3            5              0            0    N                 Y   \n",
       "4            5              0            0    N                 Y   \n",
       "\n",
       "  review_headline                                        review_body  \\\n",
       "0     works great  i like the gift cards, if you need something q...   \n",
       "1      Five Stars  Beautiful card, the person receiving this also...   \n",
       "2      Five Stars  The Amazon Gift Card is the Perfect Gift somet...   \n",
       "3      Five Stars                                              ilove   \n",
       "4      Five Stars                  I love Hoops and Yoyo. It is fun.   \n",
       "\n",
       "  review_date  \n",
       "0  2013-10-27  \n",
       "1  2015-05-25  \n",
       "2  2015-05-15  \n",
       "3  2014-10-29  \n",
       "4  2014-12-10  "
      ]
     },
     "execution_count": 4,
     "metadata": {},
     "output_type": "execute_result"
    }
   ],
   "source": [
    "df.head()"
   ]
  },
  {
   "cell_type": "markdown",
   "metadata": {},
   "source": [
    "# Pre-Training Bias Analysis"
   ]
  },
  {
   "cell_type": "code",
   "execution_count": 5,
   "metadata": {},
   "outputs": [],
   "source": [
    "facet_column = FacetColumn('product_category')\n",
    "label_column = LabelColumn('star_rating', df['star_rating'], [5])\n",
    "group_variable = df['product_category']"
   ]
  },
  {
   "cell_type": "code",
   "execution_count": 6,
   "metadata": {},
   "outputs": [],
   "source": [
    "pre_training_report = bias_report(\n",
    "    df, \n",
    "    facet_column, \n",
    "    label_column, \n",
    "    stage_type=StageType.PRE_TRAINING, \n",
    "    group_variable=group_variable\n",
    ")"
   ]
  },
  {
   "cell_type": "code",
   "execution_count": 7,
   "metadata": {
    "scrolled": true
   },
   "outputs": [
    {
     "data": {
      "text/plain": [
       "[{'value_or_threshold': 'Gift Card',\n",
       "  'metrics': [{'name': 'CDDL',\n",
       "    'description': 'Conditional Demographic Disparity in Labels (CDDL)',\n",
       "    'value': 0.0},\n",
       "   {'name': 'CI',\n",
       "    'description': 'Class Imbalance (CI)',\n",
       "    'value': 0.5890671273445213},\n",
       "   {'name': 'DPL',\n",
       "    'description': 'Difference in Positive Proportions in Labels (DPL)',\n",
       "    'value': -0.3679426717770344},\n",
       "   {'name': 'JS',\n",
       "    'description': 'Jensen-Shannon Divergence (JS)',\n",
       "    'value': 0.11632161004661548},\n",
       "   {'name': 'KL',\n",
       "    'description': 'Kullback-Liebler Divergence (KL)',\n",
       "    'value': 0.3061581684888518},\n",
       "   {'name': 'KS',\n",
       "    'description': 'Kolmogorov-Smirnov Distance (KS)',\n",
       "    'value': 0.36794267177703444},\n",
       "   {'name': 'LP', 'description': 'L-p Norm (LP)', 'value': 0.5203495166028743},\n",
       "   {'name': 'TVD',\n",
       "    'description': 'Total Variation Distance (TVD)',\n",
       "    'value': 0.36794267177703444}]},\n",
       " {'value_or_threshold': 'Digital_Video_Games',\n",
       "  'metrics': [{'name': 'CDDL',\n",
       "    'description': 'Conditional Demographic Disparity in Labels (CDDL)',\n",
       "    'value': 0.0},\n",
       "   {'name': 'CI',\n",
       "    'description': 'Class Imbalance (CI)',\n",
       "    'value': 0.11567127344521225},\n",
       "   {'name': 'DPL',\n",
       "    'description': 'Difference in Positive Proportions in Labels (DPL)',\n",
       "    'value': 0.10173633969933835},\n",
       "   {'name': 'JS',\n",
       "    'description': 'Jensen-Shannon Divergence (JS)',\n",
       "    'value': 0.008458960027083056},\n",
       "   {'name': 'KL',\n",
       "    'description': 'Kullback-Liebler Divergence (KL)',\n",
       "    'value': 0.036021228914939876},\n",
       "   {'name': 'KS',\n",
       "    'description': 'Kolmogorov-Smirnov Distance (KS)',\n",
       "    'value': 0.10173633969933837},\n",
       "   {'name': 'LP',\n",
       "    'description': 'L-p Norm (LP)',\n",
       "    'value': 0.14387691138900063},\n",
       "   {'name': 'TVD',\n",
       "    'description': 'Total Variation Distance (TVD)',\n",
       "    'value': 0.10173633969933836}]},\n",
       " {'value_or_threshold': 'Digital_Software',\n",
       "  'metrics': [{'name': 'CDDL',\n",
       "    'description': 'Conditional Demographic Disparity in Labels (CDDL)',\n",
       "    'value': 0.0},\n",
       "   {'name': 'CI',\n",
       "    'description': 'Class Imbalance (CI)',\n",
       "    'value': 0.2952615992102665},\n",
       "   {'name': 'DPL',\n",
       "    'description': 'Difference in Positive Proportions in Labels (DPL)',\n",
       "    'value': 0.1532518147407252},\n",
       "   {'name': 'JS',\n",
       "    'description': 'Jensen-Shannon Divergence (JS)',\n",
       "    'value': 0.022330515296729518},\n",
       "   {'name': 'KL',\n",
       "    'description': 'Kullback-Liebler Divergence (KL)',\n",
       "    'value': 0.09549487739101886},\n",
       "   {'name': 'KS',\n",
       "    'description': 'Kolmogorov-Smirnov Distance (KS)',\n",
       "    'value': 0.1532518147407252},\n",
       "   {'name': 'LP',\n",
       "    'description': 'L-p Norm (LP)',\n",
       "    'value': 0.21673079486462254},\n",
       "   {'name': 'TVD',\n",
       "    'description': 'Total Variation Distance (TVD)',\n",
       "    'value': 0.15325181474072516}]}]"
      ]
     },
     "execution_count": 7,
     "metadata": {},
     "output_type": "execute_result"
    }
   ],
   "source": [
    "pre_training_report"
   ]
  },
  {
   "cell_type": "markdown",
   "metadata": {},
   "source": [
    "# Post-Training Bias Analysis"
   ]
  },
  {
   "cell_type": "code",
   "execution_count": 61,
   "metadata": {},
   "outputs": [],
   "source": [
    "data = {\n",
    "    'star_rating':  [1, 2, 3, 4, 5],\n",
    "    'review_body': ['Worst ever', 'Expected more', 'Its ok', 'I like it', 'I love it'],\n",
    "    'product_category': ['Gift Card', 'Gift Card', 'Gift Card', 'Toys', 'Toys'],\n",
    "    'star_rating_predicted': [1, 2, 3, 4, 5]\n",
    "}"
   ]
  },
  {
   "cell_type": "code",
   "execution_count": 62,
   "metadata": {},
   "outputs": [
    {
     "name": "stdout",
     "output_type": "stream",
     "text": [
      "   star_rating    review_body product_category  star_rating_predicted\n",
      "0            1     Worst ever        Gift Card                      1\n",
      "1            2  Expected more        Gift Card                      2\n",
      "2            3         Its ok        Gift Card                      3\n",
      "3            4      I like it             Toys                      4\n",
      "4            5      I love it             Toys                      5\n"
     ]
    }
   ],
   "source": [
    "df = pd.DataFrame (data, columns = ['star_rating','review_body', 'product_category','star_rating_predicted'])\n",
    "print (df)"
   ]
  },
  {
   "cell_type": "markdown",
   "metadata": {},
   "source": [
    "# Convert data columns into `categorical` data type required for Clarify"
   ]
  },
  {
   "cell_type": "code",
   "execution_count": 63,
   "metadata": {},
   "outputs": [],
   "source": [
    "df['star_rating'] = df['star_rating'].astype('category')"
   ]
  },
  {
   "cell_type": "code",
   "execution_count": 64,
   "metadata": {},
   "outputs": [],
   "source": [
    "df['star_rating_predicted'] = df['star_rating_predicted'].astype('category')"
   ]
  },
  {
   "cell_type": "code",
   "execution_count": 65,
   "metadata": {},
   "outputs": [],
   "source": [
    "df['product_category'] = df['product_category'].astype('category')"
   ]
  },
  {
   "cell_type": "markdown",
   "metadata": {},
   "source": [
    "# Configure Clarify"
   ]
  },
  {
   "cell_type": "code",
   "execution_count": 66,
   "metadata": {},
   "outputs": [],
   "source": [
    "facet_column = FacetColumn(\n",
    "    name='product_category', \n",
    "    sensitive_values=['Gift Card']\n",
    ")"
   ]
  },
  {
   "cell_type": "code",
   "execution_count": 67,
   "metadata": {},
   "outputs": [],
   "source": [
    "label_column = LabelColumn(\n",
    "    name='star_rating', \n",
    "    data=df['star_rating'], \n",
    "    positive_label_values=[5])"
   ]
  },
  {
   "cell_type": "code",
   "execution_count": 82,
   "metadata": {},
   "outputs": [
    {
     "name": "stdout",
     "output_type": "stream",
     "text": [
      "<class 'pandas.core.arrays.categorical.Categorical'>\n"
     ]
    }
   ],
   "source": [
    "value = pd.Categorical(5)\n",
    "print(type(value))"
   ]
  },
  {
   "cell_type": "code",
   "execution_count": 68,
   "metadata": {},
   "outputs": [],
   "source": [
    "predicted_label_column = LabelColumn(\n",
    "    name='star_rating_predicted', \n",
    "    data=df['star_rating_predicted'], \n",
    "    positive_label_values=[5])"
   ]
  },
  {
   "cell_type": "code",
   "execution_count": 69,
   "metadata": {},
   "outputs": [],
   "source": [
    "group_variable = df['product_category']"
   ]
  },
  {
   "cell_type": "code",
   "execution_count": 79,
   "metadata": {},
   "outputs": [],
   "source": [
    "post_training_report = bias_report(\n",
    "    df, \n",
    "    facet_column=facet_column, \n",
    "    label_column=label_column, \n",
    "    stage_type=StageType.POST_TRAINING, \n",
    "    predicted_label_column=predicted_label_column,\n",
    "    metrics=['DPPL', 'DI', 'DCA', 'DCR', 'RD', 'DAR', 'DRR', 'AD', 'CDDPL', 'TE'],\n",
    "    group_variable=group_variable\n",
    ")"
   ]
  },
  {
   "cell_type": "markdown",
   "metadata": {},
   "source": [
    "# Show Post-Training Bias Report"
   ]
  },
  {
   "cell_type": "code",
   "execution_count": 72,
   "metadata": {},
   "outputs": [
    {
     "name": "stdout",
     "output_type": "stream",
     "text": [
      "[{'metrics': [{'description': 'Accuracy Difference (AD)',\n",
      "               'name': 'AD',\n",
      "               'value': 0.0},\n",
      "              {'description': 'Conditional Demographic Disparity in Predicted '\n",
      "                              'Labels (CDDPL)',\n",
      "               'name': 'CDDPL',\n",
      "               'value': 0.6},\n",
      "              {'description': 'Difference in Acceptance Rates (DAR)',\n",
      "               'name': 'DAR',\n",
      "               'value': 1.0},\n",
      "              {'description': 'Difference in Conditional Acceptance (DCA)',\n",
      "               'name': 'DCA',\n",
      "               'value': 1.0},\n",
      "              {'description': 'Difference in Conditional Rejection (DCR)',\n",
      "               'name': 'DCR',\n",
      "               'value': 0.0},\n",
      "              {'description': 'Disparate Impact (DI)',\n",
      "               'name': 'DI',\n",
      "               'value': 0.0},\n",
      "              {'description': 'Difference in Positive Proportions in Predicted '\n",
      "                              'Labels (DPPL)',\n",
      "               'name': 'DPPL',\n",
      "               'value': 0.5},\n",
      "              {'description': 'Difference in Rejection Rates (DRR)',\n",
      "               'name': 'DRR',\n",
      "               'value': 0.0},\n",
      "              {'description': 'Recall Difference (RD)',\n",
      "               'name': 'RD',\n",
      "               'value': 1.0},\n",
      "              {'description': 'Treatment Equality (TE)',\n",
      "               'name': 'TE',\n",
      "               'value': 0.0}],\n",
      "  'value_or_threshold': 'Gift Card'}]\n"
     ]
    }
   ],
   "source": [
    "from pprint import pprint\n",
    "pprint(post_training_report)"
   ]
  },
  {
   "cell_type": "markdown",
   "metadata": {},
   "source": [
    "# Appendix: Troubleshooting `smclarify` API calls"
   ]
  },
  {
   "cell_type": "code",
   "execution_count": 73,
   "metadata": {},
   "outputs": [],
   "source": [
    "pos_predicted_index = smclarify.bias.report._positive_predicted_index(\n",
    "    predicted_label_data=df['star_rating_predicted'],\n",
    "    label_data=df['star_rating'],\n",
    "    positive_label_values=[5]\n",
    ")"
   ]
  },
  {
   "cell_type": "code",
   "execution_count": 74,
   "metadata": {},
   "outputs": [
    {
     "name": "stdout",
     "output_type": "stream",
     "text": [
      "0    False\n",
      "1    False\n",
      "2    False\n",
      "3    False\n",
      "4     True\n",
      "Name: star_rating_predicted, dtype: bool\n"
     ]
    }
   ],
   "source": [
    "print(pos_predicted_index)"
   ]
  },
  {
   "cell_type": "code",
   "execution_count": 75,
   "metadata": {},
   "outputs": [
    {
     "name": "stdout",
     "output_type": "stream",
     "text": [
      "True\n"
     ]
    }
   ],
   "source": [
    "print(~pos_predicted_index.all())"
   ]
  },
  {
   "cell_type": "code",
   "execution_count": 76,
   "metadata": {},
   "outputs": [],
   "source": [
    "import numpy as np"
   ]
  },
  {
   "cell_type": "code",
   "execution_count": 77,
   "metadata": {},
   "outputs": [
    {
     "name": "stdout",
     "output_type": "stream",
     "text": [
      "4\n",
      "0\n"
     ]
    }
   ],
   "source": [
    "if len(df.columns) != len(df.select_dtypes([np.number, bool]).columns):\n",
    "    print(len(df.columns))\n",
    "    print(len(df.select_dtypes([np.number, bool]).columns))"
   ]
  },
  {
   "cell_type": "code",
   "execution_count": 23,
   "metadata": {},
   "outputs": [],
   "source": [
    "def _my_positive_predicted_index(\n",
    "    predicted_label_data: pd.Series, label_data: pd.Series, positive_label_values: List[Any]\n",
    ") -> pd.Series:\n",
    "    \"\"\"\n",
    "    creates a list of bool series for positive predicted label index based on the input data type,\n",
    "    list of positive label values or intervals\n",
    "    :param predicted_label_data: input data for predicted label column\n",
    "    :param label_datatype:  input data for the label column\n",
    "    :param positive_label_values: list of positive label values\n",
    "    :return: list of positive predicted label index series\n",
    "    \"\"\"\n",
    "    predicted_label_datatype = common.series_datatype(predicted_label_data, positive_label_values)\n",
    "    label_datatype = common.series_datatype(label_data, positive_label_values)\n",
    "    if predicted_label_datatype != label_datatype:\n",
    "        raise ValueError(\"Predicted Label Column series datatype is not the same as Label Column series\")\n",
    "    try:\n",
    "        predicted_label_data = predicted_label_data.astype(label_data.dtype)\n",
    "    except ValueError as e:\n",
    "        raise ValueError(\n",
    "            \"Labels and predicted labels cannot have different types (%s, %s).\"\n",
    "            % (label_data.dtype, predicted_label_data.dtype)\n",
    "        )\n",
    "    if predicted_label_datatype == common.DataType.CONTINUOUS:\n",
    "        pass\n",
    "#        data_interval_indices = _interval_index(label_data.append(predicted_label_data), positive_label_values)\n",
    "#        positive_predicted_index = _continuous_data_idx(predicted_label_data, data_interval_indices)\n",
    "    elif predicted_label_datatype == common.DataType.CATEGORICAL and positive_label_values:\n",
    "        positive_predicted_index = _categorical_data_idx(predicted_label_data, positive_label_values)\n",
    "    else:\n",
    "        raise RuntimeError(\"Predicted Label_column data is invalid or can't be classified\")\n",
    "    # check if positive index boolean series has all False values\n",
    "    if (~positive_predicted_index).all():\n",
    "        raise ValueError(\n",
    "            \"No Label values are present in the predicted Label Column,\"\n",
    "            \"Positive Predicted Index Series contains all False values\"\n",
    "        )\n",
    "    return positive_predicted_index"
   ]
  },
  {
   "cell_type": "code",
   "execution_count": 25,
   "metadata": {},
   "outputs": [],
   "source": [
    "predicted_label_data=df['star_rating_predicted']\n",
    "positive_label_values=['5']"
   ]
  },
  {
   "cell_type": "code",
   "execution_count": 27,
   "metadata": {},
   "outputs": [
    {
     "name": "stdout",
     "output_type": "stream",
     "text": [
      "DataType.CATEGORICAL\n"
     ]
    }
   ],
   "source": [
    "predicted_label_datatype = common.series_datatype(predicted_label_data, positive_label_values)\n",
    "print(predicted_label_datatype)"
   ]
  },
  {
   "cell_type": "code",
   "execution_count": null,
   "metadata": {},
   "outputs": [],
   "source": [
    "pos_predicted_index, inversed = _my_positive_predicted_index(\n",
    "    predicted_label_data=df['star_rating_predicted'],\n",
    "    label_data=df['star_rating'],\n",
    "    positive_label_values=[5]\n",
    ")"
   ]
  }
 ],
 "metadata": {
  "instance_type": "ml.t3.medium",
  "kernelspec": {
   "display_name": "Python 3 (Data Science)",
   "language": "python",
   "name": "python3__SAGEMAKER_INTERNAL__arn:aws:sagemaker:us-east-1:081325390199:image/datascience-1.0"
  },
  "language_info": {
   "codemirror_mode": {
    "name": "ipython",
    "version": 3
   },
   "file_extension": ".py",
   "mimetype": "text/x-python",
   "name": "python",
   "nbconvert_exporter": "python",
   "pygments_lexer": "ipython3",
   "version": "3.7.6"
  }
 },
 "nbformat": 4,
 "nbformat_minor": 4
}
