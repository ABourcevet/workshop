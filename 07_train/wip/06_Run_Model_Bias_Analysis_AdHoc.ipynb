{
 "cells": [
  {
   "cell_type": "markdown",
   "metadata": {},
   "source": [
    "# Run Ad-Hoc Model Bias Analysis\n",
    "\n",
    "## Run Bias Analysis In The Notebook using `smclarify`\n",
    "https://github.com/aws/amazon-sagemaker-clarify"
   ]
  },
  {
   "cell_type": "code",
   "execution_count": 1,
   "metadata": {},
   "outputs": [],
   "source": [
    "!pip install -q smclarify==0.1"
   ]
  },
  {
   "cell_type": "code",
   "execution_count": 2,
   "metadata": {},
   "outputs": [],
   "source": [
    "from smclarify.bias.report import *\n",
    "from smclarify.util.dataset import Datasets, german_lending_readable_values\n",
    "from typing import Dict\n",
    "from collections import defaultdict\n",
    "import pandas as pd"
   ]
  },
  {
   "cell_type": "code",
   "execution_count": 3,
   "metadata": {},
   "outputs": [
    {
     "data": {
      "text/plain": [
       "(81040, 15)"
      ]
     },
     "execution_count": 3,
     "metadata": {},
     "output_type": "execute_result"
    }
   ],
   "source": [
    "df_pre_training = pd.read_csv('./data-clarify/amazon_reviews_us_giftcards_software_videogames_balanced.csv')\n",
    "df_pre_training.shape"
   ]
  },
  {
   "cell_type": "code",
   "execution_count": 4,
   "metadata": {},
   "outputs": [
    {
     "data": {
      "text/html": [
       "<div>\n",
       "<style scoped>\n",
       "    .dataframe tbody tr th:only-of-type {\n",
       "        vertical-align: middle;\n",
       "    }\n",
       "\n",
       "    .dataframe tbody tr th {\n",
       "        vertical-align: top;\n",
       "    }\n",
       "\n",
       "    .dataframe thead th {\n",
       "        text-align: right;\n",
       "    }\n",
       "</style>\n",
       "<table border=\"1\" class=\"dataframe\">\n",
       "  <thead>\n",
       "    <tr style=\"text-align: right;\">\n",
       "      <th></th>\n",
       "      <th>marketplace</th>\n",
       "      <th>customer_id</th>\n",
       "      <th>review_id</th>\n",
       "      <th>product_id</th>\n",
       "      <th>product_parent</th>\n",
       "      <th>product_title</th>\n",
       "      <th>product_category</th>\n",
       "      <th>star_rating</th>\n",
       "      <th>helpful_votes</th>\n",
       "      <th>total_votes</th>\n",
       "      <th>vine</th>\n",
       "      <th>verified_purchase</th>\n",
       "      <th>review_headline</th>\n",
       "      <th>review_body</th>\n",
       "      <th>review_date</th>\n",
       "    </tr>\n",
       "  </thead>\n",
       "  <tbody>\n",
       "    <tr>\n",
       "      <th>0</th>\n",
       "      <td>US</td>\n",
       "      <td>43630866</td>\n",
       "      <td>R3K6VPY2NE6262</td>\n",
       "      <td>B004LLIKVU</td>\n",
       "      <td>473048287</td>\n",
       "      <td>Amazon.com eGift Cards</td>\n",
       "      <td>Gift Card</td>\n",
       "      <td>5</td>\n",
       "      <td>0</td>\n",
       "      <td>0</td>\n",
       "      <td>N</td>\n",
       "      <td>Y</td>\n",
       "      <td>works great</td>\n",
       "      <td>i like the gift cards, if you need something q...</td>\n",
       "      <td>2013-10-27</td>\n",
       "    </tr>\n",
       "    <tr>\n",
       "      <th>1</th>\n",
       "      <td>US</td>\n",
       "      <td>52721479</td>\n",
       "      <td>R2VSBSVBPO5N94</td>\n",
       "      <td>B00CT77B7M</td>\n",
       "      <td>473048287</td>\n",
       "      <td>Amazon.com eGift Cards</td>\n",
       "      <td>Gift Card</td>\n",
       "      <td>5</td>\n",
       "      <td>0</td>\n",
       "      <td>0</td>\n",
       "      <td>N</td>\n",
       "      <td>Y</td>\n",
       "      <td>Five Stars</td>\n",
       "      <td>Beautiful card, the person receiving this also...</td>\n",
       "      <td>2015-05-25</td>\n",
       "    </tr>\n",
       "    <tr>\n",
       "      <th>2</th>\n",
       "      <td>US</td>\n",
       "      <td>25341626</td>\n",
       "      <td>RC62YY8GHYO67</td>\n",
       "      <td>B004LLIKVU</td>\n",
       "      <td>473048287</td>\n",
       "      <td>Amazon.com eGift Cards</td>\n",
       "      <td>Gift Card</td>\n",
       "      <td>5</td>\n",
       "      <td>0</td>\n",
       "      <td>0</td>\n",
       "      <td>N</td>\n",
       "      <td>Y</td>\n",
       "      <td>Five Stars</td>\n",
       "      <td>The Amazon Gift Card is the Perfect Gift somet...</td>\n",
       "      <td>2015-05-15</td>\n",
       "    </tr>\n",
       "    <tr>\n",
       "      <th>3</th>\n",
       "      <td>US</td>\n",
       "      <td>42898788</td>\n",
       "      <td>R35VSTQDN6CPDG</td>\n",
       "      <td>B004LLIKVU</td>\n",
       "      <td>473048287</td>\n",
       "      <td>Amazon.com eGift Cards</td>\n",
       "      <td>Gift Card</td>\n",
       "      <td>5</td>\n",
       "      <td>0</td>\n",
       "      <td>0</td>\n",
       "      <td>N</td>\n",
       "      <td>Y</td>\n",
       "      <td>Five Stars</td>\n",
       "      <td>ilove</td>\n",
       "      <td>2014-10-29</td>\n",
       "    </tr>\n",
       "    <tr>\n",
       "      <th>4</th>\n",
       "      <td>US</td>\n",
       "      <td>2943280</td>\n",
       "      <td>R3RA8FDVJDSKB5</td>\n",
       "      <td>B00H5BMH44</td>\n",
       "      <td>81025991</td>\n",
       "      <td>Amazon eGift Card - Hoops and Yoyo Cake Face (...</td>\n",
       "      <td>Gift Card</td>\n",
       "      <td>5</td>\n",
       "      <td>0</td>\n",
       "      <td>0</td>\n",
       "      <td>N</td>\n",
       "      <td>Y</td>\n",
       "      <td>Five Stars</td>\n",
       "      <td>I love Hoops and Yoyo. It is fun.</td>\n",
       "      <td>2014-12-10</td>\n",
       "    </tr>\n",
       "  </tbody>\n",
       "</table>\n",
       "</div>"
      ],
      "text/plain": [
       "  marketplace  customer_id       review_id  product_id  product_parent  \\\n",
       "0          US     43630866  R3K6VPY2NE6262  B004LLIKVU       473048287   \n",
       "1          US     52721479  R2VSBSVBPO5N94  B00CT77B7M       473048287   \n",
       "2          US     25341626   RC62YY8GHYO67  B004LLIKVU       473048287   \n",
       "3          US     42898788  R35VSTQDN6CPDG  B004LLIKVU       473048287   \n",
       "4          US      2943280  R3RA8FDVJDSKB5  B00H5BMH44        81025991   \n",
       "\n",
       "                                       product_title product_category  \\\n",
       "0                             Amazon.com eGift Cards        Gift Card   \n",
       "1                             Amazon.com eGift Cards        Gift Card   \n",
       "2                             Amazon.com eGift Cards        Gift Card   \n",
       "3                             Amazon.com eGift Cards        Gift Card   \n",
       "4  Amazon eGift Card - Hoops and Yoyo Cake Face (...        Gift Card   \n",
       "\n",
       "   star_rating  helpful_votes  total_votes vine verified_purchase  \\\n",
       "0            5              0            0    N                 Y   \n",
       "1            5              0            0    N                 Y   \n",
       "2            5              0            0    N                 Y   \n",
       "3            5              0            0    N                 Y   \n",
       "4            5              0            0    N                 Y   \n",
       "\n",
       "  review_headline                                        review_body  \\\n",
       "0     works great  i like the gift cards, if you need something q...   \n",
       "1      Five Stars  Beautiful card, the person receiving this also...   \n",
       "2      Five Stars  The Amazon Gift Card is the Perfect Gift somet...   \n",
       "3      Five Stars                                              ilove   \n",
       "4      Five Stars                  I love Hoops and Yoyo. It is fun.   \n",
       "\n",
       "  review_date  \n",
       "0  2013-10-27  \n",
       "1  2015-05-25  \n",
       "2  2015-05-15  \n",
       "3  2014-10-29  \n",
       "4  2014-12-10  "
      ]
     },
     "execution_count": 4,
     "metadata": {},
     "output_type": "execute_result"
    }
   ],
   "source": [
    "df_pre_training.head()"
   ]
  },
  {
   "cell_type": "markdown",
   "metadata": {},
   "source": [
    "# Pre-Training Bias Analysis"
   ]
  },
  {
   "cell_type": "code",
   "execution_count": 5,
   "metadata": {},
   "outputs": [],
   "source": [
    "facet_column = FacetColumn('product_category')\n",
    "label_column = LabelColumn('star_rating', df_pre_training['star_rating'], [5, 4])\n",
    "group_variable = df_pre_training['product_category']"
   ]
  },
  {
   "cell_type": "code",
   "execution_count": 6,
   "metadata": {},
   "outputs": [],
   "source": [
    "pre_training_report = bias_report(\n",
    "    df_pre_training, \n",
    "    facet_column, \n",
    "    label_column, \n",
    "    stage_type=StageType.PRE_TRAINING, \n",
    "    group_variable=group_variable\n",
    ")"
   ]
  },
  {
   "cell_type": "code",
   "execution_count": 7,
   "metadata": {
    "scrolled": true
   },
   "outputs": [
    {
     "data": {
      "text/plain": [
       "[{'value_or_threshold': 'Gift Card',\n",
       "  'metrics': [{'name': 'CDDL',\n",
       "    'description': 'Conditional Demographic Disparity in Labels (CDDL)',\n",
       "    'value': 0.0},\n",
       "   {'name': 'CI',\n",
       "    'description': 'Class Imbalance (CI)',\n",
       "    'value': 0.5890671273445213},\n",
       "   {'name': 'DPL',\n",
       "    'description': 'Difference in Positive Proportions in Labels (DPL)',\n",
       "    'value': -0.3670205096923802},\n",
       "   {'name': 'JS',\n",
       "    'description': 'Jensen-Shannon Divergence (JS)',\n",
       "    'value': 0.09279888452625618},\n",
       "   {'name': 'KL',\n",
       "    'description': 'Kullback-Liebler Divergence (KL)',\n",
       "    'value': 0.2839525028450173},\n",
       "   {'name': 'KS',\n",
       "    'description': 'Kolmogorov-Smirnov Distance (KS)',\n",
       "    'value': 0.3670205096923802},\n",
       "   {'name': 'LP', 'description': 'L-p Norm (LP)', 'value': 0.51904538247605},\n",
       "   {'name': 'TVD',\n",
       "    'description': 'Total Variation Distance (TVD)',\n",
       "    'value': 0.3670205096923802}]},\n",
       " {'value_or_threshold': 'Digital_Video_Games',\n",
       "  'metrics': [{'name': 'CDDL',\n",
       "    'description': 'Conditional Demographic Disparity in Labels (CDDL)',\n",
       "    'value': 0.0},\n",
       "   {'name': 'CI',\n",
       "    'description': 'Class Imbalance (CI)',\n",
       "    'value': 0.11567127344521225},\n",
       "   {'name': 'DPL',\n",
       "    'description': 'Difference in Positive Proportions in Labels (DPL)',\n",
       "    'value': 0.10251677188821995},\n",
       "   {'name': 'JS',\n",
       "    'description': 'Jensen-Shannon Divergence (JS)',\n",
       "    'value': 0.005587205352750403},\n",
       "   {'name': 'KL',\n",
       "    'description': 'Kullback-Liebler Divergence (KL)',\n",
       "    'value': 0.022442407166602632},\n",
       "   {'name': 'KS',\n",
       "    'description': 'Kolmogorov-Smirnov Distance (KS)',\n",
       "    'value': 0.10251677188822006},\n",
       "   {'name': 'LP',\n",
       "    'description': 'L-p Norm (LP)',\n",
       "    'value': 0.14498060917502956},\n",
       "   {'name': 'TVD',\n",
       "    'description': 'Total Variation Distance (TVD)',\n",
       "    'value': 0.10251677188822}]},\n",
       " {'value_or_threshold': 'Digital_Software',\n",
       "  'metrics': [{'name': 'CDDL',\n",
       "    'description': 'Conditional Demographic Disparity in Labels (CDDL)',\n",
       "    'value': 0.0},\n",
       "   {'name': 'CI',\n",
       "    'description': 'Class Imbalance (CI)',\n",
       "    'value': 0.2952615992102665},\n",
       "   {'name': 'DPL',\n",
       "    'description': 'Difference in Positive Proportions in Labels (DPL)',\n",
       "    'value': 0.15174860379943939},\n",
       "   {'name': 'JS',\n",
       "    'description': 'Jensen-Shannon Divergence (JS)',\n",
       "    'value': 0.013364031045590804},\n",
       "   {'name': 'KL',\n",
       "    'description': 'Kullback-Liebler Divergence (KL)',\n",
       "    'value': 0.05083925273113621},\n",
       "   {'name': 'KS',\n",
       "    'description': 'Kolmogorov-Smirnov Distance (KS)',\n",
       "    'value': 0.15174860379943944},\n",
       "   {'name': 'LP', 'description': 'L-p Norm (LP)', 'value': 0.2146049335643486},\n",
       "   {'name': 'TVD',\n",
       "    'description': 'Total Variation Distance (TVD)',\n",
       "    'value': 0.1517486037994394}]}]"
      ]
     },
     "execution_count": 7,
     "metadata": {},
     "output_type": "execute_result"
    }
   ],
   "source": [
    "pre_training_report"
   ]
  },
  {
   "cell_type": "markdown",
   "metadata": {},
   "source": [
    "# Post-Training Bias Analysis"
   ]
  },
  {
   "cell_type": "markdown",
   "metadata": {},
   "source": [
    "## _TODO: Implement Batch Prediction_"
   ]
  },
  {
   "cell_type": "code",
   "execution_count": null,
   "metadata": {},
   "outputs": [],
   "source": [
    "data = {\n",
    "    'star_rating':  [1, 2, 3, 4, 5],\n",
    "    'review_body': ['Worst ever', 'Expected more', 'Its ok', 'I like it', 'I love it'],\n",
    "    'product_category': ['Gift Card', 'Gift Card', 'Gift Card', 'Digital_Software', 'Digital_Software'],\n",
    "    'star_rating_predicted': [1, 2, 3, 4, 5]\n",
    "}"
   ]
  },
  {
   "cell_type": "code",
   "execution_count": null,
   "metadata": {},
   "outputs": [],
   "source": [
    "df = pd.DataFrame(data, columns = ['star_rating','review_body', 'product_category','star_rating_predicted'])\n",
    "print (df)"
   ]
  },
  {
   "cell_type": "markdown",
   "metadata": {},
   "source": [
    "# Convert data columns into `categorical` data type required for Clarify"
   ]
  },
  {
   "cell_type": "code",
   "execution_count": null,
   "metadata": {},
   "outputs": [],
   "source": [
    "df['star_rating'] = df['star_rating'].astype('category')"
   ]
  },
  {
   "cell_type": "code",
   "execution_count": null,
   "metadata": {},
   "outputs": [],
   "source": [
    "df['star_rating_predicted'] = df['star_rating_predicted'].astype('category')"
   ]
  },
  {
   "cell_type": "code",
   "execution_count": null,
   "metadata": {},
   "outputs": [],
   "source": [
    "df['product_category'] = df['product_category'].astype('category')"
   ]
  },
  {
   "cell_type": "markdown",
   "metadata": {},
   "source": [
    "# Configure Clarify"
   ]
  },
  {
   "cell_type": "code",
   "execution_count": 13,
   "metadata": {},
   "outputs": [],
   "source": [
    "facet_column = FacetColumn(\n",
    "    name='product_category', \n",
    "    sensitive_values=['Gift Card']\n",
    ")"
   ]
  },
  {
   "cell_type": "code",
   "execution_count": 14,
   "metadata": {},
   "outputs": [],
   "source": [
    "label_column = LabelColumn(\n",
    "    name='star_rating', \n",
    "    data=df['star_rating'], \n",
    "    positive_label_values=[5,4])"
   ]
  },
  {
   "cell_type": "code",
   "execution_count": 15,
   "metadata": {},
   "outputs": [],
   "source": [
    "predicted_label_column = LabelColumn(\n",
    "    name='star_rating_predicted', \n",
    "    data=df['star_rating_predicted'], \n",
    "    positive_label_values=[5,4])"
   ]
  },
  {
   "cell_type": "code",
   "execution_count": 16,
   "metadata": {},
   "outputs": [],
   "source": [
    "group_variable = df['product_category']"
   ]
  },
  {
   "cell_type": "code",
   "execution_count": 17,
   "metadata": {},
   "outputs": [],
   "source": [
    "post_training_report = bias_report(\n",
    "    df, \n",
    "    facet_column=facet_column, \n",
    "    label_column=label_column, \n",
    "    stage_type=StageType.POST_TRAINING, \n",
    "    predicted_label_column=predicted_label_column,\n",
    "    metrics=['DPPL', 'DI', 'DCA', 'DCR', 'RD', 'DAR', 'DRR', 'AD', 'CDDPL', 'TE'],\n",
    "    group_variable=group_variable\n",
    ")"
   ]
  },
  {
   "cell_type": "markdown",
   "metadata": {},
   "source": [
    "# Show Post-Training Bias Report"
   ]
  },
  {
   "cell_type": "code",
   "execution_count": 18,
   "metadata": {},
   "outputs": [
    {
     "name": "stdout",
     "output_type": "stream",
     "text": [
      "[{'metrics': [{'description': 'Accuracy Difference (AD)',\n",
      "               'name': 'AD',\n",
      "               'value': 0.0},\n",
      "              {'description': 'Conditional Demographic Disparity in Predicted '\n",
      "                              'Labels (CDDPL)',\n",
      "               'name': 'CDDPL',\n",
      "               'value': 0.6},\n",
      "              {'description': 'Difference in Acceptance Rates (DAR)',\n",
      "               'name': 'DAR',\n",
      "               'value': 1.0},\n",
      "              {'description': 'Difference in Conditional Acceptance (DCA)',\n",
      "               'name': 'DCA',\n",
      "               'value': 1.0},\n",
      "              {'description': 'Difference in Conditional Rejection (DCR)',\n",
      "               'name': 'DCR',\n",
      "               'value': 1.0},\n",
      "              {'description': 'Disparate Impact (DI)',\n",
      "               'name': 'DI',\n",
      "               'value': 0.0},\n",
      "              {'description': 'Difference in Positive Proportions in Predicted '\n",
      "                              'Labels (DPPL)',\n",
      "               'name': 'DPPL',\n",
      "               'value': 1.0},\n",
      "              {'description': 'Difference in Rejection Rates (DRR)',\n",
      "               'name': 'DRR',\n",
      "               'value': 1.0},\n",
      "              {'description': 'Recall Difference (RD)',\n",
      "               'name': 'RD',\n",
      "               'value': 1.0},\n",
      "              {'description': 'Treatment Equality (TE)',\n",
      "               'name': 'TE',\n",
      "               'value': 0.0}],\n",
      "  'value_or_threshold': 'Gift Card'}]\n"
     ]
    }
   ],
   "source": [
    "from pprint import pprint\n",
    "pprint(post_training_report)"
   ]
  },
  {
   "cell_type": "markdown",
   "metadata": {},
   "source": [
    "# Release Resources"
   ]
  },
  {
   "cell_type": "code",
   "execution_count": 19,
   "metadata": {},
   "outputs": [
    {
     "data": {
      "text/html": [
       "\n",
       "<p><b>Shutting down your kernel for this notebook to release resources.</b></p>\n",
       "<button class=\"sm-command-button\" data-commandlinker-command=\"kernelmenu:shutdown\" style=\"display:none;\">Shutdown Kernel</button>\n",
       "        \n",
       "<script>\n",
       "try {\n",
       "    els = document.getElementsByClassName(\"sm-command-button\");\n",
       "    els[0].click();\n",
       "}\n",
       "catch(err) {\n",
       "    // NoOp\n",
       "}    \n",
       "</script>\n"
      ],
      "text/plain": [
       "<IPython.core.display.HTML object>"
      ]
     },
     "metadata": {},
     "output_type": "display_data"
    }
   ],
   "source": [
    "%%html\n",
    "\n",
    "<p><b>Shutting down your kernel for this notebook to release resources.</b></p>\n",
    "<button class=\"sm-command-button\" data-commandlinker-command=\"kernelmenu:shutdown\" style=\"display:none;\">Shutdown Kernel</button>\n",
    "        \n",
    "<script>\n",
    "try {\n",
    "    els = document.getElementsByClassName(\"sm-command-button\");\n",
    "    els[0].click();\n",
    "}\n",
    "catch(err) {\n",
    "    // NoOp\n",
    "}    \n",
    "</script>"
   ]
  },
  {
   "cell_type": "code",
   "execution_count": 20,
   "metadata": {},
   "outputs": [
    {
     "data": {
      "application/javascript": [
       "\n",
       "try {\n",
       "    Jupyter.notebook.save_checkpoint();\n",
       "    Jupyter.notebook.session.delete();\n",
       "}\n",
       "catch(err) {\n",
       "    // NoOp\n",
       "}\n"
      ],
      "text/plain": [
       "<IPython.core.display.Javascript object>"
      ]
     },
     "metadata": {},
     "output_type": "display_data"
    }
   ],
   "source": [
    "%%javascript\n",
    "\n",
    "try {\n",
    "    Jupyter.notebook.save_checkpoint();\n",
    "    Jupyter.notebook.session.delete();\n",
    "}\n",
    "catch(err) {\n",
    "    // NoOp\n",
    "}"
   ]
  },
  {
   "cell_type": "code",
   "execution_count": null,
   "metadata": {},
   "outputs": [],
   "source": []
  }
 ],
 "metadata": {
  "kernelspec": {
   "display_name": "Python 3 (Data Science)",
   "language": "python",
   "name": "python3__SAGEMAKER_INTERNAL__arn:aws:sagemaker:us-east-1:081325390199:image/datascience-1.0"
  },
  "language_info": {
   "codemirror_mode": {
    "name": "ipython",
    "version": 3
   },
   "file_extension": ".py",
   "mimetype": "text/x-python",
   "name": "python",
   "nbconvert_exporter": "python",
   "pygments_lexer": "ipython3",
   "version": "3.7.6"
  }
 },
 "nbformat": 4,
 "nbformat_minor": 4
}
