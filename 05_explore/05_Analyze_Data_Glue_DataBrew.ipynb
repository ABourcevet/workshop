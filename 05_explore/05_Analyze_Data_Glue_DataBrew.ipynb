{
 "cells": [
  {
   "cell_type": "markdown",
   "metadata": {},
   "source": [
    "# Amazon Glue DataBrew"
   ]
  },
  {
   "cell_type": "code",
   "execution_count": 1,
   "metadata": {},
   "outputs": [],
   "source": [
    "!pip install -q --upgrade pip "
   ]
  },
  {
   "cell_type": "code",
   "execution_count": 3,
   "metadata": {},
   "outputs": [],
   "source": [
    "!pip install -q awscli==1.18.203 boto3==1.16.43 botocore==1.19.43"
   ]
  },
  {
   "cell_type": "code",
   "execution_count": null,
   "metadata": {},
   "outputs": [],
   "source": [
    "# # Restart the kernel to pick up pip installed libraries\n",
    "# from IPython.core.display import HTML\n",
    "# HTML(\"<script>Jupyter.notebook.kernel.restart()</script>\")"
   ]
  },
  {
   "cell_type": "markdown",
   "metadata": {},
   "source": [
    "# Prerequisites"
   ]
  },
  {
   "cell_type": "markdown",
   "metadata": {},
   "source": [
    "Add The Following Trust Relationship To Your IAM Role\n",
    "\n",
    "```\n",
    "    {\n",
    "      \"Sid\": \"\",\n",
    "      \"Effect\": \"Allow\",\n",
    "      \"Principal\": {\n",
    "        \"Service\": \"databrew.amazonaws.com\"\n",
    "      },\n",
    "      \"Action\": \"sts:AssumeRole\"\n",
    "    }\n",
    "```\n",
    "\n",
    "and Access Policy For Glue DataBrew."
   ]
  },
  {
   "cell_type": "markdown",
   "metadata": {},
   "source": [
    "# Imports and Settings"
   ]
  },
  {
   "cell_type": "code",
   "execution_count": 5,
   "metadata": {},
   "outputs": [
    {
     "name": "stdout",
     "output_type": "stream",
     "text": [
      "231218423789\n",
      "us-east-1\n",
      "sagemaker-us-east-1-231218423789\n",
      "arn:aws:iam::231218423789:role/TeamRole\n"
     ]
    }
   ],
   "source": [
    "import boto3\n",
    "import json\n",
    "import sagemaker\n",
    "import pandas as pd\n",
    "from botocore.exceptions import ClientError\n",
    "\n",
    "session = boto3.session.Session()\n",
    "sts = session.client(service_name='sts')\n",
    "account_id = sts.get_caller_identity().get('Account') \n",
    "print(account_id)\n",
    "\n",
    "region = session.region_name\n",
    "print(region)\n",
    "\n",
    "sagemaker_session = sagemaker.Session()\n",
    "\n",
    "bucket = sagemaker_session.default_bucket()\n",
    "print(bucket)\n",
    "\n",
    "role = sagemaker.get_execution_role()\n",
    "print(role)\n",
    "\n",
    "db = boto3.client('databrew')"
   ]
  },
  {
   "cell_type": "markdown",
   "metadata": {},
   "source": [
    "# Describe Project"
   ]
  },
  {
   "cell_type": "code",
   "execution_count": null,
   "metadata": {
    "scrolled": true
   },
   "outputs": [],
   "source": [
    "# response = db.describe_project(\n",
    "#     Name='dlai'\n",
    "# )\n",
    "\n",
    "# print(json.dumps(response, indent=4, sort_keys=True, default=str))"
   ]
  },
  {
   "cell_type": "markdown",
   "metadata": {},
   "source": [
    "# Describe Dataset"
   ]
  },
  {
   "cell_type": "code",
   "execution_count": null,
   "metadata": {
    "scrolled": true
   },
   "outputs": [],
   "source": [
    "# response = db.describe_dataset(\n",
    "#     Name='amazon-reviews-parquet'\n",
    "# )\n",
    "\n",
    "# print(json.dumps(response, indent=4, sort_keys=True, default=str))"
   ]
  },
  {
   "cell_type": "markdown",
   "metadata": {},
   "source": [
    "# Create Dataset"
   ]
  },
  {
   "cell_type": "code",
   "execution_count": 6,
   "metadata": {},
   "outputs": [],
   "source": [
    "dataset_name = 'amazon-customer-reviews-dataset'\n",
    "input_bucket='amazon-reviews-pds'\n",
    "key='parquet/'"
   ]
  },
  {
   "cell_type": "code",
   "execution_count": 7,
   "metadata": {},
   "outputs": [
    {
     "name": "stdout",
     "output_type": "stream",
     "text": [
      "{\n",
      "    \"Name\": \"amazon-customer-reviews-dataset\",\n",
      "    \"ResponseMetadata\": {\n",
      "        \"HTTPHeaders\": {\n",
      "            \"connection\": \"keep-alive\",\n",
      "            \"content-length\": \"42\",\n",
      "            \"content-type\": \"application/json\",\n",
      "            \"date\": \"Sat, 26 Dec 2020 18:17:39 GMT\",\n",
      "            \"via\": \"1.1 ddeb8679359f033dad405557c487bfdd.cloudfront.net (CloudFront)\",\n",
      "            \"x-amz-apigw-id\": \"YLCqlESZoAMF3AA=\",\n",
      "            \"x-amz-cf-id\": \"vqynRgE6DDruwNJhF8quSJ1aS007v99yZdr8PEAQOk_afA4lksflSw==\",\n",
      "            \"x-amz-cf-pop\": \"IAD89-C3\",\n",
      "            \"x-amzn-requestid\": \"c28f8b7b-c8b0-43f9-8362-9005f20929ff\",\n",
      "            \"x-amzn-trace-id\": \"Root=1-5fe77e43-2b070829300471d72c31c065\",\n",
      "            \"x-cache\": \"Miss from cloudfront\"\n",
      "        },\n",
      "        \"HTTPStatusCode\": 200,\n",
      "        \"RequestId\": \"c28f8b7b-c8b0-43f9-8362-9005f20929ff\",\n",
      "        \"RetryAttempts\": 0\n",
      "    }\n",
      "}\n"
     ]
    }
   ],
   "source": [
    "response = db.create_dataset(\n",
    "    Name=dataset_name,\n",
    "    Input={\n",
    "        'S3InputDefinition': {\n",
    "            'Bucket': input_bucket,\n",
    "            'Key': key\n",
    "        },\n",
    "    },\n",
    ")\n",
    "\n",
    "print(json.dumps(response, indent=4, sort_keys=True, default=str))"
   ]
  },
  {
   "cell_type": "code",
   "execution_count": 8,
   "metadata": {},
   "outputs": [
    {
     "data": {
      "text/html": [
       "<b>Review <a target=\"blank\" href=\"https://console.aws.amazon.com/databrew/home?region=us-east-1#dataset-details?dataset=amazon-customer-reviews-dataset&tab=preview\">Dataset</a></b>"
      ],
      "text/plain": [
       "<IPython.core.display.HTML object>"
      ]
     },
     "metadata": {},
     "output_type": "display_data"
    }
   ],
   "source": [
    "from IPython.core.display import display, HTML\n",
    "\n",
    "display(HTML('<b>Review <a target=\"blank\" href=\"https://console.aws.amazon.com/databrew/home?region={}#dataset-details?dataset={}&tab=preview\">Dataset</a></b>'.format(region, dataset_name)))\n"
   ]
  },
  {
   "cell_type": "code",
   "execution_count": 9,
   "metadata": {
    "scrolled": true
   },
   "outputs": [
    {
     "name": "stdout",
     "output_type": "stream",
     "text": [
      "{\n",
      "    \"CreateDate\": \"2020-12-26 18:17:39.866000+00:00\",\n",
      "    \"CreatedBy\": \"arn:aws:sts::231218423789:assumed-role/TeamRole/SageMaker\",\n",
      "    \"Input\": {\n",
      "        \"S3InputDefinition\": {\n",
      "            \"Bucket\": \"amazon-reviews-pds\",\n",
      "            \"Key\": \"parquet/\"\n",
      "        }\n",
      "    },\n",
      "    \"Name\": \"amazon-customer-reviews-dataset\",\n",
      "    \"ResourceArn\": \"arn:aws:databrew:us-east-1:231218423789:dataset/amazon-customer-reviews-dataset\",\n",
      "    \"ResponseMetadata\": {\n",
      "        \"HTTPHeaders\": {\n",
      "            \"connection\": \"keep-alive\",\n",
      "            \"content-length\": \"536\",\n",
      "            \"content-type\": \"application/json\",\n",
      "            \"date\": \"Sat, 26 Dec 2020 18:19:04 GMT\",\n",
      "            \"via\": \"1.1 ddeb8679359f033dad405557c487bfdd.cloudfront.net (CloudFront)\",\n",
      "            \"x-amz-apigw-id\": \"YLC32HrRoAMF9Cg=\",\n",
      "            \"x-amz-cf-id\": \"NCM5PH9NBMmhSkTKk-aRWZzncFUugf3L96pENZ0hA6AfjqL7QLskNQ==\",\n",
      "            \"x-amz-cf-pop\": \"IAD89-C3\",\n",
      "            \"x-amzn-requestid\": \"3ce19654-5e30-4256-8a1f-da7ad076717b\",\n",
      "            \"x-amzn-trace-id\": \"Root=1-5fe77e98-1743de7d4386c2fe1c737c71\",\n",
      "            \"x-cache\": \"Miss from cloudfront\"\n",
      "        },\n",
      "        \"HTTPStatusCode\": 200,\n",
      "        \"RequestId\": \"3ce19654-5e30-4256-8a1f-da7ad076717b\",\n",
      "        \"RetryAttempts\": 0\n",
      "    },\n",
      "    \"Source\": \"S3\",\n",
      "    \"Tags\": {}\n",
      "}\n"
     ]
    }
   ],
   "source": [
    "response = db.describe_dataset(\n",
    "    Name=dataset_name\n",
    ")\n",
    "\n",
    "print(json.dumps(response, indent=4, sort_keys=True, default=str))"
   ]
  },
  {
   "cell_type": "markdown",
   "metadata": {},
   "source": [
    "## Get Dataset Resource ARN"
   ]
  },
  {
   "cell_type": "code",
   "execution_count": 10,
   "metadata": {},
   "outputs": [
    {
     "name": "stdout",
     "output_type": "stream",
     "text": [
      "amazon-customer-reviews-dataset\n",
      "arn:aws:databrew:us-east-1:231218423789:dataset/amazon-customer-reviews-dataset\n"
     ]
    }
   ],
   "source": [
    "dataset_arn = response['ResourceArn']\n",
    "print(dataset_name)\n",
    "print(dataset_arn)"
   ]
  },
  {
   "cell_type": "markdown",
   "metadata": {},
   "source": [
    "# Describe Recipe"
   ]
  },
  {
   "cell_type": "code",
   "execution_count": 18,
   "metadata": {},
   "outputs": [],
   "source": [
    "recipe_name='amazon-customer-reviews-dataset-recipe'"
   ]
  },
  {
   "cell_type": "code",
   "execution_count": null,
   "metadata": {
    "scrolled": true
   },
   "outputs": [],
   "source": [
    "# response = db.describe_recipe(\n",
    "#     Name='dlai-recipe'\n",
    "# )\n",
    "\n",
    "# print(json.dumps(response, indent=4, sort_keys=True, default=str))"
   ]
  },
  {
   "cell_type": "markdown",
   "metadata": {},
   "source": [
    "# View Recipe File"
   ]
  },
  {
   "cell_type": "code",
   "execution_count": 19,
   "metadata": {
    "scrolled": true
   },
   "outputs": [
    {
     "name": "stdout",
     "output_type": "stream",
     "text": [
      "[\n",
      "  {\n",
      "    \u001b[94m\"Action\"\u001b[39;49;00m: {\n",
      "      \u001b[94m\"Operation\"\u001b[39;49;00m: \u001b[33m\"DELETE\"\u001b[39;49;00m,\n",
      "      \u001b[94m\"Parameters\"\u001b[39;49;00m: {\n",
      "        \u001b[94m\"sourceColumns\"\u001b[39;49;00m: \u001b[33m\"[\\\"marketplace\\\",\\\"customer_id\\\",\\\"review_id\\\",\\\"product_id\\\",\\\"product_parent\\\",\\\"product_title\\\",\\\"helpful_votes\\\",\\\"total_votes\\\",\\\"vine\\\",\\\"verified_purchase\\\",\\\"review_headline\\\",\\\"review_date\\\",\\\"year\\\"]\"\u001b[39;49;00m\n",
      "      }\n",
      "    }\n",
      "  }\n",
      "]\n"
     ]
    }
   ],
   "source": [
    "!pygmentize ./amazon-reviews-dataset-recipe.json"
   ]
  },
  {
   "cell_type": "markdown",
   "metadata": {},
   "source": [
    "# Load Recipe File"
   ]
  },
  {
   "cell_type": "code",
   "execution_count": 16,
   "metadata": {
    "scrolled": true
   },
   "outputs": [
    {
     "name": "stdout",
     "output_type": "stream",
     "text": [
      "[\n",
      "    {\n",
      "        \"Action\": {\n",
      "            \"Operation\": \"DELETE\",\n",
      "            \"Parameters\": {\n",
      "                \"sourceColumns\": \"[\\\"marketplace\\\",\\\"customer_id\\\",\\\"review_id\\\",\\\"product_id\\\",\\\"product_parent\\\",\\\"product_title\\\",\\\"helpful_votes\\\",\\\"total_votes\\\",\\\"vine\\\",\\\"verified_purchase\\\",\\\"review_headline\\\",\\\"review_date\\\",\\\"year\\\"]\"\n",
      "            }\n",
      "        }\n",
      "    }\n",
      "]\n"
     ]
    }
   ],
   "source": [
    "# Read file\n",
    "with open('./amazon-reviews-dataset-recipe.json', 'r') as file:\n",
    "    file_object=file.read()\n",
    "\n",
    "# Parse file\n",
    "recipe_steps = json.loads(file_object)\n",
    "\n",
    "print(json.dumps(recipe_steps, indent=4, sort_keys=True, default=str))"
   ]
  },
  {
   "cell_type": "markdown",
   "metadata": {},
   "source": [
    "# Create Recipe From File"
   ]
  },
  {
   "cell_type": "code",
   "execution_count": 20,
   "metadata": {},
   "outputs": [],
   "source": [
    "response = db.create_recipe(\n",
    "    Description='Amazon Customer Reviews Recipe',\n",
    "    Name=recipe_name,\n",
    "    Steps=recipe_steps\n",
    ")"
   ]
  },
  {
   "cell_type": "code",
   "execution_count": 21,
   "metadata": {},
   "outputs": [
    {
     "name": "stdout",
     "output_type": "stream",
     "text": [
      "{\n",
      "    \"Name\": \"amazon-customer-reviews-dataset-recipe\",\n",
      "    \"ResponseMetadata\": {\n",
      "        \"HTTPHeaders\": {\n",
      "            \"connection\": \"keep-alive\",\n",
      "            \"content-length\": \"49\",\n",
      "            \"content-type\": \"application/json\",\n",
      "            \"date\": \"Sat, 26 Dec 2020 18:21:38 GMT\",\n",
      "            \"via\": \"1.1 ddeb8679359f033dad405557c487bfdd.cloudfront.net (CloudFront)\",\n",
      "            \"x-amz-apigw-id\": \"YLDP9G-ZoAMFxtQ=\",\n",
      "            \"x-amz-cf-id\": \"KcMHpEMFEed5hkJ2Z7so0xEFZd4FmUp5Yj1r_IPdrYo4hZsZX4uxLA==\",\n",
      "            \"x-amz-cf-pop\": \"IAD89-C3\",\n",
      "            \"x-amzn-requestid\": \"236e8e6b-0a83-4c54-b197-eff900255b99\",\n",
      "            \"x-amzn-trace-id\": \"Root=1-5fe77f32-119028a20e13aceb4ff930f0\",\n",
      "            \"x-cache\": \"Miss from cloudfront\"\n",
      "        },\n",
      "        \"HTTPStatusCode\": 200,\n",
      "        \"RequestId\": \"236e8e6b-0a83-4c54-b197-eff900255b99\",\n",
      "        \"RetryAttempts\": 0\n",
      "    }\n",
      "}\n"
     ]
    }
   ],
   "source": [
    "print(json.dumps(response, indent=4, sort_keys=True, default=str))"
   ]
  },
  {
   "cell_type": "markdown",
   "metadata": {},
   "source": [
    "## Create Project"
   ]
  },
  {
   "cell_type": "code",
   "execution_count": 22,
   "metadata": {},
   "outputs": [],
   "source": [
    "project_name = 'amazon-customer-reviews-dataset-project'"
   ]
  },
  {
   "cell_type": "code",
   "execution_count": 24,
   "metadata": {},
   "outputs": [],
   "source": [
    "response = db.create_project(\n",
    "    DatasetName=dataset_name,\n",
    "    Name=project_name,\n",
    "    RecipeName=recipe_name,\n",
    "    Sample={\n",
    "        'Size': 500,\n",
    "        'Type': 'FIRST_N'\n",
    "    },\n",
    "    RoleArn='arn:aws:iam::231218423789:role/service-role/AWSGlueDataBrewServiceRole-antje'\n",
    ")"
   ]
  },
  {
   "cell_type": "code",
   "execution_count": 25,
   "metadata": {},
   "outputs": [
    {
     "name": "stdout",
     "output_type": "stream",
     "text": [
      "{\n",
      "    \"Name\": \"amazon-customer-reviews-dataset-project\",\n",
      "    \"ResponseMetadata\": {\n",
      "        \"HTTPHeaders\": {\n",
      "            \"connection\": \"keep-alive\",\n",
      "            \"content-length\": \"50\",\n",
      "            \"content-type\": \"application/json\",\n",
      "            \"date\": \"Sat, 26 Dec 2020 18:22:12 GMT\",\n",
      "            \"via\": \"1.1 ddeb8679359f033dad405557c487bfdd.cloudfront.net (CloudFront)\",\n",
      "            \"x-amz-apigw-id\": \"YLDVHFsNIAMFTxg=\",\n",
      "            \"x-amz-cf-id\": \"XwbQHbziEpMCuZvpjyfO5AK3CiHnW6l6chUXw1eGvgUPT5ISGNwHZA==\",\n",
      "            \"x-amz-cf-pop\": \"IAD89-C3\",\n",
      "            \"x-amzn-requestid\": \"5b63138f-dcfe-4a77-9c04-af26f9284959\",\n",
      "            \"x-amzn-trace-id\": \"Root=1-5fe77f53-6c59f6981d72b40710388d2e\",\n",
      "            \"x-cache\": \"Miss from cloudfront\"\n",
      "        },\n",
      "        \"HTTPStatusCode\": 200,\n",
      "        \"RequestId\": \"5b63138f-dcfe-4a77-9c04-af26f9284959\",\n",
      "        \"RetryAttempts\": 0\n",
      "    }\n",
      "}\n"
     ]
    }
   ],
   "source": [
    "print(json.dumps(response, indent=4, sort_keys=True, default=str))"
   ]
  },
  {
   "cell_type": "code",
   "execution_count": 26,
   "metadata": {},
   "outputs": [
    {
     "data": {
      "text/html": [
       "<b>Review <a target=\"blank\" href=\"https://console.aws.amazon.com/databrew/home?region=us-east-1#project-workspace?project=amazon-customer-reviews-dataset-project&view=grid\">Project</a></b>"
      ],
      "text/plain": [
       "<IPython.core.display.HTML object>"
      ]
     },
     "metadata": {},
     "output_type": "display_data"
    }
   ],
   "source": [
    "from IPython.core.display import display, HTML\n",
    "\n",
    "display(HTML('<b>Review <a target=\"blank\" href=\"https://console.aws.amazon.com/databrew/home?region={}#project-workspace?project={}&view=grid\">Project</a></b>'.format(region, project_name)))\n"
   ]
  },
  {
   "cell_type": "markdown",
   "metadata": {},
   "source": [
    "# Create Recipe Job"
   ]
  },
  {
   "cell_type": "code",
   "execution_count": null,
   "metadata": {
    "scrolled": true
   },
   "outputs": [],
   "source": [
    "# response = db.describe_job(\n",
    "#     Name='test-job'\n",
    "# )\n",
    "\n",
    "# print(json.dumps(response, indent=4, sort_keys=True, default=str))"
   ]
  },
  {
   "cell_type": "code",
   "execution_count": 27,
   "metadata": {},
   "outputs": [],
   "source": [
    "job_name = 'amazon-customer-reviews-dataset-recipe-job'\n",
    "output_bucket = bucket\n",
    "output_key = 'databrew/'"
   ]
  },
  {
   "cell_type": "code",
   "execution_count": 30,
   "metadata": {},
   "outputs": [
    {
     "name": "stdout",
     "output_type": "stream",
     "text": [
      "{\n",
      "    \"Name\": \"amazon-customer-reviews-dataset-recipe-job\",\n",
      "    \"ResponseMetadata\": {\n",
      "        \"HTTPHeaders\": {\n",
      "            \"connection\": \"keep-alive\",\n",
      "            \"content-length\": \"53\",\n",
      "            \"content-type\": \"application/json\",\n",
      "            \"date\": \"Sat, 26 Dec 2020 18:26:35 GMT\",\n",
      "            \"via\": \"1.1 ddeb8679359f033dad405557c487bfdd.cloudfront.net (CloudFront)\",\n",
      "            \"x-amz-apigw-id\": \"YLD-QG0ooAMFigg=\",\n",
      "            \"x-amz-cf-id\": \"oZ7SMZOWCSzLh9bLH8lADaghjf9DHQ3BvrkvCamggwXs9H6ZtfDvWw==\",\n",
      "            \"x-amz-cf-pop\": \"IAD89-C3\",\n",
      "            \"x-amzn-requestid\": \"ff4c0e10-6c18-4e5f-87bc-6b52b77c7bab\",\n",
      "            \"x-amzn-trace-id\": \"Root=1-5fe7805b-65f21d0d7c76a5994878fe26\",\n",
      "            \"x-cache\": \"Miss from cloudfront\"\n",
      "        },\n",
      "        \"HTTPStatusCode\": 200,\n",
      "        \"RequestId\": \"ff4c0e10-6c18-4e5f-87bc-6b52b77c7bab\",\n",
      "        \"RetryAttempts\": 0\n",
      "    }\n",
      "}\n"
     ]
    }
   ],
   "source": [
    "response = db.create_recipe_job(\n",
    "#    DatasetName=dataset_name,\n",
    "    Name=job_name,\n",
    "    LogSubscription='ENABLE',\n",
    "    MaxCapacity=10,\n",
    "    MaxRetries=0,\n",
    "    Outputs=[\n",
    "        {\n",
    "            'Format': 'CSV',\n",
    "            'PartitionColumns': [],\n",
    "            'Location': {\n",
    "                'Bucket': output_bucket,\n",
    "                'Key': output_key\n",
    "            },\n",
    "            'Overwrite': True\n",
    "        },\n",
    "    ],\n",
    "    ProjectName=project_name,\n",
    "#     RecipeReference={\n",
    "#         'Name': recipe_name\n",
    "#     },\n",
    "    RoleArn='arn:aws:iam::231218423789:role/service-role/AWSGlueDataBrewServiceRole-antje',\n",
    "    Timeout=2880\n",
    ")\n",
    "\n",
    "print(json.dumps(response, indent=4, sort_keys=True, default=str))"
   ]
  },
  {
   "cell_type": "code",
   "execution_count": 31,
   "metadata": {},
   "outputs": [
    {
     "data": {
      "text/html": [
       "<b>Review <a target=\"blank\" href=\"https://console.aws.amazon.com/databrew/home?region=us-east-1#job-details?job=amazon-customer-reviews-dataset-recipe-job&tab=history\">Recipe Job</a></b>"
      ],
      "text/plain": [
       "<IPython.core.display.HTML object>"
      ]
     },
     "metadata": {},
     "output_type": "display_data"
    }
   ],
   "source": [
    "from IPython.core.display import display, HTML\n",
    "\n",
    "display(HTML('<b>Review <a target=\"blank\" href=\"https://console.aws.amazon.com/databrew/home?region={}#job-details?job={}&tab=history\">Recipe Job</a></b>'.format(region, job_name)))\n"
   ]
  },
  {
   "cell_type": "markdown",
   "metadata": {},
   "source": [
    "# Start Job Run"
   ]
  },
  {
   "cell_type": "code",
   "execution_count": 32,
   "metadata": {},
   "outputs": [
    {
     "name": "stdout",
     "output_type": "stream",
     "text": [
      "{\n",
      "    \"ResponseMetadata\": {\n",
      "        \"HTTPHeaders\": {\n",
      "            \"connection\": \"keep-alive\",\n",
      "            \"content-length\": \"79\",\n",
      "            \"content-type\": \"application/json\",\n",
      "            \"date\": \"Sat, 26 Dec 2020 18:26:44 GMT\",\n",
      "            \"via\": \"1.1 ddeb8679359f033dad405557c487bfdd.cloudfront.net (CloudFront)\",\n",
      "            \"x-amz-apigw-id\": \"YLD_jGoIoAMFXMw=\",\n",
      "            \"x-amz-cf-id\": \"JPhdLGMxw221AR4ixDav-jZHpFGtYakGBrQMk5rVp8Rzd5DHCrx-Jg==\",\n",
      "            \"x-amz-cf-pop\": \"IAD89-C3\",\n",
      "            \"x-amzn-requestid\": \"8d4ad6d3-63c8-42ee-a129-db5498d269d7\",\n",
      "            \"x-amzn-trace-id\": \"Root=1-5fe78063-7fedff736f2e2eb71717407c\",\n",
      "            \"x-cache\": \"Miss from cloudfront\"\n",
      "        },\n",
      "        \"HTTPStatusCode\": 200,\n",
      "        \"RequestId\": \"8d4ad6d3-63c8-42ee-a129-db5498d269d7\",\n",
      "        \"RetryAttempts\": 0\n",
      "    },\n",
      "    \"RunId\": \"db_e013ce63e5a8e2111571cbe92ca4bc779735f15db562e7c033ad2f195ac631dd\"\n",
      "}\n"
     ]
    }
   ],
   "source": [
    "response = db.start_job_run(\n",
    "    Name=job_name\n",
    ")\n",
    "\n",
    "print(json.dumps(response, indent=4, sort_keys=True, default=str))"
   ]
  },
  {
   "cell_type": "markdown",
   "metadata": {},
   "source": [
    "# Get Job Run ID"
   ]
  },
  {
   "cell_type": "code",
   "execution_count": 33,
   "metadata": {},
   "outputs": [
    {
     "name": "stdout",
     "output_type": "stream",
     "text": [
      "db_e013ce63e5a8e2111571cbe92ca4bc779735f15db562e7c033ad2f195ac631dd\n"
     ]
    }
   ],
   "source": [
    "job_run_id = response['RunId']\n",
    "print(job_run_id)"
   ]
  },
  {
   "cell_type": "markdown",
   "metadata": {},
   "source": [
    "# List Job Run"
   ]
  },
  {
   "cell_type": "code",
   "execution_count": 34,
   "metadata": {},
   "outputs": [
    {
     "name": "stdout",
     "output_type": "stream",
     "text": [
      "{\n",
      "    \"JobRuns\": [\n",
      "        {\n",
      "            \"Attempt\": 0,\n",
      "            \"DatasetName\": \"amazon-customer-reviews-dataset\",\n",
      "            \"ExecutionTime\": 0,\n",
      "            \"JobName\": \"amazon-customer-reviews-dataset-recipe-job\",\n",
      "            \"LogGroupName\": \"/aws-glue-databrew/jobs-amazon-customer-reviews-dataset-recipe-job\",\n",
      "            \"LogSubscription\": \"ENABLE\",\n",
      "            \"Outputs\": [\n",
      "                {\n",
      "                    \"Format\": \"CSV\",\n",
      "                    \"Location\": {\n",
      "                        \"Bucket\": \"sagemaker-us-east-1-231218423789\",\n",
      "                        \"Key\": \"databrew/\"\n",
      "                    },\n",
      "                    \"Overwrite\": true,\n",
      "                    \"PartitionColumns\": []\n",
      "                }\n",
      "            ],\n",
      "            \"RecipeReference\": {\n",
      "                \"Name\": \"amazon-customer-reviews-dataset-recipe\",\n",
      "                \"RecipeVersion\": \"LATEST_WORKING\"\n",
      "            },\n",
      "            \"RunId\": \"db_e013ce63e5a8e2111571cbe92ca4bc779735f15db562e7c033ad2f195ac631dd\",\n",
      "            \"StartedBy\": \"arn:aws:sts::231218423789:assumed-role/TeamRole/SageMaker\",\n",
      "            \"StartedOn\": \"2020-12-26 18:26:44.260000+00:00\",\n",
      "            \"State\": \"RUNNING\"\n",
      "        }\n",
      "    ],\n",
      "    \"ResponseMetadata\": {\n",
      "        \"HTTPHeaders\": {\n",
      "            \"connection\": \"keep-alive\",\n",
      "            \"content-length\": \"780\",\n",
      "            \"content-type\": \"application/json\",\n",
      "            \"date\": \"Sat, 26 Dec 2020 18:26:48 GMT\",\n",
      "            \"via\": \"1.1 ddeb8679359f033dad405557c487bfdd.cloudfront.net (CloudFront)\",\n",
      "            \"x-amz-apigw-id\": \"YLEATFepoAMFgSA=\",\n",
      "            \"x-amz-cf-id\": \"aIha19UtgtdpiphFtBoyLcB5FF2iM522Fyt5-fOW30Y2PSiIgg8KqQ==\",\n",
      "            \"x-amz-cf-pop\": \"IAD89-C3\",\n",
      "            \"x-amzn-requestid\": \"56b606c8-1228-46a0-a277-6f2c827a11c3\",\n",
      "            \"x-amzn-trace-id\": \"Root=1-5fe78068-0589f255720294e74d74f30a\",\n",
      "            \"x-cache\": \"Miss from cloudfront\"\n",
      "        },\n",
      "        \"HTTPStatusCode\": 200,\n",
      "        \"RequestId\": \"56b606c8-1228-46a0-a277-6f2c827a11c3\",\n",
      "        \"RetryAttempts\": 0\n",
      "    }\n",
      "}\n"
     ]
    }
   ],
   "source": [
    "response = db.list_job_runs(\n",
    "    Name=job_name\n",
    ")\n",
    "\n",
    "print(json.dumps(response, indent=4, sort_keys=True, default=str))"
   ]
  },
  {
   "cell_type": "code",
   "execution_count": 35,
   "metadata": {},
   "outputs": [
    {
     "name": "stdout",
     "output_type": "stream",
     "text": [
      "RUNNING\n"
     ]
    }
   ],
   "source": [
    "status = response['JobRuns'][0]['State']\n",
    "print(status)"
   ]
  },
  {
   "cell_type": "markdown",
   "metadata": {},
   "source": [
    "# _Wait For The Job Run To Complete. The Job Runs For About 30min._"
   ]
  },
  {
   "cell_type": "code",
   "execution_count": 36,
   "metadata": {
    "scrolled": true
   },
   "outputs": [
    {
     "name": "stdout",
     "output_type": "stream",
     "text": [
      "Job Run State: RUNNING\n",
      "Job Run State: RUNNING\n",
      "Job Run State: RUNNING\n",
      "Job Run State: RUNNING\n",
      "Job Run State: RUNNING\n",
      "Job Run State: RUNNING\n",
      "Job Run State: RUNNING\n",
      "Job Run State: RUNNING\n",
      "Job Run State: RUNNING\n",
      "Job Run State: RUNNING\n",
      "Job Run State: RUNNING\n",
      "Job Run State: RUNNING\n",
      "Job Run State: RUNNING\n",
      "Job Run State: RUNNING\n",
      "Job Run State: RUNNING\n",
      "Job Run State: RUNNING\n",
      "Job Run State: RUNNING\n",
      "Job Run State: RUNNING\n",
      "Job Run State: RUNNING\n",
      "Job Run State: RUNNING\n",
      "Job Run State: RUNNING\n",
      "Job Run State: RUNNING\n",
      "Job Run State: RUNNING\n",
      "Job Run State: RUNNING\n",
      "Job Run State: RUNNING\n",
      "Job Run State: RUNNING\n",
      "Job Run State: RUNNING\n",
      "Job Run State: RUNNING\n",
      "Job Run State: RUNNING\n",
      "Job Run State: RUNNING\n",
      "Job Run State: RUNNING\n",
      "Job Run State: RUNNING\n",
      "Job Run State: RUNNING\n",
      "Job Run State: RUNNING\n",
      "Job Run State: RUNNING\n",
      "Job Run State: RUNNING\n",
      "Job Run State: RUNNING\n",
      "Job Run State: RUNNING\n",
      "Job Run State: RUNNING\n",
      "Job Run State: RUNNING\n",
      "Job Run State: RUNNING\n",
      "Job Run State: RUNNING\n",
      "Job Run State: RUNNING\n",
      "Job Run State: RUNNING\n",
      "Job Run State: RUNNING\n",
      "Job Run State: RUNNING\n",
      "Job Run State: RUNNING\n",
      "Job Run State: RUNNING\n",
      "Job Run State: RUNNING\n",
      "Job Run State: RUNNING\n",
      "Job Run State: RUNNING\n",
      "Job Run State: RUNNING\n",
      "Job Run State: RUNNING\n",
      "Job Run State: RUNNING\n",
      "Job Run State: RUNNING\n",
      "Job Run State: RUNNING\n",
      "Job Run State: RUNNING\n",
      "Job Run State: RUNNING\n",
      "Job Run State: RUNNING\n",
      "Job Run State: RUNNING\n",
      "Job Run State: RUNNING\n",
      "Job Run State: RUNNING\n",
      "Job Run State: RUNNING\n",
      "Job Run State: RUNNING\n",
      "Job Run State: RUNNING\n",
      "Job Run State: RUNNING\n",
      "Job Run State: RUNNING\n",
      "Job Run State: RUNNING\n",
      "Job Run State: RUNNING\n",
      "Job Run State: RUNNING\n",
      "Job Run State: RUNNING\n",
      "Job Run State: RUNNING\n",
      "Job Run State: RUNNING\n",
      "Job Run State: RUNNING\n",
      "Job Run State: RUNNING\n",
      "Job Run State: RUNNING\n",
      "Job Run State: RUNNING\n",
      "Job Run State: RUNNING\n",
      "Job Run State: RUNNING\n",
      "Job Run State: RUNNING\n",
      "Job Run State: RUNNING\n",
      "Job Run State: RUNNING\n",
      "Job Run State: RUNNING\n",
      "Job Run State: RUNNING\n",
      "Job Run State: RUNNING\n",
      "Job Run State: RUNNING\n",
      "Job Run State: RUNNING\n",
      "Job Run State: RUNNING\n",
      "Job Run State: RUNNING\n",
      "Job Run State: RUNNING\n",
      "Job Run State: RUNNING\n",
      "Job Run State: RUNNING\n",
      "Job Run State: RUNNING\n",
      "Job Run State: RUNNING\n",
      "Job Run State: RUNNING\n",
      "Job Run State: SUCCEEDED\n",
      "CPU times: user 335 ms, sys: 24.3 ms, total: 359 ms\n",
      "Wall time: 24min 22s\n"
     ]
    }
   ],
   "source": [
    "%%time\n",
    "\n",
    "import time\n",
    "\n",
    "response = db.list_job_runs(Name=job_name)\n",
    "\n",
    "while response['JobRuns'][0]['State'] == 'RUNNING':\n",
    "    response = db.list_job_runs(Name=job_name)\n",
    "    status = response['JobRuns'][0]['State']\n",
    "    print('Job Run State: {}'.format(status))\n",
    "    time.sleep(15)"
   ]
  },
  {
   "cell_type": "markdown",
   "metadata": {},
   "source": [
    "# Review S3 Bucket With CSV File"
   ]
  },
  {
   "cell_type": "code",
   "execution_count": 37,
   "metadata": {},
   "outputs": [
    {
     "data": {
      "text/html": [
       "<b>Review <a target=\"blank\" href=\"https://console.aws.amazon.com/s3/buckets/sagemaker-us-east-1-231218423789?region=us-east-1&prefix=databrew/\">S3 Bucket</a></b>"
      ],
      "text/plain": [
       "<IPython.core.display.HTML object>"
      ]
     },
     "metadata": {},
     "output_type": "display_data"
    }
   ],
   "source": [
    "from IPython.core.display import display, HTML\n",
    "\n",
    "display(HTML('<b>Review <a target=\"blank\" href=\"https://console.aws.amazon.com/s3/buckets/{}?region={}&prefix={}\">S3 Bucket</a></b>'.format(output_bucket, region, output_key)))"
   ]
  },
  {
   "cell_type": "markdown",
   "metadata": {},
   "source": [
    "# Show the CSV Files"
   ]
  },
  {
   "cell_type": "code",
   "execution_count": 50,
   "metadata": {},
   "outputs": [
    {
     "name": "stdout",
     "output_type": "stream",
     "text": [
      "amazon-customer-reviews-dataset-recipe-job_part00000.csv\n"
     ]
    }
   ],
   "source": [
    "part_file='{}_part00000.csv'.format(job_name)\n",
    "print(part_file)"
   ]
  },
  {
   "cell_type": "code",
   "execution_count": 51,
   "metadata": {},
   "outputs": [
    {
     "name": "stdout",
     "output_type": "stream",
     "text": [
      "sagemaker-us-east-1-231218423789/databrew/\n"
     ]
    }
   ],
   "source": [
    "s3_output_bucket='{}/{}'.format(output_bucket, output_key)\n",
    "print(s3_output_bucket)"
   ]
  },
  {
   "cell_type": "code",
   "execution_count": 47,
   "metadata": {},
   "outputs": [
    {
     "name": "stdout",
     "output_type": "stream",
     "text": [
      "download: s3://sagemaker-us-east-1-231218423789/databrew/amazon-customer-reviews-dataset-recipe-job_part00000.csv to ./amazon-customer-reviews-dataset-recipe-job_part00000.csv\n"
     ]
    }
   ],
   "source": [
    "!aws s3 cp s3://$s3_output_bucket$part_file ./"
   ]
  },
  {
   "cell_type": "code",
   "execution_count": 48,
   "metadata": {},
   "outputs": [],
   "source": [
    "import csv\n",
    "\n",
    "df_reviews = pd.read_csv('./amazon-customer-reviews-dataset-recipe-job_part00000.csv')"
   ]
  },
  {
   "cell_type": "code",
   "execution_count": 49,
   "metadata": {},
   "outputs": [
    {
     "data": {
      "text/html": [
       "<div>\n",
       "<style scoped>\n",
       "    .dataframe tbody tr th:only-of-type {\n",
       "        vertical-align: middle;\n",
       "    }\n",
       "\n",
       "    .dataframe tbody tr th {\n",
       "        vertical-align: top;\n",
       "    }\n",
       "\n",
       "    .dataframe thead th {\n",
       "        text-align: right;\n",
       "    }\n",
       "</style>\n",
       "<table border=\"1\" class=\"dataframe\">\n",
       "  <thead>\n",
       "    <tr style=\"text-align: right;\">\n",
       "      <th></th>\n",
       "      <th>star_rating</th>\n",
       "      <th>review_body</th>\n",
       "    </tr>\n",
       "  </thead>\n",
       "  <tbody>\n",
       "    <tr>\n",
       "      <th>0</th>\n",
       "      <td>5</td>\n",
       "      <td>After attending a few Qigong classes, I wanted...</td>\n",
       "    </tr>\n",
       "    <tr>\n",
       "      <th>1</th>\n",
       "      <td>4</td>\n",
       "      <td>Krauss traces the remarkable transformation in...</td>\n",
       "    </tr>\n",
       "    <tr>\n",
       "      <th>2</th>\n",
       "      <td>4</td>\n",
       "      <td>Rebecca, a dental hygienist, receives a call a...</td>\n",
       "    </tr>\n",
       "    <tr>\n",
       "      <th>3</th>\n",
       "      <td>5</td>\n",
       "      <td>\\\\\"BARED TO YOU\\\\\" is a sizzling, red-hot pass...</td>\n",
       "    </tr>\n",
       "    <tr>\n",
       "      <th>4</th>\n",
       "      <td>5</td>\n",
       "      <td>Good characters and plot line. I spent a pleas...</td>\n",
       "    </tr>\n",
       "  </tbody>\n",
       "</table>\n",
       "</div>"
      ],
      "text/plain": [
       "   star_rating                                        review_body\n",
       "0            5  After attending a few Qigong classes, I wanted...\n",
       "1            4  Krauss traces the remarkable transformation in...\n",
       "2            4  Rebecca, a dental hygienist, receives a call a...\n",
       "3            5  \\\\\"BARED TO YOU\\\\\" is a sizzling, red-hot pass...\n",
       "4            5  Good characters and plot line. I spent a pleas..."
      ]
     },
     "execution_count": 49,
     "metadata": {},
     "output_type": "execute_result"
    }
   ],
   "source": [
    "df_reviews.head()"
   ]
  }
 ],
 "metadata": {
  "instance_type": "ml.t3.medium",
  "kernelspec": {
   "display_name": "conda_python3",
   "language": "python",
   "name": "conda_python3"
  },
  "language_info": {
   "codemirror_mode": {
    "name": "ipython",
    "version": 3
   },
   "file_extension": ".py",
   "mimetype": "text/x-python",
   "name": "python",
   "nbconvert_exporter": "python",
   "pygments_lexer": "ipython3",
   "version": "3.6.10"
  }
 },
 "nbformat": 4,
 "nbformat_minor": 4
}
