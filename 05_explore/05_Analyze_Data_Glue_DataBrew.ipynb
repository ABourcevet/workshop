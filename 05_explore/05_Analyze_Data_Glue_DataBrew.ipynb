{
 "cells": [
  {
   "cell_type": "markdown",
   "metadata": {},
   "source": [
    "# Amazon Glue DataBrew"
   ]
  },
  {
   "cell_type": "markdown",
   "metadata": {},
   "source": [
    "# Prerequisites"
   ]
  },
  {
   "cell_type": "markdown",
   "metadata": {},
   "source": [
    "Add The Following Trust Relationship To Your IAM Role\n",
    "\n",
    "```\n",
    "    {\n",
    "      \"Sid\": \"\",\n",
    "      \"Effect\": \"Allow\",\n",
    "      \"Principal\": {\n",
    "        \"Service\": \"databrew.amazonaws.com\"\n",
    "      },\n",
    "      \"Action\": \"sts:AssumeRole\"\n",
    "    }\n",
    "```\n",
    "\n",
    "and Access Policy For Glue DataBrew."
   ]
  },
  {
   "cell_type": "markdown",
   "metadata": {},
   "source": [
    "# Imports and Settings"
   ]
  },
  {
   "cell_type": "code",
   "execution_count": 1,
   "metadata": {},
   "outputs": [
    {
     "name": "stdout",
     "output_type": "stream",
     "text": [
      "231218423789\n",
      "us-east-1\n",
      "sagemaker-us-east-1-231218423789\n",
      "arn:aws:iam::231218423789:role/TeamRole\n"
     ]
    }
   ],
   "source": [
    "import boto3\n",
    "import json\n",
    "import sagemaker\n",
    "import pandas as pd\n",
    "from botocore.exceptions import ClientError\n",
    "\n",
    "session = boto3.session.Session()\n",
    "sts = session.client(service_name='sts')\n",
    "account_id = sts.get_caller_identity().get('Account') \n",
    "print(account_id)\n",
    "\n",
    "region = session.region_name\n",
    "print(region)\n",
    "\n",
    "sagemaker_session = sagemaker.Session()\n",
    "\n",
    "bucket = sagemaker_session.default_bucket()\n",
    "print(bucket)\n",
    "\n",
    "role = sagemaker.get_execution_role()\n",
    "print(role)\n",
    "\n",
    "db = boto3.client('databrew')"
   ]
  },
  {
   "cell_type": "markdown",
   "metadata": {},
   "source": [
    "# Create Dataset"
   ]
  },
  {
   "cell_type": "code",
   "execution_count": 4,
   "metadata": {},
   "outputs": [],
   "source": [
    "import time\n",
    "timestamp = int(time.time())"
   ]
  },
  {
   "cell_type": "code",
   "execution_count": 5,
   "metadata": {},
   "outputs": [],
   "source": [
    "dataset_name = 'reviews-dataset-{}'.format(timestamp)\n",
    "input_bucket='amazon-reviews-pds'\n",
    "key='parquet/'"
   ]
  },
  {
   "cell_type": "code",
   "execution_count": 6,
   "metadata": {},
   "outputs": [
    {
     "name": "stdout",
     "output_type": "stream",
     "text": [
      "{\n",
      "    \"Name\": \"reviews-dataset-1610754714\",\n",
      "    \"ResponseMetadata\": {\n",
      "        \"HTTPHeaders\": {\n",
      "            \"connection\": \"keep-alive\",\n",
      "            \"content-length\": \"37\",\n",
      "            \"content-type\": \"application/json\",\n",
      "            \"date\": \"Fri, 15 Jan 2021 23:51:54 GMT\",\n",
      "            \"via\": \"1.1 ddeb8679359f033dad405557c487bfdd.cloudfront.net (CloudFront)\",\n",
      "            \"x-amz-apigw-id\": \"ZNuYKHknoAMFxsA=\",\n",
      "            \"x-amz-cf-id\": \"xtehPGxwnR94PJm0Ki0OoqVnuYfWu6CmXSF1vYOgCo9VjpF5ZLoKFw==\",\n",
      "            \"x-amz-cf-pop\": \"IAD89-C3\",\n",
      "            \"x-amzn-requestid\": \"f3f71469-de19-4648-b686-49d5964f34e9\",\n",
      "            \"x-amzn-trace-id\": \"Root=1-60022a9a-0c1998157756f3c45e3d986e\",\n",
      "            \"x-cache\": \"Miss from cloudfront\"\n",
      "        },\n",
      "        \"HTTPStatusCode\": 200,\n",
      "        \"RequestId\": \"f3f71469-de19-4648-b686-49d5964f34e9\",\n",
      "        \"RetryAttempts\": 0\n",
      "    }\n",
      "}\n"
     ]
    }
   ],
   "source": [
    "response = db.create_dataset(\n",
    "    Name=dataset_name,\n",
    "    Input={\n",
    "        'S3InputDefinition': {\n",
    "            'Bucket': input_bucket,\n",
    "            'Key': key\n",
    "        },\n",
    "    },\n",
    ")\n",
    "\n",
    "print(json.dumps(response, indent=4, sort_keys=True, default=str))"
   ]
  },
  {
   "cell_type": "code",
   "execution_count": 7,
   "metadata": {},
   "outputs": [
    {
     "data": {
      "text/html": [
       "<b>Review <a target=\"blank\" href=\"https://console.aws.amazon.com/databrew/home?region=us-east-1#dataset-details?dataset=reviews-dataset-1610754714&tab=preview\">Dataset</a></b>"
      ],
      "text/plain": [
       "<IPython.core.display.HTML object>"
      ]
     },
     "metadata": {},
     "output_type": "display_data"
    }
   ],
   "source": [
    "from IPython.core.display import display, HTML\n",
    "\n",
    "display(HTML('<b>Review <a target=\"blank\" href=\"https://console.aws.amazon.com/databrew/home?region={}#dataset-details?dataset={}&tab=preview\">Dataset</a></b>'.format(region, dataset_name)))\n"
   ]
  },
  {
   "cell_type": "code",
   "execution_count": 8,
   "metadata": {
    "scrolled": true
   },
   "outputs": [
    {
     "name": "stdout",
     "output_type": "stream",
     "text": [
      "{\n",
      "    \"CreateDate\": \"2021-01-15 23:51:54.657000+00:00\",\n",
      "    \"CreatedBy\": \"arn:aws:sts::231218423789:assumed-role/TeamRole/SageMaker\",\n",
      "    \"Input\": {\n",
      "        \"S3InputDefinition\": {\n",
      "            \"Bucket\": \"amazon-reviews-pds\",\n",
      "            \"Key\": \"parquet/\"\n",
      "        }\n",
      "    },\n",
      "    \"Name\": \"reviews-dataset-1610754714\",\n",
      "    \"ResourceArn\": \"arn:aws:databrew:us-east-1:231218423789:dataset/reviews-dataset-1610754714\",\n",
      "    \"ResponseMetadata\": {\n",
      "        \"HTTPHeaders\": {\n",
      "            \"connection\": \"keep-alive\",\n",
      "            \"content-length\": \"526\",\n",
      "            \"content-type\": \"application/json\",\n",
      "            \"date\": \"Fri, 15 Jan 2021 23:51:54 GMT\",\n",
      "            \"via\": \"1.1 ddeb8679359f033dad405557c487bfdd.cloudfront.net (CloudFront)\",\n",
      "            \"x-amz-apigw-id\": \"ZNuYMFtfoAMFhRw=\",\n",
      "            \"x-amz-cf-id\": \"0etzAXUzU97jWopkMuFoW51Z5ZUo1VG1KLic19SsM4w5_dSWXSGEFQ==\",\n",
      "            \"x-amz-cf-pop\": \"IAD89-C3\",\n",
      "            \"x-amzn-requestid\": \"6207d1d4-bedc-4d0a-afd4-1c600e6bf566\",\n",
      "            \"x-amzn-trace-id\": \"Root=1-60022a9a-286506d53ea5ea89373a989a\",\n",
      "            \"x-cache\": \"Miss from cloudfront\"\n",
      "        },\n",
      "        \"HTTPStatusCode\": 200,\n",
      "        \"RequestId\": \"6207d1d4-bedc-4d0a-afd4-1c600e6bf566\",\n",
      "        \"RetryAttempts\": 0\n",
      "    },\n",
      "    \"Source\": \"S3\",\n",
      "    \"Tags\": {}\n",
      "}\n"
     ]
    }
   ],
   "source": [
    "response = db.describe_dataset(\n",
    "    Name=dataset_name\n",
    ")\n",
    "\n",
    "print(json.dumps(response, indent=4, sort_keys=True, default=str))"
   ]
  },
  {
   "cell_type": "markdown",
   "metadata": {},
   "source": [
    "## Get Dataset Resource ARN"
   ]
  },
  {
   "cell_type": "code",
   "execution_count": 9,
   "metadata": {},
   "outputs": [
    {
     "name": "stdout",
     "output_type": "stream",
     "text": [
      "reviews-dataset-1610754714\n",
      "arn:aws:databrew:us-east-1:231218423789:dataset/reviews-dataset-1610754714\n"
     ]
    }
   ],
   "source": [
    "dataset_arn = response['ResourceArn']\n",
    "print(dataset_name)\n",
    "print(dataset_arn)"
   ]
  },
  {
   "cell_type": "markdown",
   "metadata": {},
   "source": [
    "# Create Recipe"
   ]
  },
  {
   "cell_type": "code",
   "execution_count": 10,
   "metadata": {},
   "outputs": [],
   "source": [
    "recipe_name='reviews-dataset-recipe-{}'.format(timestamp)"
   ]
  },
  {
   "cell_type": "markdown",
   "metadata": {},
   "source": [
    "# View Recipe File"
   ]
  },
  {
   "cell_type": "code",
   "execution_count": 12,
   "metadata": {
    "scrolled": true
   },
   "outputs": [
    {
     "name": "stdout",
     "output_type": "stream",
     "text": [
      "[\n",
      "  {\n",
      "    \u001b[94m\"Action\"\u001b[39;49;00m: {\n",
      "      \u001b[94m\"Operation\"\u001b[39;49;00m: \u001b[33m\"DELETE\"\u001b[39;49;00m,\n",
      "      \u001b[94m\"Parameters\"\u001b[39;49;00m: {\n",
      "        \u001b[94m\"sourceColumns\"\u001b[39;49;00m: \u001b[33m\"[\\\"marketplace\\\",\\\"customer_id\\\",\\\"review_id\\\",\\\"product_id\\\",\\\"product_parent\\\",\\\"product_title\\\",\\\"helpful_votes\\\",\\\"total_votes\\\",\\\"vine\\\",\\\"verified_purchase\\\",\\\"review_headline\\\",\\\"review_date\\\",\\\"year\\\"]\"\u001b[39;49;00m\n",
      "      }\n",
      "    }\n",
      "  }\n",
      "]\n"
     ]
    }
   ],
   "source": [
    "!pygmentize ./amazon-reviews-dataset-recipe.json"
   ]
  },
  {
   "cell_type": "markdown",
   "metadata": {},
   "source": [
    "# Load Recipe File"
   ]
  },
  {
   "cell_type": "code",
   "execution_count": 13,
   "metadata": {
    "scrolled": true
   },
   "outputs": [
    {
     "name": "stdout",
     "output_type": "stream",
     "text": [
      "[\n",
      "    {\n",
      "        \"Action\": {\n",
      "            \"Operation\": \"DELETE\",\n",
      "            \"Parameters\": {\n",
      "                \"sourceColumns\": \"[\\\"marketplace\\\",\\\"customer_id\\\",\\\"review_id\\\",\\\"product_id\\\",\\\"product_parent\\\",\\\"product_title\\\",\\\"helpful_votes\\\",\\\"total_votes\\\",\\\"vine\\\",\\\"verified_purchase\\\",\\\"review_headline\\\",\\\"review_date\\\",\\\"year\\\"]\"\n",
      "            }\n",
      "        }\n",
      "    }\n",
      "]\n"
     ]
    }
   ],
   "source": [
    "# Read file\n",
    "with open('./amazon-reviews-dataset-recipe.json', 'r') as file:\n",
    "    file_object=file.read()\n",
    "\n",
    "# Parse file\n",
    "recipe_steps = json.loads(file_object)\n",
    "\n",
    "print(json.dumps(recipe_steps, indent=4, sort_keys=True, default=str))"
   ]
  },
  {
   "cell_type": "markdown",
   "metadata": {},
   "source": [
    "# Create Recipe From File"
   ]
  },
  {
   "cell_type": "code",
   "execution_count": 14,
   "metadata": {},
   "outputs": [],
   "source": [
    "response = db.create_recipe(\n",
    "    Description='Amazon Customer Reviews Recipe',\n",
    "    Name=recipe_name,\n",
    "    Steps=recipe_steps\n",
    ")"
   ]
  },
  {
   "cell_type": "code",
   "execution_count": 15,
   "metadata": {},
   "outputs": [
    {
     "name": "stdout",
     "output_type": "stream",
     "text": [
      "{\n",
      "    \"Name\": \"reviews-dataset-recipe-1610754714\",\n",
      "    \"ResponseMetadata\": {\n",
      "        \"HTTPHeaders\": {\n",
      "            \"connection\": \"keep-alive\",\n",
      "            \"content-length\": \"44\",\n",
      "            \"content-type\": \"application/json\",\n",
      "            \"date\": \"Fri, 15 Jan 2021 23:52:01 GMT\",\n",
      "            \"via\": \"1.1 ddeb8679359f033dad405557c487bfdd.cloudfront.net (CloudFront)\",\n",
      "            \"x-amz-apigw-id\": \"ZNuZQHDCIAMFgSw=\",\n",
      "            \"x-amz-cf-id\": \"lEPSLWUPgIV8IEnRvoQefpkJrGfXk1RlIXrSSiqZV1C3Mzj6jwx2ew==\",\n",
      "            \"x-amz-cf-pop\": \"IAD89-C3\",\n",
      "            \"x-amzn-requestid\": \"7c01248e-e790-4afd-9a43-82f81053384d\",\n",
      "            \"x-amzn-trace-id\": \"Root=1-60022aa1-4b8469312f58f825058b0f09\",\n",
      "            \"x-cache\": \"Miss from cloudfront\"\n",
      "        },\n",
      "        \"HTTPStatusCode\": 200,\n",
      "        \"RequestId\": \"7c01248e-e790-4afd-9a43-82f81053384d\",\n",
      "        \"RetryAttempts\": 0\n",
      "    }\n",
      "}\n"
     ]
    }
   ],
   "source": [
    "print(json.dumps(response, indent=4, sort_keys=True, default=str))"
   ]
  },
  {
   "cell_type": "markdown",
   "metadata": {},
   "source": [
    "## Create Project"
   ]
  },
  {
   "cell_type": "code",
   "execution_count": 16,
   "metadata": {},
   "outputs": [],
   "source": [
    "project_name = 'reviews-dataset-project-{}'.format(timestamp)"
   ]
  },
  {
   "cell_type": "code",
   "execution_count": 18,
   "metadata": {},
   "outputs": [],
   "source": [
    "response = db.create_project(\n",
    "    DatasetName=dataset_name,\n",
    "    Name=project_name,\n",
    "    RecipeName=recipe_name,\n",
    "    Sample={\n",
    "        'Size': 500,\n",
    "        'Type': 'FIRST_N'\n",
    "    },\n",
    "    RoleArn=role\n",
    ")"
   ]
  },
  {
   "cell_type": "code",
   "execution_count": 19,
   "metadata": {},
   "outputs": [
    {
     "name": "stdout",
     "output_type": "stream",
     "text": [
      "{\n",
      "    \"Name\": \"reviews-dataset-project-1610754714\",\n",
      "    \"ResponseMetadata\": {\n",
      "        \"HTTPHeaders\": {\n",
      "            \"connection\": \"keep-alive\",\n",
      "            \"content-length\": \"45\",\n",
      "            \"content-type\": \"application/json\",\n",
      "            \"date\": \"Fri, 15 Jan 2021 23:52:18 GMT\",\n",
      "            \"via\": \"1.1 ddeb8679359f033dad405557c487bfdd.cloudfront.net (CloudFront)\",\n",
      "            \"x-amz-apigw-id\": \"ZNubzGrGIAMFvbQ=\",\n",
      "            \"x-amz-cf-id\": \"ohszVYJmnea5zunVopzCxGsBECoe--oSl9AVts7H0Dfgxj7viAkzKg==\",\n",
      "            \"x-amz-cf-pop\": \"IAD89-C3\",\n",
      "            \"x-amzn-requestid\": \"7d89a2fc-681b-47b0-b544-b0a481ac7998\",\n",
      "            \"x-amzn-trace-id\": \"Root=1-60022ab1-7e8c68ba6b53ee6c6009e93b\",\n",
      "            \"x-cache\": \"Miss from cloudfront\"\n",
      "        },\n",
      "        \"HTTPStatusCode\": 200,\n",
      "        \"RequestId\": \"7d89a2fc-681b-47b0-b544-b0a481ac7998\",\n",
      "        \"RetryAttempts\": 0\n",
      "    }\n",
      "}\n"
     ]
    }
   ],
   "source": [
    "print(json.dumps(response, indent=4, sort_keys=True, default=str))"
   ]
  },
  {
   "cell_type": "code",
   "execution_count": 20,
   "metadata": {},
   "outputs": [
    {
     "data": {
      "text/html": [
       "<b>Review <a target=\"blank\" href=\"https://console.aws.amazon.com/databrew/home?region=us-east-1#project-workspace?project=reviews-dataset-project-1610754714&view=grid\">Project</a></b>"
      ],
      "text/plain": [
       "<IPython.core.display.HTML object>"
      ]
     },
     "metadata": {},
     "output_type": "display_data"
    }
   ],
   "source": [
    "from IPython.core.display import display, HTML\n",
    "\n",
    "display(HTML('<b>Review <a target=\"blank\" href=\"https://console.aws.amazon.com/databrew/home?region={}#project-workspace?project={}&view=grid\">Project</a></b>'.format(region, project_name)))\n"
   ]
  },
  {
   "cell_type": "markdown",
   "metadata": {},
   "source": [
    "# Create Recipe Job"
   ]
  },
  {
   "cell_type": "code",
   "execution_count": 22,
   "metadata": {},
   "outputs": [],
   "source": [
    "job_name = 'reviews-dataset-recipe-job-{}'.format(timestamp)\n",
    "output_bucket = bucket\n",
    "output_key = 'databrew/'"
   ]
  },
  {
   "cell_type": "markdown",
   "metadata": {},
   "source": [
    "# TODO: Add Data Brew Trust Relation to IAM Role"
   ]
  },
  {
   "cell_type": "code",
   "execution_count": 23,
   "metadata": {},
   "outputs": [
    {
     "name": "stdout",
     "output_type": "stream",
     "text": [
      "{\n",
      "    \"Name\": \"reviews-dataset-recipe-job-1610754714\",\n",
      "    \"ResponseMetadata\": {\n",
      "        \"HTTPHeaders\": {\n",
      "            \"connection\": \"keep-alive\",\n",
      "            \"content-length\": \"48\",\n",
      "            \"content-type\": \"application/json\",\n",
      "            \"date\": \"Fri, 15 Jan 2021 23:52:24 GMT\",\n",
      "            \"via\": \"1.1 ddeb8679359f033dad405557c487bfdd.cloudfront.net (CloudFront)\",\n",
      "            \"x-amz-apigw-id\": \"ZNucvGHjoAMFkqA=\",\n",
      "            \"x-amz-cf-id\": \"yeKVRvl5myfGp4V4rFjdFxuZy3R25BloW8UuvYLH39nIadfePxpcsA==\",\n",
      "            \"x-amz-cf-pop\": \"IAD89-C3\",\n",
      "            \"x-amzn-requestid\": \"d5af0969-a285-4e83-9da8-1fc40cf6e246\",\n",
      "            \"x-amzn-trace-id\": \"Root=1-60022ab7-71a2f620576e278d697cf720\",\n",
      "            \"x-cache\": \"Miss from cloudfront\"\n",
      "        },\n",
      "        \"HTTPStatusCode\": 200,\n",
      "        \"RequestId\": \"d5af0969-a285-4e83-9da8-1fc40cf6e246\",\n",
      "        \"RetryAttempts\": 0\n",
      "    }\n",
      "}\n"
     ]
    }
   ],
   "source": [
    "response = db.create_recipe_job(\n",
    "#    DatasetName=dataset_name,\n",
    "    Name=job_name,\n",
    "    LogSubscription='ENABLE',\n",
    "    MaxCapacity=10,\n",
    "    MaxRetries=0,\n",
    "    Outputs=[\n",
    "        {\n",
    "            'Format': 'CSV',\n",
    "            'PartitionColumns': [],\n",
    "            'Location': {\n",
    "                'Bucket': output_bucket,\n",
    "                'Key': output_key\n",
    "            },\n",
    "            'Overwrite': True\n",
    "        },\n",
    "    ],\n",
    "    ProjectName=project_name,\n",
    "#     RecipeReference={\n",
    "#         'Name': recipe_name\n",
    "#     },\n",
    "    RoleArn=role,\n",
    "    Timeout=2880\n",
    ")\n",
    "\n",
    "print(json.dumps(response, indent=4, sort_keys=True, default=str))"
   ]
  },
  {
   "cell_type": "code",
   "execution_count": 24,
   "metadata": {},
   "outputs": [
    {
     "data": {
      "text/html": [
       "<b>Review <a target=\"blank\" href=\"https://console.aws.amazon.com/databrew/home?region=us-east-1#job-details?job=reviews-dataset-recipe-job-1610754714&tab=history\">Recipe Job</a></b>"
      ],
      "text/plain": [
       "<IPython.core.display.HTML object>"
      ]
     },
     "metadata": {},
     "output_type": "display_data"
    }
   ],
   "source": [
    "from IPython.core.display import display, HTML\n",
    "\n",
    "display(HTML('<b>Review <a target=\"blank\" href=\"https://console.aws.amazon.com/databrew/home?region={}#job-details?job={}&tab=history\">Recipe Job</a></b>'.format(region, job_name)))\n"
   ]
  },
  {
   "cell_type": "markdown",
   "metadata": {},
   "source": [
    "# Start Job Run"
   ]
  },
  {
   "cell_type": "code",
   "execution_count": 25,
   "metadata": {},
   "outputs": [
    {
     "name": "stdout",
     "output_type": "stream",
     "text": [
      "{\n",
      "    \"ResponseMetadata\": {\n",
      "        \"HTTPHeaders\": {\n",
      "            \"connection\": \"keep-alive\",\n",
      "            \"content-length\": \"79\",\n",
      "            \"content-type\": \"application/json\",\n",
      "            \"date\": \"Fri, 15 Jan 2021 23:52:25 GMT\",\n",
      "            \"via\": \"1.1 ddeb8679359f033dad405557c487bfdd.cloudfront.net (CloudFront)\",\n",
      "            \"x-amz-apigw-id\": \"ZNuc2FUkoAMFwHg=\",\n",
      "            \"x-amz-cf-id\": \"82yg5fH4R_3qXvVqenRKhTQpUprq7cvlzU09yz6zdcooX5tsI9hsEw==\",\n",
      "            \"x-amz-cf-pop\": \"IAD89-C3\",\n",
      "            \"x-amzn-requestid\": \"a9da9a47-8e21-4c8d-b411-ff6fa97fb570\",\n",
      "            \"x-amzn-trace-id\": \"Root=1-60022ab8-34825f8f7f077fc465b67b99\",\n",
      "            \"x-cache\": \"Miss from cloudfront\"\n",
      "        },\n",
      "        \"HTTPStatusCode\": 200,\n",
      "        \"RequestId\": \"a9da9a47-8e21-4c8d-b411-ff6fa97fb570\",\n",
      "        \"RetryAttempts\": 0\n",
      "    },\n",
      "    \"RunId\": \"db_5ae96799210402b4091914ee6a02232b4ef63c180bb8e57f1403cf7bf06fa8a3\"\n",
      "}\n"
     ]
    }
   ],
   "source": [
    "response = db.start_job_run(\n",
    "    Name=job_name\n",
    ")\n",
    "\n",
    "print(json.dumps(response, indent=4, sort_keys=True, default=str))"
   ]
  },
  {
   "cell_type": "markdown",
   "metadata": {},
   "source": [
    "# Get Job Run ID"
   ]
  },
  {
   "cell_type": "code",
   "execution_count": 26,
   "metadata": {},
   "outputs": [
    {
     "name": "stdout",
     "output_type": "stream",
     "text": [
      "db_5ae96799210402b4091914ee6a02232b4ef63c180bb8e57f1403cf7bf06fa8a3\n"
     ]
    }
   ],
   "source": [
    "job_run_id = response['RunId']\n",
    "print(job_run_id)"
   ]
  },
  {
   "cell_type": "markdown",
   "metadata": {},
   "source": [
    "# List Job Run"
   ]
  },
  {
   "cell_type": "code",
   "execution_count": 27,
   "metadata": {},
   "outputs": [
    {
     "name": "stdout",
     "output_type": "stream",
     "text": [
      "{\n",
      "    \"JobRuns\": [\n",
      "        {\n",
      "            \"Attempt\": 0,\n",
      "            \"DatasetName\": \"reviews-dataset-1610754714\",\n",
      "            \"ExecutionTime\": 0,\n",
      "            \"JobName\": \"reviews-dataset-recipe-job-1610754714\",\n",
      "            \"LogGroupName\": \"/aws-glue-databrew/jobs-reviews-dataset-recipe-job-1610754714\",\n",
      "            \"LogSubscription\": \"ENABLE\",\n",
      "            \"Outputs\": [\n",
      "                {\n",
      "                    \"Format\": \"CSV\",\n",
      "                    \"Location\": {\n",
      "                        \"Bucket\": \"sagemaker-us-east-1-231218423789\",\n",
      "                        \"Key\": \"databrew/\"\n",
      "                    },\n",
      "                    \"Overwrite\": true,\n",
      "                    \"PartitionColumns\": []\n",
      "                }\n",
      "            ],\n",
      "            \"RecipeReference\": {\n",
      "                \"Name\": \"reviews-dataset-recipe-1610754714\",\n",
      "                \"RecipeVersion\": \"LATEST_WORKING\"\n",
      "            },\n",
      "            \"RunId\": \"db_5ae96799210402b4091914ee6a02232b4ef63c180bb8e57f1403cf7bf06fa8a3\",\n",
      "            \"StartedBy\": \"arn:aws:sts::231218423789:assumed-role/TeamRole/SageMaker\",\n",
      "            \"StartedOn\": \"2021-01-15 23:52:25.578000+00:00\",\n",
      "            \"State\": \"RUNNING\"\n",
      "        }\n",
      "    ],\n",
      "    \"ResponseMetadata\": {\n",
      "        \"HTTPHeaders\": {\n",
      "            \"connection\": \"keep-alive\",\n",
      "            \"content-length\": \"782\",\n",
      "            \"content-type\": \"application/json\",\n",
      "            \"date\": \"Fri, 15 Jan 2021 23:52:26 GMT\",\n",
      "            \"via\": \"1.1 ddeb8679359f033dad405557c487bfdd.cloudfront.net (CloudFront)\",\n",
      "            \"x-amz-apigw-id\": \"ZNudFHNAoAMFVkQ=\",\n",
      "            \"x-amz-cf-id\": \"DnWyviXijWQwGcFsF6W0ftA5kSJyY0kWJz5KPPjp4J14CRU9ANomkQ==\",\n",
      "            \"x-amz-cf-pop\": \"IAD89-C3\",\n",
      "            \"x-amzn-requestid\": \"4aeff9e1-5f4a-46c8-8e99-db4c7f413c42\",\n",
      "            \"x-amzn-trace-id\": \"Root=1-60022aba-42ad00276f4106a527f1212a\",\n",
      "            \"x-cache\": \"Miss from cloudfront\"\n",
      "        },\n",
      "        \"HTTPStatusCode\": 200,\n",
      "        \"RequestId\": \"4aeff9e1-5f4a-46c8-8e99-db4c7f413c42\",\n",
      "        \"RetryAttempts\": 0\n",
      "    }\n",
      "}\n"
     ]
    }
   ],
   "source": [
    "response = db.list_job_runs(\n",
    "    Name=job_name\n",
    ")\n",
    "\n",
    "print(json.dumps(response, indent=4, sort_keys=True, default=str))"
   ]
  },
  {
   "cell_type": "code",
   "execution_count": 28,
   "metadata": {},
   "outputs": [
    {
     "name": "stdout",
     "output_type": "stream",
     "text": [
      "RUNNING\n"
     ]
    }
   ],
   "source": [
    "status = response['JobRuns'][0]['State']\n",
    "print(status)"
   ]
  },
  {
   "cell_type": "markdown",
   "metadata": {},
   "source": [
    "# _Wait For The Job Run To Complete. The Job Runs For About 30min._"
   ]
  },
  {
   "cell_type": "code",
   "execution_count": 29,
   "metadata": {
    "scrolled": true
   },
   "outputs": [
    {
     "name": "stdout",
     "output_type": "stream",
     "text": [
      "Job Run State: RUNNING\n",
      "Job Run State: RUNNING\n",
      "Job Run State: RUNNING\n",
      "Job Run State: RUNNING\n",
      "Job Run State: RUNNING\n",
      "Job Run State: RUNNING\n",
      "Job Run State: RUNNING\n",
      "Job Run State: RUNNING\n",
      "Job Run State: RUNNING\n",
      "Job Run State: RUNNING\n",
      "Job Run State: RUNNING\n",
      "Job Run State: RUNNING\n",
      "Job Run State: RUNNING\n",
      "Job Run State: RUNNING\n",
      "Job Run State: RUNNING\n",
      "Job Run State: RUNNING\n",
      "Job Run State: RUNNING\n",
      "Job Run State: RUNNING\n",
      "Job Run State: RUNNING\n",
      "Job Run State: RUNNING\n",
      "Job Run State: RUNNING\n",
      "Job Run State: RUNNING\n",
      "Job Run State: RUNNING\n",
      "Job Run State: RUNNING\n",
      "Job Run State: RUNNING\n",
      "Job Run State: RUNNING\n",
      "Job Run State: RUNNING\n",
      "Job Run State: RUNNING\n",
      "Job Run State: RUNNING\n",
      "Job Run State: RUNNING\n",
      "Job Run State: RUNNING\n",
      "Job Run State: RUNNING\n",
      "Job Run State: RUNNING\n",
      "Job Run State: RUNNING\n",
      "Job Run State: RUNNING\n",
      "Job Run State: RUNNING\n",
      "Job Run State: RUNNING\n",
      "Job Run State: RUNNING\n",
      "Job Run State: RUNNING\n",
      "Job Run State: RUNNING\n",
      "Job Run State: RUNNING\n",
      "Job Run State: RUNNING\n",
      "Job Run State: RUNNING\n",
      "Job Run State: RUNNING\n",
      "Job Run State: RUNNING\n",
      "Job Run State: RUNNING\n",
      "Job Run State: RUNNING\n",
      "Job Run State: RUNNING\n",
      "Job Run State: RUNNING\n",
      "Job Run State: RUNNING\n",
      "Job Run State: RUNNING\n",
      "Job Run State: RUNNING\n",
      "Job Run State: RUNNING\n",
      "Job Run State: RUNNING\n",
      "Job Run State: RUNNING\n",
      "Job Run State: RUNNING\n",
      "Job Run State: RUNNING\n",
      "Job Run State: RUNNING\n",
      "Job Run State: RUNNING\n",
      "Job Run State: RUNNING\n",
      "Job Run State: RUNNING\n",
      "Job Run State: RUNNING\n",
      "Job Run State: RUNNING\n",
      "Job Run State: RUNNING\n",
      "Job Run State: RUNNING\n",
      "Job Run State: RUNNING\n",
      "Job Run State: RUNNING\n",
      "Job Run State: RUNNING\n",
      "Job Run State: RUNNING\n",
      "Job Run State: RUNNING\n",
      "Job Run State: RUNNING\n",
      "Job Run State: RUNNING\n",
      "Job Run State: RUNNING\n",
      "Job Run State: RUNNING\n",
      "Job Run State: RUNNING\n",
      "Job Run State: RUNNING\n",
      "Job Run State: RUNNING\n",
      "Job Run State: RUNNING\n",
      "Job Run State: RUNNING\n",
      "Job Run State: RUNNING\n",
      "Job Run State: RUNNING\n",
      "Job Run State: RUNNING\n",
      "Job Run State: RUNNING\n",
      "Job Run State: RUNNING\n",
      "Job Run State: RUNNING\n",
      "Job Run State: RUNNING\n",
      "Job Run State: RUNNING\n",
      "Job Run State: RUNNING\n",
      "Job Run State: RUNNING\n",
      "Job Run State: RUNNING\n",
      "Job Run State: RUNNING\n",
      "Job Run State: RUNNING\n",
      "Job Run State: RUNNING\n",
      "Job Run State: RUNNING\n",
      "Job Run State: RUNNING\n",
      "Job Run State: RUNNING\n",
      "Job Run State: SUCCEEDED\n",
      "CPU times: user 373 ms, sys: 54 ms, total: 427 ms\n",
      "Wall time: 24min 32s\n"
     ]
    }
   ],
   "source": [
    "%%time\n",
    "\n",
    "import time\n",
    "\n",
    "response = db.list_job_runs(Name=job_name)\n",
    "\n",
    "while response['JobRuns'][0]['State'] == 'RUNNING':\n",
    "    response = db.list_job_runs(Name=job_name)\n",
    "    status = response['JobRuns'][0]['State']\n",
    "    print('Job Run State: {}'.format(status))\n",
    "    time.sleep(15)"
   ]
  },
  {
   "cell_type": "markdown",
   "metadata": {},
   "source": [
    "# Review S3 Bucket With CSV File"
   ]
  },
  {
   "cell_type": "code",
   "execution_count": 30,
   "metadata": {},
   "outputs": [
    {
     "data": {
      "text/html": [
       "<b>Review <a target=\"blank\" href=\"https://console.aws.amazon.com/s3/buckets/sagemaker-us-east-1-231218423789?region=us-east-1&prefix=databrew/\">S3 Bucket</a></b>"
      ],
      "text/plain": [
       "<IPython.core.display.HTML object>"
      ]
     },
     "metadata": {},
     "output_type": "display_data"
    }
   ],
   "source": [
    "from IPython.core.display import display, HTML\n",
    "\n",
    "display(HTML('<b>Review <a target=\"blank\" href=\"https://console.aws.amazon.com/s3/buckets/{}?region={}&prefix={}\">S3 Bucket</a></b>'.format(output_bucket, region, output_key)))"
   ]
  },
  {
   "cell_type": "markdown",
   "metadata": {},
   "source": [
    "# Show the CSV Files"
   ]
  },
  {
   "cell_type": "code",
   "execution_count": 31,
   "metadata": {},
   "outputs": [
    {
     "name": "stdout",
     "output_type": "stream",
     "text": [
      "reviews-dataset-recipe-job-1610754714_part00000.csv\n"
     ]
    }
   ],
   "source": [
    "part_file='{}_part00000.csv'.format(job_name)\n",
    "print(part_file)"
   ]
  },
  {
   "cell_type": "code",
   "execution_count": 32,
   "metadata": {},
   "outputs": [
    {
     "name": "stdout",
     "output_type": "stream",
     "text": [
      "sagemaker-us-east-1-231218423789/databrew/\n"
     ]
    }
   ],
   "source": [
    "s3_output_bucket='{}/{}'.format(output_bucket, output_key)\n",
    "print(s3_output_bucket)"
   ]
  },
  {
   "cell_type": "code",
   "execution_count": 33,
   "metadata": {},
   "outputs": [
    {
     "name": "stdout",
     "output_type": "stream",
     "text": [
      "download: s3://sagemaker-us-east-1-231218423789/databrew/reviews-dataset-recipe-job-1610754714_part00000.csv to ./reviews-dataset-recipe-job-1610754714_part00000.csv\n"
     ]
    }
   ],
   "source": [
    "!aws s3 cp s3://$s3_output_bucket$part_file ./"
   ]
  },
  {
   "cell_type": "code",
   "execution_count": 34,
   "metadata": {},
   "outputs": [
    {
     "ename": "FileNotFoundError",
     "evalue": "[Errno 2] No such file or directory: './amazon-customer-reviews-dataset-recipe-job_part00000.csv'",
     "output_type": "error",
     "traceback": [
      "\u001b[0;31m---------------------------------------------------------------------------\u001b[0m",
      "\u001b[0;31mFileNotFoundError\u001b[0m                         Traceback (most recent call last)",
      "\u001b[0;32m<ipython-input-34-00c315e5f163>\u001b[0m in \u001b[0;36m<module>\u001b[0;34m\u001b[0m\n\u001b[1;32m      1\u001b[0m \u001b[0;32mimport\u001b[0m \u001b[0mcsv\u001b[0m\u001b[0;34m\u001b[0m\u001b[0;34m\u001b[0m\u001b[0m\n\u001b[1;32m      2\u001b[0m \u001b[0;34m\u001b[0m\u001b[0m\n\u001b[0;32m----> 3\u001b[0;31m \u001b[0mdf_reviews\u001b[0m \u001b[0;34m=\u001b[0m \u001b[0mpd\u001b[0m\u001b[0;34m.\u001b[0m\u001b[0mread_csv\u001b[0m\u001b[0;34m(\u001b[0m\u001b[0;34m'./amazon-customer-reviews-dataset-recipe-job_part00000.csv'\u001b[0m\u001b[0;34m)\u001b[0m\u001b[0;34m\u001b[0m\u001b[0;34m\u001b[0m\u001b[0m\n\u001b[0m",
      "\u001b[0;32m/opt/conda/lib/python3.7/site-packages/pandas/io/parsers.py\u001b[0m in \u001b[0;36mread_csv\u001b[0;34m(filepath_or_buffer, sep, delimiter, header, names, index_col, usecols, squeeze, prefix, mangle_dupe_cols, dtype, engine, converters, true_values, false_values, skipinitialspace, skiprows, skipfooter, nrows, na_values, keep_default_na, na_filter, verbose, skip_blank_lines, parse_dates, infer_datetime_format, keep_date_col, date_parser, dayfirst, cache_dates, iterator, chunksize, compression, thousands, decimal, lineterminator, quotechar, quoting, doublequote, escapechar, comment, encoding, dialect, error_bad_lines, warn_bad_lines, delim_whitespace, low_memory, memory_map, float_precision, storage_options)\u001b[0m\n\u001b[1;32m    603\u001b[0m     \u001b[0mkwds\u001b[0m\u001b[0;34m.\u001b[0m\u001b[0mupdate\u001b[0m\u001b[0;34m(\u001b[0m\u001b[0mkwds_defaults\u001b[0m\u001b[0;34m)\u001b[0m\u001b[0;34m\u001b[0m\u001b[0;34m\u001b[0m\u001b[0m\n\u001b[1;32m    604\u001b[0m \u001b[0;34m\u001b[0m\u001b[0m\n\u001b[0;32m--> 605\u001b[0;31m     \u001b[0;32mreturn\u001b[0m \u001b[0m_read\u001b[0m\u001b[0;34m(\u001b[0m\u001b[0mfilepath_or_buffer\u001b[0m\u001b[0;34m,\u001b[0m \u001b[0mkwds\u001b[0m\u001b[0;34m)\u001b[0m\u001b[0;34m\u001b[0m\u001b[0;34m\u001b[0m\u001b[0m\n\u001b[0m\u001b[1;32m    606\u001b[0m \u001b[0;34m\u001b[0m\u001b[0m\n\u001b[1;32m    607\u001b[0m \u001b[0;34m\u001b[0m\u001b[0m\n",
      "\u001b[0;32m/opt/conda/lib/python3.7/site-packages/pandas/io/parsers.py\u001b[0m in \u001b[0;36m_read\u001b[0;34m(filepath_or_buffer, kwds)\u001b[0m\n\u001b[1;32m    455\u001b[0m \u001b[0;34m\u001b[0m\u001b[0m\n\u001b[1;32m    456\u001b[0m     \u001b[0;31m# Create the parser.\u001b[0m\u001b[0;34m\u001b[0m\u001b[0;34m\u001b[0m\u001b[0;34m\u001b[0m\u001b[0m\n\u001b[0;32m--> 457\u001b[0;31m     \u001b[0mparser\u001b[0m \u001b[0;34m=\u001b[0m \u001b[0mTextFileReader\u001b[0m\u001b[0;34m(\u001b[0m\u001b[0mfilepath_or_buffer\u001b[0m\u001b[0;34m,\u001b[0m \u001b[0;34m**\u001b[0m\u001b[0mkwds\u001b[0m\u001b[0;34m)\u001b[0m\u001b[0;34m\u001b[0m\u001b[0;34m\u001b[0m\u001b[0m\n\u001b[0m\u001b[1;32m    458\u001b[0m \u001b[0;34m\u001b[0m\u001b[0m\n\u001b[1;32m    459\u001b[0m     \u001b[0;32mif\u001b[0m \u001b[0mchunksize\u001b[0m \u001b[0;32mor\u001b[0m \u001b[0miterator\u001b[0m\u001b[0;34m:\u001b[0m\u001b[0;34m\u001b[0m\u001b[0;34m\u001b[0m\u001b[0m\n",
      "\u001b[0;32m/opt/conda/lib/python3.7/site-packages/pandas/io/parsers.py\u001b[0m in \u001b[0;36m__init__\u001b[0;34m(self, f, engine, **kwds)\u001b[0m\n\u001b[1;32m    812\u001b[0m             \u001b[0mself\u001b[0m\u001b[0;34m.\u001b[0m\u001b[0moptions\u001b[0m\u001b[0;34m[\u001b[0m\u001b[0;34m\"has_index_names\"\u001b[0m\u001b[0;34m]\u001b[0m \u001b[0;34m=\u001b[0m \u001b[0mkwds\u001b[0m\u001b[0;34m[\u001b[0m\u001b[0;34m\"has_index_names\"\u001b[0m\u001b[0;34m]\u001b[0m\u001b[0;34m\u001b[0m\u001b[0;34m\u001b[0m\u001b[0m\n\u001b[1;32m    813\u001b[0m \u001b[0;34m\u001b[0m\u001b[0m\n\u001b[0;32m--> 814\u001b[0;31m         \u001b[0mself\u001b[0m\u001b[0;34m.\u001b[0m\u001b[0m_engine\u001b[0m \u001b[0;34m=\u001b[0m \u001b[0mself\u001b[0m\u001b[0;34m.\u001b[0m\u001b[0m_make_engine\u001b[0m\u001b[0;34m(\u001b[0m\u001b[0mself\u001b[0m\u001b[0;34m.\u001b[0m\u001b[0mengine\u001b[0m\u001b[0;34m)\u001b[0m\u001b[0;34m\u001b[0m\u001b[0;34m\u001b[0m\u001b[0m\n\u001b[0m\u001b[1;32m    815\u001b[0m \u001b[0;34m\u001b[0m\u001b[0m\n\u001b[1;32m    816\u001b[0m     \u001b[0;32mdef\u001b[0m \u001b[0mclose\u001b[0m\u001b[0;34m(\u001b[0m\u001b[0mself\u001b[0m\u001b[0;34m)\u001b[0m\u001b[0;34m:\u001b[0m\u001b[0;34m\u001b[0m\u001b[0;34m\u001b[0m\u001b[0m\n",
      "\u001b[0;32m/opt/conda/lib/python3.7/site-packages/pandas/io/parsers.py\u001b[0m in \u001b[0;36m_make_engine\u001b[0;34m(self, engine)\u001b[0m\n\u001b[1;32m   1043\u001b[0m             )\n\u001b[1;32m   1044\u001b[0m         \u001b[0;31m# error: Too many arguments for \"ParserBase\"\u001b[0m\u001b[0;34m\u001b[0m\u001b[0;34m\u001b[0m\u001b[0;34m\u001b[0m\u001b[0m\n\u001b[0;32m-> 1045\u001b[0;31m         \u001b[0;32mreturn\u001b[0m \u001b[0mmapping\u001b[0m\u001b[0;34m[\u001b[0m\u001b[0mengine\u001b[0m\u001b[0;34m]\u001b[0m\u001b[0;34m(\u001b[0m\u001b[0mself\u001b[0m\u001b[0;34m.\u001b[0m\u001b[0mf\u001b[0m\u001b[0;34m,\u001b[0m \u001b[0;34m**\u001b[0m\u001b[0mself\u001b[0m\u001b[0;34m.\u001b[0m\u001b[0moptions\u001b[0m\u001b[0;34m)\u001b[0m  \u001b[0;31m# type: ignore[call-arg]\u001b[0m\u001b[0;34m\u001b[0m\u001b[0;34m\u001b[0m\u001b[0m\n\u001b[0m\u001b[1;32m   1046\u001b[0m \u001b[0;34m\u001b[0m\u001b[0m\n\u001b[1;32m   1047\u001b[0m     \u001b[0;32mdef\u001b[0m \u001b[0m_failover_to_python\u001b[0m\u001b[0;34m(\u001b[0m\u001b[0mself\u001b[0m\u001b[0;34m)\u001b[0m\u001b[0;34m:\u001b[0m\u001b[0;34m\u001b[0m\u001b[0;34m\u001b[0m\u001b[0m\n",
      "\u001b[0;32m/opt/conda/lib/python3.7/site-packages/pandas/io/parsers.py\u001b[0m in \u001b[0;36m__init__\u001b[0;34m(self, src, **kwds)\u001b[0m\n\u001b[1;32m   1860\u001b[0m \u001b[0;34m\u001b[0m\u001b[0m\n\u001b[1;32m   1861\u001b[0m         \u001b[0;31m# open handles\u001b[0m\u001b[0;34m\u001b[0m\u001b[0;34m\u001b[0m\u001b[0;34m\u001b[0m\u001b[0m\n\u001b[0;32m-> 1862\u001b[0;31m         \u001b[0mself\u001b[0m\u001b[0;34m.\u001b[0m\u001b[0m_open_handles\u001b[0m\u001b[0;34m(\u001b[0m\u001b[0msrc\u001b[0m\u001b[0;34m,\u001b[0m \u001b[0mkwds\u001b[0m\u001b[0;34m)\u001b[0m\u001b[0;34m\u001b[0m\u001b[0;34m\u001b[0m\u001b[0m\n\u001b[0m\u001b[1;32m   1863\u001b[0m         \u001b[0;32massert\u001b[0m \u001b[0mself\u001b[0m\u001b[0;34m.\u001b[0m\u001b[0mhandles\u001b[0m \u001b[0;32mis\u001b[0m \u001b[0;32mnot\u001b[0m \u001b[0;32mNone\u001b[0m\u001b[0;34m\u001b[0m\u001b[0;34m\u001b[0m\u001b[0m\n\u001b[1;32m   1864\u001b[0m         \u001b[0;32mfor\u001b[0m \u001b[0mkey\u001b[0m \u001b[0;32min\u001b[0m \u001b[0;34m(\u001b[0m\u001b[0;34m\"storage_options\"\u001b[0m\u001b[0;34m,\u001b[0m \u001b[0;34m\"encoding\"\u001b[0m\u001b[0;34m,\u001b[0m \u001b[0;34m\"memory_map\"\u001b[0m\u001b[0;34m,\u001b[0m \u001b[0;34m\"compression\"\u001b[0m\u001b[0;34m)\u001b[0m\u001b[0;34m:\u001b[0m\u001b[0;34m\u001b[0m\u001b[0;34m\u001b[0m\u001b[0m\n",
      "\u001b[0;32m/opt/conda/lib/python3.7/site-packages/pandas/io/parsers.py\u001b[0m in \u001b[0;36m_open_handles\u001b[0;34m(self, src, kwds)\u001b[0m\n\u001b[1;32m   1361\u001b[0m             \u001b[0mcompression\u001b[0m\u001b[0;34m=\u001b[0m\u001b[0mkwds\u001b[0m\u001b[0;34m.\u001b[0m\u001b[0mget\u001b[0m\u001b[0;34m(\u001b[0m\u001b[0;34m\"compression\"\u001b[0m\u001b[0;34m,\u001b[0m \u001b[0;32mNone\u001b[0m\u001b[0;34m)\u001b[0m\u001b[0;34m,\u001b[0m\u001b[0;34m\u001b[0m\u001b[0;34m\u001b[0m\u001b[0m\n\u001b[1;32m   1362\u001b[0m             \u001b[0mmemory_map\u001b[0m\u001b[0;34m=\u001b[0m\u001b[0mkwds\u001b[0m\u001b[0;34m.\u001b[0m\u001b[0mget\u001b[0m\u001b[0;34m(\u001b[0m\u001b[0;34m\"memory_map\"\u001b[0m\u001b[0;34m,\u001b[0m \u001b[0;32mFalse\u001b[0m\u001b[0;34m)\u001b[0m\u001b[0;34m,\u001b[0m\u001b[0;34m\u001b[0m\u001b[0;34m\u001b[0m\u001b[0m\n\u001b[0;32m-> 1363\u001b[0;31m             \u001b[0mstorage_options\u001b[0m\u001b[0;34m=\u001b[0m\u001b[0mkwds\u001b[0m\u001b[0;34m.\u001b[0m\u001b[0mget\u001b[0m\u001b[0;34m(\u001b[0m\u001b[0;34m\"storage_options\"\u001b[0m\u001b[0;34m,\u001b[0m \u001b[0;32mNone\u001b[0m\u001b[0;34m)\u001b[0m\u001b[0;34m,\u001b[0m\u001b[0;34m\u001b[0m\u001b[0;34m\u001b[0m\u001b[0m\n\u001b[0m\u001b[1;32m   1364\u001b[0m         )\n\u001b[1;32m   1365\u001b[0m \u001b[0;34m\u001b[0m\u001b[0m\n",
      "\u001b[0;32m/opt/conda/lib/python3.7/site-packages/pandas/io/common.py\u001b[0m in \u001b[0;36mget_handle\u001b[0;34m(path_or_buf, mode, encoding, compression, memory_map, is_text, errors, storage_options)\u001b[0m\n\u001b[1;32m    642\u001b[0m                 \u001b[0mencoding\u001b[0m\u001b[0;34m=\u001b[0m\u001b[0mioargs\u001b[0m\u001b[0;34m.\u001b[0m\u001b[0mencoding\u001b[0m\u001b[0;34m,\u001b[0m\u001b[0;34m\u001b[0m\u001b[0;34m\u001b[0m\u001b[0m\n\u001b[1;32m    643\u001b[0m                 \u001b[0merrors\u001b[0m\u001b[0;34m=\u001b[0m\u001b[0merrors\u001b[0m\u001b[0;34m,\u001b[0m\u001b[0;34m\u001b[0m\u001b[0;34m\u001b[0m\u001b[0m\n\u001b[0;32m--> 644\u001b[0;31m                 \u001b[0mnewline\u001b[0m\u001b[0;34m=\u001b[0m\u001b[0;34m\"\"\u001b[0m\u001b[0;34m,\u001b[0m\u001b[0;34m\u001b[0m\u001b[0;34m\u001b[0m\u001b[0m\n\u001b[0m\u001b[1;32m    645\u001b[0m             )\n\u001b[1;32m    646\u001b[0m         \u001b[0;32melse\u001b[0m\u001b[0;34m:\u001b[0m\u001b[0;34m\u001b[0m\u001b[0;34m\u001b[0m\u001b[0m\n",
      "\u001b[0;31mFileNotFoundError\u001b[0m: [Errno 2] No such file or directory: './amazon-customer-reviews-dataset-recipe-job_part00000.csv'"
     ]
    }
   ],
   "source": [
    "import csv\n",
    "\n",
    "df_reviews = pd.read_csv('./amazon-customer-reviews-dataset-recipe-job_part00000.csv')"
   ]
  },
  {
   "cell_type": "code",
   "execution_count": null,
   "metadata": {},
   "outputs": [],
   "source": [
    "df_reviews.head()"
   ]
  },
  {
   "cell_type": "code",
   "execution_count": null,
   "metadata": {},
   "outputs": [],
   "source": [
    "%%javascript\n",
    "\n",
    "try {\n",
    "    Jupyter.notebook.save_checkpoint();\n",
    "    Jupyter.notebook.session.delete();\n",
    "}\n",
    "catch(err) {\n",
    "    // NoOp\n",
    "}"
   ]
  }
 ],
 "metadata": {
  "instance_type": "ml.t3.medium",
  "kernelspec": {
   "display_name": "Python 3 (Data Science)",
   "language": "python",
   "name": "python3__SAGEMAKER_INTERNAL__arn:aws:sagemaker:us-east-1:081325390199:image/datascience-1.0"
  },
  "language_info": {
   "codemirror_mode": {
    "name": "ipython",
    "version": 3
   },
   "file_extension": ".py",
   "mimetype": "text/x-python",
   "name": "python",
   "nbconvert_exporter": "python",
   "pygments_lexer": "ipython3",
   "version": "3.7.6"
  }
 },
 "nbformat": 4,
 "nbformat_minor": 4
}
