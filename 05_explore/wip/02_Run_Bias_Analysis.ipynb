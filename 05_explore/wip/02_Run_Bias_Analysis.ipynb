{
 "cells": [
  {
   "cell_type": "markdown",
   "metadata": {},
   "source": [
    "# Run Bias Analysis On Dataset Using SMclarify"
   ]
  },
  {
   "cell_type": "code",
   "execution_count": 1,
   "metadata": {},
   "outputs": [],
   "source": [
    "!pip install -q smclarify==0.1"
   ]
  },
  {
   "cell_type": "code",
   "execution_count": 157,
   "metadata": {},
   "outputs": [
    {
     "name": "stdout",
     "output_type": "stream",
     "text": [
      "smclarify                          0.1\n"
     ]
    }
   ],
   "source": [
    "!pip list | grep smclarify"
   ]
  },
  {
   "cell_type": "code",
   "execution_count": 2,
   "metadata": {
    "collapsed": false,
    "jupyter": {
     "outputs_hidden": false
    },
    "pycharm": {
     "name": "#%%\n"
    }
   },
   "outputs": [],
   "source": [
    "from smclarify.bias import report\n",
    "from typing import Dict\n",
    "from collections import defaultdict\n",
    "import pandas as pd\n",
    "import seaborn as sns"
   ]
  },
  {
   "cell_type": "markdown",
   "metadata": {},
   "source": [
    "# Read Dataset From S3"
   ]
  },
  {
   "cell_type": "code",
   "execution_count": 1025,
   "metadata": {},
   "outputs": [],
   "source": [
    "%store -r bias_data_s3_uri"
   ]
  },
  {
   "cell_type": "code",
   "execution_count": 1026,
   "metadata": {},
   "outputs": [
    {
     "name": "stdout",
     "output_type": "stream",
     "text": [
      "s3://sagemaker-us-east-1-231218423789/data/amazon_reviews_us_giftcards_software_videogames_balanced.csv\n"
     ]
    }
   ],
   "source": [
    "print(bias_data_s3_uri)"
   ]
  },
  {
   "cell_type": "code",
   "execution_count": 1029,
   "metadata": {},
   "outputs": [
    {
     "name": "stdout",
     "output_type": "stream",
     "text": [
      "download: s3://sagemaker-us-east-1-231218423789/data/amazon_reviews_us_giftcards_software_videogames_balanced.csv to data/amazon_reviews_us_giftcards_software_videogames_balanced.csv\n"
     ]
    }
   ],
   "source": [
    "!aws s3 cp $bias_data_s3_uri ./data/"
   ]
  },
  {
   "cell_type": "code",
   "execution_count": 1030,
   "metadata": {},
   "outputs": [
    {
     "data": {
      "text/html": [
       "<div>\n",
       "<style scoped>\n",
       "    .dataframe tbody tr th:only-of-type {\n",
       "        vertical-align: middle;\n",
       "    }\n",
       "\n",
       "    .dataframe tbody tr th {\n",
       "        vertical-align: top;\n",
       "    }\n",
       "\n",
       "    .dataframe thead th {\n",
       "        text-align: right;\n",
       "    }\n",
       "</style>\n",
       "<table border=\"1\" class=\"dataframe\">\n",
       "  <thead>\n",
       "    <tr style=\"text-align: right;\">\n",
       "      <th></th>\n",
       "      <th>marketplace</th>\n",
       "      <th>customer_id</th>\n",
       "      <th>review_id</th>\n",
       "      <th>product_id</th>\n",
       "      <th>product_parent</th>\n",
       "      <th>product_title</th>\n",
       "      <th>product_category</th>\n",
       "      <th>star_rating</th>\n",
       "      <th>helpful_votes</th>\n",
       "      <th>total_votes</th>\n",
       "      <th>vine</th>\n",
       "      <th>verified_purchase</th>\n",
       "      <th>review_headline</th>\n",
       "      <th>review_body</th>\n",
       "      <th>review_date</th>\n",
       "    </tr>\n",
       "  </thead>\n",
       "  <tbody>\n",
       "    <tr>\n",
       "      <th>81035</th>\n",
       "      <td>US</td>\n",
       "      <td>32031441</td>\n",
       "      <td>RZGXDGABGXKNC</td>\n",
       "      <td>B007VTVRFA</td>\n",
       "      <td>402222185</td>\n",
       "      <td>SimCity - Limited Edition</td>\n",
       "      <td>Digital_Video_Games</td>\n",
       "      <td>1</td>\n",
       "      <td>2</td>\n",
       "      <td>2</td>\n",
       "      <td>N</td>\n",
       "      <td>Y</td>\n",
       "      <td>Full of Bugs</td>\n",
       "      <td>30 Bucks for nothing, dont byu it!&lt;br /&gt;Full o...</td>\n",
       "      <td>2013-04-29</td>\n",
       "    </tr>\n",
       "    <tr>\n",
       "      <th>81036</th>\n",
       "      <td>US</td>\n",
       "      <td>44964335</td>\n",
       "      <td>R1SDVONGUJOAN6</td>\n",
       "      <td>B005D9LZCU</td>\n",
       "      <td>82186241</td>\n",
       "      <td>Wondershare PDF Converter  [Download]</td>\n",
       "      <td>Digital_Software</td>\n",
       "      <td>1</td>\n",
       "      <td>3</td>\n",
       "      <td>3</td>\n",
       "      <td>N</td>\n",
       "      <td>N</td>\n",
       "      <td>Wondershare</td>\n",
       "      <td>I first thought this was great solution but I ...</td>\n",
       "      <td>2014-06-16</td>\n",
       "    </tr>\n",
       "    <tr>\n",
       "      <th>81037</th>\n",
       "      <td>US</td>\n",
       "      <td>13130172</td>\n",
       "      <td>R91P2AQF9YVHE</td>\n",
       "      <td>B009HBCU9W</td>\n",
       "      <td>194449368</td>\n",
       "      <td>TurboTax Deluxe Federal + E-File + State 2012</td>\n",
       "      <td>Digital_Software</td>\n",
       "      <td>1</td>\n",
       "      <td>0</td>\n",
       "      <td>0</td>\n",
       "      <td>N</td>\n",
       "      <td>Y</td>\n",
       "      <td>Only use it you are a U.S. citizen living in USA</td>\n",
       "      <td>Turbo didn't tell explicitly that you cannot e...</td>\n",
       "      <td>2014-10-04</td>\n",
       "    </tr>\n",
       "    <tr>\n",
       "      <th>81038</th>\n",
       "      <td>US</td>\n",
       "      <td>42150783</td>\n",
       "      <td>R1ST84188SAO81</td>\n",
       "      <td>B00T3FRWSQ</td>\n",
       "      <td>326971412</td>\n",
       "      <td>Trend Micro Premium Security 2015 - 5 Devices</td>\n",
       "      <td>Digital_Software</td>\n",
       "      <td>1</td>\n",
       "      <td>0</td>\n",
       "      <td>0</td>\n",
       "      <td>N</td>\n",
       "      <td>Y</td>\n",
       "      <td>This is for video and game downloads. I did ...</td>\n",
       "      <td>This is for video and game downloads. I did no...</td>\n",
       "      <td>2015-03-14</td>\n",
       "    </tr>\n",
       "    <tr>\n",
       "      <th>81039</th>\n",
       "      <td>US</td>\n",
       "      <td>15137766</td>\n",
       "      <td>R1RND8RGMX40WW</td>\n",
       "      <td>B002MUB0KU</td>\n",
       "      <td>418923037</td>\n",
       "      <td>Gutterball 2 [Download]</td>\n",
       "      <td>Digital_Video_Games</td>\n",
       "      <td>1</td>\n",
       "      <td>0</td>\n",
       "      <td>0</td>\n",
       "      <td>N</td>\n",
       "      <td>Y</td>\n",
       "      <td>One Star</td>\n",
       "      <td>Bad game play</td>\n",
       "      <td>2014-11-08</td>\n",
       "    </tr>\n",
       "  </tbody>\n",
       "</table>\n",
       "</div>"
      ],
      "text/plain": [
       "      marketplace  customer_id       review_id  product_id  product_parent  \\\n",
       "81035          US     32031441   RZGXDGABGXKNC  B007VTVRFA       402222185   \n",
       "81036          US     44964335  R1SDVONGUJOAN6  B005D9LZCU        82186241   \n",
       "81037          US     13130172   R91P2AQF9YVHE  B009HBCU9W       194449368   \n",
       "81038          US     42150783  R1ST84188SAO81  B00T3FRWSQ       326971412   \n",
       "81039          US     15137766  R1RND8RGMX40WW  B002MUB0KU       418923037   \n",
       "\n",
       "                                       product_title     product_category  \\\n",
       "81035                      SimCity - Limited Edition  Digital_Video_Games   \n",
       "81036          Wondershare PDF Converter  [Download]     Digital_Software   \n",
       "81037  TurboTax Deluxe Federal + E-File + State 2012     Digital_Software   \n",
       "81038  Trend Micro Premium Security 2015 - 5 Devices     Digital_Software   \n",
       "81039                        Gutterball 2 [Download]  Digital_Video_Games   \n",
       "\n",
       "       star_rating  helpful_votes  total_votes vine verified_purchase  \\\n",
       "81035            1              2            2    N                 Y   \n",
       "81036            1              3            3    N                 N   \n",
       "81037            1              0            0    N                 Y   \n",
       "81038            1              0            0    N                 Y   \n",
       "81039            1              0            0    N                 Y   \n",
       "\n",
       "                                        review_headline  \\\n",
       "81035                                      Full of Bugs   \n",
       "81036                                       Wondershare   \n",
       "81037  Only use it you are a U.S. citizen living in USA   \n",
       "81038   This is for video and game downloads. I did ...   \n",
       "81039                                          One Star   \n",
       "\n",
       "                                             review_body review_date  \n",
       "81035  30 Bucks for nothing, dont byu it!<br />Full o...  2013-04-29  \n",
       "81036  I first thought this was great solution but I ...  2014-06-16  \n",
       "81037  Turbo didn't tell explicitly that you cannot e...  2014-10-04  \n",
       "81038  This is for video and game downloads. I did no...  2015-03-14  \n",
       "81039                                      Bad game play  2014-11-08  "
      ]
     },
     "execution_count": 1030,
     "metadata": {},
     "output_type": "execute_result"
    }
   ],
   "source": [
    "df_balanced = pd.read_csv('./data/amazon_reviews_us_giftcards_software_videogames_balanced.csv')\n",
    "df_balanced.tail()"
   ]
  },
  {
   "cell_type": "markdown",
   "metadata": {},
   "source": [
    "# Read Dataset From Local Path"
   ]
  },
  {
   "cell_type": "code",
   "execution_count": 1032,
   "metadata": {},
   "outputs": [],
   "source": [
    "# df = pd.read_csv('amazon_reviews_us_giftcards_software_videogames.csv')\n",
    "# df.tail()"
   ]
  },
  {
   "cell_type": "code",
   "execution_count": 1031,
   "metadata": {},
   "outputs": [],
   "source": [
    "# df_balanced = pd.read_csv('amazon_reviews_us_giftcards_software_videogames_balanced.csv')\n",
    "# df_balanced.tail()"
   ]
  },
  {
   "cell_type": "code",
   "execution_count": 72,
   "metadata": {
    "collapsed": false,
    "jupyter": {
     "outputs_hidden": false
    },
    "pycharm": {
     "name": "#%%\n"
    }
   },
   "outputs": [
    {
     "data": {
      "text/plain": [
       "<seaborn.axisgrid.PairGrid at 0x7fea14cbdd68>"
      ]
     },
     "execution_count": 72,
     "metadata": {},
     "output_type": "execute_result"
    },
    {
     "data": {
      "image/png": "[encoded data removed]",
      "text/plain": [
       "<Figure size 180x180 with 2 Axes>"
      ]
     },
     "metadata": {
      "needs_background": "light"
     },
     "output_type": "display_data"
    }
   ],
   "source": [
    "sns.pairplot(df_balanced[['product_category', 'star_rating']])"
   ]
  },
  {
   "cell_type": "code",
   "execution_count": 71,
   "metadata": {
    "collapsed": false,
    "jupyter": {
     "outputs_hidden": false
    },
    "pycharm": {
     "name": "#%%\n"
    }
   },
   "outputs": [
    {
     "data": {
      "text/plain": [
       "<matplotlib.axes._subplots.AxesSubplot at 0x7fea14d59748>"
      ]
     },
     "execution_count": 71,
     "metadata": {},
     "output_type": "execute_result"
    },
    {
     "data": {
      "image/png": "[encoded data removed]",
      "text/plain": [
       "<Figure size 432x288 with 1 Axes>"
      ]
     },
     "metadata": {
      "needs_background": "light"
     },
     "output_type": "display_data"
    }
   ],
   "source": [
    "sns.countplot(df_balanced['star_rating'])"
   ]
  },
  {
   "cell_type": "code",
   "execution_count": 1033,
   "metadata": {},
   "outputs": [
    {
     "data": {
      "text/plain": [
       "(81040, 15)"
      ]
     },
     "execution_count": 1033,
     "metadata": {},
     "output_type": "execute_result"
    }
   ],
   "source": [
    "df_balanced.shape"
   ]
  },
  {
   "cell_type": "code",
   "execution_count": 464,
   "metadata": {},
   "outputs": [
    {
     "name": "stdout",
     "output_type": "stream",
     "text": [
      "       product_category  star_rating  Count\n",
      "0             Gift Card            5   8198\n",
      "1   Digital_Video_Games            5   5133\n",
      "2      Digital_Software            5   2877\n",
      "3   Digital_Video_Games            4   7151\n",
      "4      Digital_Software            4   5739\n",
      "5             Gift Card            4   3318\n",
      "6   Digital_Video_Games            3   8178\n",
      "7      Digital_Software            3   5858\n",
      "8             Gift Card            3   2172\n",
      "9      Digital_Software            2   6890\n",
      "10  Digital_Video_Games            2   7749\n",
      "11            Gift Card            2   1569\n",
      "12     Digital_Software            1   7192\n",
      "13            Gift Card            1   1394\n",
      "14  Digital_Video_Games            1   7622\n"
     ]
    }
   ],
   "source": [
    "num = df_balanced.groupby(['product_category','star_rating'], sort=False).size().reset_index(name='Count')\n",
    "print(num)"
   ]
  },
  {
   "cell_type": "markdown",
   "metadata": {},
   "source": [
    "## Balance Across Categories AND Star Ratings"
   ]
  },
  {
   "cell_type": "code",
   "execution_count": 981,
   "metadata": {},
   "outputs": [
    {
     "data": {
      "text/plain": [
       "(686, 15)"
      ]
     },
     "execution_count": 981,
     "metadata": {},
     "output_type": "execute_result"
    }
   ],
   "source": [
    "df_giftcard5 = df_balanced.query('star_rating==5 and product_category==\"Gift Card\"')\n",
    "df_giftcard5=df_giftcard5[:686]\n",
    "df_giftcard5.shape"
   ]
  },
  {
   "cell_type": "code",
   "execution_count": 982,
   "metadata": {},
   "outputs": [
    {
     "data": {
      "text/plain": [
       "(343, 15)"
      ]
     },
     "execution_count": 982,
     "metadata": {},
     "output_type": "execute_result"
    }
   ],
   "source": [
    "df_giftcard4 = df_balanced.query('star_rating==4 and product_category==\"Gift Card\"')\n",
    "df_giftcard4=df_giftcard4[:343]\n",
    "df_giftcard4.shape"
   ]
  },
  {
   "cell_type": "code",
   "execution_count": 983,
   "metadata": {},
   "outputs": [
    {
     "data": {
      "text/plain": [
       "(343, 15)"
      ]
     },
     "execution_count": 983,
     "metadata": {},
     "output_type": "execute_result"
    }
   ],
   "source": [
    "df_giftcard3 = df_balanced.query('star_rating==3 and product_category==\"Gift Card\"')\n",
    "df_giftcard3=df_giftcard3[:343]\n",
    "df_giftcard3.shape"
   ]
  },
  {
   "cell_type": "code",
   "execution_count": 984,
   "metadata": {},
   "outputs": [
    {
     "data": {
      "text/plain": [
       "(343, 15)"
      ]
     },
     "execution_count": 984,
     "metadata": {},
     "output_type": "execute_result"
    }
   ],
   "source": [
    "df_giftcard2 = df_balanced.query('star_rating==2 and product_category==\"Gift Card\"')\n",
    "df_giftcard2=df_giftcard2[:343]\n",
    "df_giftcard2.shape"
   ]
  },
  {
   "cell_type": "code",
   "execution_count": 985,
   "metadata": {},
   "outputs": [
    {
     "data": {
      "text/plain": [
       "(343, 15)"
      ]
     },
     "execution_count": 985,
     "metadata": {},
     "output_type": "execute_result"
    }
   ],
   "source": [
    "df_giftcard1 = df_balanced.query('star_rating==1 and product_category==\"Gift Card\"')\n",
    "df_giftcard1=df_giftcard1[:343]\n",
    "df_giftcard1.shape"
   ]
  },
  {
   "cell_type": "code",
   "execution_count": 986,
   "metadata": {},
   "outputs": [
    {
     "data": {
      "text/plain": [
       "(343, 15)"
      ]
     },
     "execution_count": 986,
     "metadata": {},
     "output_type": "execute_result"
    }
   ],
   "source": [
    "df_videogames5 = df_balanced.query('star_rating==5 and product_category==\"Digital_Video_Games\"')\n",
    "df_videogames5=df_videogames5[:343]\n",
    "df_videogames5.shape"
   ]
  },
  {
   "cell_type": "code",
   "execution_count": 987,
   "metadata": {},
   "outputs": [
    {
     "data": {
      "text/plain": [
       "(343, 15)"
      ]
     },
     "execution_count": 987,
     "metadata": {},
     "output_type": "execute_result"
    }
   ],
   "source": [
    "df_videogames4 = df_balanced.query('star_rating==4 and product_category==\"Digital_Video_Games\"')\n",
    "df_videogames4=df_videogames4[:343]\n",
    "df_videogames4.shape"
   ]
  },
  {
   "cell_type": "code",
   "execution_count": 988,
   "metadata": {},
   "outputs": [
    {
     "data": {
      "text/plain": [
       "(343, 15)"
      ]
     },
     "execution_count": 988,
     "metadata": {},
     "output_type": "execute_result"
    }
   ],
   "source": [
    "df_videogames3 = df_balanced.query('star_rating==3 and product_category==\"Digital_Video_Games\"')\n",
    "df_videogames3=df_videogames3[:343]\n",
    "df_videogames3.shape"
   ]
  },
  {
   "cell_type": "code",
   "execution_count": 989,
   "metadata": {},
   "outputs": [
    {
     "data": {
      "text/plain": [
       "(343, 15)"
      ]
     },
     "execution_count": 989,
     "metadata": {},
     "output_type": "execute_result"
    }
   ],
   "source": [
    "df_videogames2 = df_balanced.query('star_rating==2 and product_category==\"Digital_Video_Games\"')\n",
    "df_videogames2=df_videogames2[:343]\n",
    "df_videogames2.shape"
   ]
  },
  {
   "cell_type": "code",
   "execution_count": 990,
   "metadata": {},
   "outputs": [
    {
     "data": {
      "text/plain": [
       "(343, 15)"
      ]
     },
     "execution_count": 990,
     "metadata": {},
     "output_type": "execute_result"
    }
   ],
   "source": [
    "df_videogames1 = df_balanced.query('star_rating==1 and product_category==\"Digital_Video_Games\"')\n",
    "df_videogames1=df_videogames1[:343]\n",
    "df_videogames1.shape"
   ]
  },
  {
   "cell_type": "code",
   "execution_count": 991,
   "metadata": {},
   "outputs": [
    {
     "data": {
      "text/plain": [
       "(343, 15)"
      ]
     },
     "execution_count": 991,
     "metadata": {},
     "output_type": "execute_result"
    }
   ],
   "source": [
    "df_software5 = df_balanced.query('star_rating==5 and product_category==\"Digital_Software\"')\n",
    "df_software5=df_software5[:343]\n",
    "df_software5.shape"
   ]
  },
  {
   "cell_type": "code",
   "execution_count": 992,
   "metadata": {},
   "outputs": [
    {
     "data": {
      "text/plain": [
       "(343, 15)"
      ]
     },
     "execution_count": 992,
     "metadata": {},
     "output_type": "execute_result"
    }
   ],
   "source": [
    "df_software4 = df_balanced.query('star_rating==4 and product_category==\"Digital_Software\"')\n",
    "df_software4=df_software4[:343]\n",
    "df_software4.shape"
   ]
  },
  {
   "cell_type": "code",
   "execution_count": 993,
   "metadata": {},
   "outputs": [
    {
     "data": {
      "text/plain": [
       "(343, 15)"
      ]
     },
     "execution_count": 993,
     "metadata": {},
     "output_type": "execute_result"
    }
   ],
   "source": [
    "df_software3 = df_balanced.query('star_rating==3 and product_category==\"Digital_Software\"')\n",
    "df_software3=df_software3[:343]\n",
    "df_software3.shape"
   ]
  },
  {
   "cell_type": "code",
   "execution_count": 994,
   "metadata": {},
   "outputs": [
    {
     "data": {
      "text/plain": [
       "(343, 15)"
      ]
     },
     "execution_count": 994,
     "metadata": {},
     "output_type": "execute_result"
    }
   ],
   "source": [
    "df_software2 = df_balanced.query('star_rating==2 and product_category==\"Digital_Software\"')\n",
    "df_software2=df_software2[:343]\n",
    "df_software2.shape"
   ]
  },
  {
   "cell_type": "code",
   "execution_count": 995,
   "metadata": {},
   "outputs": [
    {
     "data": {
      "text/plain": [
       "(343, 15)"
      ]
     },
     "execution_count": 995,
     "metadata": {},
     "output_type": "execute_result"
    }
   ],
   "source": [
    "df_software1 = df_balanced.query('star_rating==1 and product_category==\"Digital_Software\"')\n",
    "df_software1=df_software1[:343]\n",
    "df_software1.shape"
   ]
  },
  {
   "cell_type": "markdown",
   "metadata": {},
   "source": [
    "## Generate 4th Sample"
   ]
  },
  {
   "cell_type": "code",
   "execution_count": 996,
   "metadata": {},
   "outputs": [
    {
     "name": "stderr",
     "output_type": "stream",
     "text": [
      "/home/ec2-user/anaconda3/envs/python3/lib/python3.6/site-packages/ipykernel/__main__.py:2: SettingWithCopyWarning: \n",
      "A value is trying to be set on a copy of a slice from a DataFrame.\n",
      "Try using .loc[row_indexer,col_indexer] = value instead\n",
      "\n",
      "See the caveats in the documentation: https://pandas.pydata.org/pandas-docs/stable/user_guide/indexing.html#returning-a-view-versus-a-copy\n",
      "  from ipykernel import kernelapp as app\n"
     ]
    },
    {
     "data": {
      "text/plain": [
       "(343, 15)"
      ]
     },
     "execution_count": 996,
     "metadata": {},
     "output_type": "execute_result"
    }
   ],
   "source": [
    "df_bla5 = df_balanced.query('star_rating==5 and product_category==\"Digital_Software\"')\n",
    "df_bla5['product_category'] = 'bla' # df_bla5['product_category'].str.replace('Digital_Software', 'bla')\n",
    "df_bla5=df_bla5[:343]\n",
    "df_bla5.shape"
   ]
  },
  {
   "cell_type": "code",
   "execution_count": 997,
   "metadata": {},
   "outputs": [
    {
     "name": "stderr",
     "output_type": "stream",
     "text": [
      "/home/ec2-user/anaconda3/envs/python3/lib/python3.6/site-packages/ipykernel/__main__.py:2: SettingWithCopyWarning: \n",
      "A value is trying to be set on a copy of a slice from a DataFrame.\n",
      "Try using .loc[row_indexer,col_indexer] = value instead\n",
      "\n",
      "See the caveats in the documentation: https://pandas.pydata.org/pandas-docs/stable/user_guide/indexing.html#returning-a-view-versus-a-copy\n",
      "  from ipykernel import kernelapp as app\n"
     ]
    },
    {
     "data": {
      "text/plain": [
       "(343, 15)"
      ]
     },
     "execution_count": 997,
     "metadata": {},
     "output_type": "execute_result"
    }
   ],
   "source": [
    "df_bla4 = df_balanced.query('star_rating==4 and product_category==\"Digital_Software\"')\n",
    "df_bla4['product_category'] = 'bla' # df_bla4['product_category'].str.replace('Digital_Software', 'bla')\n",
    "df_bla4=df_bla4[:343]\n",
    "df_bla4.shape"
   ]
  },
  {
   "cell_type": "code",
   "execution_count": 998,
   "metadata": {},
   "outputs": [
    {
     "name": "stderr",
     "output_type": "stream",
     "text": [
      "/home/ec2-user/anaconda3/envs/python3/lib/python3.6/site-packages/ipykernel/__main__.py:2: SettingWithCopyWarning: \n",
      "A value is trying to be set on a copy of a slice from a DataFrame.\n",
      "Try using .loc[row_indexer,col_indexer] = value instead\n",
      "\n",
      "See the caveats in the documentation: https://pandas.pydata.org/pandas-docs/stable/user_guide/indexing.html#returning-a-view-versus-a-copy\n",
      "  from ipykernel import kernelapp as app\n"
     ]
    },
    {
     "data": {
      "text/plain": [
       "(343, 15)"
      ]
     },
     "execution_count": 998,
     "metadata": {},
     "output_type": "execute_result"
    }
   ],
   "source": [
    "df_bla3 = df_balanced.query('star_rating==3 and product_category==\"Digital_Software\"')\n",
    "df_bla3['product_category'] = 'bla' # df_bla3['product_category'].str.replace('Digital_Software', 'bla')\n",
    "\n",
    "df_bla3=df_bla3[:343]\n",
    "df_bla3.shape"
   ]
  },
  {
   "cell_type": "code",
   "execution_count": 999,
   "metadata": {},
   "outputs": [
    {
     "name": "stderr",
     "output_type": "stream",
     "text": [
      "/home/ec2-user/anaconda3/envs/python3/lib/python3.6/site-packages/ipykernel/__main__.py:2: SettingWithCopyWarning: \n",
      "A value is trying to be set on a copy of a slice from a DataFrame.\n",
      "Try using .loc[row_indexer,col_indexer] = value instead\n",
      "\n",
      "See the caveats in the documentation: https://pandas.pydata.org/pandas-docs/stable/user_guide/indexing.html#returning-a-view-versus-a-copy\n",
      "  from ipykernel import kernelapp as app\n"
     ]
    },
    {
     "data": {
      "text/plain": [
       "(343, 15)"
      ]
     },
     "execution_count": 999,
     "metadata": {},
     "output_type": "execute_result"
    }
   ],
   "source": [
    "df_bla2 = df_balanced.query('star_rating==2 and product_category==\"Digital_Software\"')\n",
    "df_bla2['product_category'] = 'bla' # df_bla2['product_category'].str.replace('Digital_Software', 'bla')\n",
    "\n",
    "df_bla2=df_bla2[:343]\n",
    "df_bla2.shape"
   ]
  },
  {
   "cell_type": "code",
   "execution_count": 1000,
   "metadata": {},
   "outputs": [
    {
     "name": "stderr",
     "output_type": "stream",
     "text": [
      "/home/ec2-user/anaconda3/envs/python3/lib/python3.6/site-packages/ipykernel/__main__.py:2: SettingWithCopyWarning: \n",
      "A value is trying to be set on a copy of a slice from a DataFrame.\n",
      "Try using .loc[row_indexer,col_indexer] = value instead\n",
      "\n",
      "See the caveats in the documentation: https://pandas.pydata.org/pandas-docs/stable/user_guide/indexing.html#returning-a-view-versus-a-copy\n",
      "  from ipykernel import kernelapp as app\n"
     ]
    },
    {
     "data": {
      "text/plain": [
       "(343, 15)"
      ]
     },
     "execution_count": 1000,
     "metadata": {},
     "output_type": "execute_result"
    }
   ],
   "source": [
    "df_bla1 = df_balanced.query('star_rating==1 and product_category==\"Digital_Software\"')\n",
    "df_bla1['product_category'] = 'bla' # df_bla1['product_category'].str.replace('Digital_Software', 'bla')\n",
    "df_bla1=df_bla1[:343]\n",
    "df_bla1.shape"
   ]
  },
  {
   "cell_type": "markdown",
   "metadata": {},
   "source": [
    "## Generate 5th Sample"
   ]
  },
  {
   "cell_type": "code",
   "execution_count": 1001,
   "metadata": {},
   "outputs": [
    {
     "name": "stderr",
     "output_type": "stream",
     "text": [
      "/home/ec2-user/anaconda3/envs/python3/lib/python3.6/site-packages/ipykernel/__main__.py:2: SettingWithCopyWarning: \n",
      "A value is trying to be set on a copy of a slice from a DataFrame.\n",
      "Try using .loc[row_indexer,col_indexer] = value instead\n",
      "\n",
      "See the caveats in the documentation: https://pandas.pydata.org/pandas-docs/stable/user_guide/indexing.html#returning-a-view-versus-a-copy\n",
      "  from ipykernel import kernelapp as app\n"
     ]
    },
    {
     "data": {
      "text/plain": [
       "(343, 15)"
      ]
     },
     "execution_count": 1001,
     "metadata": {},
     "output_type": "execute_result"
    }
   ],
   "source": [
    "df_blah5 = df_balanced.query('star_rating==5 and product_category==\"Digital_Software\"')\n",
    "df_blah5['product_category'] = 'blah' # df_bla5['product_category'].str.replace('Digital_Software', 'bla')\n",
    "df_blah5=df_blah5[:343]\n",
    "df_blah5.shape"
   ]
  },
  {
   "cell_type": "code",
   "execution_count": 1002,
   "metadata": {},
   "outputs": [
    {
     "name": "stderr",
     "output_type": "stream",
     "text": [
      "/home/ec2-user/anaconda3/envs/python3/lib/python3.6/site-packages/ipykernel/__main__.py:2: SettingWithCopyWarning: \n",
      "A value is trying to be set on a copy of a slice from a DataFrame.\n",
      "Try using .loc[row_indexer,col_indexer] = value instead\n",
      "\n",
      "See the caveats in the documentation: https://pandas.pydata.org/pandas-docs/stable/user_guide/indexing.html#returning-a-view-versus-a-copy\n",
      "  from ipykernel import kernelapp as app\n"
     ]
    },
    {
     "data": {
      "text/plain": [
       "(343, 15)"
      ]
     },
     "execution_count": 1002,
     "metadata": {},
     "output_type": "execute_result"
    }
   ],
   "source": [
    "df_blah4 = df_balanced.query('star_rating==4 and product_category==\"Digital_Software\"')\n",
    "df_blah4['product_category'] = 'blah' # df_bla4['product_category'].str.replace('Digital_Software', 'bla')\n",
    "df_blah4=df_blah4[:343]\n",
    "df_blah4.shape"
   ]
  },
  {
   "cell_type": "code",
   "execution_count": 1003,
   "metadata": {},
   "outputs": [
    {
     "name": "stderr",
     "output_type": "stream",
     "text": [
      "/home/ec2-user/anaconda3/envs/python3/lib/python3.6/site-packages/ipykernel/__main__.py:2: SettingWithCopyWarning: \n",
      "A value is trying to be set on a copy of a slice from a DataFrame.\n",
      "Try using .loc[row_indexer,col_indexer] = value instead\n",
      "\n",
      "See the caveats in the documentation: https://pandas.pydata.org/pandas-docs/stable/user_guide/indexing.html#returning-a-view-versus-a-copy\n",
      "  from ipykernel import kernelapp as app\n"
     ]
    },
    {
     "data": {
      "text/plain": [
       "(343, 15)"
      ]
     },
     "execution_count": 1003,
     "metadata": {},
     "output_type": "execute_result"
    }
   ],
   "source": [
    "df_blah3 = df_balanced.query('star_rating==3 and product_category==\"Digital_Software\"')\n",
    "df_blah3['product_category'] = 'bla' # df_bla3['product_category'].str.replace('Digital_Software', 'bla')\n",
    "\n",
    "df_blah3=df_blah3[:343]\n",
    "df_blah3.shape"
   ]
  },
  {
   "cell_type": "code",
   "execution_count": 1004,
   "metadata": {},
   "outputs": [
    {
     "name": "stderr",
     "output_type": "stream",
     "text": [
      "/home/ec2-user/anaconda3/envs/python3/lib/python3.6/site-packages/ipykernel/__main__.py:2: SettingWithCopyWarning: \n",
      "A value is trying to be set on a copy of a slice from a DataFrame.\n",
      "Try using .loc[row_indexer,col_indexer] = value instead\n",
      "\n",
      "See the caveats in the documentation: https://pandas.pydata.org/pandas-docs/stable/user_guide/indexing.html#returning-a-view-versus-a-copy\n",
      "  from ipykernel import kernelapp as app\n"
     ]
    },
    {
     "data": {
      "text/plain": [
       "(343, 15)"
      ]
     },
     "execution_count": 1004,
     "metadata": {},
     "output_type": "execute_result"
    }
   ],
   "source": [
    "df_blah2 = df_balanced.query('star_rating==2 and product_category==\"Digital_Software\"')\n",
    "df_blah2['product_category'] = 'blah' # df_bla2['product_category'].str.replace('Digital_Software', 'bla')\n",
    "\n",
    "df_blah2=df_blah2[:343]\n",
    "df_blah2.shape"
   ]
  },
  {
   "cell_type": "code",
   "execution_count": 1005,
   "metadata": {},
   "outputs": [
    {
     "name": "stderr",
     "output_type": "stream",
     "text": [
      "/home/ec2-user/anaconda3/envs/python3/lib/python3.6/site-packages/ipykernel/__main__.py:2: SettingWithCopyWarning: \n",
      "A value is trying to be set on a copy of a slice from a DataFrame.\n",
      "Try using .loc[row_indexer,col_indexer] = value instead\n",
      "\n",
      "See the caveats in the documentation: https://pandas.pydata.org/pandas-docs/stable/user_guide/indexing.html#returning-a-view-versus-a-copy\n",
      "  from ipykernel import kernelapp as app\n"
     ]
    },
    {
     "data": {
      "text/plain": [
       "(343, 15)"
      ]
     },
     "execution_count": 1005,
     "metadata": {},
     "output_type": "execute_result"
    }
   ],
   "source": [
    "df_blah1 = df_balanced.query('star_rating==1 and product_category==\"Digital_Software\"')\n",
    "df_blah1['product_category'] = 'blah' # df_bla1['product_category'].str.replace('Digital_Software', 'bla')\n",
    "df_blah1=df_blah1[:343]\n",
    "df_blah1.shape"
   ]
  },
  {
   "cell_type": "code",
   "execution_count": null,
   "metadata": {},
   "outputs": [],
   "source": []
  },
  {
   "cell_type": "code",
   "execution_count": 1006,
   "metadata": {},
   "outputs": [
    {
     "data": {
      "text/plain": [
       "(3430, 15)"
      ]
     },
     "execution_count": 1006,
     "metadata": {},
     "output_type": "execute_result"
    }
   ],
   "source": [
    "df_super_balanced = pd.concat([df_giftcard5, \n",
    "#                               df_giftcard4, \n",
    "                               df_giftcard3, \n",
    "#                               df_giftcard2, \n",
    "                               df_giftcard1, \n",
    "                               df_videogames5, \n",
    "#                               df_videogames4, \n",
    "                               df_videogames3, \n",
    "#                               df_videogames2, \n",
    "                               df_videogames1, \n",
    "                              df_software5, \n",
    "#                               df_software4, \n",
    "                               df_software3, \n",
    "#                               df_software2, \n",
    "                              df_software1,\n",
    "#                               df_bla5,\n",
    "#                                df_bla4,\n",
    "#                                df_bla3,\n",
    "#                                df_bla2,                               \n",
    "#                               df_bla1,\n",
    "#                               df_blah5,\n",
    "#                                df_blah4,\n",
    "#                                df_blah3,\n",
    "#                                df_blah2,                               \n",
    "#                               df_blah1                               \n",
    "                              ], ignore_index=True, sort=False)\n",
    "df_super_balanced.shape"
   ]
  },
  {
   "cell_type": "markdown",
   "metadata": {},
   "source": [
    "## Calculate pre-training bias metrics"
   ]
  },
  {
   "cell_type": "code",
   "execution_count": 1023,
   "metadata": {
    "collapsed": false,
    "jupyter": {
     "outputs_hidden": false
    },
    "pycharm": {
     "name": "#%%\n"
    }
   },
   "outputs": [],
   "source": [
    "# Measure bias for the marital attribute\n",
    "facet_column = report.FacetColumn(name='product_category')\n",
    "label_column = report.LabelColumn(name='star_rating', \n",
    "                                  data=df_super_balanced['star_rating'], \n",
    "                                  positive_label_values=[0] # this doesn't matter for class imbalance bias\n",
    "                                 )\n",
    "group_variable = df_super_balanced[\"marketplace\"]\n"
   ]
  },
  {
   "cell_type": "code",
   "execution_count": 1024,
   "metadata": {
    "collapsed": false,
    "jupyter": {
     "outputs_hidden": false
    },
    "pycharm": {
     "name": "#%%\n"
    }
   },
   "outputs": [
    {
     "data": {
      "text/plain": [
       "[{'value_or_threshold': 'Gift Card',\n",
       "  'metrics': [{'name': 'CDDL',\n",
       "    'description': 'Conditional Demographic Disparity in Labels (CDDL)',\n",
       "    'value': 0.09523809523809523},\n",
       "   {'name': 'CI', 'description': 'Class Imbalance (CI)', 'value': 0.2},\n",
       "   {'name': 'DPL',\n",
       "    'description': 'Difference in Positive Proportions in Labels (DPL)',\n",
       "    'value': 0.08333333333333331},\n",
       "   {'name': 'JS',\n",
       "    'description': 'Jensen-Shannon Divergence (JS)',\n",
       "    'value': 0.004378830094856203},\n",
       "   {'name': 'KL',\n",
       "    'description': 'Kullback-Liebler Divergence (KL)',\n",
       "    'value': 0.01737200037967128},\n",
       "   {'name': 'KS',\n",
       "    'description': 'Kolmogorov-Smirnov Distance (KS)',\n",
       "    'value': 0.08333333333333337},\n",
       "   {'name': 'LP',\n",
       "    'description': 'L-p Norm (LP)',\n",
       "    'value': 0.11785113019775793},\n",
       "   {'name': 'TVD',\n",
       "    'description': 'Total Variation Distance (TVD)',\n",
       "    'value': 0.08333333333333334}]},\n",
       " {'value_or_threshold': 'Digital_Video_Games',\n",
       "  'metrics': [{'name': 'CDDL',\n",
       "    'description': 'Conditional Demographic Disparity in Labels (CDDL)',\n",
       "    'value': -0.047619047619047616},\n",
       "   {'name': 'CI', 'description': 'Class Imbalance (CI)', 'value': 0.4},\n",
       "   {'name': 'DPL',\n",
       "    'description': 'Difference in Positive Proportions in Labels (DPL)',\n",
       "    'value': -0.047619047619047616},\n",
       "   {'name': 'JS',\n",
       "    'description': 'Jensen-Shannon Divergence (JS)',\n",
       "    'value': 0.0015419270471175488},\n",
       "   {'name': 'KL',\n",
       "    'description': 'Kullback-Liebler Divergence (KL)',\n",
       "    'value': 0.005237571111463064},\n",
       "   {'name': 'KS',\n",
       "    'description': 'Kolmogorov-Smirnov Distance (KS)',\n",
       "    'value': 0.04761904761904767},\n",
       "   {'name': 'LP',\n",
       "    'description': 'L-p Norm (LP)',\n",
       "    'value': 0.06734350297014742},\n",
       "   {'name': 'TVD',\n",
       "    'description': 'Total Variation Distance (TVD)',\n",
       "    'value': 0.047619047619047644}]},\n",
       " {'value_or_threshold': 'Digital_Software',\n",
       "  'metrics': [{'name': 'CDDL',\n",
       "    'description': 'Conditional Demographic Disparity in Labels (CDDL)',\n",
       "    'value': -0.047619047619047616},\n",
       "   {'name': 'CI', 'description': 'Class Imbalance (CI)', 'value': 0.4},\n",
       "   {'name': 'DPL',\n",
       "    'description': 'Difference in Positive Proportions in Labels (DPL)',\n",
       "    'value': -0.047619047619047616},\n",
       "   {'name': 'JS',\n",
       "    'description': 'Jensen-Shannon Divergence (JS)',\n",
       "    'value': 0.0015419270471175488},\n",
       "   {'name': 'KL',\n",
       "    'description': 'Kullback-Liebler Divergence (KL)',\n",
       "    'value': 0.005237571111463064},\n",
       "   {'name': 'KS',\n",
       "    'description': 'Kolmogorov-Smirnov Distance (KS)',\n",
       "    'value': 0.04761904761904767},\n",
       "   {'name': 'LP',\n",
       "    'description': 'L-p Norm (LP)',\n",
       "    'value': 0.06734350297014742},\n",
       "   {'name': 'TVD',\n",
       "    'description': 'Total Variation Distance (TVD)',\n",
       "    'value': 0.047619047619047644}]}]"
      ]
     },
     "execution_count": 1024,
     "metadata": {},
     "output_type": "execute_result"
    }
   ],
   "source": [
    "report.bias_report(df_super_balanced, \n",
    "                   facet_column, \n",
    "                   label_column, \n",
    "                   stage_type=report.StageType.PRE_TRAINING, \n",
    "                   group_variable=group_variable\n",
    "                  )"
   ]
  },
  {
   "cell_type": "code",
   "execution_count": null,
   "metadata": {},
   "outputs": [],
   "source": []
  }
 ],
 "metadata": {
  "kernelspec": {
   "display_name": "conda_python3",
   "language": "python",
   "name": "conda_python3"
  },
  "language_info": {
   "codemirror_mode": {
    "name": "ipython",
    "version": 3
   },
   "file_extension": ".py",
   "mimetype": "text/x-python",
   "name": "python",
   "nbconvert_exporter": "python",
   "pygments_lexer": "ipython3",
   "version": "3.6.10"
  }
 },
 "nbformat": 4,
 "nbformat_minor": 4
}
