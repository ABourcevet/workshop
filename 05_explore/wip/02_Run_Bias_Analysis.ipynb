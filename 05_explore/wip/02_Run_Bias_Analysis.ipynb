{
 "cells": [
  {
   "cell_type": "markdown",
   "metadata": {},
   "source": [
    "# Run Bias Analysis On Dataset Using SageMaker Clarify\n",
    "https://github.com/aws/amazon-sagemaker-clarify\n"
   ]
  },
  {
   "cell_type": "code",
   "execution_count": 1,
   "metadata": {},
   "outputs": [],
   "source": [
    "!pip install -q smclarify==0.1"
   ]
  },
  {
   "cell_type": "code",
   "execution_count": 2,
   "metadata": {},
   "outputs": [
    {
     "name": "stdout",
     "output_type": "stream",
     "text": [
      "smclarify                          0.1\n"
     ]
    }
   ],
   "source": [
    "!pip list | grep smclarify"
   ]
  },
  {
   "cell_type": "code",
   "execution_count": 3,
   "metadata": {
    "collapsed": false,
    "jupyter": {
     "outputs_hidden": false
    },
    "pycharm": {
     "name": "#%%\n"
    }
   },
   "outputs": [],
   "source": [
    "from smclarify.bias import report\n",
    "from typing import Dict\n",
    "from collections import defaultdict\n",
    "import pandas as pd\n",
    "import seaborn as sns"
   ]
  },
  {
   "cell_type": "markdown",
   "metadata": {},
   "source": [
    "# Read Dataset From S3"
   ]
  },
  {
   "cell_type": "code",
   "execution_count": 4,
   "metadata": {},
   "outputs": [],
   "source": [
    "%store -r bias_data_s3_uri"
   ]
  },
  {
   "cell_type": "code",
   "execution_count": 5,
   "metadata": {},
   "outputs": [
    {
     "name": "stdout",
     "output_type": "stream",
     "text": [
      "s3://sagemaker-us-east-1-231218423789/data/amazon_reviews_us_giftcards_software_videogames.csv\n"
     ]
    }
   ],
   "source": [
    "print(bias_data_s3_uri)"
   ]
  },
  {
   "cell_type": "code",
   "execution_count": 6,
   "metadata": {},
   "outputs": [],
   "source": [
    "%store -r balanced_bias_data_s3_uri"
   ]
  },
  {
   "cell_type": "code",
   "execution_count": 7,
   "metadata": {},
   "outputs": [
    {
     "name": "stdout",
     "output_type": "stream",
     "text": [
      "s3://sagemaker-us-east-1-231218423789/data/amazon_reviews_us_giftcards_software_videogames_balanced.csv\n"
     ]
    }
   ],
   "source": [
    "print(balanced_bias_data_s3_uri)"
   ]
  },
  {
   "cell_type": "code",
   "execution_count": 8,
   "metadata": {},
   "outputs": [
    {
     "name": "stdout",
     "output_type": "stream",
     "text": [
      "download: s3://sagemaker-us-east-1-231218423789/data/amazon_reviews_us_giftcards_software_videogames.csv to data/amazon_reviews_us_giftcards_software_videogames.csv\n"
     ]
    }
   ],
   "source": [
    "!aws s3 cp $bias_data_s3_uri ./data/"
   ]
  },
  {
   "cell_type": "code",
   "execution_count": 9,
   "metadata": {},
   "outputs": [
    {
     "name": "stdout",
     "output_type": "stream",
     "text": [
      "download: s3://sagemaker-us-east-1-231218423789/data/amazon_reviews_us_giftcards_software_videogames_balanced.csv to data/amazon_reviews_us_giftcards_software_videogames_balanced.csv\n"
     ]
    }
   ],
   "source": [
    "!aws s3 cp $balanced_bias_data_s3_uri ./data/"
   ]
  },
  {
   "cell_type": "code",
   "execution_count": 10,
   "metadata": {},
   "outputs": [
    {
     "data": {
      "text/plain": [
       "(396601, 15)"
      ]
     },
     "execution_count": 10,
     "metadata": {},
     "output_type": "execute_result"
    }
   ],
   "source": [
    "df = pd.read_csv('./data/amazon_reviews_us_giftcards_software_videogames.csv')\n",
    "df.shape"
   ]
  },
  {
   "cell_type": "code",
   "execution_count": 11,
   "metadata": {},
   "outputs": [
    {
     "data": {
      "text/plain": [
       "(81040, 15)"
      ]
     },
     "execution_count": 11,
     "metadata": {},
     "output_type": "execute_result"
    }
   ],
   "source": [
    "df_balanced = pd.read_csv('./data/amazon_reviews_us_giftcards_software_videogames_balanced.csv')\n",
    "df_balanced.shape"
   ]
  },
  {
   "cell_type": "markdown",
   "metadata": {},
   "source": [
    "# Visualize Data"
   ]
  },
  {
   "cell_type": "code",
   "execution_count": 15,
   "metadata": {
    "collapsed": false,
    "jupyter": {
     "outputs_hidden": false
    },
    "pycharm": {
     "name": "#%%\n"
    }
   },
   "outputs": [
    {
     "data": {
      "text/plain": [
       "<matplotlib.axes._subplots.AxesSubplot at 0x7f3c49aa65f8>"
      ]
     },
     "execution_count": 15,
     "metadata": {},
     "output_type": "execute_result"
    },
    {
     "data": {
      "image/png": "[encoded data removed]",
      "text/plain": [
       "<Figure size 432x288 with 1 Axes>"
      ]
     },
     "metadata": {
      "needs_background": "light"
     },
     "output_type": "display_data"
    }
   ],
   "source": [
    "sns.countplot(df['star_rating'])"
   ]
  },
  {
   "cell_type": "code",
   "execution_count": 16,
   "metadata": {
    "collapsed": false,
    "jupyter": {
     "outputs_hidden": false
    },
    "pycharm": {
     "name": "#%%\n"
    }
   },
   "outputs": [
    {
     "data": {
      "text/plain": [
       "<matplotlib.axes._subplots.AxesSubplot at 0x7f3c499a6710>"
      ]
     },
     "execution_count": 16,
     "metadata": {},
     "output_type": "execute_result"
    },
    {
     "data": {
      "image/png": "[encoded data removed]",
      "text/plain": [
       "<Figure size 432x288 with 1 Axes>"
      ]
     },
     "metadata": {
      "needs_background": "light"
     },
     "output_type": "display_data"
    }
   ],
   "source": [
    "sns.countplot(df_balanced['star_rating'])"
   ]
  },
  {
   "cell_type": "markdown",
   "metadata": {},
   "source": [
    "# Show Number of Reviews per Category and Star Rating"
   ]
  },
  {
   "cell_type": "code",
   "execution_count": 17,
   "metadata": {},
   "outputs": [
    {
     "data": {
      "text/plain": [
       "(81040, 15)"
      ]
     },
     "execution_count": 17,
     "metadata": {},
     "output_type": "execute_result"
    }
   ],
   "source": [
    "df_balanced.shape"
   ]
  },
  {
   "cell_type": "code",
   "execution_count": 20,
   "metadata": {},
   "outputs": [
    {
     "name": "stdout",
     "output_type": "stream",
     "text": [
      "   star_rating  Count\n",
      "0            5  16208\n",
      "1            4  16208\n",
      "2            3  16208\n",
      "3            2  16208\n",
      "4            1  16208\n"
     ]
    }
   ],
   "source": [
    "num_stars = df_balanced.groupby(['star_rating'], sort=False).size().reset_index(name='Count')\n",
    "print(num_stars)"
   ]
  },
  {
   "cell_type": "code",
   "execution_count": 18,
   "metadata": {},
   "outputs": [
    {
     "name": "stdout",
     "output_type": "stream",
     "text": [
      "       product_category  star_rating  Count\n",
      "0             Gift Card            5   8198\n",
      "1   Digital_Video_Games            5   5133\n",
      "2      Digital_Software            5   2877\n",
      "3   Digital_Video_Games            4   7151\n",
      "4      Digital_Software            4   5739\n",
      "5             Gift Card            4   3318\n",
      "6   Digital_Video_Games            3   8178\n",
      "7      Digital_Software            3   5858\n",
      "8             Gift Card            3   2172\n",
      "9      Digital_Software            2   6890\n",
      "10  Digital_Video_Games            2   7749\n",
      "11            Gift Card            2   1569\n",
      "12     Digital_Software            1   7192\n",
      "13            Gift Card            1   1394\n",
      "14  Digital_Video_Games            1   7622\n"
     ]
    }
   ],
   "source": [
    "num = df_balanced.groupby(['product_category','star_rating'], sort=False).size().reset_index(name='Count')\n",
    "print(num)"
   ]
  },
  {
   "cell_type": "markdown",
   "metadata": {},
   "source": [
    "# Calculate Pre-Training Bias Metrics"
   ]
  },
  {
   "cell_type": "markdown",
   "metadata": {},
   "source": [
    "## Define \n",
    "* Facet Column (= Product Category), \n",
    "* Label Column (= Star Rating), \n",
    "* Positive Label Value (= 5)"
   ]
  },
  {
   "cell_type": "code",
   "execution_count": 54,
   "metadata": {
    "collapsed": false,
    "jupyter": {
     "outputs_hidden": false
    },
    "pycharm": {
     "name": "#%%\n"
    }
   },
   "outputs": [],
   "source": [
    "facet_column = report.FacetColumn(name='product_category')\n",
    "label_column = report.LabelColumn(name='star_rating', \n",
    "                                  data=df_balanced['star_rating'], \n",
    "                                  positive_label_values=[5] # this doesn't matter for class imbalance bias\n",
    "                                 )\n",
    "group_variable = df_balanced[\"marketplace\"]\n"
   ]
  },
  {
   "cell_type": "markdown",
   "metadata": {},
   "source": [
    "## Run SageMaker Clarify Bias Report"
   ]
  },
  {
   "cell_type": "code",
   "execution_count": 55,
   "metadata": {
    "collapsed": false,
    "jupyter": {
     "outputs_hidden": false
    },
    "pycharm": {
     "name": "#%%\n"
    }
   },
   "outputs": [
    {
     "data": {
      "text/plain": [
       "[{'value_or_threshold': 'Gift Card',\n",
       "  'metrics': [{'name': 'CDDL',\n",
       "    'description': 'Conditional Demographic Disparity in Labels (CDDL)',\n",
       "    'value': -0.3754164610069102},\n",
       "   {'name': 'CI',\n",
       "    'description': 'Class Imbalance (CI)',\n",
       "    'value': 0.5890671273445213},\n",
       "   {'name': 'DPL',\n",
       "    'description': 'Difference in Positive Proportions in Labels (DPL)',\n",
       "    'value': -0.3679426717770344},\n",
       "   {'name': 'JS',\n",
       "    'description': 'Jensen-Shannon Divergence (JS)',\n",
       "    'value': 0.11632161004661548},\n",
       "   {'name': 'KL',\n",
       "    'description': 'Kullback-Liebler Divergence (KL)',\n",
       "    'value': 0.3061581684888518},\n",
       "   {'name': 'KS',\n",
       "    'description': 'Kolmogorov-Smirnov Distance (KS)',\n",
       "    'value': 0.36794267177703444},\n",
       "   {'name': 'LP', 'description': 'L-p Norm (LP)', 'value': 0.5203495166028743},\n",
       "   {'name': 'TVD',\n",
       "    'description': 'Total Variation Distance (TVD)',\n",
       "    'value': 0.36794267177703444}]},\n",
       " {'value_or_threshold': 'Digital_Video_Games',\n",
       "  'metrics': [{'name': 'CDDL',\n",
       "    'description': 'Conditional Demographic Disparity in Labels (CDDL)',\n",
       "    'value': 0.15683613030602173},\n",
       "   {'name': 'CI',\n",
       "    'description': 'Class Imbalance (CI)',\n",
       "    'value': 0.11567127344521225},\n",
       "   {'name': 'DPL',\n",
       "    'description': 'Difference in Positive Proportions in Labels (DPL)',\n",
       "    'value': 0.10173633969933835},\n",
       "   {'name': 'JS',\n",
       "    'description': 'Jensen-Shannon Divergence (JS)',\n",
       "    'value': 0.008458960027083056},\n",
       "   {'name': 'KL',\n",
       "    'description': 'Kullback-Liebler Divergence (KL)',\n",
       "    'value': 0.036021228914939876},\n",
       "   {'name': 'KS',\n",
       "    'description': 'Kolmogorov-Smirnov Distance (KS)',\n",
       "    'value': 0.10173633969933837},\n",
       "   {'name': 'LP',\n",
       "    'description': 'L-p Norm (LP)',\n",
       "    'value': 0.14387691138900063},\n",
       "   {'name': 'TVD',\n",
       "    'description': 'Total Variation Distance (TVD)',\n",
       "    'value': 0.10173633969933836}]},\n",
       " {'value_or_threshold': 'Digital_Software',\n",
       "  'metrics': [{'name': 'CDDL',\n",
       "    'description': 'Conditional Demographic Disparity in Labels (CDDL)',\n",
       "    'value': 0.2185803307008885},\n",
       "   {'name': 'CI',\n",
       "    'description': 'Class Imbalance (CI)',\n",
       "    'value': 0.2952615992102665},\n",
       "   {'name': 'DPL',\n",
       "    'description': 'Difference in Positive Proportions in Labels (DPL)',\n",
       "    'value': 0.1532518147407252},\n",
       "   {'name': 'JS',\n",
       "    'description': 'Jensen-Shannon Divergence (JS)',\n",
       "    'value': 0.022330515296729518},\n",
       "   {'name': 'KL',\n",
       "    'description': 'Kullback-Liebler Divergence (KL)',\n",
       "    'value': 0.09549487739101886},\n",
       "   {'name': 'KS',\n",
       "    'description': 'Kolmogorov-Smirnov Distance (KS)',\n",
       "    'value': 0.1532518147407252},\n",
       "   {'name': 'LP',\n",
       "    'description': 'L-p Norm (LP)',\n",
       "    'value': 0.21673079486462254},\n",
       "   {'name': 'TVD',\n",
       "    'description': 'Total Variation Distance (TVD)',\n",
       "    'value': 0.15325181474072516}]}]"
      ]
     },
     "execution_count": 55,
     "metadata": {},
     "output_type": "execute_result"
    }
   ],
   "source": [
    "report.bias_report(df_balanced, \n",
    "                   facet_column, \n",
    "                   label_column, \n",
    "                   stage_type=report.StageType.PRE_TRAINING, \n",
    "                   group_variable=group_variable\n",
    "                  )"
   ]
  },
  {
   "cell_type": "code",
   "execution_count": null,
   "metadata": {},
   "outputs": [],
   "source": []
  },
  {
   "cell_type": "code",
   "execution_count": null,
   "metadata": {},
   "outputs": [],
   "source": []
  },
  {
   "cell_type": "markdown",
   "metadata": {},
   "source": [
    "# EXTRA: Create A Completely Balanced Dataset Across Categories AND Star Ratings"
   ]
  },
  {
   "cell_type": "code",
   "execution_count": 56,
   "metadata": {},
   "outputs": [],
   "source": [
    "# df_giftcard5 = df_balanced.query('star_rating==5 and product_category==\"Gift Card\"')\n",
    "# df_giftcard5=df_giftcard5[:343]\n",
    "# df_giftcard5.shape"
   ]
  },
  {
   "cell_type": "code",
   "execution_count": 57,
   "metadata": {},
   "outputs": [],
   "source": [
    "# df_giftcard4 = df_balanced.query('star_rating==4 and product_category==\"Gift Card\"')\n",
    "# df_giftcard4=df_giftcard4[:343]\n",
    "# df_giftcard4.shape"
   ]
  },
  {
   "cell_type": "code",
   "execution_count": 58,
   "metadata": {},
   "outputs": [],
   "source": [
    "# df_giftcard3 = df_balanced.query('star_rating==3 and product_category==\"Gift Card\"')\n",
    "# df_giftcard3=df_giftcard3[:343]\n",
    "# df_giftcard3.shape"
   ]
  },
  {
   "cell_type": "code",
   "execution_count": 59,
   "metadata": {},
   "outputs": [],
   "source": [
    "# df_giftcard2 = df_balanced.query('star_rating==2 and product_category==\"Gift Card\"')\n",
    "# df_giftcard2=df_giftcard2[:343]\n",
    "# df_giftcard2.shape"
   ]
  },
  {
   "cell_type": "code",
   "execution_count": 60,
   "metadata": {},
   "outputs": [],
   "source": [
    "# df_giftcard1 = df_balanced.query('star_rating==1 and product_category==\"Gift Card\"')\n",
    "# df_giftcard1=df_giftcard1[:343]\n",
    "# df_giftcard1.shape"
   ]
  },
  {
   "cell_type": "code",
   "execution_count": 61,
   "metadata": {},
   "outputs": [],
   "source": [
    "# df_videogames5 = df_balanced.query('star_rating==5 and product_category==\"Digital_Video_Games\"')\n",
    "# df_videogames5=df_videogames5[:343]\n",
    "# df_videogames5.shape"
   ]
  },
  {
   "cell_type": "code",
   "execution_count": 62,
   "metadata": {},
   "outputs": [],
   "source": [
    "# df_videogames4 = df_balanced.query('star_rating==4 and product_category==\"Digital_Video_Games\"')\n",
    "# df_videogames4=df_videogames4[:343]\n",
    "# df_videogames4.shape"
   ]
  },
  {
   "cell_type": "code",
   "execution_count": 63,
   "metadata": {},
   "outputs": [],
   "source": [
    "# df_videogames3 = df_balanced.query('star_rating==3 and product_category==\"Digital_Video_Games\"')\n",
    "# df_videogames3=df_videogames3[:343]\n",
    "# df_videogames3.shape"
   ]
  },
  {
   "cell_type": "code",
   "execution_count": 64,
   "metadata": {},
   "outputs": [],
   "source": [
    "# df_videogames2 = df_balanced.query('star_rating==2 and product_category==\"Digital_Video_Games\"')\n",
    "# df_videogames2=df_videogames2[:343]\n",
    "# df_videogames2.shape"
   ]
  },
  {
   "cell_type": "code",
   "execution_count": 65,
   "metadata": {},
   "outputs": [],
   "source": [
    "# df_videogames1 = df_balanced.query('star_rating==1 and product_category==\"Digital_Video_Games\"')\n",
    "# df_videogames1=df_videogames1[:343]\n",
    "# df_videogames1.shape"
   ]
  },
  {
   "cell_type": "code",
   "execution_count": 66,
   "metadata": {},
   "outputs": [],
   "source": [
    "# df_software5 = df_balanced.query('star_rating==5 and product_category==\"Digital_Software\"')\n",
    "# df_software5=df_software5[:343]\n",
    "# df_software5.shape"
   ]
  },
  {
   "cell_type": "code",
   "execution_count": 67,
   "metadata": {},
   "outputs": [],
   "source": [
    "# df_software4 = df_balanced.query('star_rating==4 and product_category==\"Digital_Software\"')\n",
    "# df_software4=df_software4[:343]\n",
    "# df_software4.shape"
   ]
  },
  {
   "cell_type": "code",
   "execution_count": 68,
   "metadata": {},
   "outputs": [],
   "source": [
    "# df_software3 = df_balanced.query('star_rating==3 and product_category==\"Digital_Software\"')\n",
    "# df_software3=df_software3[:343]\n",
    "# df_software3.shape"
   ]
  },
  {
   "cell_type": "code",
   "execution_count": 69,
   "metadata": {},
   "outputs": [],
   "source": [
    "# df_software2 = df_balanced.query('star_rating==2 and product_category==\"Digital_Software\"')\n",
    "# df_software2=df_software2[:343]\n",
    "# df_software2.shape"
   ]
  },
  {
   "cell_type": "code",
   "execution_count": 70,
   "metadata": {},
   "outputs": [],
   "source": [
    "# df_software1 = df_balanced.query('star_rating==1 and product_category==\"Digital_Software\"')\n",
    "# df_software1=df_software1[:343]\n",
    "# df_software1.shape"
   ]
  },
  {
   "cell_type": "markdown",
   "metadata": {},
   "source": [
    "## Generate 4th Sample"
   ]
  },
  {
   "cell_type": "code",
   "execution_count": 71,
   "metadata": {},
   "outputs": [],
   "source": [
    "# df_bla5 = df_balanced.query('star_rating==5 and product_category==\"Digital_Software\"')\n",
    "# df_bla5['product_category'] = 'bla' # df_bla5['product_category'].str.replace('Digital_Software', 'bla')\n",
    "# df_bla5=df_bla5[:343]\n",
    "# df_bla5.shape"
   ]
  },
  {
   "cell_type": "code",
   "execution_count": 72,
   "metadata": {},
   "outputs": [],
   "source": [
    "# df_bla4 = df_balanced.query('star_rating==4 and product_category==\"Digital_Software\"')\n",
    "# df_bla4['product_category'] = 'bla' # df_bla4['product_category'].str.replace('Digital_Software', 'bla')\n",
    "# df_bla4=df_bla4[:343]\n",
    "# df_bla4.shape"
   ]
  },
  {
   "cell_type": "code",
   "execution_count": 73,
   "metadata": {},
   "outputs": [],
   "source": [
    "# df_bla3 = df_balanced.query('star_rating==3 and product_category==\"Digital_Software\"')\n",
    "# df_bla3['product_category'] = 'bla' # df_bla3['product_category'].str.replace('Digital_Software', 'bla')\n",
    "\n",
    "# df_bla3=df_bla3[:343]\n",
    "# df_bla3.shape"
   ]
  },
  {
   "cell_type": "code",
   "execution_count": 74,
   "metadata": {},
   "outputs": [],
   "source": [
    "# df_bla2 = df_balanced.query('star_rating==2 and product_category==\"Digital_Software\"')\n",
    "# df_bla2['product_category'] = 'bla' # df_bla2['product_category'].str.replace('Digital_Software', 'bla')\n",
    "\n",
    "# df_bla2=df_bla2[:343]\n",
    "# df_bla2.shape"
   ]
  },
  {
   "cell_type": "code",
   "execution_count": 75,
   "metadata": {},
   "outputs": [],
   "source": [
    "# df_bla1 = df_balanced.query('star_rating==1 and product_category==\"Digital_Software\"')\n",
    "# df_bla1['product_category'] = 'bla' # df_bla1['product_category'].str.replace('Digital_Software', 'bla')\n",
    "# df_bla1=df_bla1[:343]\n",
    "# df_bla1.shape"
   ]
  },
  {
   "cell_type": "markdown",
   "metadata": {},
   "source": [
    "## Generate 5th Sample"
   ]
  },
  {
   "cell_type": "code",
   "execution_count": 76,
   "metadata": {},
   "outputs": [],
   "source": [
    "# df_blah5 = df_balanced.query('star_rating==5 and product_category==\"Digital_Software\"')\n",
    "# df_blah5['product_category'] = 'blah' # df_bla5['product_category'].str.replace('Digital_Software', 'bla')\n",
    "# df_blah5=df_blah5[:343]\n",
    "# df_blah5.shape"
   ]
  },
  {
   "cell_type": "code",
   "execution_count": 77,
   "metadata": {},
   "outputs": [],
   "source": [
    "# df_blah4 = df_balanced.query('star_rating==4 and product_category==\"Digital_Software\"')\n",
    "# df_blah4['product_category'] = 'blah' # df_bla4['product_category'].str.replace('Digital_Software', 'bla')\n",
    "# df_blah4=df_blah4[:343]\n",
    "# df_blah4.shape"
   ]
  },
  {
   "cell_type": "code",
   "execution_count": 78,
   "metadata": {},
   "outputs": [],
   "source": [
    "# df_blah3 = df_balanced.query('star_rating==3 and product_category==\"Digital_Software\"')\n",
    "# df_blah3['product_category'] = 'bla' # df_bla3['product_category'].str.replace('Digital_Software', 'bla')\n",
    "\n",
    "# df_blah3=df_blah3[:343]\n",
    "# df_blah3.shape"
   ]
  },
  {
   "cell_type": "code",
   "execution_count": 79,
   "metadata": {},
   "outputs": [],
   "source": [
    "# df_blah2 = df_balanced.query('star_rating==2 and product_category==\"Digital_Software\"')\n",
    "# df_blah2['product_category'] = 'blah' # df_bla2['product_category'].str.replace('Digital_Software', 'bla')\n",
    "\n",
    "# df_blah2=df_blah2[:343]\n",
    "# df_blah2.shape"
   ]
  },
  {
   "cell_type": "code",
   "execution_count": 80,
   "metadata": {},
   "outputs": [],
   "source": [
    "# df_blah1 = df_balanced.query('star_rating==1 and product_category==\"Digital_Software\"')\n",
    "# df_blah1['product_category'] = 'blah' # df_bla1['product_category'].str.replace('Digital_Software', 'bla')\n",
    "# df_blah1=df_blah1[:343]\n",
    "# df_blah1.shape"
   ]
  },
  {
   "cell_type": "markdown",
   "metadata": {},
   "source": [
    "# Concatenate All Data Frames Into `Super` Balanced Data Frame"
   ]
  },
  {
   "cell_type": "code",
   "execution_count": 81,
   "metadata": {},
   "outputs": [],
   "source": [
    "# df_super_balanced = pd.concat([df_giftcard5, \n",
    "# #                               df_giftcard4, \n",
    "#                                df_giftcard3, \n",
    "# #                               df_giftcard2, \n",
    "#                                df_giftcard1, \n",
    "#                                df_videogames5, \n",
    "# #                               df_videogames4, \n",
    "#                                df_videogames3, \n",
    "# #                               df_videogames2, \n",
    "#                                df_videogames1, \n",
    "#                               df_software5, \n",
    "# #                               df_software4, \n",
    "#                                df_software3, \n",
    "# #                               df_software2, \n",
    "#                               df_software1,\n",
    "# #                               df_bla5,\n",
    "# #                                df_bla4,\n",
    "# #                                df_bla3,\n",
    "# #                                df_bla2,                               \n",
    "# #                               df_bla1,\n",
    "# #                               df_blah5,\n",
    "# #                                df_blah4,\n",
    "# #                                df_blah3,\n",
    "# #                                df_blah2,                               \n",
    "# #                               df_blah1                               \n",
    "#                               ], ignore_index=True, sort=False)\n",
    "# df_super_balanced.shape"
   ]
  }
 ],
 "metadata": {
  "kernelspec": {
   "display_name": "conda_python3",
   "language": "python",
   "name": "conda_python3"
  },
  "language_info": {
   "codemirror_mode": {
    "name": "ipython",
    "version": 3
   },
   "file_extension": ".py",
   "mimetype": "text/x-python",
   "name": "python",
   "nbconvert_exporter": "python",
   "pygments_lexer": "ipython3",
   "version": "3.6.10"
  }
 },
 "nbformat": 4,
 "nbformat_minor": 4
}
