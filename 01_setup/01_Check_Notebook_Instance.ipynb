{
 "cells": [
  {
   "cell_type": "markdown",
   "metadata": {},
   "source": [
    "# Check that the Notebook Instance is set up correctly"
   ]
  },
  {
   "cell_type": "code",
   "execution_count": null,
   "metadata": {},
   "outputs": [],
   "source": [
    "import boto3\n",
    "\n",
    "region = boto3.Session().region_name\n",
    "session = boto3.session.Session()\n",
    "\n",
    "ec2 = boto3.Session().client(service_name='ec2', region_name=region)\n",
    "sm = boto3.Session().client(service_name='sagemaker', region_name=region)"
   ]
  },
  {
   "cell_type": "markdown",
   "metadata": {},
   "source": [
    "# Check Notebook Instance Name and Instance Type"
   ]
  },
  {
   "cell_type": "code",
   "execution_count": null,
   "metadata": {},
   "outputs": [],
   "source": [
    "import json\n",
    "\n",
    "with open('/opt/ml/metadata/resource-metadata.json') as notebook_info:\n",
    "    data = json.load(notebook_info)\n",
    "    resource_arn = data['ResourceArn']\n",
    "    region = resource_arn.split(':')[3]\n",
    "    notebook_instance_name = data['ResourceName']\n",
    "\n",
    "print(notebook_instance_name)"
   ]
  },
  {
   "cell_type": "markdown",
   "metadata": {},
   "source": [
    "# Check Notebook Instance Settings"
   ]
  },
  {
   "cell_type": "code",
   "execution_count": null,
   "metadata": {},
   "outputs": [],
   "source": [
    "response = sm.describe_notebook_instance(\n",
    "        NotebookInstanceName=notebook_instance_name\n",
    ")\n",
    "print(response)"
   ]
  },
  {
   "cell_type": "code",
   "execution_count": null,
   "metadata": {},
   "outputs": [],
   "source": [
    "try: \n",
    "    notebook_instance_arn = response['NotebookInstanceArn']\n",
    "    print('[OK] Notebook Instance ARN: {}\\n'.format(notebook_instance_arn))\n",
    "except:\n",
    "    print('+++++++++++++++++++++++++++++++++++++++++++++++++++++++++++')\n",
    "    print('[STOP] Could not find the notebook instance ARN in {}.'.format(response))\n",
    "    print('+++++++++++++++++++++++++++++++++++++++++++++++++++++++++++')"
   ]
  },
  {
   "cell_type": "code",
   "execution_count": null,
   "metadata": {},
   "outputs": [],
   "source": [
    "try: \n",
    "    subnet_id = response['SubnetId']\n",
    "    print('[OK] Subnet ID: {}'.format(subnet_id))\n",
    "except: \n",
    "    print('+++++++++++++++++++++++++++++++++++++++++++++++++++++++++++')\n",
    "    print('[STOP]: YOU NEED TO SET UP THE INSTANCE WITH VPC AND SUBNET. Could not find the SubnetId in {}.'.format(response))\n",
    "    print('+++++++++++++++++++++++++++++++++++++++++++++++++++++++++++')"
   ]
  },
  {
   "cell_type": "code",
   "execution_count": null,
   "metadata": {},
   "outputs": [],
   "source": [
    "try: \n",
    "    security_group = response['SecurityGroups']\n",
    "    print('[OK] Security Group: {}'.format(security_group))\n",
    "except: \n",
    "    print('+++++++++++++++++++++++++++++++++++++++++++++++++++++++++++')\n",
    "    print('[STOP]: YOU NEED TO SET UP THE INSTANCE WITH VPC AND SUBNET. Could not find SecurityGroups in {}.'.format(response))\n",
    "    print('+++++++++++++++++++++++++++++++++++++++++++++++++++++++++++')"
   ]
  },
  {
   "cell_type": "code",
   "execution_count": null,
   "metadata": {},
   "outputs": [],
   "source": [
    "try: \n",
    "    direct_internet_access = response['DirectInternetAccess']\n",
    "    if direct_internet_access == 'Disabled':\n",
    "        print('+++++++++++++++++++++++++++++++++++++++++++++++++++++++++++')\n",
    "        print('[STOP]: YOU NEED TO SET UP THE INSTANCE WITH INTERNET ACCESS ENABLED')\n",
    "        print('+++++++++++++++++++++++++++++++++++++++++++++++++++++++++++')\n",
    "    else:\n",
    "        print('[OK] Direct Internet Access: {}'.format(direct_internet_access))\n",
    "except:\n",
    "    print('+++++++++++++++++++++++++++++++++++++++++++++++++++++++++++')\n",
    "    print('[STOP]: CHECK YOU SET A VPC AND HAVE DIRECT INTERNET ACCESS ENABLED')\n",
    "    print('+++++++++++++++++++++++++++++++++++++++++++++++++++++++++++')"
   ]
  },
  {
   "cell_type": "code",
   "execution_count": null,
   "metadata": {},
   "outputs": [],
   "source": [
    "min_volume_size=250"
   ]
  },
  {
   "cell_type": "code",
   "execution_count": null,
   "metadata": {},
   "outputs": [],
   "source": [
    "volume_size = 0\n",
    "\n",
    "try:\n",
    "    volume_size = response['VolumeSizeInGB']\n",
    "    int(volume_size)\n",
    "    if volume_size < min_volume_size: \n",
    "        print('+++++++++++++++++++++++++++++++++++++++++++++++++++++++++++')\n",
    "        print('[STOP]: YOU ONLY HAVE {} GB VOLUME SIZE. YOU NEED TO SET UP YOUR INSTANCE WITH 250 GB VOLUME SIZE'.format(volume_size))\n",
    "        print('+++++++++++++++++++++++++++++++++++++++++++++++++++++++++++')\n",
    "    else:\n",
    "        print('[OK] Volume Size: {}'.format(volume_size))\n",
    "except:\n",
    "    print('+++++++++++++++++++++++++++++++++++++++++++++++++++++++++++')\n",
    "    print('[STOP]: COULD NOT FIND THE VOLUME SIZE IN {}'.format(response))\n",
    "    print('+++++++++++++++++++++++++++++++++++++++++++++++++++++++++++')"
   ]
  },
  {
   "cell_type": "code",
   "execution_count": null,
   "metadata": {},
   "outputs": [],
   "source": [
    "if volume_size >= min_volume_size and direct_internet_access == 'Enabled' and security_group and subnet_id and notebook_instance_arn:\n",
    "    instance_checks_passed=True\n",
    "    print('[OK] Please continue.')\n",
    "else:\n",
    "    instance_checks_passed=False\n",
    "    print('+++++++++++++++++++++++++++++++++++++++++++++++++++++++++++')\n",
    "    print('[STOP] WE HAVE IDENTIFIED A MISCONFIGURATION.')\n",
    "    print('[STOP] STOP/DELETE THIS NOTEBOOK INSTANCE AND CREATE A NEW ONE FOLLOWING THE INSTRUCTIONS')\n",
    "    print('[STOP] volume_size = {}, direct_internet_access = {}, security_group = {}, subnet_id = {}, notebook_instance_arn = {}'.format(volume_size, direct_internet_access, security_group, subnet_id, notebook_instance_arn))\n",
    "    print('+++++++++++++++++++++++++++++++++++++++++++++++++++++++++++')"
   ]
  },
  {
   "cell_type": "markdown",
   "metadata": {},
   "source": [
    "# Please Make Sure You Don't See ^^ STOP ^^ Message Above\n",
    "\n",
    "# _If You Do, Please Stop and Delete This Notebook Instance._ \n",
    "\n",
    "# _Create A New Notebook Instance With The Correct Settings (See Instructions)._"
   ]
  },
  {
   "cell_type": "code",
   "execution_count": null,
   "metadata": {},
   "outputs": [],
   "source": [
    "%store instance_checks_passed"
   ]
  },
  {
   "cell_type": "code",
   "execution_count": null,
   "metadata": {},
   "outputs": [],
   "source": [
    "%store"
   ]
  },
  {
   "cell_type": "markdown",
   "metadata": {},
   "source": [
    "# Stop this Notebook to Release Resources"
   ]
  },
  {
   "cell_type": "code",
   "execution_count": null,
   "metadata": {},
   "outputs": [],
   "source": [
    "%%javascript\n",
    "Jupyter.notebook.save_checkpoint();\n",
    "Jupyter.notebook.session.delete();"
   ]
  }
 ],
 "metadata": {
  "kernelspec": {
   "display_name": "conda_python3",
   "language": "python",
   "name": "conda_python3"
  },
  "language_info": {
   "codemirror_mode": {
    "name": "ipython",
    "version": 3
   },
   "file_extension": ".py",
   "mimetype": "text/x-python",
   "name": "python",
   "nbconvert_exporter": "python",
   "pygments_lexer": "ipython3",
   "version": "3.6.10"
  }
 },
 "nbformat": 4,
 "nbformat_minor": 4
}
