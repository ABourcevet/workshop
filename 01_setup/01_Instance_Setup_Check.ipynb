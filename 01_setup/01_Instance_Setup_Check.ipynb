{
 "cells": [
  {
   "cell_type": "markdown",
   "metadata": {},
   "source": [
    "# Check that the Notebook Instance is set up correctly"
   ]
  },
  {
   "cell_type": "code",
   "execution_count": null,
   "metadata": {},
   "outputs": [],
   "source": [
    "import boto3\n",
    "\n",
    "session = boto3.session.Session()\n",
    "region_name = session.region_name\n",
    "\n",
    "ec2 = boto3.resource('ec2')\n",
    "sm = boto3.client('sagemaker')"
   ]
  },
  {
   "cell_type": "markdown",
   "metadata": {},
   "source": [
    "# Check Notebook Instance Name and Instance Type"
   ]
  },
  {
   "cell_type": "code",
   "execution_count": null,
   "metadata": {},
   "outputs": [],
   "source": [
    "response = sm.list_notebook_instances()\n",
    "\n",
    "try: \n",
    "    notebook_instance_name = response['NotebookInstances'][0]['NotebookInstanceName']\n",
    "    print('Notebook Instance Name: {}'.format(notebook_instance_name))\n",
    "except:\n",
    "    print('Something went wrong.')\n",
    "\n",
    "try: \n",
    "    instance_type = response['NotebookInstances'][0]['InstanceType']\n",
    "    print('Notebook Instance Type: {}'.format(instance_type))\n",
    "except:\n",
    "    print('Something went wrong.')"
   ]
  },
  {
   "cell_type": "markdown",
   "metadata": {},
   "source": [
    "# Check Notebook Instance Settings"
   ]
  },
  {
   "cell_type": "code",
   "execution_count": null,
   "metadata": {},
   "outputs": [],
   "source": [
    "try: \n",
    "    response = sm.describe_notebook_instance(\n",
    "        NotebookInstanceName=notebook_instance_name\n",
    "    )\n",
    "except:\n",
    "    print('Something went wrong.')\n",
    "\n",
    "try: \n",
    "    notebook_instance_arn = response['NotebookInstanceArn']\n",
    "    print('Notebook Instance ARN: {}\\n'.format(notebook_instance_arn))\n",
    "except:\n",
    "    print('Something went wrong.')\n",
    "\n",
    "try: \n",
    "    subnet_id = response['SubnetId']\n",
    "    print('[OK] Subnet ID: {}'.format(subnet_id))\n",
    "except: \n",
    "    print('+++++++++ STOP: YOU NEED TO SET UP THE INSTANCE WITH VPC AND SUBNET')\n",
    "\n",
    "try: \n",
    "    security_group = response['SecurityGroups']\n",
    "    print('[OK] Security Group: {}'.format(security_group))\n",
    "except: \n",
    "    print('+++++++++ STOP: YOU NEED TO SET UP THE INSTANCE WITH VPC AND SUBNET')\n",
    "\n",
    "try: \n",
    "    direct_internet_access = response['DirectInternetAccess']\n",
    "    if direct_internet_access == 'Disabled':\n",
    "        print('+++++++++ STOP: YOU NEED TO SET UP THE INSTANCE WITH INTERNET ACCESS ENABLED')\n",
    "    else:\n",
    "        print('[OK] Direct Internet Access: {}'.format(direct_internet_access))\n",
    "except:\n",
    "    print('+++++++++ STOP: CHECK YOU SET A VPC AND HAVE DIRECT INTERNET ACCESS ENABLED')\n",
    "\n",
    "\n",
    "try:\n",
    "    volume_size = response['VolumeSizeInGB']\n",
    "    int(volume_size)\n",
    "    if volume_size < 250: \n",
    "        print('+++++++++ STOP: YOU ONLY HAVE {} GB VOLUME SIZE. YOU NEED TO SET UP YOUR INSTANCE WITH 250 GB VOLUME SIZE'.format(volume_size))\n",
    "    else:\n",
    "        print('[OK] Volume Size: {}'.format(volume_size))\n",
    "except:\n",
    "    print('+++++++++ STOP: CHECK YOUR INSTANCE VOLUME SIZE')"
   ]
  },
  {
   "cell_type": "code",
   "execution_count": null,
   "metadata": {},
   "outputs": [],
   "source": [
    "setup_instance_check=True"
   ]
  },
  {
   "cell_type": "code",
   "execution_count": null,
   "metadata": {},
   "outputs": [],
   "source": [
    "%store setup_instance_check"
   ]
  },
  {
   "cell_type": "code",
   "execution_count": null,
   "metadata": {},
   "outputs": [],
   "source": [
    "%store"
   ]
  },
  {
   "cell_type": "markdown",
   "metadata": {},
   "source": [
    "# Please Make Sure You Don't See ^^ STOP ^^ Message Above\n",
    "\n",
    "# _If You Do, Please Create A New Notebook Instance With The Correct Settings (See Instructions)._"
   ]
  },
  {
   "cell_type": "markdown",
   "metadata": {},
   "source": [
    "# Stop this Notebook to Release Resources"
   ]
  },
  {
   "cell_type": "code",
   "execution_count": null,
   "metadata": {},
   "outputs": [],
   "source": [
    "%%javascript\n",
    "Jupyter.notebook.save_checkpoint();\n",
    "Jupyter.notebook.session.delete();"
   ]
  }
 ],
 "metadata": {
  "kernelspec": {
   "display_name": "conda_python3",
   "language": "python",
   "name": "conda_python3"
  },
  "language_info": {
   "codemirror_mode": {
    "name": "ipython",
    "version": 3
   },
   "file_extension": ".py",
   "mimetype": "text/x-python",
   "name": "python",
   "nbconvert_exporter": "python",
   "pygments_lexer": "ipython3",
   "version": "3.6.10"
  }
 },
 "nbformat": 4,
 "nbformat_minor": 4
}
