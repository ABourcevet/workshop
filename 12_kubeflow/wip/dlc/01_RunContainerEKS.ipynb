{
 "cells": [
  {
   "cell_type": "markdown",
   "metadata": {},
   "source": [
    "# TensorFlow CPU training"
   ]
  },
  {
   "cell_type": "markdown",
   "metadata": {},
   "source": [
    "Create a pod file for your cluster. A pod file will provide the instructions about what the cluster should run. This pod file will download Keras and run a Keras example. This example uses the TensorFlow framework. Open vi or vim and copy and paste the following content. Save this file as tf.yaml. You can use this with either TensorFlow or TensorFlow 2. To use it with TensorFlow 2, change the Docker image to a TensorFlow 2 image.\n",
    "\n"
   ]
  },
  {
   "cell_type": "markdown",
   "metadata": {},
   "source": [
    "## Clone Deep Learning Containers Repo"
   ]
  },
  {
   "cell_type": "code",
   "execution_count": null,
   "metadata": {},
   "outputs": [],
   "source": [
    "#!git clone https://github.com/aws/deep-learning-containers.git"
   ]
  },
  {
   "cell_type": "markdown",
   "metadata": {},
   "source": [
    "# Setup Environment Variables"
   ]
  },
  {
   "cell_type": "code",
   "execution_count": 1,
   "metadata": {},
   "outputs": [
    {
     "name": "stdout",
     "output_type": "stream",
     "text": [
      "Region: us-west-2\n",
      "Account ID: 231218423789\n",
      "S3 Bucket: sagemaker-us-west-2-231218423789\n",
      "SageMaker Role ARN: arn:aws:iam::231218423789:role/TeamRole\n",
      "Docker Repo Name: dlc-demo\n"
     ]
    }
   ],
   "source": [
    "import boto3\n",
    "\n",
    "aws_region_as_slist=!curl -s http://169.254.169.254/latest/meta-data/placement/availability-zone | sed 's/\\(.*\\)[a-z]/\\1/'\n",
    "region = aws_region_as_slist.s\n",
    "print('Region: {}'.format(region))\n",
    "\n",
    "account_id=boto3.client('sts').get_caller_identity().get('Account')\n",
    "print('Account ID: {}'.format(account_id))\n",
    "\n",
    "bucket='sagemaker-{}-{}'.format(region, account_id)\n",
    "print('S3 Bucket: {}'.format(bucket))\n",
    "\n",
    "role='arn:aws:iam::{}:role/TeamRole'.format(account_id)\n",
    "print('SageMaker Role ARN: {}'.format(role))\n",
    "\n",
    "docker_repo='dlc-demo'\n",
    "print('Docker Repo Name: {}'.format(docker_repo))"
   ]
  },
  {
   "cell_type": "markdown",
   "metadata": {},
   "source": [
    "# Login to ECR"
   ]
  },
  {
   "cell_type": "code",
   "execution_count": 2,
   "metadata": {},
   "outputs": [
    {
     "name": "stdout",
     "output_type": "stream",
     "text": [
      "WARNING! Using --password via the CLI is insecure. Use --password-stdin.\n",
      "WARNING! Your password will be stored unencrypted in /home/ec2-user/.docker/config.json.\n",
      "Configure a credential helper to remove this warning. See\n",
      "https://docs.docker.com/engine/reference/commandline/login/#credentials-store\n",
      "\n",
      "Login Succeeded\n"
     ]
    }
   ],
   "source": [
    "!$(aws ecr get-login --region $region --registry-ids $account_id --no-include-email)"
   ]
  },
  {
   "cell_type": "markdown",
   "metadata": {},
   "source": [
    "## Create Custom ECR Repo `dlc-demo`"
   ]
  },
  {
   "cell_type": "code",
   "execution_count": 18,
   "metadata": {},
   "outputs": [
    {
     "name": "stdout",
     "output_type": "stream",
     "text": [
      "\n",
      "An error occurred (RepositoryNotFoundException) when calling the DescribeRepositories operation: The repository with name 'dlc-demo' does not exist in the registry with id '231218423789'\n",
      "{\n",
      "    \"repository\": {\n",
      "        \"repositoryArn\": \"arn:aws:ecr:us-west-2:231218423789:repository/dlc-demo\",\n",
      "        \"registryId\": \"231218423789\",\n",
      "        \"repositoryName\": \"dlc-demo\",\n",
      "        \"repositoryUri\": \"231218423789.dkr.ecr.us-west-2.amazonaws.com/dlc-demo\",\n",
      "        \"createdAt\": 1603915788.0,\n",
      "        \"imageTagMutability\": \"MUTABLE\",\n",
      "        \"imageScanningConfiguration\": {\n",
      "            \"scanOnPush\": false\n",
      "        },\n",
      "        \"encryptionConfiguration\": {\n",
      "            \"encryptionType\": \"AES256\"\n",
      "        }\n",
      "    }\n",
      "}\n"
     ]
    }
   ],
   "source": [
    "!aws ecr describe-repositories --repository-names $docker_repo || aws ecr create-repository --repository-name $docker_repo"
   ]
  },
  {
   "cell_type": "markdown",
   "metadata": {},
   "source": [
    "# Pull the Deep Learning Container for Tensorflow 2.1 Training\n",
    "\n",
    "Available Deep Learning Container Images:  \n",
    "https://github.com/aws/deep-learning-containers/blob/master/available_images.md\n"
   ]
  },
  {
   "cell_type": "code",
   "execution_count": null,
   "metadata": {},
   "outputs": [],
   "source": [
    "dlc_repo_account_id='763104351884'\n",
    "print(dlc_repo_account_id)"
   ]
  },
  {
   "cell_type": "code",
   "execution_count": null,
   "metadata": {},
   "outputs": [],
   "source": [
    "train_image='763104351884.dkr.ecr.{}.amazonaws.com/tensorflow-training:2.1.0-cpu-py36-ubuntu18.04'.format(region)\n",
    "print(train_image)"
   ]
  },
  {
   "cell_type": "code",
   "execution_count": null,
   "metadata": {},
   "outputs": [],
   "source": [
    "dlc_repo='763104351884.dkr.ecr.{}.amazonaws.com'.format(region)\n",
    "print(dlc_repo)"
   ]
  },
  {
   "cell_type": "markdown",
   "metadata": {},
   "source": [
    "## Login to official DLC Repo"
   ]
  },
  {
   "cell_type": "code",
   "execution_count": null,
   "metadata": {},
   "outputs": [],
   "source": [
    "!$(aws ecr get-login --region $region --registry-ids $dlc_repo_account_id --no-include-email)"
   ]
  },
  {
   "cell_type": "markdown",
   "metadata": {},
   "source": [
    "## Pull DLC "
   ]
  },
  {
   "cell_type": "code",
   "execution_count": 15,
   "metadata": {},
   "outputs": [
    {
     "name": "stdout",
     "output_type": "stream",
     "text": [
      "Deleted Images:\n",
      "untagged: 231218423789.dkr.ecr.us-west-2.amazonaws.com/dlc-demo@sha256:5ceb1ee9893b8d7d637b50187edc6ee47a35a165fea38908bf214177fdfe6722\n",
      "deleted: sha256:b5e47ed796a4ee080ba916dd2ab286d0e505762bc3b5124af4ad2c3843c57dc3\n",
      "deleted: sha256:571c790b73cca3511760c8f87a69f17cd90c00d3e9a54276803e950db0e077ee\n",
      "deleted: sha256:2a307fb1280445026e389df311f34a1cf0fc8c84f33a9a1da66e12923f0c375c\n",
      "deleted: sha256:005a1bc90034be3c8b824675571c04e8a5fa0829621cdcccc6abafdf30662c5c\n",
      "deleted: sha256:0a0071ed0e01c014ef0f19b720b04f09bc7a6a4735bb784d7a4aa5d2d52dc9ca\n",
      "deleted: sha256:8557c29cf27c79e5c6a08a88b8d45e1a0093472a7c0070711169798ff8bde6c2\n",
      "untagged: 763104351884.dkr.ecr.us-west-2.amazonaws.com/tensorflow-training:2.1.0-cpu-py36-ubuntu18.04\n",
      "untagged: 763104351884.dkr.ecr.us-west-2.amazonaws.com/tensorflow-training@sha256:4911ac31a130c68a2f92b72dd81d22bd02b542cc549c5652f22c1f24e702eaf5\n",
      "untagged: 231218423789.dkr.ecr.us-west-2.amazonaws.com/dlc-demo:bert\n",
      "untagged: 231218423789.dkr.ecr.us-west-2.amazonaws.com/dlc-demo@sha256:e51a4976c3f38364d772ed87d39f377825d29949fc42cca710e56fd3b7fd45e1\n",
      "untagged: dlc-demo:bert\n",
      "deleted: sha256:7b13298dd8e38182cdf5cae546718bee65902db04f6887c618bdc441088202d7\n",
      "deleted: sha256:d8ce1623b9ddfabda07ad432cf398f64ace5966958fae9c708a80fe0b1842ac7\n",
      "deleted: sha256:d433c6566b818dea7d10d684d9ebd01ac4be3413982b724a33176090641ca223\n",
      "deleted: sha256:fbbcc59c6bf61f43acb30b02e6859bb639c02a9ddc27cd6962d9acf2664af540\n",
      "deleted: sha256:93ede4f201c04c3615993a3c10c55cf5c936421fc4b8809e09b02b3d66af2a4d\n",
      "deleted: sha256:0a5ab7f17daf55bd1edf516f0a8c937e7771e9d7fea7b83769041e8c5ed7f7db\n",
      "deleted: sha256:95a108fa4361e3d07b24489ff89b7fe5c786000993f228f998dfc7be06d188d3\n",
      "deleted: sha256:f6c61f486da564fe1343f2c32088f9142145b1f297108e048a089107b0b1af78\n",
      "untagged: 231218423789.dkr.ecr.us-west-2.amazonaws.com/dlc-demo@sha256:e6f373f43e66cfad1a23ad1dc3016191ab2a0314bbf45d4e5e89a7fe75c29957\n",
      "deleted: sha256:b94b67b497ee23075b6dc907ecbed47ffe550ee73c214ac682dae6b929253039\n",
      "deleted: sha256:a5da2cbcfec5cd7d5238df041853b4133ba73a09ad0feb47314d6f59a021fe4f\n",
      "deleted: sha256:c6449dd5172086800bbaf5f0b11d5a9e9d823905b447aee85508247c19a141c0\n",
      "deleted: sha256:789ead56569eef5f6983ee620283a49c38a79538fb3492e9cf126e876587cba8\n",
      "deleted: sha256:09784474966659c12a1fd4b471f874717b5976eaf5ea5db7482706aab4c7c770\n",
      "deleted: sha256:e4a7feded11d42ae6d5ffb683a15ac830c27692ef0dcfbbd6a50ae8f0e31cbf5\n",
      "deleted: sha256:88ccf0c00d27088646aaa5b8e69c7a9d00753269853edf84288f4f5bf8a9b76a\n",
      "deleted: sha256:8babe8a65fa6fdbf186e67aafd6b4076360c0e59f959da830f2affef00659584\n",
      "deleted: sha256:32d5edf7b9ed363199e82fc6337fec3d7abc58c9e6cb1038c63622d1737c30c5\n",
      "deleted: sha256:65584a0d6ff2edda48e8372efd2be5cc8cd9d348d8e84cd25e9f69827caa8a86\n",
      "deleted: sha256:46f6dfa48b2f7417200db362d1b818611d0c328a2fd666c45988bf6e5470e649\n",
      "deleted: sha256:eda082f2406242668e97b9df1bf664e25026b9534b34566bc04dfe8f7d1ec6f5\n",
      "deleted: sha256:fc4a419d36caecd41daac7133bca8a1bb3387c2615ad64c8cadcd6d3d8c4db80\n",
      "deleted: sha256:ecffbba1a3a60393e484c0fccfd99e17e8be6f50ff820eb9e4a9e47ad485e99f\n",
      "deleted: sha256:9d120c7d9f5de4d194a5214f0e91140ebfd083498c19c6ed96aa9b6abb083089\n",
      "deleted: sha256:883f782264ca53bc09a0a86d5ae9cd6badf7f2ba500ec5df7bd5f1a21b933d61\n",
      "deleted: sha256:8c5536664857d89e5599a39ed58f8938c61089292bc5763afb8811bf7052b009\n",
      "deleted: sha256:4b79778f657c8981b0e91a2aadd2cb920d130e9ae2fb3dc90281eb7ca17d6d46\n",
      "deleted: sha256:4f655f41f2fa028dac89811d5a80988baf064af5ab963d4250240f9888f21313\n",
      "deleted: sha256:1d9112746e9d86157c23e426ce87cc2d7bced0ba2ec8ddbdfbcc3093e0769472\n",
      "deleted: sha256:efcf4a93c18b5d01aa8e10a2e3b7e2b2eef0378336456d8653e2d123d6232c1e\n",
      "deleted: sha256:1e1aa31289fdca521c403edd6b37317bf0a349a941c7f19b6d9d311f59347502\n",
      "deleted: sha256:c8be1b8f4d60d99c281fc2db75e0f56df42a83ad2f0b091621ce19357e19d853\n",
      "\n",
      "Total reclaimed space: 2.044GB\n"
     ]
    }
   ],
   "source": [
    "!docker system prune -a -f"
   ]
  },
  {
   "cell_type": "code",
   "execution_count": 19,
   "metadata": {},
   "outputs": [
    {
     "name": "stdout",
     "output_type": "stream",
     "text": [
      "REPOSITORY          TAG                 IMAGE ID            CREATED             SIZE\n"
     ]
    }
   ],
   "source": [
    "!docker images"
   ]
  },
  {
   "cell_type": "code",
   "execution_count": null,
   "metadata": {},
   "outputs": [],
   "source": [
    "!docker pull $train_image"
   ]
  },
  {
   "cell_type": "code",
   "execution_count": null,
   "metadata": {},
   "outputs": [],
   "source": [
    "!docker images"
   ]
  },
  {
   "cell_type": "markdown",
   "metadata": {},
   "source": [
    "# Extend DLC to your needs"
   ]
  },
  {
   "cell_type": "markdown",
   "metadata": {},
   "source": [
    "## Create Dockerfile"
   ]
  },
  {
   "cell_type": "code",
   "execution_count": null,
   "metadata": {},
   "outputs": [],
   "source": [
    "# %%bash\n",
    "\n",
    "# cat <<EoF > ./docker/Dockerfile\n",
    "# # Use the Deep Learning Container as a base Image\n",
    "# FROM 763104351884.dkr.ecr.us-west-2.amazonaws.com/tensorflow-training:2.1.0-cpu-py36-ubuntu18.04\n",
    "\n",
    "# # Add any script or repo as required\n",
    "# #ADD https://github.com/data-science-on-aws/workshop/blob/07ef8914a159012058bf4ad08493dc8da808b57f/12_kubeflow/wip/dlc/code/train_orig.py /opt/ml/code/train_orig.py\n",
    "# ADD ../code/train_orig.py /opt/ml/code/train_orig.py\n",
    "\n",
    "# RUN chmod +x /opt/ml/code/train_orig.py\n",
    "\n",
    "# #WORKDIR \"/usr/local/bin\"\n",
    "# #ENTRYPOINT [\"python3\", \"train_eks.py\"]\n",
    "# WORKDIR \"/\"\n",
    "# CMD [\"bin/bash\"]\n",
    "\n",
    "# EoF"
   ]
  },
  {
   "cell_type": "code",
   "execution_count": 17,
   "metadata": {},
   "outputs": [
    {
     "name": "stdout",
     "output_type": "stream",
     "text": [
      "REPOSITORY          TAG                 IMAGE ID            CREATED             SIZE\n"
     ]
    }
   ],
   "source": [
    "!docker images"
   ]
  },
  {
   "cell_type": "markdown",
   "metadata": {},
   "source": [
    "## Build Container"
   ]
  },
  {
   "cell_type": "code",
   "execution_count": 5,
   "metadata": {},
   "outputs": [
    {
     "name": "stdout",
     "output_type": "stream",
     "text": [
      "\u001b[37m# Use the Deep Learning Container as a base Image\u001b[39;49;00m\n",
      "\u001b[34mFROM\u001b[39;49;00m \u001b[33m763104351884.dkr.ecr.us-west-2.amazonaws.com/tensorflow-training:2.1.0-cpu-py36-ubuntu18.04\u001b[39;49;00m\n",
      "\n",
      "\u001b[37m# Add any script or repo as required\u001b[39;49;00m\n",
      "\u001b[37m#ADD https://github.com/data-science-on-aws/workshop/blob/07ef8914a159012058bf4ad08493dc8da808b57f/12_kubeflow/wip/dlc/code/train_orig.py /opt/ml/code/train.py\u001b[39;49;00m\n",
      "\u001b[34mADD\u001b[39;49;00m ./code/train.py /opt/ml/code/train.py\n",
      "\u001b[34mADD\u001b[39;49;00m ./data-tfrecord/ /opt/ml/input/data/\n",
      "\n",
      "\u001b[34mRUN\u001b[39;49;00m chmod +x /opt/ml/code/train.py\n",
      "\n",
      "\u001b[37m#WORKDIR \"/usr/local/bin\"\u001b[39;49;00m\n",
      "\u001b[37m#ENTRYPOINT [\"python3\", \"train_eks.py\"]\u001b[39;49;00m\n",
      "\u001b[34mWORKDIR\u001b[39;49;00m\u001b[33m \"/\"\u001b[39;49;00m\n",
      "\u001b[34mCMD\u001b[39;49;00m [\u001b[33m\"bin/bash\"\u001b[39;49;00m]\n"
     ]
    }
   ],
   "source": [
    "!pygmentize ./Dockerfile"
   ]
  },
  {
   "cell_type": "code",
   "execution_count": 20,
   "metadata": {},
   "outputs": [
    {
     "name": "stdout",
     "output_type": "stream",
     "text": [
      "231218423789.dkr.ecr.us-west-2.amazonaws.com/dlc-demo:bert\n"
     ]
    }
   ],
   "source": [
    "docker_repo = 'dlc-demo'\n",
    "docker_tag = 'bert'\n",
    "\n",
    "bert_image_uri = f'{account_id}.dkr.ecr.{region}.amazonaws.com/{docker_repo}:{docker_tag}'\n",
    "print(bert_image_uri)"
   ]
  },
  {
   "cell_type": "code",
   "execution_count": 21,
   "metadata": {},
   "outputs": [
    {
     "name": "stdout",
     "output_type": "stream",
     "text": [
      "REPOSITORY          TAG                 IMAGE ID            CREATED             SIZE\n"
     ]
    }
   ],
   "source": [
    "!docker images"
   ]
  },
  {
   "cell_type": "code",
   "execution_count": 22,
   "metadata": {
    "scrolled": true
   },
   "outputs": [
    {
     "name": "stdout",
     "output_type": "stream",
     "text": [
      "Sending build context to Docker daemon  286.5MB\n",
      "Step 1/6 : FROM 763104351884.dkr.ecr.us-west-2.amazonaws.com/tensorflow-training:2.1.0-cpu-py36-ubuntu18.04\n",
      "2.1.0-cpu-py36-ubuntu18.04: Pulling from tensorflow-training\n",
      "\n",
      "\u001b[1B26d33875: Pulling fs layer \n",
      "\u001b[1B29a9c730: Pulling fs layer \n",
      "\u001b[1Bda195c84: Pulling fs layer \n",
      "\u001b[1B9a5ad49e: Pulling fs layer \n",
      "\u001b[1Bd17a5040: Pulling fs layer \n",
      "\u001b[1Bd18b5ac8: Pulling fs layer \n",
      "\u001b[1Bc888bdfc: Pulling fs layer \n",
      "\u001b[1B2069664f: Pulling fs layer \n",
      "\u001b[1Bcaa11e65: Pulling fs layer \n",
      "\u001b[1B1ddf75e4: Pulling fs layer \n",
      "\u001b[1Bff9b9705: Pulling fs layer \n",
      "\u001b[1Bad67f82b: Pulling fs layer \n",
      "\u001b[1B4e9f6b89: Pulling fs layer \n",
      "\u001b[11Ba5ad49e: Waiting fs layer \n",
      "\u001b[11B17a5040: Waiting fs layer \n",
      "\u001b[1B0bdfac1c: Pull complete 265kB/4.265kBB\u001b[14A\u001b[2K\u001b[13A\u001b[2K\u001b[16A\u001b[2K\u001b[11A\u001b[2K\u001b[16A\u001b[2K\u001b[11A\u001b[2K\u001b[16A\u001b[2K\u001b[10A\u001b[2K\u001b[16A\u001b[2K\u001b[12A\u001b[2K\u001b[8A\u001b[2K\u001b[7A\u001b[2K\u001b[5A\u001b[2K\u001b[16A\u001b[2K\u001b[6A\u001b[2K\u001b[4A\u001b[2K\u001b[3A\u001b[2K\u001b[2A\u001b[2K\u001b[16A\u001b[2K\u001b[16A\u001b[2K\u001b[4A\u001b[2K\u001b[12A\u001b[2K\u001b[15A\u001b[2K\u001b[4A\u001b[2K\u001b[12A\u001b[2K\u001b[14A\u001b[2K\u001b[13A\u001b[2K\u001b[12A\u001b[2K\u001b[4A\u001b[2K\u001b[12A\u001b[2K\u001b[12A\u001b[2K\u001b[4A\u001b[2K\u001b[12A\u001b[2K\u001b[4A\u001b[2K\u001b[12A\u001b[2K\u001b[12A\u001b[2K\u001b[4A\u001b[2K\u001b[12A\u001b[2K\u001b[4A\u001b[2K\u001b[12A\u001b[2K\u001b[12A\u001b[2K\u001b[4A\u001b[2K\u001b[12A\u001b[2K\u001b[4A\u001b[2K\u001b[4A\u001b[2K\u001b[12A\u001b[2K\u001b[4A\u001b[2K\u001b[4A\u001b[2K\u001b[12A\u001b[2K\u001b[4A\u001b[2K\u001b[12A\u001b[2K\u001b[4A\u001b[2K\u001b[12A\u001b[2K\u001b[4A\u001b[2K\u001b[12A\u001b[2K\u001b[4A\u001b[2K\u001b[12A\u001b[2K\u001b[12A\u001b[2K\u001b[4A\u001b[2K\u001b[12A\u001b[2K\u001b[4A\u001b[2K\u001b[12A\u001b[2K\u001b[12A\u001b[2K\u001b[12A\u001b[2K\u001b[4A\u001b[2K\u001b[12A\u001b[2K\u001b[4A\u001b[2K\u001b[12A\u001b[2K\u001b[4A\u001b[2K\u001b[12A\u001b[2K\u001b[4A\u001b[2K\u001b[12A\u001b[2K\u001b[4A\u001b[2K\u001b[12A\u001b[2K\u001b[4A\u001b[2K\u001b[12A\u001b[2K\u001b[4A\u001b[2K\u001b[12A\u001b[2K\u001b[4A\u001b[2K\u001b[4A\u001b[2K\u001b[4A\u001b[2K\u001b[12A\u001b[2K\u001b[4A\u001b[2K\u001b[12A\u001b[2K\u001b[4A\u001b[2K\u001b[12A\u001b[2K\u001b[4A\u001b[2K\u001b[12A\u001b[2K\u001b[4A\u001b[2K\u001b[12A\u001b[2K\u001b[4A\u001b[2K\u001b[4A\u001b[2K\u001b[4A\u001b[2K\u001b[12A\u001b[2K\u001b[4A\u001b[2K\u001b[4A\u001b[2K\u001b[4A\u001b[2K\u001b[12A\u001b[2K\u001b[4A\u001b[2K\u001b[12A\u001b[2K\u001b[4A\u001b[2K\u001b[12A\u001b[2K\u001b[4A\u001b[2K\u001b[12A\u001b[2K\u001b[12A\u001b[2K\u001b[12A\u001b[2K\u001b[12A\u001b[2K\u001b[4A\u001b[2K\u001b[12A\u001b[2K\u001b[4A\u001b[2K\u001b[12A\u001b[2K\u001b[12A\u001b[2K\u001b[4A\u001b[2K\u001b[12A\u001b[2K\u001b[4A\u001b[2K\u001b[12A\u001b[2K\u001b[12A\u001b[2K\u001b[12A\u001b[2K\u001b[12A\u001b[2K\u001b[12A\u001b[2K\u001b[4A\u001b[2K\u001b[12A\u001b[2K\u001b[12A\u001b[2K\u001b[4A\u001b[2K\u001b[12A\u001b[2K\u001b[4A\u001b[2K\u001b[12A\u001b[2K\u001b[4A\u001b[2K\u001b[12A\u001b[2K\u001b[12A\u001b[2K\u001b[4A\u001b[2K\u001b[12A\u001b[2K\u001b[12A\u001b[2K\u001b[4A\u001b[2K\u001b[12A\u001b[2K\u001b[12A\u001b[2K\u001b[12A\u001b[2K\u001b[12A\u001b[2K\u001b[4A\u001b[2K\u001b[12A\u001b[2K\u001b[4A\u001b[2K\u001b[12A\u001b[2K\u001b[4A\u001b[2K\u001b[12A\u001b[2K\u001b[12A\u001b[2K\u001b[12A\u001b[2K\u001b[12A\u001b[2K\u001b[12A\u001b[2K\u001b[12A\u001b[2K\u001b[4A\u001b[2K\u001b[12A\u001b[2K\u001b[12A\u001b[2K\u001b[4A\u001b[2K\u001b[12A\u001b[2K\u001b[4A\u001b[2K\u001b[12A\u001b[2K\u001b[4A\u001b[2K\u001b[4A\u001b[2K\u001b[4A\u001b[2K\u001b[4A\u001b[2K\u001b[12A\u001b[2K\u001b[4A\u001b[2K\u001b[4A\u001b[2K\u001b[12A\u001b[2K\u001b[12A\u001b[2K\u001b[4A\u001b[2K\u001b[12A\u001b[2K\u001b[4A\u001b[2K\u001b[12A\u001b[2K\u001b[12A\u001b[2K\u001b[4A\u001b[2K\u001b[4A\u001b[2K\u001b[4A\u001b[2K\u001b[4A\u001b[2K\u001b[12A\u001b[2K\u001b[11A\u001b[2K\u001b[4A\u001b[2K\u001b[4A\u001b[2K\u001b[11A\u001b[2K\u001b[10A\u001b[2K\u001b[9A\u001b[2K\u001b[4A\u001b[2K\u001b[4A\u001b[2K\u001b[9A\u001b[2K\u001b[8A\u001b[2K\u001b[4A\u001b[2K\u001b[4A\u001b[2K\u001b[8A\u001b[2K\u001b[7A\u001b[2K\u001b[7A\u001b[2K\u001b[6A\u001b[2K\u001b[6A\u001b[2K\u001b[6A\u001b[2K\u001b[6A\u001b[2K\u001b[5A\u001b[2K\u001b[5A\u001b[2K\u001b[4A\u001b[2K\u001b[4A\u001b[2K\u001b[4A\u001b[2K\u001b[4A\u001b[2K\u001b[4A\u001b[2K\u001b[4A\u001b[2K\u001b[4A\u001b[2K\u001b[4A\u001b[2K\u001b[4A\u001b[2K\u001b[4A\u001b[2K\u001b[4A\u001b[2K\u001b[4A\u001b[2K\u001b[4A\u001b[2K\u001b[4A\u001b[2K\u001b[4A\u001b[2K\u001b[4A\u001b[2K\u001b[4A\u001b[2K\u001b[4A\u001b[2K\u001b[4A\u001b[2K\u001b[4A\u001b[2K\u001b[4A\u001b[2K\u001b[4A\u001b[2K\u001b[4A\u001b[2K\u001b[4A\u001b[2K\u001b[4A\u001b[2K\u001b[4A\u001b[2K\u001b[4A\u001b[2K\u001b[4A\u001b[2K\u001b[4A\u001b[2K\u001b[4A\u001b[2K\u001b[4A\u001b[2K\u001b[4A\u001b[2K\u001b[4A\u001b[2K\u001b[4A\u001b[2K\u001b[4A\u001b[2K\u001b[4A\u001b[2K\u001b[4A\u001b[2K\u001b[4A\u001b[2K\u001b[4A\u001b[2K\u001b[4A\u001b[2K\u001b[4A\u001b[2K\u001b[4A\u001b[2K\u001b[4A\u001b[2K\u001b[4A\u001b[2K\u001b[4A\u001b[2K\u001b[4A\u001b[2K\u001b[4A\u001b[2K\u001b[4A\u001b[2K\u001b[4A\u001b[2K\u001b[4A\u001b[2K\u001b[4A\u001b[2K\u001b[4A\u001b[2K\u001b[4A\u001b[2K\u001b[4A\u001b[2K\u001b[4A\u001b[2K\u001b[4A\u001b[2K\u001b[4A\u001b[2K\u001b[4A\u001b[2K\u001b[4A\u001b[2K\u001b[4A\u001b[2K\u001b[4A\u001b[2K\u001b[4A\u001b[2K\u001b[4A\u001b[2K\u001b[4A\u001b[2K\u001b[4A\u001b[2K\u001b[4A\u001b[2K\u001b[4A\u001b[2K\u001b[4A\u001b[2K\u001b[4A\u001b[2K\u001b[4A\u001b[2K\u001b[4A\u001b[2K\u001b[4A\u001b[2K\u001b[4A\u001b[2K\u001b[4A\u001b[2K\u001b[4A\u001b[2K\u001b[3A\u001b[2K\u001b[3A\u001b[2K\u001b[2A\u001b[2K\u001b[1A\u001b[2KDigest: sha256:4911ac31a130c68a2f92b72dd81d22bd02b542cc549c5652f22c1f24e702eaf5\n",
      "Status: Downloaded newer image for 763104351884.dkr.ecr.us-west-2.amazonaws.com/tensorflow-training:2.1.0-cpu-py36-ubuntu18.04\n",
      " ---> 88ccf0c00d27\n",
      "Step 2/6 : ADD ./code/train.py /opt/ml/code/train.py\n",
      " ---> 1e2e710919f3\n",
      "Step 3/6 : ADD ./data-tfrecord/ /opt/ml/input/data/\n",
      " ---> 17b6d23298ee\n",
      "Step 4/6 : RUN chmod +x /opt/ml/code/train.py\n",
      " ---> Running in 82e4fe1c0dbb\n",
      "Removing intermediate container 82e4fe1c0dbb\n",
      " ---> 6aeacf31d3d0\n",
      "Step 5/6 : WORKDIR \"/\"\n",
      " ---> Running in 72c2c705ea18\n",
      "Removing intermediate container 72c2c705ea18\n",
      " ---> 710689675e01\n",
      "Step 6/6 : CMD [\"bin/bash\"]\n",
      " ---> Running in 5a50919692ea\n",
      "Removing intermediate container 5a50919692ea\n",
      " ---> 701a64aed18a\n",
      "Successfully built 701a64aed18a\n",
      "Successfully tagged dlc-demo:bert\n"
     ]
    }
   ],
   "source": [
    "!docker build --pull --no-cache -t $docker_repo:$docker_tag -f ./Dockerfile ."
   ]
  },
  {
   "cell_type": "code",
   "execution_count": 23,
   "metadata": {
    "scrolled": true
   },
   "outputs": [
    {
     "name": "stdout",
     "output_type": "stream",
     "text": [
      "[\n",
      "    {\n",
      "        \"Id\": \"sha256:701a64aed18a46ef729899c11cb9f3630b0d6a8c29e31966c2672b262369aaca\",\n",
      "        \"RepoTags\": [\n",
      "            \"dlc-demo:bert\"\n",
      "        ],\n",
      "        \"RepoDigests\": [],\n",
      "        \"Parent\": \"sha256:710689675e01b8ee476960a43e076d3960c4c05c2a1d4ba239b7f9ce5792d420\",\n",
      "        \"Comment\": \"\",\n",
      "        \"Created\": \"2020-10-28T20:10:48.597746483Z\",\n",
      "        \"Container\": \"5a50919692ea5e4228f683205ba0016c759fdda67999c3caba4a1b1130f1d742\",\n",
      "        \"ContainerConfig\": {\n",
      "            \"Hostname\": \"5a50919692ea\",\n",
      "            \"Domainname\": \"\",\n",
      "            \"User\": \"\",\n",
      "            \"AttachStdin\": false,\n",
      "            \"AttachStdout\": false,\n",
      "            \"AttachStderr\": false,\n",
      "            \"Tty\": false,\n",
      "            \"OpenStdin\": false,\n",
      "            \"StdinOnce\": false,\n",
      "            \"Env\": [\n",
      "                \"PATH=/usr/local/openmpi/bin/:/usr/local/sbin:/usr/local/bin:/usr/sbin:/usr/bin:/sbin:/bin\",\n",
      "                \"DEBIAN_FRONTEND=noninteractive\",\n",
      "                \"DEBCONF_NONINTERACTIVE_SEEN=true\",\n",
      "                \"SAGEMAKER_TRAINING_MODULE=sagemaker_tensorflow_container.training:main\",\n",
      "                \"KMP_AFFINITY=granularity=fine,compact,1,0\",\n",
      "                \"KMP_BLOCKTIME=1\",\n",
      "                \"KMP_SETTINGS=0\",\n",
      "                \"PYTHONDONTWRITEBYTECODE=1\",\n",
      "                \"PYTHONUNBUFFERED=1\",\n",
      "                \"PYTHONIOENCODING=UTF-8\",\n",
      "                \"LANG=C.UTF-8\",\n",
      "                \"LC_ALL=C.UTF-8\",\n",
      "                \"LD_LIBRARY_PATH=/usr/local/openmpi/lib:\"\n",
      "            ],\n",
      "            \"Cmd\": [\n",
      "                \"/bin/sh\",\n",
      "                \"-c\",\n",
      "                \"#(nop) \",\n",
      "                \"CMD [\\\"bin/bash\\\"]\"\n",
      "            ],\n",
      "            \"Image\": \"sha256:710689675e01b8ee476960a43e076d3960c4c05c2a1d4ba239b7f9ce5792d420\",\n",
      "            \"Volumes\": null,\n",
      "            \"WorkingDir\": \"/\",\n",
      "            \"Entrypoint\": null,\n",
      "            \"OnBuild\": null,\n",
      "            \"Labels\": {\n",
      "                \"maintainer\": \"Amazon AI\"\n",
      "            }\n",
      "        },\n",
      "        \"DockerVersion\": \"19.03.6-ce\",\n",
      "        \"Author\": \"\",\n",
      "        \"Config\": {\n",
      "            \"Hostname\": \"\",\n",
      "            \"Domainname\": \"\",\n",
      "            \"User\": \"\",\n",
      "            \"AttachStdin\": false,\n",
      "            \"AttachStdout\": false,\n",
      "            \"AttachStderr\": false,\n",
      "            \"Tty\": false,\n",
      "            \"OpenStdin\": false,\n",
      "            \"StdinOnce\": false,\n",
      "            \"Env\": [\n",
      "                \"PATH=/usr/local/openmpi/bin/:/usr/local/sbin:/usr/local/bin:/usr/sbin:/usr/bin:/sbin:/bin\",\n",
      "                \"DEBIAN_FRONTEND=noninteractive\",\n",
      "                \"DEBCONF_NONINTERACTIVE_SEEN=true\",\n",
      "                \"SAGEMAKER_TRAINING_MODULE=sagemaker_tensorflow_container.training:main\",\n",
      "                \"KMP_AFFINITY=granularity=fine,compact,1,0\",\n",
      "                \"KMP_BLOCKTIME=1\",\n",
      "                \"KMP_SETTINGS=0\",\n",
      "                \"PYTHONDONTWRITEBYTECODE=1\",\n",
      "                \"PYTHONUNBUFFERED=1\",\n",
      "                \"PYTHONIOENCODING=UTF-8\",\n",
      "                \"LANG=C.UTF-8\",\n",
      "                \"LC_ALL=C.UTF-8\",\n",
      "                \"LD_LIBRARY_PATH=/usr/local/openmpi/lib:\"\n",
      "            ],\n",
      "            \"Cmd\": [\n",
      "                \"bin/bash\"\n",
      "            ],\n",
      "            \"Image\": \"sha256:710689675e01b8ee476960a43e076d3960c4c05c2a1d4ba239b7f9ce5792d420\",\n",
      "            \"Volumes\": null,\n",
      "            \"WorkingDir\": \"/\",\n",
      "            \"Entrypoint\": null,\n",
      "            \"OnBuild\": null,\n",
      "            \"Labels\": {\n",
      "                \"maintainer\": \"Amazon AI\"\n",
      "            }\n",
      "        },\n",
      "        \"Architecture\": \"amd64\",\n",
      "        \"Os\": \"linux\",\n",
      "        \"Size\": 2043035686,\n",
      "        \"VirtualSize\": 2043035686,\n",
      "        \"GraphDriver\": {\n",
      "            \"Data\": {\n",
      "                \"LowerDir\": \"/var/lib/docker/overlay2/410798c3aa16409e57f3cdf97aed6322c9a967e9caf206ece56e9840f6ca64a4/diff:/var/lib/docker/overlay2/b1f6910d1dc68ce772001ee46b2dee611e4419abd5e91ca0dd5a8e06f7031d7b/diff:/var/lib/docker/overlay2/0ac1d63a9d4c05bc1276001d014a717717f8b79e279edcdbeba0fa368cea7579/diff:/var/lib/docker/overlay2/3636a967828936899246ee7eac1ee8f27c5144850fe22298bd1676128bc3ff09/diff:/var/lib/docker/overlay2/8e9c591bbb2c24eef19d7b3f1c3214a94f35f04b6306376c5a1a8be3736dceea/diff:/var/lib/docker/overlay2/de45afdc8ec054d0d65346f8301ed7422d7a57111f66f1cab8f4d9ecfc213bb8/diff:/var/lib/docker/overlay2/47531244824bb1cd763eb0c637a2d5c4709b36282acd5d01759b0fda3677cb8a/diff:/var/lib/docker/overlay2/0ecdd6b72e792a2ce681eb7bf410ad4d11a152b6a5d4a7a0bf15e061fd2607e1/diff:/var/lib/docker/overlay2/c4c1cd8bc73ecc2707ea6dbb55817898ef9e7e527a9e17be0fc2f4d57398d7f1/diff:/var/lib/docker/overlay2/4a7d8477da79ec3f41930a3774f173d925725db54873863fa15bf1f961a8aee9/diff:/var/lib/docker/overlay2/0f4f263f3fd8c0d302126ea5e56c47d741f1a1d9b533b3efcc114c11ded388f4/diff:/var/lib/docker/overlay2/353bf1ab0d0790fb3dd89487171f4fd4a06a918b80abf3b4c4955fe4a9532185/diff:/var/lib/docker/overlay2/567fd0042d130d587df73ebe296c537ed12baff3544bc88f370b7ccbf747a57f/diff:/var/lib/docker/overlay2/735bf0fed954972b3e4e891f969ce2535a012629feb347f8df119db7d362a2e7/diff:/var/lib/docker/overlay2/374dfb9ac362a88ae03eb7139cd42f9c0113519ea49064e5b9208bde0ce6238f/diff:/var/lib/docker/overlay2/1fa786a92c2ad8664d9b41b6e92a8bdae600136f7f36ab333293bedcc2038377/diff:/var/lib/docker/overlay2/ce681476d20736f97228c2efa512a17a92d1c14222fb3f6dba4b71f561c7a503/diff:/var/lib/docker/overlay2/c833bb9c147f884dc496e95e244ba0baabf4e3a5b462e3831cb79ca6fecc5b68/diff\",\n",
      "                \"MergedDir\": \"/var/lib/docker/overlay2/34190bcceaad7a4f2874d73527498f27aa750d4a8b20bd82c1650bc73706bb6e/merged\",\n",
      "                \"UpperDir\": \"/var/lib/docker/overlay2/34190bcceaad7a4f2874d73527498f27aa750d4a8b20bd82c1650bc73706bb6e/diff\",\n",
      "                \"WorkDir\": \"/var/lib/docker/overlay2/34190bcceaad7a4f2874d73527498f27aa750d4a8b20bd82c1650bc73706bb6e/work\"\n",
      "            },\n",
      "            \"Name\": \"overlay2\"\n",
      "        },\n",
      "        \"RootFS\": {\n",
      "            \"Type\": \"layers\",\n",
      "            \"Layers\": [\n",
      "                \"sha256:c8be1b8f4d60d99c281fc2db75e0f56df42a83ad2f0b091621ce19357e19d853\",\n",
      "                \"sha256:977183d4e9995d9cd5ffdfc0f29e911ec9de777bcb0f507895daa1068477f76f\",\n",
      "                \"sha256:6597da2e2e52f4d438ad49a14ca79324f130a9ea08745505aa174a8db51cb79d\",\n",
      "                \"sha256:16542a8fc3be1bfaff6ed1daa7922e7c3b47b6c3a8d98b7fca58b9517bb99b75\",\n",
      "                \"sha256:501f027e9b6c68e9022c1e8127dcceb78f91591fdd832ac528466f89f5bc48fa\",\n",
      "                \"sha256:3207e37f97ccffb193edda85b22be955e1080a1549b39f6d31c4359557ca45cb\",\n",
      "                \"sha256:652465d5ffd18bbff3113f701e195fd60846ac77ae886d3c1483dc5f22871f85\",\n",
      "                \"sha256:e54e6c789bd1642b3ca362027448275e3efae3953481e891e220cc09a2298386\",\n",
      "                \"sha256:d36e9474ac8deb5ac41ecf1ecc3548c8b35e7f1c56afe81d083458b5b480cf6c\",\n",
      "                \"sha256:cd2daf66423187972c356642035ac7d6ca3642c141502e3c8a5efe83aa28ac20\",\n",
      "                \"sha256:e3de265b4a07731d2938070aff08f9f7940279c10503d0eec715462230f904aa\",\n",
      "                \"sha256:71c747a735ee4d48303f5a7664fbaae9a8e34b5a614d499901687f2b9707c509\",\n",
      "                \"sha256:b41ed27bdf23e6a2a944d34bedeb717d0538f24b0f1f6baeb6a8644223e73946\",\n",
      "                \"sha256:3fa3bcd9e4f8d28a308b341311eaf563031b81d7e2274b5741a2f91d5e7052c5\",\n",
      "                \"sha256:e4020b197b08474c37da0e8cc6fcdac8254fc6b762b1314ace20e37107203129\",\n",
      "                \"sha256:10018c803ce793cd6a9b9d53e263fd1205351c86e71ed6313a24ea502d7a78f3\",\n",
      "                \"sha256:e94870df5756a449a98572cae2beff1f5ab1952b513223dea4452fed25955bf8\",\n",
      "                \"sha256:8f7f13565381bf15d44707cec059e848a04eb41a84446c3dc0962bc8a3c8f87a\",\n",
      "                \"sha256:e9bbbfb5eb2b97664d8958f0113a28ad3832b74e1b54746e3175e84a3b99c8c7\"\n",
      "            ]\n",
      "        },\n",
      "        \"Metadata\": {\n",
      "            \"LastTagTime\": \"2020-10-28T20:10:48.687128898Z\"\n",
      "        }\n",
      "    }\n",
      "]\n"
     ]
    }
   ],
   "source": [
    "!docker inspect $docker_repo:$docker_tag"
   ]
  },
  {
   "cell_type": "code",
   "execution_count": 24,
   "metadata": {},
   "outputs": [
    {
     "name": "stdout",
     "output_type": "stream",
     "text": [
      "REPOSITORY                                                         TAG                          IMAGE ID            CREATED             SIZE\n",
      "dlc-demo                                                           bert                         701a64aed18a        2 seconds ago       2.04GB\n",
      "763104351884.dkr.ecr.us-west-2.amazonaws.com/tensorflow-training   2.1.0-cpu-py36-ubuntu18.04   88ccf0c00d27        6 months ago        2.04GB\n"
     ]
    }
   ],
   "source": [
    "!docker images"
   ]
  },
  {
   "cell_type": "markdown",
   "metadata": {},
   "source": [
    "# Push Container To ECR"
   ]
  },
  {
   "cell_type": "code",
   "execution_count": 25,
   "metadata": {},
   "outputs": [],
   "source": [
    "!docker tag $docker_repo:$docker_tag $bert_image_uri"
   ]
  },
  {
   "cell_type": "code",
   "execution_count": 26,
   "metadata": {},
   "outputs": [
    {
     "name": "stdout",
     "output_type": "stream",
     "text": [
      "REPOSITORY                                                         TAG                          IMAGE ID            CREATED             SIZE\n",
      "231218423789.dkr.ecr.us-west-2.amazonaws.com/dlc-demo              bert                         701a64aed18a        7 seconds ago       2.04GB\n",
      "dlc-demo                                                           bert                         701a64aed18a        7 seconds ago       2.04GB\n",
      "763104351884.dkr.ecr.us-west-2.amazonaws.com/tensorflow-training   2.1.0-cpu-py36-ubuntu18.04   88ccf0c00d27        6 months ago        2.04GB\n"
     ]
    }
   ],
   "source": [
    "!docker images"
   ]
  },
  {
   "cell_type": "code",
   "execution_count": 27,
   "metadata": {},
   "outputs": [
    {
     "name": "stdout",
     "output_type": "stream",
     "text": [
      "The push refers to repository [231218423789.dkr.ecr.us-west-2.amazonaws.com/dlc-demo]\n",
      "\n",
      "\u001b[1Bbfb5eb2b: Preparing \n",
      "\u001b[1B13565381: Preparing \n",
      "\u001b[1B70df5756: Preparing \n",
      "\u001b[1B8c803ce7: Preparing \n",
      "\u001b[1B0b197b08: Preparing \n",
      "\u001b[1Bbcd9e4f8: Preparing \n",
      "\u001b[1Bd27bdf23: Preparing \n",
      "\u001b[1B47a735ee: Preparing \n",
      "\u001b[1B265b4a07: Preparing \n",
      "\u001b[1Baf664231: Preparing \n",
      "\u001b[1B9474ac8d: Preparing \n",
      "\u001b[1B6c789bd1: Preparing \n",
      "\u001b[1B65d5ffd1: Preparing \n",
      "\u001b[1Be37f97cc: Preparing \n",
      "\u001b[1B027e9b6c: Preparing \n",
      "\u001b[1B2a8fc3be: Preparing \n",
      "\u001b[9B265b4a07: Waiting g \n",
      "\u001b[1B83d4e999: Waiting g \n",
      "\u001b[13B27bdf23: Pushed   1.391GB/1.372GB\u001b[16A\u001b[2K\u001b[18A\u001b[2K\u001b[17A\u001b[2K\u001b[14A\u001b[2K\u001b[12A\u001b[2K\u001b[11A\u001b[2K\u001b[13A\u001b[2K\u001b[11A\u001b[2K\u001b[13A\u001b[2K\u001b[11A\u001b[2K\u001b[15A\u001b[2K\u001b[11A\u001b[2K\u001b[10A\u001b[2K\u001b[10A\u001b[2K\u001b[11A\u001b[2K\u001b[9A\u001b[2K\u001b[11A\u001b[2K\u001b[13A\u001b[2K\u001b[11A\u001b[2K\u001b[10A\u001b[2K\u001b[8A\u001b[2K\u001b[7A\u001b[2K\u001b[7A\u001b[2K\u001b[6A\u001b[2K\u001b[6A\u001b[2K\u001b[13A\u001b[2K\u001b[6A\u001b[2K\u001b[13A\u001b[2K\u001b[6A\u001b[2K\u001b[4A\u001b[2K\u001b[5A\u001b[2K\u001b[13A\u001b[2K\u001b[5A\u001b[2K\u001b[13A\u001b[2K\u001b[6A\u001b[2K\u001b[13A\u001b[2K\u001b[4A\u001b[2K\u001b[5A\u001b[2K\u001b[2A\u001b[2K\u001b[1A\u001b[2K\u001b[1A\u001b[2K\u001b[13A\u001b[2K\u001b[1A\u001b[2K\u001b[13A\u001b[2K\u001b[1A\u001b[2K\u001b[1A\u001b[2K\u001b[6A\u001b[2K\u001b[1A\u001b[2K\u001b[5A\u001b[2K\u001b[1A\u001b[2K\u001b[1A\u001b[2K\u001b[5A\u001b[2K\u001b[5A\u001b[2K\u001b[1A\u001b[2K\u001b[5A\u001b[2K\u001b[13A\u001b[2K\u001b[5A\u001b[2K\u001b[5A\u001b[2K\u001b[13A\u001b[2K\u001b[5A\u001b[2K\u001b[1A\u001b[2K\u001b[5A\u001b[2K\u001b[13A\u001b[2K\u001b[5A\u001b[2K\u001b[5A\u001b[2K\u001b[13A\u001b[2K\u001b[5A\u001b[2K\u001b[13A\u001b[2K\u001b[5A\u001b[2K\u001b[13A\u001b[2K\u001b[5A\u001b[2K\u001b[13A\u001b[2K\u001b[5A\u001b[2K\u001b[1A\u001b[2K\u001b[5A\u001b[2K\u001b[5A\u001b[2K\u001b[5A\u001b[2K\u001b[1A\u001b[2K\u001b[5A\u001b[2K\u001b[13A\u001b[2K\u001b[5A\u001b[2K\u001b[5A\u001b[2K\u001b[1A\u001b[2K\u001b[5A\u001b[2K\u001b[1A\u001b[2K\u001b[13A\u001b[2K\u001b[1A\u001b[2K\u001b[13A\u001b[2K\u001b[5A\u001b[2K\u001b[13A\u001b[2K\u001b[5A\u001b[2K\u001b[13A\u001b[2K\u001b[5A\u001b[2K\u001b[13A\u001b[2K\u001b[5A\u001b[2K\u001b[13A\u001b[2K\u001b[5A\u001b[2K\u001b[13A\u001b[2K\u001b[5A\u001b[2K\u001b[13A\u001b[2K\u001b[5A\u001b[2K\u001b[13A\u001b[2K\u001b[5A\u001b[2K\u001b[5A\u001b[2K\u001b[13A\u001b[2K\u001b[13A\u001b[2K\u001b[13A\u001b[2K\u001b[13A\u001b[2K\u001b[13A\u001b[2K\u001b[5A\u001b[2K\u001b[13A\u001b[2K\u001b[5A\u001b[2K\u001b[13A\u001b[2K\u001b[13A\u001b[2K\u001b[13A\u001b[2K\u001b[13A\u001b[2K\u001b[13A\u001b[2K\u001b[5A\u001b[2K\u001b[13A\u001b[2K\u001b[5A\u001b[2K\u001b[13A\u001b[2K\u001b[13A\u001b[2K\u001b[5A\u001b[2K\u001b[13A\u001b[2K\u001b[5A\u001b[2K\u001b[13A\u001b[2K\u001b[5A\u001b[2K\u001b[13A\u001b[2K\u001b[13A\u001b[2K\u001b[13A\u001b[2K\u001b[13A\u001b[2K\u001b[5A\u001b[2K\u001b[13A\u001b[2K\u001b[5A\u001b[2K\u001b[13A\u001b[2K\u001b[5A\u001b[2K\u001b[13A\u001b[2K\u001b[5A\u001b[2K\u001b[13A\u001b[2K\u001b[13A\u001b[2K\u001b[5A\u001b[2K\u001b[13A\u001b[2K\u001b[5A\u001b[2K\u001b[5A\u001b[2K\u001b[5A\u001b[2K\u001b[5A\u001b[2K\u001b[5A\u001b[2K\u001b[13A\u001b[2K\u001b[5A\u001b[2K\u001b[13A\u001b[2K\u001b[13A\u001b[2K\u001b[13A\u001b[2K\u001b[5A\u001b[2K\u001b[13A\u001b[2K\u001b[5A\u001b[2K\u001b[13A\u001b[2K\u001b[13A\u001b[2K\u001b[13A\u001b[2K\u001b[13A\u001b[2K\u001b[5A\u001b[2K\u001b[5A\u001b[2K\u001b[5A\u001b[2K\u001b[13A\u001b[2K\u001b[5A\u001b[2K\u001b[13A\u001b[2K\u001b[5A\u001b[2K\u001b[13A\u001b[2K\u001b[5A\u001b[2K\u001b[13A\u001b[2K\u001b[5A\u001b[2K\u001b[13A\u001b[2K\u001b[5A\u001b[2K\u001b[13A\u001b[2K\u001b[5A\u001b[2K\u001b[5A\u001b[2K\u001b[5A\u001b[2K\u001b[5A\u001b[2K\u001b[13A\u001b[2K\u001b[5A\u001b[2K\u001b[13A\u001b[2K\u001b[5A\u001b[2K\u001b[13A\u001b[2K\u001b[5A\u001b[2K\u001b[13A\u001b[2K\u001b[5A\u001b[2K\u001b[13A\u001b[2K\u001b[5A\u001b[2K\u001b[13A\u001b[2K\u001b[5A\u001b[2K\u001b[13A\u001b[2K\u001b[5A\u001b[2K\u001b[13A\u001b[2K\u001b[5A\u001b[2K\u001b[13A\u001b[2K\u001b[5A\u001b[2K\u001b[13A\u001b[2K\u001b[5A\u001b[2K\u001b[13A\u001b[2K\u001b[5A\u001b[2K\u001b[13A\u001b[2K\u001b[5A\u001b[2K\u001b[13A\u001b[2K\u001b[5A\u001b[2K\u001b[5A\u001b[2K\u001b[5A\u001b[2K\u001b[5A\u001b[2K\u001b[5A\u001b[2K\u001b[5A\u001b[2K\u001b[13A\u001b[2K\u001b[5A\u001b[2K\u001b[5A\u001b[2K\u001b[5A\u001b[2K\u001b[13A\u001b[2K\u001b[13A\u001b[2K\u001b[5A\u001b[2K\u001b[13A\u001b[2K\u001b[5A\u001b[2K\u001b[13A\u001b[2K\u001b[5A\u001b[2K\u001b[13A\u001b[2K\u001b[5A\u001b[2K\u001b[13A\u001b[2K\u001b[5A\u001b[2K\u001b[13A\u001b[2K\u001b[5A\u001b[2K\u001b[13A\u001b[2K\u001b[5A\u001b[2K\u001b[13A\u001b[2K\u001b[13A\u001b[2K\u001b[13A\u001b[2K\u001b[13A\u001b[2K\u001b[5A\u001b[2K\u001b[13A\u001b[2K\u001b[13A\u001b[2K\u001b[13A\u001b[2K\u001b[13A\u001b[2K\u001b[13A\u001b[2K\u001b[5A\u001b[2K\u001b[13A\u001b[2K\u001b[5A\u001b[2K\u001b[13A\u001b[2K\u001b[13A\u001b[2K\u001b[5A\u001b[2K\u001b[13A\u001b[2K\u001b[5A\u001b[2K\u001b[13A\u001b[2K\u001b[5A\u001b[2K\u001b[13A\u001b[2K\u001b[5A\u001b[2K\u001b[5A\u001b[2K\u001b[13A\u001b[2K\u001b[5A\u001b[2K\u001b[13A\u001b[2K\u001b[5A\u001b[2K\u001b[13A\u001b[2K\u001b[5A\u001b[2K\u001b[13A\u001b[2K\u001b[5A\u001b[2K\u001b[5A\u001b[2K\u001b[13A\u001b[2K\u001b[5A\u001b[2K\u001b[13A\u001b[2K\u001b[5A\u001b[2K\u001b[13A\u001b[2K\u001b[5A\u001b[2K\u001b[13A\u001b[2K\u001b[5A\u001b[2K\u001b[13A\u001b[2K\u001b[5A\u001b[2K\u001b[13A\u001b[2K\u001b[5A\u001b[2K\u001b[13A\u001b[2K\u001b[5A\u001b[2K\u001b[13A\u001b[2K\u001b[5A\u001b[2K\u001b[13A\u001b[2K\u001b[5A\u001b[2K\u001b[13A\u001b[2K\u001b[5A\u001b[2K\u001b[13A\u001b[2K\u001b[5A\u001b[2K\u001b[13A\u001b[2K\u001b[5A\u001b[2K\u001b[13A\u001b[2K\u001b[5A\u001b[2K\u001b[13A\u001b[2K\u001b[5A\u001b[2K\u001b[13A\u001b[2K\u001b[5A\u001b[2K\u001b[13A\u001b[2K\u001b[13A\u001b[2K\u001b[5A\u001b[2K\u001b[13A\u001b[2K\u001b[5A\u001b[2K\u001b[13A\u001b[2K\u001b[5A\u001b[2K\u001b[13A\u001b[2K\u001b[5A\u001b[2K\u001b[13A\u001b[2K\u001b[5A\u001b[2K\u001b[13A\u001b[2K\u001b[5A\u001b[2K\u001b[13A\u001b[2K\u001b[13A\u001b[2K\u001b[13A\u001b[2K\u001b[13A\u001b[2K\u001b[5A\u001b[2K\u001b[13A\u001b[2K\u001b[13A\u001b[2K\u001b[13A\u001b[2K\u001b[5A\u001b[2K\u001b[13A\u001b[2K\u001b[13A\u001b[2K\u001b[13A\u001b[2KPushing  499.3MB/1.372GB\u001b[13A\u001b[2K\u001b[13A\u001b[2K\u001b[13A\u001b[2K\u001b[5A\u001b[2K\u001b[13A\u001b[2K\u001b[13A\u001b[2K\u001b[13A\u001b[2K\u001b[13A\u001b[2K\u001b[5A\u001b[2K\u001b[13A\u001b[2K\u001b[13A\u001b[2K\u001b[13A\u001b[2K\u001b[13A\u001b[2K\u001b[5A\u001b[2K\u001b[13A\u001b[2K\u001b[5A\u001b[2K\u001b[13A\u001b[2K\u001b[5A\u001b[2K\u001b[13A\u001b[2K\u001b[5A\u001b[2K\u001b[13A\u001b[2K\u001b[5A\u001b[2K\u001b[13A\u001b[2K\u001b[5A\u001b[2K\u001b[13A\u001b[2K\u001b[5A\u001b[2K\u001b[13A\u001b[2K\u001b[13A\u001b[2K\u001b[5A\u001b[2K\u001b[13A\u001b[2K\u001b[5A\u001b[2K\u001b[13A\u001b[2K\u001b[5A\u001b[2K\u001b[13A\u001b[2K\u001b[5A\u001b[2K\u001b[13A\u001b[2K\u001b[5A\u001b[2K\u001b[5A\u001b[2K\u001b[5A\u001b[2K\u001b[5A\u001b[2K\u001b[13A\u001b[2K\u001b[5A\u001b[2K\u001b[13A\u001b[2K\u001b[5A\u001b[2KPushing  486.3MB/583.8MB\u001b[5A\u001b[2K\u001b[5A\u001b[2K\u001b[5A\u001b[2K\u001b[13A\u001b[2K\u001b[5A\u001b[2K\u001b[13A\u001b[2K\u001b[5A\u001b[2K\u001b[13A\u001b[2K\u001b[5A\u001b[2K\u001b[5A\u001b[2K\u001b[13A\u001b[2K\u001b[5A\u001b[2K\u001b[13A\u001b[2K\u001b[5A\u001b[2K\u001b[5A\u001b[2K\u001b[5A\u001b[2K\u001b[13A\u001b[2K\u001b[5A\u001b[2K\u001b[13A\u001b[2K\u001b[5A\u001b[2K\u001b[13A\u001b[2K\u001b[5A\u001b[2K\u001b[13A\u001b[2K\u001b[5A\u001b[2K\u001b[13A\u001b[2K\u001b[5A\u001b[2K\u001b[13A\u001b[2K\u001b[5A\u001b[2K\u001b[13A\u001b[2K\u001b[5A\u001b[2K\u001b[13A\u001b[2K\u001b[5A\u001b[2K\u001b[13A\u001b[2K\u001b[13A\u001b[2K\u001b[5A\u001b[2K\u001b[13A\u001b[2K\u001b[5A\u001b[2K\u001b[13A\u001b[2K\u001b[5A\u001b[2K\u001b[13A\u001b[2K\u001b[5A\u001b[2K\u001b[13A\u001b[2K\u001b[13A\u001b[2K\u001b[13A\u001b[2K\u001b[5A\u001b[2K\u001b[13A\u001b[2K\u001b[5A\u001b[2K\u001b[13A\u001b[2K\u001b[5A\u001b[2K\u001b[13A\u001b[2K\u001b[5A\u001b[2K\u001b[13A\u001b[2K\u001b[5A\u001b[2K\u001b[13A\u001b[2K\u001b[5A\u001b[2K\u001b[13A\u001b[2K\u001b[5A\u001b[2K\u001b[13A\u001b[2K\u001b[5A\u001b[2K\u001b[13A\u001b[2K\u001b[5A\u001b[2K\u001b[5A\u001b[2K\u001b[13A\u001b[2K\u001b[5A\u001b[2K\u001b[5A\u001b[2K\u001b[5A\u001b[2K\u001b[13A\u001b[2K\u001b[5A\u001b[2K\u001b[13A\u001b[2K\u001b[5A\u001b[2K\u001b[5A\u001b[2K\u001b[13A\u001b[2K\u001b[13A\u001b[2K\u001b[13A\u001b[2K\u001b[13A\u001b[2K\u001b[13A\u001b[2K\u001b[13A\u001b[2K\u001b[13A\u001b[2K\u001b[13A\u001b[2K\u001b[13A\u001b[2K\u001b[13A\u001b[2K\u001b[13A\u001b[2K\u001b[13A\u001b[2K\u001b[13A\u001b[2K\u001b[13A\u001b[2K\u001b[13A\u001b[2K\u001b[13A\u001b[2K\u001b[13A\u001b[2K\u001b[13A\u001b[2K\u001b[13A\u001b[2K\u001b[13A\u001b[2K\u001b[13A\u001b[2K\u001b[13A\u001b[2K\u001b[13A\u001b[2K\u001b[13A\u001b[2K\u001b[13A\u001b[2K\u001b[13A\u001b[2K\u001b[13A\u001b[2K\u001b[13A\u001b[2K\u001b[13A\u001b[2K\u001b[13A\u001b[2K\u001b[13A\u001b[2K\u001b[13A\u001b[2K\u001b[13A\u001b[2K\u001b[13A\u001b[2K\u001b[13A\u001b[2K\u001b[13A\u001b[2K\u001b[13A\u001b[2K\u001b[13A\u001b[2K\u001b[13A\u001b[2K\u001b[13A\u001b[2K\u001b[13A\u001b[2K\u001b[13A\u001b[2K\u001b[13A\u001b[2K\u001b[13A\u001b[2K\u001b[13A\u001b[2K\u001b[13A\u001b[2K\u001b[13A\u001b[2K\u001b[13A\u001b[2K\u001b[13A\u001b[2K\u001b[13A\u001b[2K\u001b[13A\u001b[2K\u001b[13A\u001b[2K\u001b[13A\u001b[2K\u001b[13A\u001b[2K\u001b[13A\u001b[2K\u001b[13A\u001b[2K\u001b[13A\u001b[2K\u001b[13A\u001b[2K\u001b[13A\u001b[2K\u001b[13A\u001b[2K\u001b[13A\u001b[2K\u001b[13A\u001b[2K\u001b[13A\u001b[2K\u001b[13A\u001b[2K\u001b[13A\u001b[2K\u001b[13A\u001b[2K\u001b[13A\u001b[2KPushing  883.7MB/1.372GB\u001b[13A\u001b[2K\u001b[13A\u001b[2K\u001b[13A\u001b[2K\u001b[13A\u001b[2K\u001b[13A\u001b[2K\u001b[13A\u001b[2K\u001b[13A\u001b[2K\u001b[13A\u001b[2K\u001b[13A\u001b[2K\u001b[13A\u001b[2K\u001b[13A\u001b[2K\u001b[13A\u001b[2K\u001b[13A\u001b[2K\u001b[13A\u001b[2K\u001b[13A\u001b[2K\u001b[13A\u001b[2K\u001b[13A\u001b[2K\u001b[13A\u001b[2K\u001b[13A\u001b[2K\u001b[13A\u001b[2K\u001b[13A\u001b[2K\u001b[13A\u001b[2K\u001b[13A\u001b[2K\u001b[13A\u001b[2K\u001b[13A\u001b[2K\u001b[13A\u001b[2K\u001b[13A\u001b[2K\u001b[13A\u001b[2K\u001b[13A\u001b[2K\u001b[13A\u001b[2K\u001b[13A\u001b[2K\u001b[13A\u001b[2K\u001b[13A\u001b[2K\u001b[13A\u001b[2K\u001b[13A\u001b[2K\u001b[13A\u001b[2K\u001b[13A\u001b[2K\u001b[13A\u001b[2K\u001b[13A\u001b[2K\u001b[13A\u001b[2K\u001b[13A\u001b[2K\u001b[13A\u001b[2K\u001b[13A\u001b[2K\u001b[13A\u001b[2K\u001b[13A\u001b[2K\u001b[13A\u001b[2K\u001b[13A\u001b[2K\u001b[13A\u001b[2K\u001b[13A\u001b[2K\u001b[13A\u001b[2K\u001b[13A\u001b[2K\u001b[13A\u001b[2K\u001b[13A\u001b[2K\u001b[13A\u001b[2K\u001b[13A\u001b[2K\u001b[13A\u001b[2K\u001b[13A\u001b[2K\u001b[13A\u001b[2K\u001b[13A\u001b[2K\u001b[13A\u001b[2K\u001b[13A\u001b[2K\u001b[13A\u001b[2K\u001b[13A\u001b[2K\u001b[13A\u001b[2K\u001b[13A\u001b[2K\u001b[13A\u001b[2K\u001b[13A\u001b[2K\u001b[13A\u001b[2K\u001b[13A\u001b[2K\u001b[13A\u001b[2K\u001b[13A\u001b[2K\u001b[13A\u001b[2K\u001b[13A\u001b[2K\u001b[13A\u001b[2K\u001b[13A\u001b[2K\u001b[13A\u001b[2K\u001b[13A\u001b[2K\u001b[13A\u001b[2K\u001b[13A\u001b[2K\u001b[13A\u001b[2K\u001b[13A\u001b[2K\u001b[13A\u001b[2K\u001b[13A\u001b[2K\u001b[13A\u001b[2K\u001b[13A\u001b[2K\u001b[13A\u001b[2K\u001b[13A\u001b[2K\u001b[13A\u001b[2K\u001b[13A\u001b[2K\u001b[13A\u001b[2K\u001b[13A\u001b[2K\u001b[13A\u001b[2K\u001b[13A\u001b[2K\u001b[13A\u001b[2K\u001b[13A\u001b[2K\u001b[13A\u001b[2K\u001b[13A\u001b[2K\u001b[13A\u001b[2K\u001b[13A\u001b[2K\u001b[13A\u001b[2K\u001b[13A\u001b[2K\u001b[13A\u001b[2K\u001b[13A\u001b[2K\u001b[13A\u001b[2K\u001b[13A\u001b[2K\u001b[13A\u001b[2K\u001b[13A\u001b[2K\u001b[13A\u001b[2K\u001b[13A\u001b[2K\u001b[13A\u001b[2K\u001b[13A\u001b[2K\u001b[13A\u001b[2K\u001b[13A\u001b[2K\u001b[13A\u001b[2K\u001b[13A\u001b[2K\u001b[13A\u001b[2K\u001b[13A\u001b[2K\u001b[13A\u001b[2K\u001b[13A\u001b[2K\u001b[13A\u001b[2K\u001b[13A\u001b[2K\u001b[13A\u001b[2K\u001b[13A\u001b[2K\u001b[13A\u001b[2K\u001b[13A\u001b[2K\u001b[13A\u001b[2K\u001b[13A\u001b[2K\u001b[13A\u001b[2K\u001b[13A\u001b[2K\u001b[13A\u001b[2K\u001b[13A\u001b[2K\u001b[13A\u001b[2K\u001b[13A\u001b[2K\u001b[13A\u001b[2K\u001b[13A\u001b[2K\u001b[13A\u001b[2K\u001b[13A\u001b[2K\u001b[13A\u001b[2K\u001b[13A\u001b[2K\u001b[13A\u001b[2K\u001b[13A\u001b[2K\u001b[13A\u001b[2K\u001b[13A\u001b[2K\u001b[13A\u001b[2K\u001b[13A\u001b[2K\u001b[13A\u001b[2K\u001b[13A\u001b[2K\u001b[13A\u001b[2K\u001b[13A\u001b[2K\u001b[13A\u001b[2K\u001b[13A\u001b[2K\u001b[13A\u001b[2K\u001b[13A\u001b[2K\u001b[13A\u001b[2K\u001b[13A\u001b[2K\u001b[13A\u001b[2K\u001b[13A\u001b[2K\u001b[13A\u001b[2Kbert: digest: sha256:4bf49dbd7bdb5ab8a4c76086622ccfaa893690047c744d68a93d9ee577f1720f size: 4287\n"
     ]
    }
   ],
   "source": [
    "!docker push $bert_image_uri"
   ]
  },
  {
   "cell_type": "code",
   "execution_count": 28,
   "metadata": {},
   "outputs": [
    {
     "name": "stdout",
     "output_type": "stream",
     "text": [
      "{\n",
      "    \"imageIds\": [\n",
      "        {\n",
      "            \"imageDigest\": \"sha256:4bf49dbd7bdb5ab8a4c76086622ccfaa893690047c744d68a93d9ee577f1720f\",\n",
      "            \"imageTag\": \"bert\"\n",
      "        }\n",
      "    ]\n",
      "}\n"
     ]
    }
   ],
   "source": [
    "!aws ecr list-images --repository-name $docker_repo"
   ]
  },
  {
   "cell_type": "markdown",
   "metadata": {},
   "source": [
    "# Define Training Job"
   ]
  },
  {
   "cell_type": "raw",
   "metadata": {},
   "source": [
    "/usr/local/bin/python3.6 cifar10-training-script-sagemaker.py --batch-size 256 --epochs 30 --learning-rate 0.01 --model_dir s3://reinvent-aim338/tensorflow-training-2019-12-05-19-13-24-229/model --momentum 0.9 --optimizer sgd --weight-decay 0.0002"
   ]
  },
  {
   "cell_type": "markdown",
   "metadata": {},
   "source": [
    "## Create YAML File (Training Pod)"
   ]
  },
  {
   "cell_type": "code",
   "execution_count": null,
   "metadata": {},
   "outputs": [],
   "source": [
    "# %%bash\n",
    "# cat <<EoF > test8.yaml\n",
    "# --- \n",
    "# apiVersion: v1\n",
    "# kind: Pod\n",
    "# metadata: \n",
    "#   name: bert\n",
    "# spec: \n",
    "#   containers: \n",
    "#     - \n",
    "#       command: \n",
    "#         - python\n",
    "#         - /opt/ml/code/train_orig.py\n",
    "#         - --train_data=s3://sagemaker-us-west-2-231218423789/training-pipeline-2020-09-05-16-19-31/processing/output/bert-train\n",
    "#         - --validation_data=s3://sagemaker-us-west-2-231218423789/training-pipeline-2020-09-05-16-19-31/processing/output/bert-validation\n",
    "#         - --test_data=s3://sagemaker-us-west-2-231218423789/training-pipeline-2020-09-05-16-19-31/processing/output/bert-test\n",
    "#       image: \"231218423789.dkr.ecr.us-west-2.amazonaws.com/dlc-demo:bert\"\n",
    "#       imagePullPolicy: Always\n",
    "#       name: bert\n",
    "#   restartPolicy: Never\n",
    "# EoF"
   ]
  },
  {
   "cell_type": "markdown",
   "metadata": {},
   "source": [
    "# Create Training Job"
   ]
  },
  {
   "cell_type": "code",
   "execution_count": 29,
   "metadata": {},
   "outputs": [
    {
     "name": "stdout",
     "output_type": "stream",
     "text": [
      "\u001b[04m\u001b[36m---\u001b[39;49;00m \n",
      "\u001b[94mapiVersion\u001b[39;49;00m: v1\n",
      "\u001b[94mkind\u001b[39;49;00m: Pod\n",
      "\u001b[94mmetadata\u001b[39;49;00m: \n",
      "  \u001b[94mname\u001b[39;49;00m: bert\n",
      "\u001b[94mspec\u001b[39;49;00m: \n",
      "  \u001b[94mcontainers\u001b[39;49;00m: \n",
      "    - \u001b[94mname\u001b[39;49;00m: bert \n",
      "      \u001b[94mcommand\u001b[39;49;00m: \n",
      "        - python\n",
      "        - /opt/ml/code/train.py\n",
      "\u001b[37m#        - --train_data=s3://sagemaker-us-west-2-231218423789/training-pipeline-2020-09-05-16-19-31/processing/output/bert-train\u001b[39;49;00m\n",
      "\u001b[37m#        - --validation_data=s3://sagemaker-us-west-2-231218423789/training-pipeline-2020-09-05-16-19-31/processing/output/bert-validation\u001b[39;49;00m\n",
      "\u001b[37m#        - --test_data=s3://sagemaker-us-west-2-231218423789/training-pipeline-2020-09-05-16-19-31/processing/output/bert-test\u001b[39;49;00m\n",
      "      \u001b[94mimage\u001b[39;49;00m: \u001b[33m\"\u001b[39;49;00m\u001b[33m231218423789.dkr.ecr.us-west-2.amazonaws.com/dlc-demo:bert\u001b[39;49;00m\u001b[33m\"\u001b[39;49;00m\n",
      "      \u001b[94mimagePullPolicy\u001b[39;49;00m: Always\n",
      "      \u001b[94menv\u001b[39;49;00m: \n",
      "        - \u001b[94mname\u001b[39;49;00m: SM_TRAINING_ENV\n",
      "          \u001b[94mvalue\u001b[39;49;00m: \u001b[33m\"\u001b[39;49;00m\u001b[33m{\u001b[39;49;00m\u001b[33m\\\"\u001b[39;49;00m\u001b[33mis_master\u001b[39;49;00m\u001b[33m\\\"\u001b[39;49;00m\u001b[33m:true}\u001b[39;49;00m\u001b[33m\"\u001b[39;49;00m\n",
      "        - \u001b[94mname\u001b[39;49;00m: SAGEMAKER_JOB_NAME\n",
      "          \u001b[94mvalue\u001b[39;49;00m: \u001b[33m\"\u001b[39;49;00m\u001b[33mtf-bert-training-eks\u001b[39;49;00m\u001b[33m\"\u001b[39;49;00m\n",
      "        - \u001b[94mname\u001b[39;49;00m: SM_CURRENT_HOST\n",
      "          \u001b[94mvalue\u001b[39;49;00m: \u001b[33m\"\u001b[39;49;00m\u001b[33mlocalhost\u001b[39;49;00m\u001b[33m\"\u001b[39;49;00m\n",
      "        - \u001b[94mname\u001b[39;49;00m: SM_NUM_GPUS\n",
      "          \u001b[94mvalue\u001b[39;49;00m: \u001b[33m\"\u001b[39;49;00m\u001b[33m0\u001b[39;49;00m\u001b[33m\"\u001b[39;49;00m\n",
      "        - \u001b[94mname\u001b[39;49;00m: SM_HOSTS\n",
      "          \u001b[94mvalue\u001b[39;49;00m: \u001b[33m\"\u001b[39;49;00m\u001b[33m{\u001b[39;49;00m\u001b[33m\\\"\u001b[39;49;00m\u001b[33mhosts\u001b[39;49;00m\u001b[33m\\\"\u001b[39;49;00m\u001b[33m:\u001b[39;49;00m\u001b[33m\\\"\u001b[39;49;00m\u001b[33mlocalhost\u001b[39;49;00m\u001b[33m\\\"\u001b[39;49;00m\u001b[33m}\u001b[39;49;00m\u001b[33m\"\u001b[39;49;00m\n",
      "        - \u001b[94mname\u001b[39;49;00m: SM_MODEL_DIR\n",
      "          \u001b[94mvalue\u001b[39;49;00m: \u001b[33m\"\u001b[39;49;00m\u001b[33m/opt/ml/model/\u001b[39;49;00m\u001b[33m\"\u001b[39;49;00m     \n",
      "        - \u001b[94mname\u001b[39;49;00m: SM_OUTPUT_DIR\n",
      "          \u001b[94mvalue\u001b[39;49;00m: \u001b[33m\"\u001b[39;49;00m\u001b[33m/opt/ml/output/\u001b[39;49;00m\u001b[33m\"\u001b[39;49;00m\n",
      "        - \u001b[94mname\u001b[39;49;00m: SM_OUTPUT_DATA_DIR\n",
      "          \u001b[94mvalue\u001b[39;49;00m: \u001b[33m\"\u001b[39;49;00m\u001b[33m/opt/ml/output/data/\u001b[39;49;00m\u001b[33m\"\u001b[39;49;00m\n",
      "        - \u001b[94mname\u001b[39;49;00m: SM_CHANNEL_TRAIN\n",
      "          \u001b[94mvalue\u001b[39;49;00m: \u001b[33m\"\u001b[39;49;00m\u001b[33m/opt/ml/input/data/train\u001b[39;49;00m\u001b[33m\"\u001b[39;49;00m\n",
      "        - \u001b[94mname\u001b[39;49;00m: SM_CHANNEL_VALIDATION\n",
      "          \u001b[94mvalue\u001b[39;49;00m: \u001b[33m\"\u001b[39;49;00m\u001b[33m/opt/ml/input/data/validation\u001b[39;49;00m\u001b[33m\"\u001b[39;49;00m     \n",
      "        - \u001b[94mname\u001b[39;49;00m: SM_CHANNEL_TEST\n",
      "          \u001b[94mvalue\u001b[39;49;00m: \u001b[33m\"\u001b[39;49;00m\u001b[33m/opt/ml/input/data/test\u001b[39;49;00m\u001b[33m\"\u001b[39;49;00m\n",
      "  \u001b[94mrestartPolicy\u001b[39;49;00m: Never \n",
      "\u001b[37m# TODO: Need to map all of the directories above using PVs/PVCs and local host provisioner\u001b[39;49;00m\n",
      "\n",
      "\n",
      "\u001b[37m# https://docs.aws.amazon.com/sagemaker/latest/dg/amazon-sagemaker-toolkits.html\u001b[39;49;00m\n",
      "\n",
      "\u001b[37m# /opt/ml\u001b[39;49;00m\n",
      "\u001b[37m# ├── input\u001b[39;49;00m\n",
      "\u001b[37m# │   ├── config\u001b[39;49;00m\n",
      "\u001b[37m# │   │   ├── hyperparameters.json\u001b[39;49;00m\n",
      "\u001b[37m# │   │   └── resourceConfig.json\u001b[39;49;00m\n",
      "\u001b[37m# │   └── data\u001b[39;49;00m\n",
      "\u001b[37m# │       └── <channel_name>\u001b[39;49;00m\n",
      "\u001b[37m# │           └── <input data>\u001b[39;49;00m\n",
      "\u001b[37m# ├── model\u001b[39;49;00m\n",
      "\u001b[37m# │\u001b[39;49;00m\n",
      "\u001b[37m# ├── code\u001b[39;49;00m\n",
      "\u001b[37m# │\u001b[39;49;00m\n",
      "\u001b[37m# ├── output\u001b[39;49;00m\n",
      "\u001b[37m# │\u001b[39;49;00m\n",
      "\u001b[37m# └── failure\u001b[39;49;00m\n"
     ]
    }
   ],
   "source": [
    "!pygmentize test-final.yaml"
   ]
  },
  {
   "cell_type": "code",
   "execution_count": 35,
   "metadata": {},
   "outputs": [
    {
     "name": "stdout",
     "output_type": "stream",
     "text": [
      "pod \"bert\" deleted\n"
     ]
    }
   ],
   "source": [
    "!kubectl delete -f test-final.yaml"
   ]
  },
  {
   "cell_type": "code",
   "execution_count": 36,
   "metadata": {},
   "outputs": [
    {
     "name": "stdout",
     "output_type": "stream",
     "text": [
      "Error from server (NotFound): pods \"bert\" not found\n"
     ]
    }
   ],
   "source": [
    "!kubectl get pods bert"
   ]
  },
  {
   "cell_type": "code",
   "execution_count": 37,
   "metadata": {},
   "outputs": [
    {
     "name": "stdout",
     "output_type": "stream",
     "text": [
      "pod/bert created\n"
     ]
    }
   ],
   "source": [
    "!kubectl create -f test-final.yaml"
   ]
  },
  {
   "cell_type": "code",
   "execution_count": 38,
   "metadata": {},
   "outputs": [
    {
     "name": "stdout",
     "output_type": "stream",
     "text": [
      "NAME   READY   STATUS    RESTARTS   AGE\n",
      "bert   1/1     Running   0          4s\n"
     ]
    }
   ],
   "source": [
    "!kubectl get pods bert"
   ]
  },
  {
   "cell_type": "code",
   "execution_count": 42,
   "metadata": {},
   "outputs": [
    {
     "name": "stdout",
     "output_type": "stream",
     "text": [
      "Name:         bert\n",
      "Namespace:    kubeflow\n",
      "Priority:     0\n",
      "Node:         ip-192-168-67-206.us-west-2.compute.internal/\n",
      "Start Time:   Wed, 28 Oct 2020 20:24:42 +0000\n",
      "Labels:       <none>\n",
      "Annotations:  kubernetes.io/psp: eks.privileged\n",
      "Status:       Failed\n",
      "Reason:       Evicted\n",
      "Message:      The node was low on resource: memory. Container bert was using 2587156Ki, which exceeds its request of 0. \n",
      "IP:           \n",
      "Containers:\n",
      "  bert:\n",
      "    Image:      231218423789.dkr.ecr.us-west-2.amazonaws.com/dlc-demo:bert\n",
      "    Port:       <none>\n",
      "    Host Port:  <none>\n",
      "    Command:\n",
      "      python\n",
      "      /opt/ml/code/train.py\n",
      "      --train_steps_per_epoch=1\n",
      "    Environment:\n",
      "      SM_TRAINING_ENV:        {\"is_master\":true}\n",
      "      SAGEMAKER_JOB_NAME:     tf-bert-training-eks\n",
      "      SM_CURRENT_HOST:        localhost\n",
      "      SM_NUM_GPUS:            0\n",
      "      SM_HOSTS:               {\"hosts\":\"localhost\"}\n",
      "      SM_MODEL_DIR:           /opt/ml/model/\n",
      "      SM_OUTPUT_DIR:          /opt/ml/output/\n",
      "      SM_OUTPUT_DATA_DIR:     /opt/ml/output/data/\n",
      "      SM_CHANNEL_TRAIN:       /opt/ml/input/data/train\n",
      "      SM_CHANNEL_VALIDATION:  /opt/ml/input/data/validation\n",
      "      SM_CHANNEL_TEST:        /opt/ml/input/data/test\n",
      "    Mounts:\n",
      "      /var/run/secrets/kubernetes.io/serviceaccount from default-token-nnkjh (ro)\n",
      "Volumes:\n",
      "  default-token-nnkjh:\n",
      "    Type:        Secret (a volume populated by a Secret)\n",
      "    SecretName:  default-token-nnkjh\n",
      "    Optional:    false\n",
      "QoS Class:       BestEffort\n",
      "Node-Selectors:  <none>\n",
      "Tolerations:     node.kubernetes.io/not-ready:NoExecute for 300s\n",
      "                 node.kubernetes.io/unreachable:NoExecute for 300s\n",
      "Events:\n",
      "  Type     Reason     Age   From                                                   Message\n",
      "  ----     ------     ----  ----                                                   -------\n",
      "  Normal   Scheduled  21m   default-scheduler                                      Successfully assigned kubeflow/bert to ip-192-168-67-206.us-west-2.compute.internal\n",
      "  Normal   Pulling    21m   kubelet, ip-192-168-67-206.us-west-2.compute.internal  Pulling image \"231218423789.dkr.ecr.us-west-2.amazonaws.com/dlc-demo:bert\"\n",
      "  Normal   Pulled     21m   kubelet, ip-192-168-67-206.us-west-2.compute.internal  Successfully pulled image \"231218423789.dkr.ecr.us-west-2.amazonaws.com/dlc-demo:bert\"\n",
      "  Normal   Created    21m   kubelet, ip-192-168-67-206.us-west-2.compute.internal  Created container bert\n",
      "  Normal   Started    21m   kubelet, ip-192-168-67-206.us-west-2.compute.internal  Started container bert\n",
      "  Warning  Evicted    20m   kubelet, ip-192-168-67-206.us-west-2.compute.internal  The node was low on resource: memory. Container bert was using 2587156Ki, which exceeds its request of 0.\n",
      "  Normal   Killing    20m   kubelet, ip-192-168-67-206.us-west-2.compute.internal  Stopping container bert\n"
     ]
    }
   ],
   "source": [
    "!kubectl describe pods bert"
   ]
  },
  {
   "cell_type": "code",
   "execution_count": 41,
   "metadata": {},
   "outputs": [
    {
     "name": "stdout",
     "output_type": "stream",
     "text": [
      "Error from server (BadRequest): container \"bert\" in pod \"bert\" is not available\n"
     ]
    }
   ],
   "source": [
    "!kubectl logs -f bert"
   ]
  },
  {
   "cell_type": "code",
   "execution_count": null,
   "metadata": {},
   "outputs": [],
   "source": []
  },
  {
   "cell_type": "code",
   "execution_count": null,
   "metadata": {},
   "outputs": [],
   "source": []
  },
  {
   "cell_type": "code",
   "execution_count": null,
   "metadata": {},
   "outputs": [],
   "source": []
  }
 ],
 "metadata": {
  "kernelspec": {
   "display_name": "conda_python3",
   "language": "python",
   "name": "conda_python3"
  },
  "language_info": {
   "codemirror_mode": {
    "name": "ipython",
    "version": 3
   },
   "file_extension": ".py",
   "mimetype": "text/x-python",
   "name": "python",
   "nbconvert_exporter": "python",
   "pygments_lexer": "ipython3",
   "version": "3.6.10"
  }
 },
 "nbformat": 4,
 "nbformat_minor": 4
}
