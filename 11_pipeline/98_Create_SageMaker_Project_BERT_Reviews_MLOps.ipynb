{
 "cells": [
  {
   "cell_type": "markdown",
   "metadata": {},
   "source": [
    "# Create a Project\n",
    "Note:  This requires that you have enabled products within SageMaker Studio\n",
    "\n",
    "![](img/enable-service-catalog-portfolio-for-studio.png)"
   ]
  },
  {
   "cell_type": "code",
   "execution_count": 1,
   "metadata": {},
   "outputs": [],
   "source": [
    "import os\n",
    "import sagemaker\n",
    "import logging\n",
    "import boto3\n",
    "import sagemaker\n",
    "import pandas as pd\n",
    "from pprint import pprint\n",
    "\n",
    "sess   = sagemaker.Session()\n",
    "bucket = sess.default_bucket()\n",
    "role = sagemaker.get_execution_role()\n",
    "region = boto3.Session().region_name\n",
    "\n",
    "sm = boto3.Session().client(service_name='sagemaker', region_name=region)\n",
    "sc = boto3.Session().client('servicecatalog', region_name=region)"
   ]
  },
  {
   "cell_type": "code",
   "execution_count": 2,
   "metadata": {},
   "outputs": [],
   "source": [
    "import time\n",
    "timestamp = str(int(time.time() * 10**7))"
   ]
  },
  {
   "cell_type": "code",
   "execution_count": 3,
   "metadata": {},
   "outputs": [
    {
     "name": "stdout",
     "output_type": "stream",
     "text": [
      "prod-j3ufw6hl7utxm\n"
     ]
    }
   ],
   "source": [
    "search_response = sc.search_products(\n",
    "   Filters={\n",
    "       'FullTextSearch': \n",
    "       [\n",
    "           'MLOps template for model building, training, and deployment'\n",
    "       ]\n",
    "   }\n",
    ")\n",
    "\n",
    "sagemaker_pipeline_product_id = search_response['ProductViewSummaries'][0]['ProductId']\n",
    "print(sagemaker_pipeline_product_id)\n",
    "\n",
    "# pprint(search_response)"
   ]
  },
  {
   "cell_type": "code",
   "execution_count": 4,
   "metadata": {},
   "outputs": [
    {
     "name": "stdout",
     "output_type": "stream",
     "text": [
      "{'Budgets': [],\n",
      " 'LaunchPaths': [{'Id': 'lpv2-otfcrq7zdg5sc',\n",
      "                  'Name': 'Amazon SageMaker Solutions and ML Ops products'}],\n",
      " 'ProductViewSummary': {'HasDefaultPath': False,\n",
      "                        'Id': 'prodview-wbmrovteqfhoy',\n",
      "                        'Name': 'MLOps template for model building, training, '\n",
      "                                'and deployment',\n",
      "                        'Owner': 'Amazon SageMaker',\n",
      "                        'ProductId': 'prod-j3ufw6hl7utxm',\n",
      "                        'ShortDescription': 'This template enables you to '\n",
      "                                            'easily build, train, and deploy '\n",
      "                                            'machine learning models. You can '\n",
      "                                            'adopt MLOps best practices and '\n",
      "                                            'enable Continuous '\n",
      "                                            'Integration/Continuous Deployment '\n",
      "                                            'for building, training, and '\n",
      "                                            'evaluating machine learning '\n",
      "                                            'models using Amazon SageMaker '\n",
      "                                            'Pipelines, registering models to '\n",
      "                                            'the Model Registry, and '\n",
      "                                            'automating model model '\n",
      "                                            'deployment. Amazon SageMaker '\n",
      "                                            'creates an AWS CodeCommit code '\n",
      "                                            'repository for you to manage your '\n",
      "                                            'code and uses AWS CodePipeline to '\n",
      "                                            'build, train, and deploy your '\n",
      "                                            'machine learning models on '\n",
      "                                            'pre-production and production '\n",
      "                                            'Amazon SageMaker endpoints for '\n",
      "                                            'real-time inference.',\n",
      "                        'Type': 'CLOUD_FORMATION_TEMPLATE'},\n",
      " 'ProvisioningArtifacts': [{'CreatedTime': datetime.datetime(2020, 12, 2, 1, 23, 41, tzinfo=tzlocal()),\n",
      "                            'Guidance': 'DEFAULT',\n",
      "                            'Id': 'pa-oacphmo7m2bji',\n",
      "                            'Name': 'v1.0'}],\n",
      " 'ResponseMetadata': {'HTTPHeaders': {'content-length': '1099',\n",
      "                                      'content-type': 'application/x-amz-json-1.1',\n",
      "                                      'date': 'Tue, 22 Dec 2020 18:48:42 GMT',\n",
      "                                      'x-amzn-requestid': 'ddb238ad-4d49-45af-b5be-07fd9f491c51'},\n",
      "                      'HTTPStatusCode': 200,\n",
      "                      'RequestId': 'ddb238ad-4d49-45af-b5be-07fd9f491c51',\n",
      "                      'RetryAttempts': 0}}\n"
     ]
    }
   ],
   "source": [
    "describe_response = sc.describe_product(Id=sagemaker_pipeline_product_id)\n",
    "\n",
    "sagemaker_pipeline_product_provisioning_artifact_id = describe_response['ProvisioningArtifacts'][0]['Id']\n",
    "\n",
    "pprint(describe_response)"
   ]
  },
  {
   "cell_type": "code",
   "execution_count": 5,
   "metadata": {},
   "outputs": [
    {
     "name": "stdout",
     "output_type": "stream",
     "text": [
      "pa-oacphmo7m2bji\n"
     ]
    }
   ],
   "source": [
    "print(sagemaker_pipeline_product_provisioning_artifact_id)"
   ]
  },
  {
   "cell_type": "code",
   "execution_count": 6,
   "metadata": {},
   "outputs": [
    {
     "name": "stdout",
     "output_type": "stream",
     "text": [
      "{'ProjectArn': 'arn:aws:sagemaker:us-east-1:835319576252:project/chris-16086629152853634',\n",
      " 'ProjectId': 'p-sdlwcai2qbn5',\n",
      " 'ResponseMetadata': {'HTTPHeaders': {'content-length': '118',\n",
      "                                      'content-type': 'application/x-amz-json-1.1',\n",
      "                                      'date': 'Tue, 22 Dec 2020 18:48:42 GMT',\n",
      "                                      'x-amzn-requestid': 'aab40d21-46db-46b2-97fa-a279fc229fa2'},\n",
      "                      'HTTPStatusCode': 200,\n",
      "                      'RequestId': 'aab40d21-46db-46b2-97fa-a279fc229fa2',\n",
      "                      'RetryAttempts': 0}}\n"
     ]
    }
   ],
   "source": [
    "sagemaker_project_name = 'dsoaws-{}'.format(timestamp)\n",
    "\n",
    "create_response = sm.create_project(\n",
    "    ProjectName=sagemaker_project_name,\n",
    "    ProjectDescription='dsoaws-{}'.format(timestamp),\n",
    "    ServiceCatalogProvisioningDetails={\n",
    "        'ProductId': sagemaker_pipeline_product_id,\n",
    "        'ProvisioningArtifactId': sagemaker_pipeline_product_provisioning_artifact_id\n",
    "#        'PathId': 'string',\n",
    "#         'ProvisioningParameters': [\n",
    "#             {\n",
    "#                 'Key': 'string',\n",
    "#                 'Value': 'string'\n",
    "#             },\n",
    "#         ]\n",
    "     }\n",
    "#     Tags=[\n",
    "#         {\n",
    "#             'Key': 'string',\n",
    "#             'Value': 'string'\n",
    "#         },\n",
    "#     ]\n",
    ")\n",
    "\n",
    "\n",
    "sagemaker_project_id = create_response['ProjectId']\n",
    "sagemaker_project_arn = create_response['ProjectArn']\n",
    "\n",
    "pprint(create_response)"
   ]
  },
  {
   "cell_type": "code",
   "execution_count": 7,
   "metadata": {},
   "outputs": [
    {
     "name": "stdout",
     "output_type": "stream",
     "text": [
      "Stored 'sagemaker_project_name' (str)\n",
      "Stored 'sagemaker_project_id' (str)\n",
      "Stored 'sagemaker_project_arn' (str)\n",
      "Stored 'sagemaker_pipeline_product_id' (str)\n",
      "Stored 'sagemaker_pipeline_product_provisioning_artifact_id' (str)\n"
     ]
    }
   ],
   "source": [
    "%store sagemaker_project_name\n",
    "%store sagemaker_project_id\n",
    "%store sagemaker_project_arn\n",
    "%store sagemaker_pipeline_product_id\n",
    "%store sagemaker_pipeline_product_provisioning_artifact_id"
   ]
  },
  {
   "cell_type": "code",
   "execution_count": 8,
   "metadata": {},
   "outputs": [
    {
     "name": "stdout",
     "output_type": "stream",
     "text": [
      "Stored variables and their in-db values:\n",
      "balance_dataset                                                 -> True\n",
      "experiment_name                                                 -> 'Amazon-Customer-Reviews-BERT-Experiment-160832287\n",
      "ingest_create_athena_db_passed                                  -> True\n",
      "ingest_create_athena_table_parquet_passed                       -> True\n",
      "ingest_create_athena_table_tsv_passed                           -> True\n",
      "max_seq_length                                                  -> 64\n",
      "prepare_trial_component_name                                    -> 'TrialComponent-2020-12-18-202119-enhy'\n",
      "processed_test_data_s3_uri                                      -> 's3://sagemaker-us-east-1-835319576252/sagemaker-s\n",
      "processed_train_data_s3_uri                                     -> 's3://sagemaker-us-east-1-835319576252/sagemaker-s\n",
      "processed_validation_data_s3_uri                                -> 's3://sagemaker-us-east-1-835319576252/sagemaker-s\n",
      "raw_input_data_s3_uri                                           -> 's3://sagemaker-us-east-1-835319576252/amazon-revi\n",
      "s3_private_path_tsv                                             -> 's3://sagemaker-us-east-1-835319576252/amazon-revi\n",
      "s3_public_path_tsv                                              -> 's3://amazon-reviews-pds/tsv'\n",
      "sagemaker_pipeline_product_id                                   -> 'prod-j3ufw6hl7utxm'\n",
      "sagemaker_pipeline_product_provisioning_artifact_id             -> 'pa-oacphmo7m2bji'\n",
      "sagemaker_project_arn                                           -> 'arn:aws:sagemaker:us-east-1:835319576252:project/\n",
      "sagemaker_project_id                                            -> 'p-sdlwcai2qbn5'\n",
      "sagemaker_project_name                                          -> 'chris-16086629152853634'\n",
      "setup_dependencies_passed                                       -> True\n",
      "setup_iam_roles_passed                                          -> True\n",
      "setup_instance_check_passed                                     -> True\n",
      "setup_s3_bucket_passed                                          -> True\n",
      "test_split_percentage                                           -> 0.05\n",
      "train_split_percentage                                          -> 0.9\n",
      "training_job_debugger_artifacts_path                            -> 's3://sagemaker-us-east-1-835319576252/tensorflow-\n",
      "training_job_name                                               -> 'tensorflow-training-2020-12-18-20-21-27-140'\n",
      "trial_name                                                      -> 'trial-1608322879'\n",
      "validation_split_percentage                                     -> 0.05\n"
     ]
    }
   ],
   "source": [
    "%store"
   ]
  },
  {
   "cell_type": "code",
   "execution_count": null,
   "metadata": {},
   "outputs": [],
   "source": []
  }
 ],
 "metadata": {
  "kernelspec": {
   "display_name": "conda_python3",
   "language": "python",
   "name": "conda_python3"
  },
  "language_info": {
   "codemirror_mode": {
    "name": "ipython",
    "version": 3
   },
   "file_extension": ".py",
   "mimetype": "text/x-python",
   "name": "python",
   "nbconvert_exporter": "python",
   "pygments_lexer": "ipython3",
   "version": "3.6.10"
  }
 },
 "nbformat": 4,
 "nbformat_minor": 4
}
