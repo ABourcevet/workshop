{
 "cells": [
  {
   "cell_type": "markdown",
   "metadata": {},
   "source": [
    "# Create a Project\n",
    "Note:  This requires that you have enabled products within SageMaker Studio"
   ]
  },
  {
   "cell_type": "code",
   "execution_count": 64,
   "metadata": {},
   "outputs": [],
   "source": [
    "import os\n",
    "import sagemaker\n",
    "import logging\n",
    "import boto3\n",
    "import sagemaker\n",
    "import pandas as pd\n",
    "\n",
    "sess   = sagemaker.Session()\n",
    "bucket = sess.default_bucket()\n",
    "role = sagemaker.get_execution_role()\n",
    "region = boto3.Session().region_name\n",
    "\n",
    "sm = boto3.Session().client(service_name='sagemaker', region_name=region)\n",
    "sc = boto3.Session().client('servicecatalog', region_name=region)"
   ]
  },
  {
   "cell_type": "code",
   "execution_count": 65,
   "metadata": {},
   "outputs": [],
   "source": [
    "import time\n",
    "timestamp = str(int(time.time() * 10**7))"
   ]
  },
  {
   "cell_type": "code",
   "execution_count": 66,
   "metadata": {},
   "outputs": [
    {
     "name": "stdout",
     "output_type": "stream",
     "text": [
      "prod-j3ufw6hl7utxm\n"
     ]
    }
   ],
   "source": [
    "search_response = sc.search_products(\n",
    "   Filters={\n",
    "       'FullTextSearch': \n",
    "       [\n",
    "           'MLOps template for model building, training, and deployment'\n",
    "       ]\n",
    "   }\n",
    ")\n",
    "\n",
    "product_id = search_response['ProductViewSummaries'][0]['ProductId']\n",
    "print(product_id)\n",
    "\n",
    "# pprint(search_response)"
   ]
  },
  {
   "cell_type": "code",
   "execution_count": 67,
   "metadata": {},
   "outputs": [
    {
     "name": "stdout",
     "output_type": "stream",
     "text": [
      "{'Budgets': [],\n",
      " 'LaunchPaths': [{'Id': 'lpv2-otfcrq7zdg5sc',\n",
      "                  'Name': 'Amazon SageMaker Solutions and ML Ops products'}],\n",
      " 'ProductViewSummary': {'HasDefaultPath': False,\n",
      "                        'Id': 'prodview-wbmrovteqfhoy',\n",
      "                        'Name': 'MLOps template for model building, training, '\n",
      "                                'and deployment',\n",
      "                        'Owner': 'Amazon SageMaker',\n",
      "                        'ProductId': 'prod-j3ufw6hl7utxm',\n",
      "                        'ShortDescription': 'This template enables you to '\n",
      "                                            'easily build, train, and deploy '\n",
      "                                            'machine learning models. You can '\n",
      "                                            'adopt MLOps best practices and '\n",
      "                                            'enable Continuous '\n",
      "                                            'Integration/Continuous Deployment '\n",
      "                                            'for building, training, and '\n",
      "                                            'evaluating machine learning '\n",
      "                                            'models using Amazon SageMaker '\n",
      "                                            'Pipelines, registering models to '\n",
      "                                            'the Model Registry, and '\n",
      "                                            'automating model model '\n",
      "                                            'deployment. Amazon SageMaker '\n",
      "                                            'creates an AWS CodeCommit code '\n",
      "                                            'repository for you to manage your '\n",
      "                                            'code and uses AWS CodePipeline to '\n",
      "                                            'build, train, and deploy your '\n",
      "                                            'machine learning models on '\n",
      "                                            'pre-production and production '\n",
      "                                            'Amazon SageMaker endpoints for '\n",
      "                                            'real-time inference.',\n",
      "                        'Type': 'CLOUD_FORMATION_TEMPLATE'},\n",
      " 'ProvisioningArtifacts': [{'CreatedTime': datetime.datetime(2020, 12, 2, 1, 23, 41, tzinfo=tzlocal()),\n",
      "                            'Guidance': 'DEFAULT',\n",
      "                            'Id': 'pa-oacphmo7m2bji',\n",
      "                            'Name': 'v1.0'}],\n",
      " 'ResponseMetadata': {'HTTPHeaders': {'content-length': '1099',\n",
      "                                      'content-type': 'application/x-amz-json-1.1',\n",
      "                                      'date': 'Tue, 22 Dec 2020 17:10:55 GMT',\n",
      "                                      'x-amzn-requestid': 'd4024c66-5117-484e-81c4-b59b27f3a30e'},\n",
      "                      'HTTPStatusCode': 200,\n",
      "                      'RequestId': 'd4024c66-5117-484e-81c4-b59b27f3a30e',\n",
      "                      'RetryAttempts': 0}}\n"
     ]
    }
   ],
   "source": [
    "describe_response = sc.describe_product(Id=product_id)\n",
    "\n",
    "provisioning_artifact_id = describe_response['ProvisioningArtifacts'][0]['Id']\n",
    "\n",
    "pprint(describe_response)"
   ]
  },
  {
   "cell_type": "code",
   "execution_count": 68,
   "metadata": {},
   "outputs": [
    {
     "name": "stdout",
     "output_type": "stream",
     "text": [
      "pa-oacphmo7m2bji\n"
     ]
    }
   ],
   "source": [
    "print(provisioning_artifact_id)"
   ]
  },
  {
   "cell_type": "code",
   "execution_count": 69,
   "metadata": {},
   "outputs": [],
   "source": [
    "create_response = sm.create_project(\n",
    "    ProjectName='chris-{}'.format(timestamp),\n",
    "    ProjectDescription='chris-{}'.format(timestamp),\n",
    "    ServiceCatalogProvisioningDetails={\n",
    "        'ProductId': product_id,\n",
    "        'ProvisioningArtifactId': provisioning_artifact_id\n",
    "#        'PathId': 'string',\n",
    "#         'ProvisioningParameters': [\n",
    "#             {\n",
    "#                 'Key': 'string',\n",
    "#                 'Value': 'string'\n",
    "#             },\n",
    "#         ]\n",
    "     }\n",
    "#     Tags=[\n",
    "#         {\n",
    "#             'Key': 'string',\n",
    "#             'Value': 'string'\n",
    "#         },\n",
    "#     ]\n",
    ")\n"
   ]
  },
  {
   "cell_type": "code",
   "execution_count": 70,
   "metadata": {},
   "outputs": [
    {
     "name": "stdout",
     "output_type": "stream",
     "text": [
      "{'ProjectArn': 'arn:aws:sagemaker:us-east-1:835319576252:project/chris-16086570465230958',\n",
      " 'ProjectId': 'p-opgn6uvl5zn7',\n",
      " 'ResponseMetadata': {'HTTPHeaders': {'content-length': '118',\n",
      "                                      'content-type': 'application/x-amz-json-1.1',\n",
      "                                      'date': 'Tue, 22 Dec 2020 17:10:55 GMT',\n",
      "                                      'x-amzn-requestid': '2633f6e0-fb6c-488d-99bf-e29429553981'},\n",
      "                      'HTTPStatusCode': 200,\n",
      "                      'RequestId': '2633f6e0-fb6c-488d-99bf-e29429553981',\n",
      "                      'RetryAttempts': 0}}\n"
     ]
    }
   ],
   "source": [
    "from pprint import pprint\n",
    "pprint(create_response)"
   ]
  },
  {
   "cell_type": "code",
   "execution_count": null,
   "metadata": {},
   "outputs": [],
   "source": []
  }
 ],
 "metadata": {
  "kernelspec": {
   "display_name": "conda_python3",
   "language": "python",
   "name": "conda_python3"
  },
  "language_info": {
   "codemirror_mode": {
    "name": "ipython",
    "version": 3
   },
   "file_extension": ".py",
   "mimetype": "text/x-python",
   "name": "python",
   "nbconvert_exporter": "python",
   "pygments_lexer": "ipython3",
   "version": "3.6.10"
  }
 },
 "nbformat": 4,
 "nbformat_minor": 4
}
