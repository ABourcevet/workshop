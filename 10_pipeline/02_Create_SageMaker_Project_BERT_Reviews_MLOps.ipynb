{
 "cells": [
  {
   "cell_type": "markdown",
   "metadata": {},
   "source": [
    "# Create a Project\n",
    "Note:  This requires that you have enabled products within SageMaker Studio\n",
    "\n",
    "![](img/enable-service-catalog-portfolio-for-studio.png)"
   ]
  },
  {
   "cell_type": "code",
   "execution_count": null,
   "metadata": {},
   "outputs": [],
   "source": [
    "import os\n",
    "import sagemaker\n",
    "import logging\n",
    "import boto3\n",
    "import sagemaker\n",
    "import pandas as pd\n",
    "from pprint import pprint\n",
    "\n",
    "sess   = sagemaker.Session()\n",
    "bucket = sess.default_bucket()\n",
    "role = sagemaker.get_execution_role()\n",
    "region = boto3.Session().region_name\n",
    "\n",
    "sm = boto3.Session().client(service_name='sagemaker', region_name=region)\n",
    "sc = boto3.Session().client(service_name='servicecatalog', region_name=region)\n",
    "sts = boto3.Session().client(service_name='sts', region_name=region)\n",
    "iam = boto3.Session().client(service_name='iam', region_name=region)"
   ]
  },
  {
   "cell_type": "code",
   "execution_count": null,
   "metadata": {},
   "outputs": [],
   "source": [
    "import time\n",
    "timestamp = int(time.time())"
   ]
  },
  {
   "cell_type": "code",
   "execution_count": null,
   "metadata": {},
   "outputs": [],
   "source": [
    "search_response = sc.search_products(\n",
    "   Filters={\n",
    "       'FullTextSearch': \n",
    "       [\n",
    "           'MLOps template for model building, training, and deployment'\n",
    "       ]\n",
    "   }\n",
    ")\n",
    "\n",
    "sagemaker_pipeline_product_id = search_response['ProductViewSummaries'][0]['ProductId']\n",
    "print(sagemaker_pipeline_product_id)\n",
    "\n",
    "# pprint(search_response)"
   ]
  },
  {
   "cell_type": "code",
   "execution_count": null,
   "metadata": {},
   "outputs": [],
   "source": [
    "describe_response = sc.describe_product(Id=sagemaker_pipeline_product_id)\n",
    "\n",
    "sagemaker_pipeline_product_provisioning_artifact_id = describe_response['ProvisioningArtifacts'][0]['Id']\n",
    "\n",
    "pprint(describe_response)"
   ]
  },
  {
   "cell_type": "code",
   "execution_count": null,
   "metadata": {},
   "outputs": [],
   "source": [
    "print(sagemaker_pipeline_product_provisioning_artifact_id)"
   ]
  },
  {
   "cell_type": "code",
   "execution_count": null,
   "metadata": {},
   "outputs": [],
   "source": [
    "sagemaker_project_name = 'dsoaws-{}'.format(timestamp)\n",
    "\n",
    "create_response = sm.create_project(\n",
    "    ProjectName=sagemaker_project_name,\n",
    "    ProjectDescription='dsoaws-{}'.format(timestamp),\n",
    "    ServiceCatalogProvisioningDetails={\n",
    "        'ProductId': sagemaker_pipeline_product_id,\n",
    "        'ProvisioningArtifactId': sagemaker_pipeline_product_provisioning_artifact_id\n",
    "     }\n",
    ")\n",
    "\n",
    "sagemaker_project_id = create_response['ProjectId']\n",
    "sagemaker_project_arn = create_response['ProjectArn']\n",
    "\n",
    "pprint(create_response)"
   ]
  },
  {
   "cell_type": "code",
   "execution_count": null,
   "metadata": {},
   "outputs": [],
   "source": [
    "sagemaker_project_name_and_id = '{}-{}'.format(sagemaker_project_name, sagemaker_project_id)\n",
    "\n",
    "print(sagemaker_project_name_and_id)"
   ]
  },
  {
   "cell_type": "markdown",
   "metadata": {},
   "source": [
    "## Attach Feature Store Permssions To Service Catalog User Role \n",
    "\n",
    "### (used for Code Build Pipeline Executions)"
   ]
  },
  {
   "cell_type": "code",
   "execution_count": null,
   "metadata": {},
   "outputs": [],
   "source": [
    "sc_role_name='AmazonSageMakerServiceCatalogProductsUseRole'"
   ]
  },
  {
   "cell_type": "code",
   "execution_count": null,
   "metadata": {},
   "outputs": [],
   "source": [
    "account_id = sts.get_caller_identity()['Account']\n",
    "print(account_id)"
   ]
  },
  {
   "cell_type": "code",
   "execution_count": null,
   "metadata": {},
   "outputs": [],
   "source": [
    "sc_role_arn = 'arn:aws:iam::{}:role/service-role/AmazonSageMakerServiceCatalogProductsUseRole'.format(account_id)\n",
    "print(sc_role_arn)"
   ]
  },
  {
   "cell_type": "code",
   "execution_count": null,
   "metadata": {},
   "outputs": [],
   "source": [
    "response = iam.attach_role_policy(\n",
    "    RoleName=sc_role_name,\n",
    "    PolicyArn='arn:aws:iam::aws:policy/AmazonSageMakerFullAccess'\n",
    ")\n",
    "\n",
    "print(response)"
   ]
  },
  {
   "cell_type": "code",
   "execution_count": null,
   "metadata": {},
   "outputs": [],
   "source": [
    "response = iam.attach_role_policy(\n",
    "    RoleName=sc_role_name,\n",
    "    PolicyArn='arn:aws:iam::aws:policy/AmazonSageMakerFeatureStoreAccess'\n",
    ")\n",
    "\n",
    "print(response)"
   ]
  },
  {
   "cell_type": "markdown",
   "metadata": {},
   "source": [
    "# Describe Project"
   ]
  },
  {
   "cell_type": "code",
   "execution_count": null,
   "metadata": {},
   "outputs": [],
   "source": [
    "response = sm.describe_project(ProjectName=sagemaker_project_name)\n",
    "print(response)"
   ]
  },
  {
   "cell_type": "code",
   "execution_count": null,
   "metadata": {},
   "outputs": [],
   "source": [
    "project_status = response['ProjectStatus']\n",
    "print(project_status)"
   ]
  },
  {
   "cell_type": "markdown",
   "metadata": {},
   "source": [
    "# Create Project\n",
    "# _Wait for Project to be Created_"
   ]
  },
  {
   "cell_type": "code",
   "execution_count": null,
   "metadata": {},
   "outputs": [],
   "source": [
    "import time\n",
    "\n",
    "try:\n",
    "    response = sm.describe_project(ProjectName=sagemaker_project_name)\n",
    "    project_status = response['ProjectStatus']\n",
    "    print('Creating Project...')\n",
    "\n",
    "    while project_status in ['Pending', 'CreateInProgress']:\n",
    "        print('Please wait...')\n",
    "        time.sleep(30)\n",
    "        response = sm.describe_project(ProjectName=sagemaker_project_name)\n",
    "        project_status = response['ProjectStatus']\n",
    "        print('Project status: {}'.format(project_status))\n",
    "\n",
    "    if project_status == 'CreateCompleted':   \n",
    "        print('Project {}'.format(project_status))\n",
    "\n",
    "    else:\n",
    "        print('Project status: {}'.format(project_status))\n",
    "        raise Exception('Project not created.')\n",
    "        \n",
    "except Exception as e:\n",
    "    print(e)"
   ]
  },
  {
   "cell_type": "markdown",
   "metadata": {},
   "source": [
    "# _Wait for Project to be Created ^^ Above ^^_"
   ]
  },
  {
   "cell_type": "code",
   "execution_count": null,
   "metadata": {},
   "outputs": [],
   "source": [
    "root_path = sm_studio_root_path if os.path.isdir(sm_studio_root_path) else sm_notebooks_root_path\n",
    "\n",
    "print(root_path)"
   ]
  },
  {
   "cell_type": "markdown",
   "metadata": {},
   "source": [
    "# Clone Repos"
   ]
  },
  {
   "cell_type": "code",
   "execution_count": null,
   "metadata": {},
   "outputs": [],
   "source": [
    "print(region)"
   ]
  },
  {
   "cell_type": "code",
   "execution_count": null,
   "metadata": {},
   "outputs": [],
   "source": [
    "code_commit_repo1 = 'https://git-codecommit.{}.amazonaws.com/v1/repos/sagemaker-{}-modelbuild'.format(region, sagemaker_project_name_and_id)\n",
    "print(code_commit_repo1)"
   ]
  },
  {
   "cell_type": "code",
   "execution_count": null,
   "metadata": {},
   "outputs": [],
   "source": [
    "local_repo1 = '{}{}sagemaker-{}-modelbuild'.format(root_path, sagemaker_project_name_and_id, sagemaker_project_name_and_id)\n",
    "print(local_repo1)"
   ]
  },
  {
   "cell_type": "code",
   "execution_count": null,
   "metadata": {},
   "outputs": [],
   "source": [
    "code_commit_repo2 = 'https://git-codecommit.{}.amazonaws.com/v1/repos/sagemaker-{}-modeldeploy'.format(region, sagemaker_project_name_and_id)\n",
    "print(code_commit_repo2)"
   ]
  },
  {
   "cell_type": "code",
   "execution_count": null,
   "metadata": {},
   "outputs": [],
   "source": [
    "local_repo2 = '{}{}sagemaker-{}-modeldeploy'.format(root_path, sagemaker_project_name_and_id, sagemaker_project_name_and_id)\n",
    "print(local_repo2)"
   ]
  },
  {
   "cell_type": "code",
   "execution_count": null,
   "metadata": {},
   "outputs": [],
   "source": [
    "!git config --global credential.helper '!aws codecommit credential-helper $@'\n",
    "!git config --global credential.UseHttpPath true"
   ]
  },
  {
   "cell_type": "code",
   "execution_count": null,
   "metadata": {},
   "outputs": [],
   "source": [
    "!git clone $code_commit_repo1 $local_repo1"
   ]
  },
  {
   "cell_type": "code",
   "execution_count": null,
   "metadata": {},
   "outputs": [],
   "source": [
    "!git clone $code_commit_repo2 $local_repo2"
   ]
  },
  {
   "cell_type": "markdown",
   "metadata": {},
   "source": [
    "# Remove Stock `Abalone` Example Code"
   ]
  },
  {
   "cell_type": "code",
   "execution_count": null,
   "metadata": {},
   "outputs": [],
   "source": [
    "#!rm -rf $local_repo1/pipelines/abalone"
   ]
  },
  {
   "cell_type": "markdown",
   "metadata": {},
   "source": [
    "# Copy Workshop Code Into Local Project Folders"
   ]
  },
  {
   "cell_type": "code",
   "execution_count": null,
   "metadata": {},
   "outputs": [],
   "source": [
    "workshop_project_build_code='{}workshop/10_pipeline/sagemaker/sagemaker-project-modelbuild'.format(root_path)\n",
    "print(workshop_project_build_code)"
   ]
  },
  {
   "cell_type": "code",
   "execution_count": null,
   "metadata": {},
   "outputs": [],
   "source": [
    "workshop_project_deploy_code='{}workshop/10_pipeline/sagemaker/sagemaker-project-modeldeploy'.format(root_path)\n",
    "print(workshop_project_deploy_code)"
   ]
  },
  {
   "cell_type": "code",
   "execution_count": null,
   "metadata": {},
   "outputs": [],
   "source": [
    "!cp -R $workshop_project_build_code/* $local_repo1/"
   ]
  },
  {
   "cell_type": "code",
   "execution_count": null,
   "metadata": {},
   "outputs": [],
   "source": [
    "!cp -R $workshop_project_deploy_code/* $local_repo2/"
   ]
  },
  {
   "cell_type": "markdown",
   "metadata": {},
   "source": [
    "# Commit New Code "
   ]
  },
  {
   "cell_type": "code",
   "execution_count": null,
   "metadata": {},
   "outputs": [],
   "source": [
    "print(local_repo1)"
   ]
  },
  {
   "cell_type": "code",
   "execution_count": null,
   "metadata": {},
   "outputs": [],
   "source": [
    "!cd $local_repo1; git status; git add --all .; git commit -m \"new code\"; git push"
   ]
  },
  {
   "cell_type": "code",
   "execution_count": null,
   "metadata": {},
   "outputs": [],
   "source": [
    "!cd $local_repo2; git status; git add --all .; git commit -m \"Data Science on AWS\"; git push"
   ]
  },
  {
   "cell_type": "markdown",
   "metadata": {},
   "source": [
    "# Completed."
   ]
  },
  {
   "cell_type": "code",
   "execution_count": null,
   "metadata": {},
   "outputs": [],
   "source": [
    "%store sagemaker_project_name\n",
    "%store sagemaker_project_id\n",
    "%store sagemaker_project_name_and_id\n",
    "%store sagemaker_project_arn\n",
    "%store sagemaker_pipeline_product_id\n",
    "%store sagemaker_pipeline_product_provisioning_artifact_id"
   ]
  },
  {
   "cell_type": "code",
   "execution_count": null,
   "metadata": {},
   "outputs": [],
   "source": [
    "%store"
   ]
  }
 ],
 "metadata": {
  "instance_type": "ml.t3.medium",
  "kernelspec": {
   "display_name": "Python 3 (Data Science)",
   "language": "python",
   "name": "python3__SAGEMAKER_INTERNAL__arn:aws:sagemaker:us-east-1:081325390199:image/datascience-1.0"
  },
  "language_info": {
   "codemirror_mode": {
    "name": "ipython",
    "version": 3
   },
   "file_extension": ".py",
   "mimetype": "text/x-python",
   "name": "python",
   "nbconvert_exporter": "python",
   "pygments_lexer": "ipython3",
   "version": "3.7.6"
  }
 },
 "nbformat": 4,
 "nbformat_minor": 4
}
