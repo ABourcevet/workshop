{
 "cells": [
  {
   "cell_type": "markdown",
   "metadata": {},
   "source": [
    "# Create a Project\n",
    "Note:  This requires that you have enabled products within SageMaker Studio\n",
    "\n",
    "![](img/enable-service-catalog-portfolio-for-studio.png)"
   ]
  },
  {
   "cell_type": "code",
   "execution_count": 1,
   "metadata": {},
   "outputs": [],
   "source": [
    "import os\n",
    "import sagemaker\n",
    "import logging\n",
    "import boto3\n",
    "import sagemaker\n",
    "import pandas as pd\n",
    "from pprint import pprint\n",
    "\n",
    "sess   = sagemaker.Session()\n",
    "bucket = sess.default_bucket()\n",
    "role = sagemaker.get_execution_role()\n",
    "region = boto3.Session().region_name\n",
    "\n",
    "sm = boto3.Session().client(service_name='sagemaker', region_name=region)\n",
    "sc = boto3.Session().client(service_name='servicecatalog', region_name=region)\n",
    "sts = boto3.Session().client(service_name='sts', region_name=region)\n",
    "iam = boto3.Session().client(service_name='iam', region_name=region)"
   ]
  },
  {
   "cell_type": "code",
   "execution_count": 2,
   "metadata": {},
   "outputs": [],
   "source": [
    "import time\n",
    "timestamp = int(time.time())"
   ]
  },
  {
   "cell_type": "code",
   "execution_count": 3,
   "metadata": {},
   "outputs": [
    {
     "name": "stdout",
     "output_type": "stream",
     "text": [
      "prod-j3ufw6hl7utxm\n"
     ]
    }
   ],
   "source": [
    "search_response = sc.search_products(\n",
    "   Filters={\n",
    "       'FullTextSearch': \n",
    "       [\n",
    "           'MLOps template for model building, training, and deployment'\n",
    "       ]\n",
    "   }\n",
    ")\n",
    "\n",
    "sagemaker_pipeline_product_id = search_response['ProductViewSummaries'][0]['ProductId']\n",
    "print(sagemaker_pipeline_product_id)\n",
    "\n",
    "# pprint(search_response)"
   ]
  },
  {
   "cell_type": "code",
   "execution_count": 4,
   "metadata": {},
   "outputs": [
    {
     "name": "stdout",
     "output_type": "stream",
     "text": [
      "{'Budgets': [],\n",
      " 'LaunchPaths': [{'Id': 'lpv2-gj4couui6s46i',\n",
      "                  'Name': 'Amazon SageMaker Solutions and ML Ops products'}],\n",
      " 'ProductViewSummary': {'HasDefaultPath': False,\n",
      "                        'Id': 'prodview-wbmrovteqfhoy',\n",
      "                        'Name': 'MLOps template for model building, training, '\n",
      "                                'and deployment',\n",
      "                        'Owner': 'Amazon SageMaker',\n",
      "                        'ProductId': 'prod-j3ufw6hl7utxm',\n",
      "                        'ShortDescription': 'This template enables you to '\n",
      "                                            'easily build, train, and deploy '\n",
      "                                            'machine learning models. You can '\n",
      "                                            'adopt MLOps best practices and '\n",
      "                                            'enable Continuous '\n",
      "                                            'Integration/Continuous Deployment '\n",
      "                                            'for building, training, and '\n",
      "                                            'evaluating machine learning '\n",
      "                                            'models using Amazon SageMaker '\n",
      "                                            'Pipelines, registering models to '\n",
      "                                            'the Model Registry, and '\n",
      "                                            'automating model model '\n",
      "                                            'deployment. Amazon SageMaker '\n",
      "                                            'creates an AWS CodeCommit code '\n",
      "                                            'repository for you to manage your '\n",
      "                                            'code and uses AWS CodePipeline to '\n",
      "                                            'build, train, and deploy your '\n",
      "                                            'machine learning models on '\n",
      "                                            'pre-production and production '\n",
      "                                            'Amazon SageMaker endpoints for '\n",
      "                                            'real-time inference.',\n",
      "                        'Type': 'CLOUD_FORMATION_TEMPLATE'},\n",
      " 'ProvisioningArtifacts': [{'CreatedTime': datetime.datetime(2020, 12, 2, 1, 23, 41, tzinfo=tzlocal()),\n",
      "                            'Guidance': 'DEFAULT',\n",
      "                            'Id': 'pa-oacphmo7m2bji',\n",
      "                            'Name': 'v1.0'}],\n",
      " 'ResponseMetadata': {'HTTPHeaders': {'content-length': '1099',\n",
      "                                      'content-type': 'application/x-amz-json-1.1',\n",
      "                                      'date': 'Mon, 04 Jan 2021 03:33:28 GMT',\n",
      "                                      'x-amzn-requestid': 'aae06699-4c61-464b-a510-face9cdbac33'},\n",
      "                      'HTTPStatusCode': 200,\n",
      "                      'RequestId': 'aae06699-4c61-464b-a510-face9cdbac33',\n",
      "                      'RetryAttempts': 0}}\n"
     ]
    }
   ],
   "source": [
    "describe_response = sc.describe_product(Id=sagemaker_pipeline_product_id)\n",
    "\n",
    "sagemaker_pipeline_product_provisioning_artifact_id = describe_response['ProvisioningArtifacts'][0]['Id']\n",
    "\n",
    "pprint(describe_response)"
   ]
  },
  {
   "cell_type": "code",
   "execution_count": 5,
   "metadata": {},
   "outputs": [
    {
     "name": "stdout",
     "output_type": "stream",
     "text": [
      "pa-oacphmo7m2bji\n"
     ]
    }
   ],
   "source": [
    "print(sagemaker_pipeline_product_provisioning_artifact_id)"
   ]
  },
  {
   "cell_type": "code",
   "execution_count": 6,
   "metadata": {},
   "outputs": [
    {
     "name": "stdout",
     "output_type": "stream",
     "text": [
      "{'ProjectArn': 'arn:aws:sagemaker:us-east-1:231218423789:project/dsoaws-1609731195',\n",
      " 'ProjectId': 'p-yoykcefmol5e',\n",
      " 'ResponseMetadata': {'HTTPHeaders': {'content-length': '112',\n",
      "                                      'content-type': 'application/x-amz-json-1.1',\n",
      "                                      'date': 'Mon, 04 Jan 2021 03:33:49 GMT',\n",
      "                                      'x-amzn-requestid': '4c1b07e6-5ea1-4ea9-8378-e40e58061547'},\n",
      "                      'HTTPStatusCode': 200,\n",
      "                      'RequestId': '4c1b07e6-5ea1-4ea9-8378-e40e58061547',\n",
      "                      'RetryAttempts': 0}}\n"
     ]
    }
   ],
   "source": [
    "sagemaker_project_name = 'dsoaws-{}'.format(timestamp)\n",
    "\n",
    "create_response = sm.create_project(\n",
    "    ProjectName=sagemaker_project_name,\n",
    "    ProjectDescription='dsoaws-{}'.format(timestamp),\n",
    "    ServiceCatalogProvisioningDetails={\n",
    "        'ProductId': sagemaker_pipeline_product_id,\n",
    "        'ProvisioningArtifactId': sagemaker_pipeline_product_provisioning_artifact_id\n",
    "#        'PathId': 'string',\n",
    "#         'ProvisioningParameters': [\n",
    "#             {\n",
    "#                 'Key': 'string',\n",
    "#                 'Value': 'string'\n",
    "#             },\n",
    "#         ]\n",
    "     }\n",
    "#     Tags=[\n",
    "#         {\n",
    "#             'Key': 'string',\n",
    "#             'Value': 'string'\n",
    "#         },\n",
    "#     ]\n",
    ")\n",
    "\n",
    "\n",
    "sagemaker_project_id = create_response['ProjectId']\n",
    "sagemaker_project_arn = create_response['ProjectArn']\n",
    "\n",
    "pprint(create_response)"
   ]
  },
  {
   "cell_type": "code",
   "execution_count": 7,
   "metadata": {},
   "outputs": [
    {
     "name": "stdout",
     "output_type": "stream",
     "text": [
      "dsoaws-1609731195-p-yoykcefmol5e\n"
     ]
    }
   ],
   "source": [
    "sagemaker_project_name_and_id = '{}-{}'.format(sagemaker_project_name, sagemaker_project_id)\n",
    "\n",
    "print(sagemaker_project_name_and_id)"
   ]
  },
  {
   "cell_type": "markdown",
   "metadata": {},
   "source": [
    "## Attach Feature Store Permssions To Service Catalog User Role \n",
    "\n",
    "### (used for Code Build Pipeline Executions)"
   ]
  },
  {
   "cell_type": "code",
   "execution_count": 8,
   "metadata": {},
   "outputs": [],
   "source": [
    "sc_role_name='AmazonSageMakerServiceCatalogProductsUseRole'"
   ]
  },
  {
   "cell_type": "code",
   "execution_count": 9,
   "metadata": {},
   "outputs": [
    {
     "name": "stdout",
     "output_type": "stream",
     "text": [
      "231218423789\n"
     ]
    }
   ],
   "source": [
    "account_id = sts.get_caller_identity()['Account']\n",
    "print(account_id)"
   ]
  },
  {
   "cell_type": "code",
   "execution_count": 10,
   "metadata": {},
   "outputs": [
    {
     "name": "stdout",
     "output_type": "stream",
     "text": [
      "arn:aws:iam::231218423789:role/service-role/AmazonSageMakerServiceCatalogProductsUseRole\n"
     ]
    }
   ],
   "source": [
    "sc_role_arn = 'arn:aws:iam::{}:role/service-role/AmazonSageMakerServiceCatalogProductsUseRole'.format(account_id)\n",
    "print(sc_role_arn)"
   ]
  },
  {
   "cell_type": "code",
   "execution_count": 11,
   "metadata": {},
   "outputs": [
    {
     "name": "stdout",
     "output_type": "stream",
     "text": [
      "{'ResponseMetadata': {'RequestId': '643e8b42-5282-4c54-90ba-68a43a261f8a', 'HTTPStatusCode': 200, 'HTTPHeaders': {'x-amzn-requestid': '643e8b42-5282-4c54-90ba-68a43a261f8a', 'content-type': 'text/xml', 'content-length': '212', 'date': 'Mon, 04 Jan 2021 03:34:32 GMT'}, 'RetryAttempts': 0}}\n"
     ]
    }
   ],
   "source": [
    "response = iam.attach_role_policy(\n",
    "    RoleName=sc_role_name,\n",
    "    PolicyArn='arn:aws:iam::aws:policy/AmazonSageMakerFullAccess'\n",
    ")\n",
    "\n",
    "print(response)"
   ]
  },
  {
   "cell_type": "code",
   "execution_count": 12,
   "metadata": {},
   "outputs": [
    {
     "name": "stdout",
     "output_type": "stream",
     "text": [
      "{'ResponseMetadata': {'RequestId': 'c182507c-81bc-4bd9-8442-4edad1a48a50', 'HTTPStatusCode': 200, 'HTTPHeaders': {'x-amzn-requestid': 'c182507c-81bc-4bd9-8442-4edad1a48a50', 'content-type': 'text/xml', 'content-length': '212', 'date': 'Mon, 04 Jan 2021 03:34:34 GMT'}, 'RetryAttempts': 0}}\n"
     ]
    }
   ],
   "source": [
    "response = iam.attach_role_policy(\n",
    "    RoleName=sc_role_name,\n",
    "    PolicyArn='arn:aws:iam::aws:policy/AmazonSageMakerFeatureStoreAccess'\n",
    ")\n",
    "\n",
    "print(response)"
   ]
  },
  {
   "cell_type": "markdown",
   "metadata": {},
   "source": [
    "# Describe Project"
   ]
  },
  {
   "cell_type": "code",
   "execution_count": 14,
   "metadata": {},
   "outputs": [
    {
     "name": "stdout",
     "output_type": "stream",
     "text": [
      "{'ProjectArn': 'arn:aws:sagemaker:us-east-1:231218423789:project/dsoaws-1609731195', 'ProjectName': 'dsoaws-1609731195', 'ProjectId': 'p-yoykcefmol5e', 'ProjectDescription': 'dsoaws-1609731195', 'ServiceCatalogProvisioningDetails': {'ProductId': 'prod-j3ufw6hl7utxm', 'ProvisioningArtifactId': 'pa-oacphmo7m2bji'}, 'ServiceCatalogProvisionedProductDetails': {'ProvisionedProductId': 'pp-ga47znz3akd5q'}, 'ProjectStatus': 'CreateCompleted', 'CreatedBy': {'UserProfileArn': 'arn:aws:sagemaker:us-east-1:231218423789:user-profile/d-scapt1dubpfo/antje', 'UserProfileName': 'antje', 'DomainId': 'd-scapt1dubpfo'}, 'CreationTime': datetime.datetime(2021, 1, 4, 3, 33, 49, 177000, tzinfo=tzlocal()), 'ResponseMetadata': {'RequestId': 'd85098e2-fda9-4227-a62b-9feb75e31c27', 'HTTPStatusCode': 200, 'HTTPHeaders': {'x-amzn-requestid': 'd85098e2-fda9-4227-a62b-9feb75e31c27', 'content-type': 'application/x-amz-json-1.1', 'content-length': '616', 'date': 'Mon, 04 Jan 2021 03:37:41 GMT'}, 'RetryAttempts': 0}}\n"
     ]
    }
   ],
   "source": [
    "response = sm.describe_project(ProjectName=sagemaker_project_name)\n",
    "print(response)"
   ]
  },
  {
   "cell_type": "code",
   "execution_count": 16,
   "metadata": {},
   "outputs": [
    {
     "name": "stdout",
     "output_type": "stream",
     "text": [
      "CreateCompleted\n"
     ]
    }
   ],
   "source": [
    "project_status = response['ProjectStatus']\n",
    "print(project_status)"
   ]
  },
  {
   "cell_type": "markdown",
   "metadata": {},
   "source": [
    "# Wait for Project Create Completed"
   ]
  },
  {
   "cell_type": "code",
   "execution_count": 87,
   "metadata": {},
   "outputs": [
    {
     "name": "stdout",
     "output_type": "stream",
     "text": [
      "Project status: CreateCompleted\n"
     ]
    }
   ],
   "source": [
    "# ProjectStatus': 'Pending'|'CreateInProgress'|'CreateCompleted'|'CreateFailed'|\n",
    "# 'DeleteInProgress'|'DeleteFailed'|'DeleteCompleted',\n",
    "\n",
    "import time\n",
    "\n",
    "try:\n",
    "\n",
    "    response = sm.describe_project(ProjectName=sagemaker_project_name)\n",
    "    project_status = response['ProjectStatus']\n",
    "\n",
    "    while project_status in ['Pending', 'CreateInProgress']:\n",
    "        print('Creating Project... Please wait...')\n",
    "        time.sleep(30)\n",
    "        response = sm.describe_project(ProjectName=sagemaker_project_name)\n",
    "        project_status = response['ProjectStatus']\n",
    "        print('Project status: {}'.format(project_status))\n",
    "\n",
    "    if project_status == 'CreateCompleted':   \n",
    "        print('Project {}'.format(project_status))\n",
    "\n",
    "    else:\n",
    "        print('Project status: {}'.format(project_status))\n",
    "        raise Exception('Project not created.')\n",
    "        \n",
    "except Exception as e:\n",
    "    print(e)"
   ]
  },
  {
   "cell_type": "markdown",
   "metadata": {},
   "source": [
    "# Clone Repos"
   ]
  },
  {
   "cell_type": "code",
   "execution_count": 18,
   "metadata": {},
   "outputs": [
    {
     "name": "stdout",
     "output_type": "stream",
     "text": [
      "us-east-1\n"
     ]
    }
   ],
   "source": [
    "print(region)"
   ]
  },
  {
   "cell_type": "code",
   "execution_count": 40,
   "metadata": {},
   "outputs": [
    {
     "name": "stdout",
     "output_type": "stream",
     "text": [
      "us-east-1\n"
     ]
    }
   ],
   "source": [
    "!echo $region"
   ]
  },
  {
   "cell_type": "code",
   "execution_count": null,
   "metadata": {},
   "outputs": [],
   "source": [
    "# git clone https://git-codecommit.$region.amazonaws.com/v1/repos/sagemaker-$sagemaker_project_name_and_id-modelbuild\n",
    "# git clone https://git-codecommit.$region.amazonaws.com/v1/repos/sagemaker-$sagemaker_project_name_and_id-modeldeploy\n",
    "\n",
    "# TODO:  Add run_pipeline.py and codebuild-buildspec.yaml\n",
    "# TODO:  We have to change this to $HOME dir or something to keep it out of our workshop/ git project"
   ]
  },
  {
   "cell_type": "code",
   "execution_count": 45,
   "metadata": {},
   "outputs": [
    {
     "name": "stdout",
     "output_type": "stream",
     "text": [
      "https://git-codecommit.us-east-1.amazonaws.com/v1/repos/sagemaker-dsoaws-1609731195-p-yoykcefmol5e-modelbuild\n"
     ]
    }
   ],
   "source": [
    "code_commit_repo1 = 'https://git-codecommit.{}.amazonaws.com/v1/repos/sagemaker-{}-modelbuild'.format(region, sagemaker_project_name_and_id)\n",
    "print(code_commit_repo1)"
   ]
  },
  {
   "cell_type": "code",
   "execution_count": 56,
   "metadata": {},
   "outputs": [
    {
     "name": "stdout",
     "output_type": "stream",
     "text": [
      "/root/dsoaws-1609731195-p-yoykcefmol5e/sagemaker-dsoaws-1609731195-p-yoykcefmol5e-modelbuild\n"
     ]
    }
   ],
   "source": [
    "local_repo1 = '/root/{}/sagemaker-{}-modelbuild'.format(sagemaker_project_name_and_id, sagemaker_project_name_and_id)\n",
    "print(local_repo1)"
   ]
  },
  {
   "cell_type": "code",
   "execution_count": 47,
   "metadata": {},
   "outputs": [
    {
     "name": "stdout",
     "output_type": "stream",
     "text": [
      "https://git-codecommit.us-east-1.amazonaws.com/v1/repos/sagemaker-dsoaws-1609731195-p-yoykcefmol5e-modeldeploy\n"
     ]
    }
   ],
   "source": [
    "code_commit_repo2 = 'https://git-codecommit.{}.amazonaws.com/v1/repos/sagemaker-{}-modeldeploy'.format(region, sagemaker_project_name_and_id)\n",
    "print(code_commit_repo2)"
   ]
  },
  {
   "cell_type": "code",
   "execution_count": 57,
   "metadata": {},
   "outputs": [
    {
     "name": "stdout",
     "output_type": "stream",
     "text": [
      "/root/dsoaws-1609731195-p-yoykcefmol5e/sagemaker-dsoaws-1609731195-p-yoykcefmol5e-modeldeploy\n"
     ]
    }
   ],
   "source": [
    "local_repo2 = '/root/{}/sagemaker-{}-modeldeploy'.format(sagemaker_project_name_and_id, sagemaker_project_name_and_id)\n",
    "print(local_repo2)"
   ]
  },
  {
   "cell_type": "code",
   "execution_count": 50,
   "metadata": {},
   "outputs": [],
   "source": [
    "!git config --global credential.helper '!aws codecommit credential-helper $@'\n",
    "!git config --global credential.UseHttpPath true"
   ]
  },
  {
   "cell_type": "code",
   "execution_count": 55,
   "metadata": {},
   "outputs": [
    {
     "name": "stdout",
     "output_type": "stream",
     "text": [
      "/root/workshop/10_pipeline\n"
     ]
    }
   ],
   "source": [
    "!pwd"
   ]
  },
  {
   "cell_type": "code",
   "execution_count": 65,
   "metadata": {},
   "outputs": [
    {
     "name": "stdout",
     "output_type": "stream",
     "text": [
      "Cloning into '/root/dsoaws-1609731195-p-yoykcefmol5e/sagemaker-dsoaws-1609731195-p-yoykcefmol5e-modelbuild'...\n",
      "remote: Counting objects: 26, done.\u001b[K\n",
      "Unpacking objects: 100% (26/26), done.\n"
     ]
    }
   ],
   "source": [
    "!git clone $code_commit_repo1 $local_repo1"
   ]
  },
  {
   "cell_type": "code",
   "execution_count": 66,
   "metadata": {},
   "outputs": [
    {
     "name": "stdout",
     "output_type": "stream",
     "text": [
      "Cloning into '/root/dsoaws-1609731195-p-yoykcefmol5e/sagemaker-dsoaws-1609731195-p-yoykcefmol5e-modeldeploy'...\n",
      "remote: Counting objects: 12, done.\u001b[K\n",
      "Unpacking objects: 100% (12/12), done.\n"
     ]
    }
   ],
   "source": [
    "!git clone $code_commit_repo2 $local_repo2"
   ]
  },
  {
   "cell_type": "markdown",
   "metadata": {},
   "source": [
    "# Copy Workshop Code Into Local Project Folders"
   ]
  },
  {
   "cell_type": "code",
   "execution_count": 67,
   "metadata": {},
   "outputs": [
    {
     "name": "stdout",
     "output_type": "stream",
     "text": [
      "/root/workshop/10_pipeline/project-dsoaws-p-ibxfjw9nuim7/sagemaker-project-dsoaws-p-ibxfjw9nuim7-modelbuild\n"
     ]
    }
   ],
   "source": [
    "workshop_project_build_code='/root/workshop/10_pipeline/project-dsoaws-p-ibxfjw9nuim7/sagemaker-project-dsoaws-p-ibxfjw9nuim7-modelbuild'\n",
    "print(workshop_project_build_code)"
   ]
  },
  {
   "cell_type": "code",
   "execution_count": 68,
   "metadata": {},
   "outputs": [
    {
     "name": "stdout",
     "output_type": "stream",
     "text": [
      "/root/workshop/10_pipeline/project-dsoaws-p-ibxfjw9nuim7/sagemaker-project-dsoaws-p-ibxfjw9nuim7-modeldeploy\n"
     ]
    }
   ],
   "source": [
    "workshop_project_deploy_code='/root/workshop/10_pipeline/project-dsoaws-p-ibxfjw9nuim7/sagemaker-project-dsoaws-p-ibxfjw9nuim7-modeldeploy'\n",
    "print(workshop_project_deploy_code)"
   ]
  },
  {
   "cell_type": "code",
   "execution_count": 69,
   "metadata": {},
   "outputs": [],
   "source": [
    "!cp -r $workshop_project_build_code/* $local_repo1/"
   ]
  },
  {
   "cell_type": "code",
   "execution_count": 70,
   "metadata": {},
   "outputs": [],
   "source": [
    "!cp -r $workshop_project_deploy_code/* $local_repo2/"
   ]
  },
  {
   "cell_type": "markdown",
   "metadata": {},
   "source": [
    "# Commit New Code "
   ]
  },
  {
   "cell_type": "code",
   "execution_count": 74,
   "metadata": {},
   "outputs": [
    {
     "name": "stdout",
     "output_type": "stream",
     "text": [
      "/root/dsoaws-1609731195-p-yoykcefmol5e/sagemaker-dsoaws-1609731195-p-yoykcefmol5e-modelbuild\n"
     ]
    }
   ],
   "source": [
    "print(local_repo1)"
   ]
  },
  {
   "cell_type": "code",
   "execution_count": 84,
   "metadata": {},
   "outputs": [
    {
     "name": "stdout",
     "output_type": "stream",
     "text": [
      "On branch master\n",
      "Your branch is up to date with 'origin/master'.\n",
      "\n",
      "Changes not staged for commit:\n",
      "  (use \"git add <file>...\" to update what will be committed)\n",
      "  (use \"git checkout -- <file>...\" to discard changes in working directory)\n",
      "\n",
      "\t\u001b[31mmodified:   codebuild-buildspec.yml\u001b[m\n",
      "\t\u001b[31mmodified:   pipelines/run_pipeline.py\u001b[m\n",
      "\t\u001b[31mmodified:   setup.py\u001b[m\n",
      "\n",
      "Untracked files:\n",
      "  (use \"git add <file>...\" to include in what will be committed)\n",
      "\n",
      "\t\u001b[31m99_Create_Sagemaker_Pipeline_BERT_Reviews_MLOps.ipynb\u001b[m\n",
      "\t\u001b[31mpipelines/.ipynb_checkpoints/\u001b[m\n",
      "\t\u001b[31mpipelines/dsoaws/\u001b[m\n",
      "\t\u001b[31msagemaker-pipelines-project-abalone-REMOVE-ME.ipynb\u001b[m\n",
      "\n",
      "no changes added to commit (use \"git add\" and/or \"git commit -a\")\n",
      "[master a3d5d6d] new code\n",
      " 20 files changed, 5352 insertions(+), 5 deletions(-)\n",
      " create mode 100644 99_Create_Sagemaker_Pipeline_BERT_Reviews_MLOps.ipynb\n",
      " create mode 100644 pipelines/.ipynb_checkpoints/__version__-checkpoint.py\n",
      " create mode 100644 pipelines/.ipynb_checkpoints/_utils-checkpoint.py\n",
      " create mode 100644 pipelines/.ipynb_checkpoints/get_pipeline_definition-checkpoint.py\n",
      " create mode 100644 pipelines/.ipynb_checkpoints/run_pipeline-checkpoint.py\n",
      " create mode 100644 pipelines/dsoaws/.ipynb_checkpoints/__init__-checkpoint.py\n",
      " create mode 100644 pipelines/dsoaws/.ipynb_checkpoints/evaluate_model_metrics-checkpoint.py\n",
      " create mode 100644 pipelines/dsoaws/.ipynb_checkpoints/pipeline-checkpoint.py\n",
      " create mode 100644 pipelines/dsoaws/.ipynb_checkpoints/preprocess-scikit-text-to-bert-feature-store-checkpoint.py\n",
      " create mode 100644 pipelines/dsoaws/__init__.py\n",
      " create mode 100644 pipelines/dsoaws/evaluate_model_metrics.py\n",
      " create mode 100644 pipelines/dsoaws/inference.py\n",
      " create mode 100644 pipelines/dsoaws/pipeline.py\n",
      " create mode 100644 pipelines/dsoaws/preprocess-scikit-text-to-bert-feature-store.py\n",
      " create mode 100644 pipelines/dsoaws/test_data/amazon_reviews_us_Digital_Software_v1_00.tsv.gz\n",
      " create mode 100644 pipelines/dsoaws/tf_bert_reviews.py\n",
      " create mode 100644 sagemaker-pipelines-project-abalone-REMOVE-ME.ipynb\n",
      "Enumerating objects: 22, done.\n",
      "Counting objects: 100% (22/22), done.\n",
      "Delta compression using up to 2 threads\n",
      "Compressing objects: 100% (18/18), done.\n",
      "Writing objects: 100% (18/18), 18.15 MiB | 15.19 MiB/s, done.\n",
      "Total 18 (delta 6), reused 0 (delta 0)\n",
      "To https://git-codecommit.us-east-1.amazonaws.com/v1/repos/sagemaker-dsoaws-1609731195-p-yoykcefmol5e-modelbuild\n",
      "   13c0069..a3d5d6d  master -> master\n"
     ]
    }
   ],
   "source": [
    "!cd $local_repo1; git status; git add --all .; git commit -m \"new code\"; git push"
   ]
  },
  {
   "cell_type": "code",
   "execution_count": 85,
   "metadata": {},
   "outputs": [
    {
     "name": "stdout",
     "output_type": "stream",
     "text": [
      "On branch master\n",
      "Your branch is up to date with 'origin/master'.\n",
      "\n",
      "Changes not staged for commit:\n",
      "  (use \"git add <file>...\" to update what will be committed)\n",
      "  (use \"git checkout -- <file>...\" to discard changes in working directory)\n",
      "\n",
      "\t\u001b[31mmodified:   prod-config.json\u001b[m\n",
      "\t\u001b[31mmodified:   staging-config.json\u001b[m\n",
      "\n",
      "no changes added to commit (use \"git add\" and/or \"git commit -a\")\n",
      "[master 0aefae8] new code\n",
      " 2 files changed, 2 insertions(+), 2 deletions(-)\n",
      "Enumerating objects: 7, done.\n",
      "Counting objects: 100% (7/7), done.\n",
      "Delta compression using up to 2 threads\n",
      "Compressing objects: 100% (4/4), done.\n",
      "Writing objects: 100% (4/4), 388 bytes | 38.00 KiB/s, done.\n",
      "Total 4 (delta 3), reused 0 (delta 0)\n",
      "To https://git-codecommit.us-east-1.amazonaws.com/v1/repos/sagemaker-dsoaws-1609731195-p-yoykcefmol5e-modeldeploy\n",
      "   c58fde3..0aefae8  master -> master\n"
     ]
    }
   ],
   "source": [
    "!cd $local_repo2; git status; git add --all .; git commit -m \"new code\"; git push"
   ]
  },
  {
   "cell_type": "markdown",
   "metadata": {},
   "source": [
    "# Completed."
   ]
  },
  {
   "cell_type": "code",
   "execution_count": null,
   "metadata": {},
   "outputs": [],
   "source": [
    "%store sagemaker_project_name\n",
    "%store sagemaker_project_id\n",
    "%store sagemaker_project_name_and_id\n",
    "%store sagemaker_project_arn\n",
    "%store sagemaker_pipeline_product_id\n",
    "%store sagemaker_pipeline_product_provisioning_artifact_id"
   ]
  },
  {
   "cell_type": "code",
   "execution_count": null,
   "metadata": {},
   "outputs": [],
   "source": [
    "%store"
   ]
  }
 ],
 "metadata": {
  "instance_type": "ml.t3.medium",
  "kernelspec": {
   "display_name": "Python 3 (Data Science)",
   "language": "python",
   "name": "python3__SAGEMAKER_INTERNAL__arn:aws:sagemaker:us-east-1:081325390199:image/datascience-1.0"
  },
  "language_info": {
   "codemirror_mode": {
    "name": "ipython",
    "version": 3
   },
   "file_extension": ".py",
   "mimetype": "text/x-python",
   "name": "python",
   "nbconvert_exporter": "python",
   "pygments_lexer": "ipython3",
   "version": "3.7.6"
  }
 },
 "nbformat": 4,
 "nbformat_minor": 4
}
