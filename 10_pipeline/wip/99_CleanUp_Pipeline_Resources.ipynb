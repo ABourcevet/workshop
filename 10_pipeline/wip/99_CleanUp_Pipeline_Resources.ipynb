{
 "cells": [
  {
   "cell_type": "markdown",
   "metadata": {},
   "source": [
    "# Delete All SageMaker Project, Pipeline and Model Registry Resources"
   ]
  },
  {
   "cell_type": "code",
   "execution_count": 1,
   "metadata": {},
   "outputs": [],
   "source": [
    "import os\n",
    "import sagemaker\n",
    "import logging\n",
    "import boto3\n",
    "import sagemaker\n",
    "import pandas as pd\n",
    "from pprint import pprint\n",
    "\n",
    "sess   = sagemaker.Session()\n",
    "bucket = sess.default_bucket()\n",
    "role = sagemaker.get_execution_role()\n",
    "region = boto3.Session().region_name\n",
    "\n",
    "sm = boto3.Session().client(service_name='sagemaker', region_name=region)\n",
    "sc = boto3.Session().client('servicecatalog', region_name=region)"
   ]
  },
  {
   "cell_type": "markdown",
   "metadata": {},
   "source": [
    "# List all Model Packages Per Model Package Group"
   ]
  },
  {
   "cell_type": "code",
   "execution_count": 10,
   "metadata": {},
   "outputs": [
    {
     "name": "stdout",
     "output_type": "stream",
     "text": [
      "{'ModelPackageSummaryList': [{'ModelPackageGroupName': 'project-challie-p-saadduvxggms', 'ModelPackageVersion': 4, 'ModelPackageArn': 'arn:aws:sagemaker:us-east-1:231218423789:model-package/project-challie-p-saadduvxggms/4', 'CreationTime': datetime.datetime(2020, 12, 21, 20, 38, 12, 633000, tzinfo=tzlocal()), 'ModelPackageStatus': 'Completed', 'ModelApprovalStatus': 'PendingManualApproval'}, {'ModelPackageGroupName': 'project-challie-p-saadduvxggms', 'ModelPackageVersion': 3, 'ModelPackageArn': 'arn:aws:sagemaker:us-east-1:231218423789:model-package/project-challie-p-saadduvxggms/3', 'CreationTime': datetime.datetime(2020, 12, 21, 20, 33, 37, 122000, tzinfo=tzlocal()), 'ModelPackageStatus': 'Completed', 'ModelApprovalStatus': 'PendingManualApproval'}, {'ModelPackageGroupName': 'project-challie-p-saadduvxggms', 'ModelPackageVersion': 2, 'ModelPackageArn': 'arn:aws:sagemaker:us-east-1:231218423789:model-package/project-challie-p-saadduvxggms/2', 'CreationTime': datetime.datetime(2020, 12, 21, 20, 25, 3, 230000, tzinfo=tzlocal()), 'ModelPackageStatus': 'Completed', 'ModelApprovalStatus': 'Approved'}, {'ModelPackageGroupName': 'project-challie-p-saadduvxggms', 'ModelPackageVersion': 1, 'ModelPackageArn': 'arn:aws:sagemaker:us-east-1:231218423789:model-package/project-challie-p-saadduvxggms/1', 'CreationTime': datetime.datetime(2020, 12, 21, 20, 3, 38, 891000, tzinfo=tzlocal()), 'ModelPackageStatus': 'Completed', 'ModelApprovalStatus': 'Approved'}], 'ResponseMetadata': {'RequestId': 'ebde999c-810b-454a-94c7-b4d9bc74021a', 'HTTPStatusCode': 200, 'HTTPHeaders': {'x-amzn-requestid': 'ebde999c-810b-454a-94c7-b4d9bc74021a', 'content-type': 'application/x-amz-json-1.1', 'content-length': '1210', 'date': 'Wed, 23 Dec 2020 00:54:29 GMT'}, 'RetryAttempts': 0}}\n"
     ]
    }
   ],
   "source": [
    "response = sm.list_model_packages(\n",
    "    ModelPackageGroupName='project-challie-p-saadduvxggms'\n",
    ")"
   ]
  },
  {
   "cell_type": "code",
   "execution_count": 12,
   "metadata": {},
   "outputs": [
    {
     "name": "stdout",
     "output_type": "stream",
     "text": [
      "{'ModelPackageSummaryList': [{'CreationTime': datetime.datetime(2020, 12, 21, 20, 38, 12, 633000, tzinfo=tzlocal()),\n",
      "                              'ModelApprovalStatus': 'PendingManualApproval',\n",
      "                              'ModelPackageArn': 'arn:aws:sagemaker:us-east-1:231218423789:model-package/project-challie-p-saadduvxggms/4',\n",
      "                              'ModelPackageGroupName': 'project-challie-p-saadduvxggms',\n",
      "                              'ModelPackageStatus': 'Completed',\n",
      "                              'ModelPackageVersion': 4},\n",
      "                             {'CreationTime': datetime.datetime(2020, 12, 21, 20, 33, 37, 122000, tzinfo=tzlocal()),\n",
      "                              'ModelApprovalStatus': 'PendingManualApproval',\n",
      "                              'ModelPackageArn': 'arn:aws:sagemaker:us-east-1:231218423789:model-package/project-challie-p-saadduvxggms/3',\n",
      "                              'ModelPackageGroupName': 'project-challie-p-saadduvxggms',\n",
      "                              'ModelPackageStatus': 'Completed',\n",
      "                              'ModelPackageVersion': 3},\n",
      "                             {'CreationTime': datetime.datetime(2020, 12, 21, 20, 25, 3, 230000, tzinfo=tzlocal()),\n",
      "                              'ModelApprovalStatus': 'Approved',\n",
      "                              'ModelPackageArn': 'arn:aws:sagemaker:us-east-1:231218423789:model-package/project-challie-p-saadduvxggms/2',\n",
      "                              'ModelPackageGroupName': 'project-challie-p-saadduvxggms',\n",
      "                              'ModelPackageStatus': 'Completed',\n",
      "                              'ModelPackageVersion': 2},\n",
      "                             {'CreationTime': datetime.datetime(2020, 12, 21, 20, 3, 38, 891000, tzinfo=tzlocal()),\n",
      "                              'ModelApprovalStatus': 'Approved',\n",
      "                              'ModelPackageArn': 'arn:aws:sagemaker:us-east-1:231218423789:model-package/project-challie-p-saadduvxggms/1',\n",
      "                              'ModelPackageGroupName': 'project-challie-p-saadduvxggms',\n",
      "                              'ModelPackageStatus': 'Completed',\n",
      "                              'ModelPackageVersion': 1}],\n",
      " 'ResponseMetadata': {'HTTPHeaders': {'content-length': '1210',\n",
      "                                      'content-type': 'application/x-amz-json-1.1',\n",
      "                                      'date': 'Wed, 23 Dec 2020 00:54:29 GMT',\n",
      "                                      'x-amzn-requestid': 'ebde999c-810b-454a-94c7-b4d9bc74021a'},\n",
      "                      'HTTPStatusCode': 200,\n",
      "                      'RequestId': 'ebde999c-810b-454a-94c7-b4d9bc74021a',\n",
      "                      'RetryAttempts': 0}}\n"
     ]
    }
   ],
   "source": [
    "from pprint import pprint\n",
    "pprint(response)"
   ]
  },
  {
   "cell_type": "markdown",
   "metadata": {},
   "source": [
    "# Delete Model Packages"
   ]
  },
  {
   "cell_type": "code",
   "execution_count": 16,
   "metadata": {},
   "outputs": [
    {
     "name": "stdout",
     "output_type": "stream",
     "text": [
      "{'ResponseMetadata': {'RequestId': '2d943ea8-6f83-4075-9693-3e6751b0159d', 'HTTPStatusCode': 200, 'HTTPHeaders': {'x-amzn-requestid': '2d943ea8-6f83-4075-9693-3e6751b0159d', 'content-type': 'application/x-amz-json-1.1', 'content-length': '0', 'date': 'Wed, 23 Dec 2020 00:55:41 GMT'}, 'RetryAttempts': 0}}\n"
     ]
    }
   ],
   "source": [
    "# Use the ARN as ModelPackageNAme\n",
    "response = sm.delete_model_package(\n",
    "    ModelPackageName='arn:aws:sagemaker:us-east-1:231218423789:model-package/project-challie-p-saadduvxggms/1'\n",
    ")\n",
    "print(response)"
   ]
  },
  {
   "cell_type": "markdown",
   "metadata": {},
   "source": [
    "# Delete Model Package Group"
   ]
  },
  {
   "cell_type": "code",
   "execution_count": 17,
   "metadata": {},
   "outputs": [
    {
     "name": "stdout",
     "output_type": "stream",
     "text": [
      "{'ResponseMetadata': {'RequestId': 'cbd20d50-499a-4721-b25f-8ff1546efbab', 'HTTPStatusCode': 200, 'HTTPHeaders': {'x-amzn-requestid': 'cbd20d50-499a-4721-b25f-8ff1546efbab', 'content-type': 'application/x-amz-json-1.1', 'content-length': '0', 'date': 'Wed, 23 Dec 2020 00:55:56 GMT'}, 'RetryAttempts': 0}}\n"
     ]
    }
   ],
   "source": [
    "response = sm.delete_model_package_group(\n",
    "    ModelPackageGroupName='project-challie-p-saadduvxggms'\n",
    ")\n",
    "print(response)"
   ]
  },
  {
   "cell_type": "markdown",
   "metadata": {},
   "source": [
    "# Delete Pipeline"
   ]
  },
  {
   "cell_type": "code",
   "execution_count": 18,
   "metadata": {},
   "outputs": [],
   "source": [
    "response = sm.delete_pipeline(\n",
    "    PipelineName='project-challie-p-saadduvxggms',\n",
    "#    ClientRequestToken='string'\n",
    ")"
   ]
  },
  {
   "cell_type": "markdown",
   "metadata": {},
   "source": [
    "# Delete Project"
   ]
  },
  {
   "cell_type": "code",
   "execution_count": null,
   "metadata": {},
   "outputs": [],
   "source": [
    "response = sm.delete_project(\n",
    "    ProjectName='project-challie'\n",
    ")\n",
    "print(response)"
   ]
  },
  {
   "cell_type": "markdown",
   "metadata": {},
   "source": [
    "# _You need to check CloudFormation Templates, SageMaker Endpoints, and EndpointConfigurations as well_"
   ]
  }
 ],
 "metadata": {
  "instance_type": "ml.t3.medium",
  "kernelspec": {
   "display_name": "Python 3 (Data Science)",
   "language": "python",
   "name": "python3__SAGEMAKER_INTERNAL__arn:aws:sagemaker:us-east-1:081325390199:image/datascience-1.0"
  },
  "language_info": {
   "codemirror_mode": {
    "name": "ipython",
    "version": 3
   },
   "file_extension": ".py",
   "mimetype": "text/x-python",
   "name": "python",
   "nbconvert_exporter": "python",
   "pygments_lexer": "ipython3",
   "version": "3.7.6"
  }
 },
 "nbformat": 4,
 "nbformat_minor": 4
}
