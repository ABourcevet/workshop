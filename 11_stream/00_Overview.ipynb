{
 "cells": [
  {
   "cell_type": "markdown",
   "metadata": {},
   "source": [
    "# Continuous Machine Learning over Streaming Data\n",
    "\n",
    "Streaming technology provides you with the tools to ingest data as it is generated, process the data on-the-fly, and run real-time analytics on the data which can trigger actions. AWS offers a range of streaming tools as part of the [Amazon Kinesis](https://aws.amazon.com/kinesis/) family of services. "
   ]
  },
  {
   "cell_type": "markdown",
   "metadata": {},
   "source": [
    "## _Kinesis Data Firehose vs. Kinesis Data Streams_\n",
    "\n",
    "### Kinesis Data Firehose\n",
    "* Amazon Kinesis Data Firehose is the easiest way to load streaming data into data stores and analytics tools. \n",
    "* It can capture, transform, and load streaming data into Amazon S3, Amazon Redshift, Amazon Elasticsearch Service, and Splunk, enabling near real-time analytics with existing business intelligence tools and dashboards you’re already using today. \n",
    "* It is a fully managed service that automatically scales to match the throughput of your data and requires no ongoing administration. It can also batch, compress, and encrypt the data before loading it, minimizing the amount of storage used at the destination and increasing security.\n",
    "\n",
    "### Kinesis Data Streams\n",
    "* Amazon Kinesis Data Streams enables you to build custom applications that process or analyze streaming data for specialized needs. \n",
    "* You can continuously add various types of data such as clickstreams, application logs, and social media to an Amazon Kinesis data stream from hundreds of thousands of sources. \n",
    "* Within seconds, the data will be available for your Amazon Kinesis Applications to read and process from the stream."
   ]
  },
  {
   "cell_type": "markdown",
   "metadata": {},
   "source": [
    "## In the following noteboooks, we will show you how you can start implementing continuous machine learning using the Kinesis streaming services. \n",
    "\n",
    "* Create a **Kinesis Data Firehose** delivery stream to receive live customer review data, and write the streaming data to S3.\n",
    "* Invoke a **SageMaker Endpoint** to predict the `star_rating` on streaming data (incoming reviews)\n",
    "* Analyze Streaming Data with **Kinesis Data Analytics** (calculate average star rating, approximate count, and detect anomalies)\n",
    "* Use **Kinesis Data Streams** to deliver streaming data to custom consumer applications"
   ]
  },
  {
   "cell_type": "markdown",
   "metadata": {},
   "source": [
    "# Use Case 1: \n",
    "# Invoke a SageMaker Endpoint from Kinesis to receive a `star_rating` prediction "
   ]
  },
  {
   "cell_type": "markdown",
   "metadata": {},
   "source": [
    "## _Transform Data in Kinesis Data Firehose delivery stream_"
   ]
  },
  {
   "cell_type": "markdown",
   "metadata": {},
   "source": [
    "<img src=\"img/kinesis_firehose_transform.png\" width=\"90%\" align=\"left\">"
   ]
  },
  {
   "cell_type": "markdown",
   "metadata": {},
   "source": [
    "## _Preprocess streaming data in Kinesis Data Analytics_"
   ]
  },
  {
   "cell_type": "markdown",
   "metadata": {},
   "source": [
    "<img src=\"img/kinesis-analytics-transformed_data.png\" width=\"90%\" align=\"left\">"
   ]
  },
  {
   "cell_type": "markdown",
   "metadata": {},
   "source": [
    "# Use Case 2: \n",
    "# Analyze Streaming Data with Kinesis Data Analytics\n",
    "\n",
    "## _Calculating AVG Star Rating_"
   ]
  },
  {
   "cell_type": "markdown",
   "metadata": {},
   "source": [
    "<img src=\"img/use_case_1_analytics.png\" width=\"80%\" align=\"left\">"
   ]
  },
  {
   "cell_type": "markdown",
   "metadata": {},
   "source": [
    "## _Detect Anomalies of Streaming Data_"
   ]
  },
  {
   "cell_type": "markdown",
   "metadata": {},
   "source": [
    "<img src=\"img/use_case_2_anomaly.png\" width=\"70%\" align=\"left\">"
   ]
  },
  {
   "cell_type": "markdown",
   "metadata": {},
   "source": [
    "## _Calculate Approxmimate Counts of Streaming Data_"
   ]
  },
  {
   "cell_type": "markdown",
   "metadata": {},
   "source": [
    "<img src=\"img/use_case_3_count.png\" width=\"80%\" align=\"left\">"
   ]
  },
  {
   "cell_type": "markdown",
   "metadata": {},
   "source": [
    "# Use Case 3: \n",
    "# Implement Incremental Model Training with Streaming Data using Multi-Armed Bandit models"
   ]
  },
  {
   "cell_type": "markdown",
   "metadata": {},
   "source": [
    "<img src=\"img/use_case_4_bandit.png\" width=\"90%\" align=\"left\">"
   ]
  },
  {
   "cell_type": "code",
   "execution_count": null,
   "metadata": {},
   "outputs": [],
   "source": [
    "%%javascript\n",
    "Jupyter.notebook.save_checkpoint();\n",
    "Jupyter.notebook.session.delete();"
   ]
  }
 ],
 "metadata": {
  "kernelspec": {
   "display_name": "conda_python3",
   "language": "python",
   "name": "conda_python3"
  },
  "language_info": {
   "codemirror_mode": {
    "name": "ipython",
    "version": 3
   },
   "file_extension": ".py",
   "mimetype": "text/x-python",
   "name": "python",
   "nbconvert_exporter": "python",
   "pygments_lexer": "ipython3",
   "version": "3.6.10"
  }
 },
 "nbformat": 4,
 "nbformat_minor": 4
}
