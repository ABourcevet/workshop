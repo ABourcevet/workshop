{
 "cells": [
  {
   "cell_type": "code",
   "execution_count": null,
   "metadata": {},
   "outputs": [],
   "source": [
    "import boto3\n",
    "import sagemaker\n",
    "import pandas as pd\n",
    "\n",
    "sess   = sagemaker.Session()\n",
    "bucket = sess.default_bucket()\n",
    "role = sagemaker.get_execution_role()\n",
    "region = boto3.Session().region_name\n",
    "\n",
    "sm = boto3.Session().client(service_name='sagemaker', region_name=region)"
   ]
  },
  {
   "cell_type": "code",
   "execution_count": 1,
   "metadata": {},
   "outputs": [
    {
     "name": "stdout",
     "output_type": "stream",
     "text": [
      "2020-09-15 01:50:57 835319576252personalizepocvod\n",
      "2020-11-08 00:43:10 airflow-sagemaker-cfregly-demo\n",
      "2020-09-01 01:08:59 airflow-turbinecluster-1qprn28d-deploymentsbucket-h1o08phtrj3j\n",
      "2020-08-27 02:38:35 amazon-braket-835319576252\n",
      "2020-08-21 07:33:05 amazon-braket-b03086a4ca4b\n",
      "2020-01-08 11:27:57 amazon-forecast-data-835319576252\n",
      "2020-05-26 20:33:28 aws-athena-query-results-835319576252-us-east-1\n",
      "2020-01-03 18:12:44 aws-athena-query-results-us-east-1-835319576252\n",
      "2019-12-30 14:34:28 aws-glue-scripts-835319576252-us-east-1\n",
      "2019-12-30 14:34:29 aws-glue-temporary-835319576252-us-east-1\n",
      "2019-11-19 00:07:42 aws-kubeflow-workshop\n",
      "2019-12-11 18:28:37 aws-logs-835319576252-us-east-1\n",
      "2020-10-29 17:26:23 awsrobomakerhelloworld-160399237715-bundlesbucket-1hf9zatpy5nmi\n",
      "2020-01-01 13:57:23 cf-templates-wn3lggj1tszd-us-east-1\n",
      "2020-01-07 21:28:57 cf-templates-wn3lggj1tszd-us-west-2\n",
      "2020-06-27 22:40:30 cfregly-databricks\n",
      "2020-01-14 19:12:29 cfregly-sfn-helloworld\n",
      "2020-01-14 19:16:15 cfregly-sfn-helloworld-cloudtrail-log-storage\n",
      "2019-10-06 20:49:39 cloudtrail-awslogs-835319576252-fykrpo1n-isengard-do-not-delete\n",
      "2020-05-10 18:40:55 cloudtrail-dsoaws-835319576252\n",
      "2019-12-30 14:29:35 data-science-on-aws-isengard\n",
      "2020-02-17 18:45:47 data-science-on-aws-us-east-2\n",
      "2019-10-06 21:04:32 do-not-delete-gatedgarden-audit-835319576252\n",
      "2020-05-10 18:40:47 dsoaws-data-upload-835319576252\n",
      "2020-06-13 21:10:04 dsoaws-test-upload-835319576252\n",
      "2020-01-03 17:40:30 explore-reviews-dataset-targetbucket-1hdsco0rhrsbb\n",
      "2020-01-01 14:15:57 glue-spark-sagemaker-2019reinventetlbucket-wc464blke87e\n",
      "2020-01-07 21:33:40 loftforecastdemo\n",
      "2020-01-08 11:39:28 loftpersonalizedemo\n",
      "2020-01-16 17:42:33 personalizedemo-cfregly\n",
      "2020-10-26 18:38:27 sagemaker-airflow-us-east-1-835319576252\n",
      "2020-11-09 08:21:46 sagemaker-coursera-lab-835319576252\n",
      "2020-01-29 02:00:20 sagemaker-experiments-us-east-1-835319576252\n",
      "2020-02-05 17:34:22 sagemaker-experiments-us-east-2-835319576252\n",
      "2020-12-04 02:00:04 sagemaker-project-p-q34qu004sa5p\n",
      "2020-01-16 21:39:29 sagemaker-studio-835319576252-oixkq9jqlob\n",
      "2020-05-06 20:24:17 sagemaker-studio-835319576252-pdwqi5h4q1\n",
      "2020-02-05 17:36:27 sagemaker-studio-us-east-2-835319576252\n",
      "2019-12-25 15:27:38 sagemaker-us-east-1-835319576252\n",
      "2020-02-05 17:34:31 sagemaker-us-east-2-835319576252\n",
      "2020-07-11 00:18:08 sagemaker-us-west-2-835319576252\n",
      "2020-10-24 18:51:53 serverless-qa-bert-dev-serverlessdeploymentbucket-1iefbtwgcwly2\n"
     ]
    }
   ],
   "source": [
    "!aws s3 ls $bucket"
   ]
  },
  {
   "cell_type": "code",
   "execution_count": null,
   "metadata": {},
   "outputs": [
    {
     "data": {
      "application/javascript": [
       "Jupyter.notebook.save_checkpoint();\n",
       "Jupyter.notebook.session.delete();\n"
      ],
      "text/plain": [
       "<IPython.core.display.Javascript object>"
      ]
     },
     "metadata": {},
     "output_type": "display_data"
    }
   ],
   "source": [
    "%%javascript\n",
    "\n",
    "try {\n",
    "    Jupyter.notebook.save_checkpoint();\n",
    "    Jupyter.notebook.session.delete();\n",
    "}\n",
    "catch(err) {\n",
    "    // NoOp\n",
    "}"
   ]
  }
 ],
 "metadata": {
  "kernelspec": {
   "display_name": "conda_python3",
   "language": "python",
   "name": "conda_python3"
  },
  "language_info": {
   "codemirror_mode": {
    "name": "ipython",
    "version": 3
   },
   "file_extension": ".py",
   "mimetype": "text/x-python",
   "name": "python",
   "nbconvert_exporter": "python",
   "pygments_lexer": "ipython3",
   "version": "3.6.10"
  }
 },
 "nbformat": 4,
 "nbformat_minor": 4
}
