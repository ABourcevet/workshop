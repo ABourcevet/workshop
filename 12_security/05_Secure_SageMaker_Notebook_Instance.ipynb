{
 "cells": [
  {
   "cell_type": "markdown",
   "metadata": {},
   "source": [
    "# Create a SageMaker Notebook Instance\n",
    "Create a notebook instance with the following properties:\n",
    "* within a VPC\n",
    "* using KMS encryption\n",
    "* without internet access\n",
    "* root access disabled"
   ]
  },
  {
   "cell_type": "code",
   "execution_count": null,
   "metadata": {},
   "outputs": [],
   "source": [
    "sm.create_notebook_instance(\n",
    "    NotebookInstanceName='dsoaws',\n",
    "    InstanceType='ml.t3.medium',\n",
    "    SubnetId='<SUBNET_ID>',\n",
    "    SecurityGroupIds=[\n",
    "        '<SECURITY_GROUP_IDS>',\n",
    "    ],\n",
    "    RoleArn='arn:aws:iam::<ACCOUNT_ID>:role/service-role/<ROLE_NAME>',\n",
    "    KmsKeyId='<KEY_ID>',\n",
    "    DirectInternetAccess='Disabled',\n",
    "    VolumeSizeInGB=10,\n",
    "    RootAccess='Disabled'\n",
    ")"
   ]
  }
 ],
 "metadata": {
  "kernelspec": {
   "display_name": "conda_python3",
   "language": "python",
   "name": "conda_python3"
  },
  "language_info": {
   "codemirror_mode": {
    "name": "ipython",
    "version": 3
   },
   "file_extension": ".py",
   "mimetype": "text/x-python",
   "name": "python",
   "nbconvert_exporter": "python",
   "pygments_lexer": "ipython3",
   "version": "3.6.10"
  }
 },
 "nbformat": 4,
 "nbformat_minor": 4
}
