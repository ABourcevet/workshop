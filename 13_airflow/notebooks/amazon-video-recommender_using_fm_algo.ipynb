{
 "cells": [
  {
   "cell_type": "markdown",
   "metadata": {},
   "source": [
    "# Implementing Recommender System with SageMaker Built-In Algorithm\n",
    "_**Making Product Recommendations Using Factorization Machines**_\n",
    "\n",
    "--- \n",
    "\n",
    "*This work is based on content from [Gluon based Recommender System notebook](https://github.com/awslabs/amazon-sagemaker-examples/blob/master/introduction_to_applying_machine_learning/gluon_recommender_system/gluon_recommender_system.ipynb)*\n",
    "\n",
    "---"
   ]
  },
  {
   "cell_type": "markdown",
   "metadata": {},
   "source": [
    "## Table of Contents\n",
    "\n",
    "1. [Background](#Background)\n",
    "1. [Setup](#Setup)\n",
    "1. [Data](#Data)\n",
    "  1. [Explore](#Explore)\n",
    "  1. [Clean](#Clean)\n",
    "  1. [Prepare](#Prepare)\n",
    "1. [Model Training](#Model-Training)\n",
    "1. [Model Inference](#Model-Inference)\n",
    "  1. [Real-Time Inference](#Real-Time-Inference)\n",
    "  1. [Batch Inference](#Batch-Inference)\n",
    "1. [Evaluate Model Performance](#Evaluate-Model-Performance)\n",
    "1. [Model Tuning](#Model-Tuning)\n",
    "1. [Wrap-up](#Wrap-up)\n",
    "  1. [Clean-Up](#Clean-up-(optional))"
   ]
  },
  {
   "cell_type": "markdown",
   "metadata": {},
   "source": [
    "---"
   ]
  },
  {
   "cell_type": "markdown",
   "metadata": {},
   "source": [
    "## Background\n",
    "\n",
    "In many ways, recommender systems were a catalyst for the current popularity of machine learning.  One of Amazon's earliest successes was the \"Customers who bought this, also bought...\" feature, while the million dollar Netflix Prize spurred research, raised public awareness, and inspired numerous other data science competitions.\n",
    "\n",
    "Recommender systems can utilize a multitude of data sources and ML algorithms, and most combine various unsupervised, supervised, and reinforcement learning techniques into a holistic framework.  However, the core component is almost always a model which predicts a user's rating (or purchase) for a certain item based on that user's historical ratings of similar items as well as the behavior of other similar users.  The minimal required dataset for this is a history of user item ratings.  In our case, we'll use 1 to 5 star ratings from over 2M Amazon customers on over 160K digital videos. More details on this dataset can be found at its [AWS Public Datasets page](https://s3.amazonaws.com/amazon-reviews-pds/readme.html).\n",
    "\n",
    "Matrix factorization has been the cornerstone of most user-item prediction models.  This method starts with the large, sparse, user-item ratings in a single matrix, where users index the rows, and items index the columns.  It then seeks to find two lower-dimensional, dense matrices which, when multiplied together, preserve the information and relationships in the larger matrix.\n",
    "\n",
    "![image](./factorization.png)\n",
    "\n",
    "Matrix factorization has been extended and generalized with deep learning and embeddings.  These techniques allows us to introduce non-linearities for enhanced performance and flexibility.  This notebook will fit a neural network-based model to generate recommendations for the Amazon video dataset.  It will start by exploring our data in the notebook, training a model on the data and fit our model using a SageMaker managed training cluster.  We'll then deploy to an endpoint and check our method.\n",
    "\n",
    "We will also see how the tasks in the machine learning pipeline can be orchestrated and automated through Apache Airflow integration with Sagemaker.\n",
    "\n",
    "---\n",
    "\n",
    "## Setup\n",
    "\n",
    "_This notebook was created and tested on an ml.t2.xlarge notebook instance._\n",
    "\n",
    "Let's start by specifying:\n",
    "\n",
    "- The S3 bucket and prefix that you want to use for training and model data.  This should be within the same region as the Notebook Instance, training, and hosting.\n",
    "- The IAM role arn used to give training and hosting access to your data. See the documentation for how to create these.  Note, if more than one role is required for notebook instances, training, and/or hosting, please replace the `get_execution_role()` call with the appropriate full IAM role arn string(s)."
   ]
  },
  {
   "cell_type": "code",
   "execution_count": 1,
   "metadata": {},
   "outputs": [
    {
     "name": "stderr",
     "output_type": "stream",
     "text": [
      "No handlers could be found for logger \"sagemaker\"\n"
     ]
    }
   ],
   "source": [
    "import boto3\n",
    "import sagemaker\n",
    "import pandas as pd\n",
    "\n",
    "sess   = sagemaker.Session()\n",
    "bucket = sess.default_bucket()\n",
    "role = sagemaker.get_execution_role()\n",
    "region = boto3.Session().region_name\n",
    "\n",
    "sm = boto3.Session().client(service_name='sagemaker', region_name=region)"
   ]
  },
  {
   "cell_type": "code",
   "execution_count": 2,
   "metadata": {
    "isConfigCell": true
   },
   "outputs": [],
   "source": [
    "prefix = 'sagemaker/fm-recsys'\n",
    "\n",
    "import sagemaker\n",
    "\n",
    "from sagemaker.tuner import HyperparameterTuner, ContinuousParameter\n",
    "from sagemaker.analytics import HyperparameterTuningJobAnalytics, TrainingJobAnalytics\n",
    "\n",
    "#role = sagemaker.get_execution_role()\n",
    "#sess = sagemaker.Session()\n",
    "#smclient = boto3.Session().client('sagemaker')"
   ]
  },
  {
   "cell_type": "markdown",
   "metadata": {},
   "source": [
    "Now let's load the Python libraries we'll need for the remainder of this example notebook."
   ]
  },
  {
   "cell_type": "code",
   "execution_count": 3,
   "metadata": {},
   "outputs": [],
   "source": [
    "import os\n",
    "import io\n",
    "import sys\n",
    "import time\n",
    "\n",
    "import pandas as pd\n",
    "import numpy as np\n",
    "from scipy.sparse import lil_matrix\n",
    "\n",
    "import boto3\n",
    "import json\n",
    "\n",
    "import matplotlib.pyplot as plt\n",
    "import seaborn as sns\n",
    "\n",
    "import sagemaker.amazon.common as smac\n",
    "from sagemaker.predictor import json_deserializer"
   ]
  },
  {
   "cell_type": "code",
   "execution_count": 4,
   "metadata": {},
   "outputs": [],
   "source": [
    "# plot aesthetics\n",
    "sns.set(color_codes=True)\n",
    "sns.set_context('paper')\n",
    "five_thirty_eight = [\"#30a2da\", \"#fc4f30\", \"#e5ae38\", \"#6d904f\", \"#8b8b8b\",]\n",
    "sns.set_palette(five_thirty_eight)\n",
    "\n",
    "%matplotlib inline"
   ]
  },
  {
   "cell_type": "markdown",
   "metadata": {},
   "source": [
    "---\n",
    "## Data\n",
    "\n",
    "### Explore\n",
    "\n",
    "Let's start by bringing in our dataset from an S3 public bucket.  As mentioned above, this contains 1 to 5 star ratings from over 2M Amazon customers on over 160K digital videos.  More details on this dataset can be found at its [AWS Public Datasets page](https://s3.amazonaws.com/amazon-reviews-pds/readme.html).\n",
    "\n",
    "_Note, because this dataset is over a half gigabyte, the load from S3 may take ~10 minutes.  Also, since Amazon SageMaker Notebooks start with a 5GB persistent volume by default, and we don't need to keep this data on our instance for long, we'll bring it to the temporary volume (which has up to 20GB of storage)._"
   ]
  },
  {
   "cell_type": "code",
   "execution_count": 5,
   "metadata": {},
   "outputs": [
    {
     "name": "stdout",
     "output_type": "stream",
     "text": [
      "download: s3://amazon-reviews-pds/tsv/amazon_reviews_us_Digital_Video_Download_v1_00.tsv.gz to ../../../../../../tmp/recsys/amazon_reviews_us_Digital_Video_Download_v1_00.tsv.gz\n"
     ]
    }
   ],
   "source": [
    "!mkdir /tmp/recsys/\n",
    "!aws s3 cp s3://amazon-reviews-pds/tsv/amazon_reviews_us_Digital_Video_Download_v1_00.tsv.gz /tmp/recsys/"
   ]
  },
  {
   "cell_type": "markdown",
   "metadata": {},
   "source": [
    "Let's read the data into a [Pandas DataFrame](https://pandas.pydata.org/pandas-docs/stable/generated/pandas.DataFrame.html) so that we can begin to understand it.\n",
    "\n",
    "*Note, we'll set `error_bad_lines=False` when reading the file in as there appear to be a very small number of records which would create a problem otherwise.*"
   ]
  },
  {
   "cell_type": "code",
   "execution_count": 6,
   "metadata": {},
   "outputs": [
    {
     "name": "stderr",
     "output_type": "stream",
     "text": [
      "Skipping line 92523: expected 15 fields, saw 22\n",
      "\n",
      "Skipping line 343254: expected 15 fields, saw 22\n",
      "\n",
      "Skipping line 524626: expected 15 fields, saw 22\n",
      "\n",
      "Skipping line 623024: expected 15 fields, saw 22\n",
      "\n",
      "Skipping line 977412: expected 15 fields, saw 22\n",
      "\n",
      "Skipping line 1496867: expected 15 fields, saw 22\n",
      "\n",
      "Skipping line 1711638: expected 15 fields, saw 22\n",
      "\n",
      "Skipping line 1787213: expected 15 fields, saw 22\n",
      "\n",
      "Skipping line 2395306: expected 15 fields, saw 22\n",
      "\n",
      "Skipping line 2527690: expected 15 fields, saw 22\n",
      "\n"
     ]
    },
    {
     "data": {
      "text/html": [
       "<div>\n",
       "<style scoped>\n",
       "    .dataframe tbody tr th:only-of-type {\n",
       "        vertical-align: middle;\n",
       "    }\n",
       "\n",
       "    .dataframe tbody tr th {\n",
       "        vertical-align: top;\n",
       "    }\n",
       "\n",
       "    .dataframe thead th {\n",
       "        text-align: right;\n",
       "    }\n",
       "</style>\n",
       "<table border=\"1\" class=\"dataframe\">\n",
       "  <thead>\n",
       "    <tr style=\"text-align: right;\">\n",
       "      <th></th>\n",
       "      <th>marketplace</th>\n",
       "      <th>customer_id</th>\n",
       "      <th>review_id</th>\n",
       "      <th>product_id</th>\n",
       "      <th>product_parent</th>\n",
       "      <th>product_title</th>\n",
       "      <th>product_category</th>\n",
       "      <th>star_rating</th>\n",
       "      <th>helpful_votes</th>\n",
       "      <th>total_votes</th>\n",
       "      <th>vine</th>\n",
       "      <th>verified_purchase</th>\n",
       "      <th>review_headline</th>\n",
       "      <th>review_body</th>\n",
       "      <th>review_date</th>\n",
       "    </tr>\n",
       "  </thead>\n",
       "  <tbody>\n",
       "    <tr>\n",
       "      <th>0</th>\n",
       "      <td>US</td>\n",
       "      <td>12190288</td>\n",
       "      <td>R3FU16928EP5TC</td>\n",
       "      <td>B00AYB1482</td>\n",
       "      <td>668895143</td>\n",
       "      <td>Enlightened: Season 1</td>\n",
       "      <td>Digital_Video_Download</td>\n",
       "      <td>5</td>\n",
       "      <td>0</td>\n",
       "      <td>0</td>\n",
       "      <td>N</td>\n",
       "      <td>Y</td>\n",
       "      <td>I loved it and I wish there was a season 3</td>\n",
       "      <td>I loved it and I wish there was a season 3... ...</td>\n",
       "      <td>2015-08-31</td>\n",
       "    </tr>\n",
       "    <tr>\n",
       "      <th>1</th>\n",
       "      <td>US</td>\n",
       "      <td>30549954</td>\n",
       "      <td>R1IZHHS1MH3AQ4</td>\n",
       "      <td>B00KQD28OM</td>\n",
       "      <td>246219280</td>\n",
       "      <td>Vicious</td>\n",
       "      <td>Digital_Video_Download</td>\n",
       "      <td>5</td>\n",
       "      <td>0</td>\n",
       "      <td>0</td>\n",
       "      <td>N</td>\n",
       "      <td>Y</td>\n",
       "      <td>As always it seems that the best shows come fr...</td>\n",
       "      <td>As always it seems that the best shows come fr...</td>\n",
       "      <td>2015-08-31</td>\n",
       "    </tr>\n",
       "    <tr>\n",
       "      <th>2</th>\n",
       "      <td>US</td>\n",
       "      <td>52895410</td>\n",
       "      <td>R52R85WC6TIAH</td>\n",
       "      <td>B01489L5LQ</td>\n",
       "      <td>534732318</td>\n",
       "      <td>After Words</td>\n",
       "      <td>Digital_Video_Download</td>\n",
       "      <td>4</td>\n",
       "      <td>17</td>\n",
       "      <td>18</td>\n",
       "      <td>N</td>\n",
       "      <td>Y</td>\n",
       "      <td>Charming movie</td>\n",
       "      <td>This movie isn't perfect, but it gets a lot of...</td>\n",
       "      <td>2015-08-31</td>\n",
       "    </tr>\n",
       "    <tr>\n",
       "      <th>3</th>\n",
       "      <td>US</td>\n",
       "      <td>27072354</td>\n",
       "      <td>R7HOOYTVIB0DS</td>\n",
       "      <td>B008LOVIIK</td>\n",
       "      <td>239012694</td>\n",
       "      <td>Masterpiece: Inspector Lewis Season 5</td>\n",
       "      <td>Digital_Video_Download</td>\n",
       "      <td>5</td>\n",
       "      <td>0</td>\n",
       "      <td>0</td>\n",
       "      <td>N</td>\n",
       "      <td>Y</td>\n",
       "      <td>Five Stars</td>\n",
       "      <td>excellant this is what tv should be</td>\n",
       "      <td>2015-08-31</td>\n",
       "    </tr>\n",
       "    <tr>\n",
       "      <th>4</th>\n",
       "      <td>US</td>\n",
       "      <td>26939022</td>\n",
       "      <td>R1XQ2N5CDOZGNX</td>\n",
       "      <td>B0094LZMT0</td>\n",
       "      <td>535858974</td>\n",
       "      <td>On The Waterfront</td>\n",
       "      <td>Digital_Video_Download</td>\n",
       "      <td>5</td>\n",
       "      <td>0</td>\n",
       "      <td>0</td>\n",
       "      <td>N</td>\n",
       "      <td>Y</td>\n",
       "      <td>Brilliant film from beginning to end</td>\n",
       "      <td>Brilliant film from beginning to end. All of t...</td>\n",
       "      <td>2015-08-31</td>\n",
       "    </tr>\n",
       "  </tbody>\n",
       "</table>\n",
       "</div>"
      ],
      "text/plain": [
       "  marketplace  customer_id       review_id  product_id  product_parent  \\\n",
       "0          US     12190288  R3FU16928EP5TC  B00AYB1482       668895143   \n",
       "1          US     30549954  R1IZHHS1MH3AQ4  B00KQD28OM       246219280   \n",
       "2          US     52895410   R52R85WC6TIAH  B01489L5LQ       534732318   \n",
       "3          US     27072354   R7HOOYTVIB0DS  B008LOVIIK       239012694   \n",
       "4          US     26939022  R1XQ2N5CDOZGNX  B0094LZMT0       535858974   \n",
       "\n",
       "                           product_title        product_category  star_rating  \\\n",
       "0                  Enlightened: Season 1  Digital_Video_Download            5   \n",
       "1                                Vicious  Digital_Video_Download            5   \n",
       "2                            After Words  Digital_Video_Download            4   \n",
       "3  Masterpiece: Inspector Lewis Season 5  Digital_Video_Download            5   \n",
       "4                      On The Waterfront  Digital_Video_Download            5   \n",
       "\n",
       "   helpful_votes  total_votes vine verified_purchase  \\\n",
       "0              0            0    N                 Y   \n",
       "1              0            0    N                 Y   \n",
       "2             17           18    N                 Y   \n",
       "3              0            0    N                 Y   \n",
       "4              0            0    N                 Y   \n",
       "\n",
       "                                     review_headline  \\\n",
       "0         I loved it and I wish there was a season 3   \n",
       "1  As always it seems that the best shows come fr...   \n",
       "2                                     Charming movie   \n",
       "3                                         Five Stars   \n",
       "4               Brilliant film from beginning to end   \n",
       "\n",
       "                                         review_body review_date  \n",
       "0  I loved it and I wish there was a season 3... ...  2015-08-31  \n",
       "1  As always it seems that the best shows come fr...  2015-08-31  \n",
       "2  This movie isn't perfect, but it gets a lot of...  2015-08-31  \n",
       "3                excellant this is what tv should be  2015-08-31  \n",
       "4  Brilliant film from beginning to end. All of t...  2015-08-31  "
      ]
     },
     "execution_count": 6,
     "metadata": {},
     "output_type": "execute_result"
    }
   ],
   "source": [
    "reviews = pd.read_csv('/tmp/recsys/amazon_reviews_us_Digital_Video_Download_v1_00.tsv.gz', delimiter='\\t',error_bad_lines=False)\n",
    "reviews.head()"
   ]
  },
  {
   "cell_type": "markdown",
   "metadata": {},
   "source": [
    "We can see this dataset includes information like:\n",
    "\n",
    "- `marketplace`: 2-letter country code (in this case all \"US\").\n",
    "- `customer_id`: Random identifier that can be used to aggregate reviews written by a single author.\n",
    "- `review_id`: A unique ID for the review.\n",
    "- `product_id`: The Amazon Standard Identification Number (ASIN).  `http://www.amazon.com/dp/<ASIN>` links to the product's detail page.\n",
    "- `product_parent`: The parent of that ASIN.  Multiple ASINs (color or format variations of the same product) can roll up into a single parent parent.\n",
    "- `product_title`: Title description of the product.\n",
    "- `product_category`: Broad product category that can be used to group reviews (in this case digital videos).\n",
    "- `star_rating`: The review's rating (1 to 5 stars).\n",
    "- `helpful_votes`: Number of helpful votes for the review.\n",
    "- `total_votes`: Number of total votes the review received.\n",
    "- `vine`: Was the review written as part of the [Vine](https://www.amazon.com/gp/vine/help) program?\n",
    "- `verified_purchase`: Was the review from a verified purchase?\n",
    "- `review_headline`: The title of the review itself.\n",
    "- `review_body`: The text of the review.\n",
    "- `review_date`: The date the review was written.\n",
    "\n",
    "For this example, let's limit ourselves to `customer_id`, `product_id`, and `star_rating`.  Including additional features in our recommendation system could be beneficial, but would require substantial processing (particularly the text data) which would take us beyond the scope of this notebook.\n",
    "\n",
    "*Note: we'll keep `product_title` on the dataset to help verify our recommendations later in the notebook, but it will not be used in algorithm training.*"
   ]
  },
  {
   "cell_type": "code",
   "execution_count": 7,
   "metadata": {},
   "outputs": [],
   "source": [
    "reviews = reviews[['customer_id', 'product_id', 'star_rating', 'product_title']]"
   ]
  },
  {
   "cell_type": "markdown",
   "metadata": {},
   "source": [
    "Because most people haven't seen most videos, and people rate fewer videos than we actually watch, we'd expect our data to be sparse.  Our algorithm should work well with this sparse problem in general, but we may still want to clean out some of the long tail.  Let's look at some basic percentiles to confirm."
   ]
  },
  {
   "cell_type": "code",
   "execution_count": 8,
   "metadata": {},
   "outputs": [],
   "source": [
    "customers = reviews['customer_id'].value_counts()\n",
    "products = reviews['product_id'].value_counts()\n",
    "\n",
    "quantiles = [0, 0.01, 0.02, 0.03, 0.04, 0.05, 0.1, 0.25, 0.5, 0.75, 0.9, 0.95, 0.96, 0.97, 0.98, 0.99, 1]\n",
    "product_q = pd.DataFrame(zip(quantiles, products.quantile(quantiles)), columns=[\"quantile\", \"products\"])\n",
    "customer_q = pd.DataFrame(zip(quantiles, customers.quantile(quantiles)), columns=[\"quantile\", \"customers\"])\n",
    "# product_q.tail(10)\n",
    "# customer_q.tail(10)"
   ]
  },
  {
   "cell_type": "code",
   "execution_count": 9,
   "metadata": {},
   "outputs": [
    {
     "data": {
      "image/png": "[encoded data removed]",
      "text/plain": [
       "<Figure size 432x288 with 1 Axes>"
      ]
     },
     "metadata": {
      "needs_background": "light"
     },
     "output_type": "display_data"
    }
   ],
   "source": [
    "axp = sns.barplot(x=\"quantile\", y=\"products\", data=product_q, palette=five_thirty_eight)"
   ]
  },
  {
   "cell_type": "code",
   "execution_count": 10,
   "metadata": {},
   "outputs": [
    {
     "data": {
      "image/png": "[encoded data removed]",
      "text/plain": [
       "<Figure size 432x288 with 1 Axes>"
      ]
     },
     "metadata": {
      "needs_background": "light"
     },
     "output_type": "display_data"
    }
   ],
   "source": [
    "axc = sns.barplot(x=\"quantile\", y=\"customers\", data=customer_q, palette=five_thirty_eight)"
   ]
  },
  {
   "cell_type": "markdown",
   "metadata": {},
   "source": [
    "As we can see, only about 5% of customers have rated 5 or more videos, and only 25% of videos have been rated by 9+ customers.\n",
    "\n",
    "### Clean\n",
    "\n",
    "Let's filter out this long tail and remove any duplicate reviews (same product and customer)."
   ]
  },
  {
   "cell_type": "code",
   "execution_count": 11,
   "metadata": {},
   "outputs": [
    {
     "name": "stdout",
     "output_type": "stream",
     "text": [
      "# of records before removing the long tail =    3998345\n",
      "# of records after  removing the long tail =    1168955\n",
      "# of records after  removing duplicates    =    1168903\n"
     ]
    }
   ],
   "source": [
    "customers = customers[customers >= 5]\n",
    "products = products[products >= 10]\n",
    "\n",
    "print(\"# of records before removing the long tail = {:10d}\".format(reviews.shape[0]))\n",
    "reduced_df = reviews.merge(pd.DataFrame({'customer_id': customers.index})).merge(pd.DataFrame({'product_id': products.index}))\n",
    "print(\"# of records after  removing the long tail = {:10d}\".format(reduced_df.shape[0]))\n",
    "reduced_df = reduced_df.drop_duplicates(['customer_id', 'product_id'])\n",
    "print(\"# of records after  removing duplicates    = {:10d}\".format(reduced_df.shape[0]))"
   ]
  },
  {
   "cell_type": "markdown",
   "metadata": {},
   "source": [
    "Now, we'll recreate our customer and product lists since there are customers with more than 5 reviews, but all of their reviews are on products with less than 5 reviews (and vice versa)."
   ]
  },
  {
   "cell_type": "code",
   "execution_count": 12,
   "metadata": {},
   "outputs": [],
   "source": [
    "customers = reduced_df['customer_id'].value_counts()\n",
    "products = reduced_df['product_id'].value_counts()"
   ]
  },
  {
   "cell_type": "markdown",
   "metadata": {},
   "source": [
    "Next, we'll number each user and item, giving them their own sequential index.  This will allow us to hold the information in a sparse format where the sequential indices indicate the row and column in our ratings matrix."
   ]
  },
  {
   "cell_type": "code",
   "execution_count": 13,
   "metadata": {},
   "outputs": [
    {
     "data": {
      "text/html": [
       "<div>\n",
       "<style scoped>\n",
       "    .dataframe tbody tr th:only-of-type {\n",
       "        vertical-align: middle;\n",
       "    }\n",
       "\n",
       "    .dataframe tbody tr th {\n",
       "        vertical-align: top;\n",
       "    }\n",
       "\n",
       "    .dataframe thead th {\n",
       "        text-align: right;\n",
       "    }\n",
       "</style>\n",
       "<table border=\"1\" class=\"dataframe\">\n",
       "  <thead>\n",
       "    <tr style=\"text-align: right;\">\n",
       "      <th></th>\n",
       "      <th>customer_id</th>\n",
       "      <th>product_id</th>\n",
       "      <th>star_rating</th>\n",
       "      <th>product_title</th>\n",
       "      <th>customer</th>\n",
       "      <th>product</th>\n",
       "    </tr>\n",
       "  </thead>\n",
       "  <tbody>\n",
       "    <tr>\n",
       "      <th>0</th>\n",
       "      <td>27072354</td>\n",
       "      <td>B008LOVIIK</td>\n",
       "      <td>5</td>\n",
       "      <td>Masterpiece: Inspector Lewis Season 5</td>\n",
       "      <td>10974</td>\n",
       "      <td>107</td>\n",
       "    </tr>\n",
       "    <tr>\n",
       "      <th>1</th>\n",
       "      <td>16030865</td>\n",
       "      <td>B008LOVIIK</td>\n",
       "      <td>5</td>\n",
       "      <td>Masterpiece: Inspector Lewis Season 5</td>\n",
       "      <td>481</td>\n",
       "      <td>107</td>\n",
       "    </tr>\n",
       "    <tr>\n",
       "      <th>2</th>\n",
       "      <td>44025160</td>\n",
       "      <td>B008LOVIIK</td>\n",
       "      <td>5</td>\n",
       "      <td>Masterpiece: Inspector Lewis Season 5</td>\n",
       "      <td>31093</td>\n",
       "      <td>107</td>\n",
       "    </tr>\n",
       "    <tr>\n",
       "      <th>3</th>\n",
       "      <td>18602179</td>\n",
       "      <td>B008LOVIIK</td>\n",
       "      <td>5</td>\n",
       "      <td>Masterpiece: Inspector Lewis Season 5</td>\n",
       "      <td>2096</td>\n",
       "      <td>107</td>\n",
       "    </tr>\n",
       "    <tr>\n",
       "      <th>4</th>\n",
       "      <td>14424972</td>\n",
       "      <td>B008LOVIIK</td>\n",
       "      <td>5</td>\n",
       "      <td>Masterpiece: Inspector Lewis Season 5</td>\n",
       "      <td>34200</td>\n",
       "      <td>107</td>\n",
       "    </tr>\n",
       "  </tbody>\n",
       "</table>\n",
       "</div>"
      ],
      "text/plain": [
       "   customer_id  product_id  star_rating  \\\n",
       "0     27072354  B008LOVIIK            5   \n",
       "1     16030865  B008LOVIIK            5   \n",
       "2     44025160  B008LOVIIK            5   \n",
       "3     18602179  B008LOVIIK            5   \n",
       "4     14424972  B008LOVIIK            5   \n",
       "\n",
       "                           product_title  customer  product  \n",
       "0  Masterpiece: Inspector Lewis Season 5     10974      107  \n",
       "1  Masterpiece: Inspector Lewis Season 5       481      107  \n",
       "2  Masterpiece: Inspector Lewis Season 5     31093      107  \n",
       "3  Masterpiece: Inspector Lewis Season 5      2096      107  \n",
       "4  Masterpiece: Inspector Lewis Season 5     34200      107  "
      ]
     },
     "execution_count": 13,
     "metadata": {},
     "output_type": "execute_result"
    }
   ],
   "source": [
    "customer_index = pd.DataFrame({'customer_id': customers.index, 'customer': np.arange(customers.shape[0])})\n",
    "product_index = pd.DataFrame({'product_id': products.index, \n",
    "                              'product': np.arange(products.shape[0])})\n",
    "\n",
    "reduced_df = reduced_df.merge(customer_index).merge(product_index)\n",
    "reduced_df.head()"
   ]
  },
  {
   "cell_type": "markdown",
   "metadata": {},
   "source": [
    "Let's look at the feature dimension size whch will required for preparing the training and test data sets"
   ]
  },
  {
   "cell_type": "code",
   "execution_count": 14,
   "metadata": {
    "scrolled": true
   },
   "outputs": [
    {
     "name": "stdout",
     "output_type": "stream",
     "text": [
      "(140344, 38385, 178729)\n"
     ]
    }
   ],
   "source": [
    "nb_customer = reduced_df['customer'].max() + 1\n",
    "nb_products = reduced_df['product'].max() + 1\n",
    "feature_dim = nb_customer + nb_products\n",
    "print(nb_customer, nb_products, feature_dim)"
   ]
  },
  {
   "cell_type": "markdown",
   "metadata": {},
   "source": [
    "Trim down the data set to include only customer, product, star_rating which is all we need for the training algorithm to build the model"
   ]
  },
  {
   "cell_type": "code",
   "execution_count": 15,
   "metadata": {},
   "outputs": [
    {
     "data": {
      "text/html": [
       "<div>\n",
       "<style scoped>\n",
       "    .dataframe tbody tr th:only-of-type {\n",
       "        vertical-align: middle;\n",
       "    }\n",
       "\n",
       "    .dataframe tbody tr th {\n",
       "        vertical-align: top;\n",
       "    }\n",
       "\n",
       "    .dataframe thead th {\n",
       "        text-align: right;\n",
       "    }\n",
       "</style>\n",
       "<table border=\"1\" class=\"dataframe\">\n",
       "  <thead>\n",
       "    <tr style=\"text-align: right;\">\n",
       "      <th></th>\n",
       "      <th>customer</th>\n",
       "      <th>product</th>\n",
       "      <th>star_rating</th>\n",
       "    </tr>\n",
       "  </thead>\n",
       "  <tbody>\n",
       "    <tr>\n",
       "      <th>0</th>\n",
       "      <td>10974</td>\n",
       "      <td>107</td>\n",
       "      <td>5</td>\n",
       "    </tr>\n",
       "    <tr>\n",
       "      <th>1</th>\n",
       "      <td>481</td>\n",
       "      <td>107</td>\n",
       "      <td>5</td>\n",
       "    </tr>\n",
       "    <tr>\n",
       "      <th>2</th>\n",
       "      <td>31093</td>\n",
       "      <td>107</td>\n",
       "      <td>5</td>\n",
       "    </tr>\n",
       "    <tr>\n",
       "      <th>3</th>\n",
       "      <td>2096</td>\n",
       "      <td>107</td>\n",
       "      <td>5</td>\n",
       "    </tr>\n",
       "    <tr>\n",
       "      <th>4</th>\n",
       "      <td>34200</td>\n",
       "      <td>107</td>\n",
       "      <td>5</td>\n",
       "    </tr>\n",
       "  </tbody>\n",
       "</table>\n",
       "</div>"
      ],
      "text/plain": [
       "   customer  product  star_rating\n",
       "0     10974      107            5\n",
       "1       481      107            5\n",
       "2     31093      107            5\n",
       "3      2096      107            5\n",
       "4     34200      107            5"
      ]
     },
     "execution_count": 15,
     "metadata": {},
     "output_type": "execute_result"
    }
   ],
   "source": [
    "product_df = reduced_df[['customer', 'product', 'star_rating']]\n",
    "product_df.head()"
   ]
  },
  {
   "cell_type": "markdown",
   "metadata": {},
   "source": [
    "### Prepare\n",
    "\n",
    "We will be using SageMaker's implementation of Factorization Machines (FM) for building a recommender system. The algorithm expects float32 tensors in protobuf whereas the data sets are pandas dataframe on disk. Most of the conversion effort is handled by the Amazon SageMaker Python SDK.\n",
    "\n",
    "The FM algorithm will utilize sparse input and since the data sets are dense matrix, it has to be converted a sparse matrix with one-hot encoded feature vectors with customers and products. Thus, each sample in the data set will be a wide boolean vector with 178729 feature space (140344 customer + 38385 products) with only two values set to 1 with respect to the customer and product.\n",
    "\n",
    "Following are the next steps\n",
    "\n",
    "1. Split the cleaned data set into train and test data sets.\n",
    "2. For each set, build a sparse matrix with one-hot encoded feature vectors (customer + products) and a label vector with star ratings.\n",
    "3. Convert both the sets to protobuf encoded files.\n",
    "4. Copy these files to an Amazon S3 bucket.\n",
    "5. Configure and run a Factorization Machines training job on Amazon SageMaker.\n",
    "6. Deploy the corresponding model to an endpoint.\n",
    "7. Run predictions on test data set and validate\n",
    "\n",
    "#### Split into Training and Test Data Sets\n",
    "\n",
    "Let's start by [splitting](https://docs.scipy.org/doc/numpy/reference/generated/numpy.split.html) in training, validation and test sets.  This will allow us to estimate the model's accuracy on videos our customers rated, but wasn't included in our training. We will use validation data set specifically for tuning model hyper-parameters."
   ]
  },
  {
   "cell_type": "code",
   "execution_count": 16,
   "metadata": {},
   "outputs": [],
   "source": [
    "train_df, validate_df, test_df = np.split(\n",
    "    product_df.sample(frac=1), \n",
    "    [int(.6*len(product_df)), int(.8*len(product_df))])"
   ]
  },
  {
   "cell_type": "code",
   "execution_count": 17,
   "metadata": {},
   "outputs": [
    {
     "name": "stdout",
     "output_type": "stream",
     "text": [
      "# of rows in the training data set   =     701341\n",
      "# of rows in the validation data set =     233781\n",
      "# of rows in the test data set       =     233781\n"
     ]
    }
   ],
   "source": [
    "print(\"# of rows in the training data set   = {:10d}\".format(train_df.shape[0]))\n",
    "print(\"# of rows in the validation data set = {:10d}\".format(validate_df.shape[0]))\n",
    "print(\"# of rows in the test data set       = {:10d}\".format(test_df.shape[0]))"
   ]
  },
  {
   "cell_type": "code",
   "execution_count": 18,
   "metadata": {},
   "outputs": [
    {
     "data": {
      "text/html": [
       "<div>\n",
       "<style scoped>\n",
       "    .dataframe tbody tr th:only-of-type {\n",
       "        vertical-align: middle;\n",
       "    }\n",
       "\n",
       "    .dataframe tbody tr th {\n",
       "        vertical-align: top;\n",
       "    }\n",
       "\n",
       "    .dataframe thead th {\n",
       "        text-align: right;\n",
       "    }\n",
       "</style>\n",
       "<table border=\"1\" class=\"dataframe\">\n",
       "  <thead>\n",
       "    <tr style=\"text-align: right;\">\n",
       "      <th></th>\n",
       "      <th>customer</th>\n",
       "      <th>product</th>\n",
       "      <th>star_rating</th>\n",
       "    </tr>\n",
       "  </thead>\n",
       "  <tbody>\n",
       "    <tr>\n",
       "      <th>1160169</th>\n",
       "      <td>76977</td>\n",
       "      <td>32390</td>\n",
       "      <td>5</td>\n",
       "    </tr>\n",
       "    <tr>\n",
       "      <th>482349</th>\n",
       "      <td>65653</td>\n",
       "      <td>473</td>\n",
       "      <td>5</td>\n",
       "    </tr>\n",
       "    <tr>\n",
       "      <th>661067</th>\n",
       "      <td>52655</td>\n",
       "      <td>1677</td>\n",
       "      <td>5</td>\n",
       "    </tr>\n",
       "    <tr>\n",
       "      <th>916814</th>\n",
       "      <td>14074</td>\n",
       "      <td>6523</td>\n",
       "      <td>5</td>\n",
       "    </tr>\n",
       "    <tr>\n",
       "      <th>302666</th>\n",
       "      <td>92543</td>\n",
       "      <td>1814</td>\n",
       "      <td>4</td>\n",
       "    </tr>\n",
       "  </tbody>\n",
       "</table>\n",
       "</div>"
      ],
      "text/plain": [
       "         customer  product  star_rating\n",
       "1160169     76977    32390            5\n",
       "482349      65653      473            5\n",
       "661067      52655     1677            5\n",
       "916814      14074     6523            5\n",
       "302666      92543     1814            4"
      ]
     },
     "execution_count": 18,
     "metadata": {},
     "output_type": "execute_result"
    }
   ],
   "source": [
    "train_df.head()"
   ]
  },
  {
   "cell_type": "markdown",
   "metadata": {},
   "source": [
    "Let's get the feature dimensions by adding total number of (unique) customers and products"
   ]
  },
  {
   "cell_type": "code",
   "execution_count": 19,
   "metadata": {},
   "outputs": [
    {
     "name": "stdout",
     "output_type": "stream",
     "text": [
      "# of customers =     140344\n",
      "# of products  =      38385\n",
      "# of features  =     178729\n"
     ]
    }
   ],
   "source": [
    "# get feature dimension\n",
    "all_df = pd.concat([train_df, validate_df, test_df])\n",
    "nb_customer = np.unique(all_df['customer'].values).shape[0]\n",
    "nb_products = np.unique(all_df['product'].values).shape[0]\n",
    "feature_dim = nb_customer + nb_products\n",
    "print(\"# of customers = {:10d}\".format(nb_customer))\n",
    "print(\"# of products  = {:10d}\".format(nb_products))\n",
    "print(\"# of features  = {:10d}\".format(feature_dim))"
   ]
  },
  {
   "cell_type": "markdown",
   "metadata": {},
   "source": [
    "#### Building Sparse One-Hot Encoded Matrix\n",
    "\n",
    "Our training matrix is now even sparser: Of all 183,833,321,511 values (1028559 rows * 178729 columns), only 2,057,118 are non-zero (1,028,559*2). In other words, the matrix is 99.99% sparse. Storing this as a dense matrix would be a massive waste of both storage and computing power. To avoid this, use a scipy.lil_matrix sparse matrix for features and a numpy array for ratings.\n",
    "\n",
    "Let's define a function that takes the data set and returns a sparse feature matrix and numpy array with ratings."
   ]
  },
  {
   "cell_type": "code",
   "execution_count": 20,
   "metadata": {},
   "outputs": [],
   "source": [
    "def convert_sparse_matrix(df, nb_rows, nb_customer, nb_products):\n",
    "    # dataframe to array\n",
    "    df_val = df.values\n",
    "\n",
    "    # determine feature size\n",
    "    nb_cols = nb_customer + nb_products\n",
    "    print(\"# of rows = {}\".format(str(nb_rows)))\n",
    "    print(\"# of cols = {}\".format(str(nb_cols)))\n",
    "\n",
    "    # extract customers and ratings\n",
    "    df_X = df_val[:, 0:2]\n",
    "    # Features are one-hot encoded in a sparse matrix\n",
    "    X = lil_matrix((nb_rows, nb_cols)).astype('float32')\n",
    "    df_X[:, 1] = nb_customer + df_X[:, 1]\n",
    "    coords = df_X[:, 0:2]\n",
    "    X[np.arange(nb_rows), coords[:, 0]] = 1\n",
    "    X[np.arange(nb_rows), coords[:, 1]] = 1\n",
    "\n",
    "    # create label with ratings\n",
    "    Y = df_val[:, 2].astype('float32')\n",
    "\n",
    "    # validate size and shape\n",
    "    print(X.shape)\n",
    "    print(Y.shape)\n",
    "    assert X.shape == (nb_rows, nb_cols)\n",
    "    assert Y.shape == (nb_rows, )\n",
    "\n",
    "    return X, Y"
   ]
  },
  {
   "cell_type": "code",
   "execution_count": 21,
   "metadata": {},
   "outputs": [
    {
     "name": "stdout",
     "output_type": "stream",
     "text": [
      "Convert training data set to one-hot encoded sparse matrix\n",
      "# of rows = 701341\n",
      "# of cols = 178729\n",
      "(701341, 178729)\n",
      "(701341,)\n",
      "Convert validation data set to one-hot encoded sparse matrix\n",
      "# of rows = 233781\n",
      "# of cols = 178729\n",
      "(233781, 178729)\n",
      "(233781,)\n",
      "Convert test data set to one-hot encoded sparse matrix\n",
      "# of rows = 233781\n",
      "# of cols = 178729\n",
      "(233781, 178729)\n",
      "(233781,)\n"
     ]
    }
   ],
   "source": [
    "print(\"Convert training data set to one-hot encoded sparse matrix\")\n",
    "train_X, train_Y = convert_sparse_matrix(train_df, train_df.shape[0], nb_customer, nb_products)\n",
    "print(\"Convert validation data set to one-hot encoded sparse matrix\")\n",
    "validate_X, validate_Y = convert_sparse_matrix(validate_df, validate_df.shape[0], nb_customer, nb_products)\n",
    "print(\"Convert test data set to one-hot encoded sparse matrix\")\n",
    "test_X, test_Y = convert_sparse_matrix(test_df, test_df.shape[0], nb_customer, nb_products)"
   ]
  },
  {
   "cell_type": "markdown",
   "metadata": {},
   "source": [
    "#### Convert to Protobuf format and Upload to S3"
   ]
  },
  {
   "cell_type": "markdown",
   "metadata": {},
   "source": [
    "We will use Sagemaker's utility function [`write_spmatrix_to_sparse_tensor`](https://github.com/aws/sagemaker-python-sdk/blob/master/src/sagemaker/amazon/common.py) to convert scipy sparse matrix to protobuf format."
   ]
  },
  {
   "cell_type": "code",
   "execution_count": 22,
   "metadata": {},
   "outputs": [],
   "source": [
    "def save_as_protobuf(X, Y, bucket, key):\n",
    "    \"\"\"Converts features and predictions matrices to recordio protobuf and\n",
    "       writes to S3\n",
    "\n",
    "    Args:\n",
    "        X:\n",
    "          2D numpy matrix with features\n",
    "        Y:\n",
    "          1D numpy matrix with predictions\n",
    "        bucket:\n",
    "          s3 bucket where recordio protobuf file will be staged\n",
    "        prefix:\n",
    "          s3 url prefix to stage prepared data to use for training the model\n",
    "        key:\n",
    "          protobuf file name to be staged\n",
    "\n",
    "    Returns:\n",
    "        s3 url with key to the protobuf data\n",
    "    \"\"\"\n",
    "    buf = io.BytesIO()\n",
    "    smac.write_spmatrix_to_sparse_tensor(buf, X, Y)\n",
    "    buf.seek(0)\n",
    "    obj = '{}'.format(key)\n",
    "    boto3.resource('s3').Bucket(bucket).Object(obj).upload_fileobj(buf)\n",
    "    return 's3://{}/{}'.format(bucket, obj)"
   ]
  },
  {
   "cell_type": "code",
   "execution_count": 23,
   "metadata": {},
   "outputs": [
    {
     "name": "stdout",
     "output_type": "stream",
     "text": [
      "Training data set in protobuf format uploaded at s3://sagemaker-us-east-1-835319576252/prepare/train/train.protobuf\n",
      "Validation data set in protobuf format uploaded at s3://sagemaker-us-east-1-835319576252/prepare/validate/validate.protobuf\n"
     ]
    }
   ],
   "source": [
    "s3_train_path = save_as_protobuf(train_X, train_Y, bucket, 'prepare/train/train.protobuf')\n",
    "print(\"Training data set in protobuf format uploaded at {}\".format(s3_train_path))\n",
    "s3_val_path = save_as_protobuf(validate_X, validate_Y, bucket, 'prepare/validate/validate.protobuf')\n",
    "print(\"Validation data set in protobuf format uploaded at {}\".format(s3_val_path))"
   ]
  },
  {
   "cell_type": "markdown",
   "metadata": {},
   "source": [
    "We will chunk the test data to avoid the payload size issues when performing batch predictions."
   ]
  },
  {
   "cell_type": "code",
   "execution_count": 24,
   "metadata": {},
   "outputs": [],
   "source": [
    "def chunk(x, batch_size):\n",
    "    \"\"\"split array into chunks of batch_size\n",
    "    \"\"\"\n",
    "    chunk_range = range(0, x.shape[0], batch_size)\n",
    "    chunks = [x[p: p + batch_size] for p in chunk_range]\n",
    "    return chunks"
   ]
  },
  {
   "cell_type": "code",
   "execution_count": 25,
   "metadata": {},
   "outputs": [
    {
     "name": "stdout",
     "output_type": "stream",
     "text": [
      "s3://sagemaker-us-east-1-835319576252/prepare/test/test_0.protobuf\n",
      "s3://sagemaker-us-east-1-835319576252/prepare/test/test_1.protobuf\n",
      "s3://sagemaker-us-east-1-835319576252/prepare/test/test_2.protobuf\n",
      "s3://sagemaker-us-east-1-835319576252/prepare/test/test_3.protobuf\n",
      "s3://sagemaker-us-east-1-835319576252/prepare/test/test_4.protobuf\n",
      "s3://sagemaker-us-east-1-835319576252/prepare/test/test_5.protobuf\n",
      "s3://sagemaker-us-east-1-835319576252/prepare/test/test_6.protobuf\n",
      "s3://sagemaker-us-east-1-835319576252/prepare/test/test_7.protobuf\n",
      "s3://sagemaker-us-east-1-835319576252/prepare/test/test_8.protobuf\n",
      "s3://sagemaker-us-east-1-835319576252/prepare/test/test_9.protobuf\n",
      "s3://sagemaker-us-east-1-835319576252/prepare/test/test_10.protobuf\n",
      "s3://sagemaker-us-east-1-835319576252/prepare/test/test_11.protobuf\n",
      "s3://sagemaker-us-east-1-835319576252/prepare/test/test_12.protobuf\n",
      "s3://sagemaker-us-east-1-835319576252/prepare/test/test_13.protobuf\n",
      "s3://sagemaker-us-east-1-835319576252/prepare/test/test_14.protobuf\n",
      "s3://sagemaker-us-east-1-835319576252/prepare/test/test_15.protobuf\n",
      "s3://sagemaker-us-east-1-835319576252/prepare/test/test_16.protobuf\n",
      "s3://sagemaker-us-east-1-835319576252/prepare/test/test_17.protobuf\n",
      "s3://sagemaker-us-east-1-835319576252/prepare/test/test_18.protobuf\n",
      "s3://sagemaker-us-east-1-835319576252/prepare/test/test_19.protobuf\n",
      "s3://sagemaker-us-east-1-835319576252/prepare/test/test_20.protobuf\n",
      "s3://sagemaker-us-east-1-835319576252/prepare/test/test_21.protobuf\n",
      "s3://sagemaker-us-east-1-835319576252/prepare/test/test_22.protobuf\n",
      "s3://sagemaker-us-east-1-835319576252/prepare/test/test_23.protobuf\n"
     ]
    }
   ],
   "source": [
    "test_x_chunks = chunk(test_X, 10000)\n",
    "test_y_chunks = chunk(test_Y, 10000)\n",
    "N = len(test_x_chunks)\n",
    "for i in range(N):\n",
    "    test_data = save_as_protobuf(\n",
    "        test_x_chunks[i],\n",
    "        test_y_chunks[i],\n",
    "        bucket,\n",
    "        \"prepare/test/test_\" + str(i) + \".protobuf\")\n",
    "    print(test_data)"
   ]
  },
  {
   "cell_type": "markdown",
   "metadata": {},
   "source": [
    "---"
   ]
  },
  {
   "cell_type": "markdown",
   "metadata": {},
   "source": [
    "## Model Training\n",
    "\n",
    "Once we have the data preprocessed and available in the correct format for training, the next step is to actually train the model using the data. We'll use the Amazon SageMaker Python SDK to kick off training and monitor status until it is completed. In this example that takes between 4-7 minutes for 3-10 epochs. \n",
    "\n",
    "First, let's get the Sagemaker Factorization Machine container"
   ]
  },
  {
   "cell_type": "code",
   "execution_count": 26,
   "metadata": {},
   "outputs": [],
   "source": [
    "from sagemaker.amazon.amazon_estimator import get_image_uri\n",
    "container = get_image_uri(boto3.Session().region_name, 'factorization-machines')"
   ]
  },
  {
   "cell_type": "markdown",
   "metadata": {},
   "source": [
    "Next kick off the base estimator, making sure to pass in the necessary hyperparameters. Notice:\n",
    "\n",
    "- `feature_dim` is set to 178729, which is the number of customers + products in the training data set.\n",
    "- `predictor_type` is set to 'regressor' since we are trying to predict the rating\n",
    "- `mini_batch_size` is set to 200. This value can be tuned for relatively minor improvements in fit and speed, but selecting a reasonable value relative to the dataset is appropriate in most cases.\n",
    "- `num_factors` is set to 64. Factorization machines find a lower dimensional representation of the interactions for all features. Making this value smaller provides a more parsimonious model, closer to a linear model, but may sacrifice information about interactions. Making it larger provides a higher-dimensional representation of feature interactions, but adds computational complexity and can lead to overfitting. In a practical application, time should be invested to tune this parameter to the appropriate value."
   ]
  },
  {
   "cell_type": "code",
   "execution_count": 27,
   "metadata": {},
   "outputs": [
    {
     "name": "stdout",
     "output_type": "stream",
     "text": [
      "CPU times: user 2 µs, sys: 0 ns, total: 2 µs\n",
      "Wall time: 3.81 µs\n"
     ]
    }
   ],
   "source": [
    "%time\n",
    "\n",
    "output_location = 's3://{}/train/'.format(bucket)\n",
    "s3_train_path = 's3://{}/prepare/train/train.protobuf'.format(bucket)\n",
    "s3_val_path = 's3://{}/prepare/validate/validate.protobuf'.format(bucket)\n",
    "\n",
    "fm = sagemaker.estimator.Estimator(container,\n",
    "                                   role, \n",
    "                                   train_instance_count=1, \n",
    "                                   train_instance_type='ml.c5.4xlarge',\n",
    "                                   output_path=output_location,\n",
    "                                   sagemaker_session=sess)\n",
    "\n",
    "fm.set_hyperparameters(feature_dim=feature_dim,\n",
    "                      predictor_type='regressor',\n",
    "                      mini_batch_size=200,\n",
    "                      num_factors=512,\n",
    "                      bias_lr=0.02,\n",
    "                      epochs=10)"
   ]
  },
  {
   "cell_type": "code",
   "execution_count": 28,
   "metadata": {},
   "outputs": [],
   "source": [
    "fm.fit({'train': s3_train_path,'test': s3_val_path}, wait=False)"
   ]
  },
  {
   "cell_type": "markdown",
   "metadata": {},
   "source": [
    "Amazon SageMaker built-in algorithms automatically compute and emit a variety of model training, evaluation, and validation metrics that can be captured from Cloudwatch using Sagemaker SDK. Since we are using FM built-in algorithm with predictor type as `regressor`, we can capture RMSE (root-mean-square error) of the model that measures the differences between the predicted values and the actual values.\n",
    "\n",
    "Let's capture the RMSE of the model"
   ]
  },
  {
   "cell_type": "code",
   "execution_count": 29,
   "metadata": {},
   "outputs": [],
   "source": [
    "training_job_name = fm._current_job_name\n",
    "metric_name = 'train:rmse:epoch'"
   ]
  },
  {
   "cell_type": "code",
   "execution_count": 40,
   "metadata": {
    "scrolled": true
   },
   "outputs": [
    {
     "name": "stdout",
     "output_type": "stream",
     "text": [
      "{u'TrainingJobName': u'factorization-machines-2020-10-27-00-41-14-792', 'ResponseMetadata': {'RetryAttempts': 0, 'HTTPStatusCode': 200, 'RequestId': 'ba874c9a-4ebd-415d-8538-b3819757aaac', 'HTTPHeaders': {'x-amzn-requestid': 'ba874c9a-4ebd-415d-8538-b3819757aaac', 'date': 'Tue, 27 Oct 2020 00:43:15 GMT', 'content-length': '4962', 'content-type': 'application/x-amz-json-1.1'}}, u'TrainingJobArn': u'arn:aws:sagemaker:us-east-1:835319576252:training-job/factorization-machines-2020-10-27-00-41-14-792', u'InputDataConfig': [{u'CompressionType': u'None', u'ChannelName': u'test', u'DataSource': {u'S3DataSource': {u'S3DataType': u'S3Prefix', u'S3DataDistributionType': u'FullyReplicated', u'S3Uri': u's3://sagemaker-us-east-1-835319576252/prepare/validate/validate.protobuf'}}, u'RecordWrapperType': u'None'}, {u'CompressionType': u'None', u'ChannelName': u'train', u'DataSource': {u'S3DataSource': {u'S3DataType': u'S3Prefix', u'S3DataDistributionType': u'FullyReplicated', u'S3Uri': u's3://sagemaker-us-east-1-835319576252/prepare/train/train.protobuf'}}, u'RecordWrapperType': u'None'}], u'AlgorithmSpecification': {u'TrainingInputMode': u'File', u'TrainingImage': u'382416733822.dkr.ecr.us-east-1.amazonaws.com/factorization-machines:1', u'EnableSageMakerMetricsTimeSeries': False, u'MetricDefinitions': [{u'Regex': u'#quality_metric: host=\\\\S+, epoch=\\\\S+, train rmse <loss>=(\\\\S+)', u'Name': u'train:rmse:epoch'}, {u'Regex': u'#progress_metric: host=\\\\S+, completed (\\\\S+) %', u'Name': u'train:progress'}, {u'Regex': u'#quality_metric: host=\\\\S+, test binary_f_1.000 <score>=(\\\\S+)', u'Name': u'test:binary_f_beta'}, {u'Regex': u'#quality_metric: host=\\\\S+, test mse <loss>=(\\\\S+)', u'Name': u'test:mse'}, {u'Regex': u'#quality_metric: host=\\\\S+, epoch=\\\\S+, batch=\\\\S+ train binary_classification_accuracy <score>=(\\\\S+)', u'Name': u'train:binary_classification_accuracy:batch'}, {u'Regex': u'#quality_metric: host=\\\\S+, epoch=\\\\S+, batch=\\\\S+ train mse <loss>=(\\\\S+)', u'Name': u'train:mse:batch'}, {u'Regex': u'#quality_metric: host=\\\\S+, epoch=\\\\S+, train absolute_loss <loss>=(\\\\S+)', u'Name': u'train:absolute_loss:epoch'}, {u'Regex': u'#quality_metric: host=\\\\S+, test absolute_loss <loss>=(\\\\S+)', u'Name': u'test:absolute_loss'}, {u'Regex': u'#quality_metric: host=\\\\S+, train mse <loss>=(\\\\S+)', u'Name': u'train:mse'}, {u'Regex': u'#quality_metric: host=\\\\S+, epoch=\\\\S+, batch=\\\\S+ train binary_f_1.000 <score>=(\\\\S+)', u'Name': u'train:binary_f_beta:batch'}, {u'Regex': u'#quality_metric: host=\\\\S+, epoch=\\\\S+, train binary_classification_cross_entropy <loss>=(\\\\S+)', u'Name': u'train:binary_classification_cross_entropy:epoch'}, {u'Regex': u'#quality_metric: host=\\\\S+, train binary_f_1.000 <score>=(\\\\S+)', u'Name': u'train:binary_f_beta'}, {u'Regex': u'#quality_metric: host=\\\\S+, epoch=\\\\S+, train mse <loss>=(\\\\S+)', u'Name': u'train:mse:epoch'}, {u'Regex': u'#quality_metric: host=\\\\S+, epoch=\\\\S+, batch=\\\\S+ train rmse <loss>=(\\\\S+)', u'Name': u'train:rmse:batch'}, {u'Regex': u'#quality_metric: host=\\\\S+, train binary_classification_cross_entropy <loss>=(\\\\S+)', u'Name': u'train:binary_classification_cross_entropy'}, {u'Regex': u'#quality_metric: host=\\\\S+, epoch=\\\\S+, train binary_f_1.000 <score>=(\\\\S+)', u'Name': u'train:binary_f_beta:epoch'}, {u'Regex': u'#quality_metric: host=\\\\S+, train rmse <loss>=(\\\\S+)', u'Name': u'train:rmse'}, {u'Regex': u'#quality_metric: host=\\\\S+, test rmse <loss>=(\\\\S+)', u'Name': u'test:rmse'}, {u'Regex': u'#quality_metric: host=\\\\S+, epoch=\\\\S+, train binary_classification_accuracy <score>=(\\\\S+)', u'Name': u'train:binary_classification_accuracy:epoch'}, {u'Regex': u'#quality_metric: host=\\\\S+, epoch=\\\\S+, batch=\\\\S+ train absolute_loss <loss>=(\\\\S+)', u'Name': u'train:absolute_loss:batch'}, {u'Regex': u'#quality_metric: host=\\\\S+, train binary_classification_accuracy <score>=(\\\\S+)', u'Name': u'train:binary_classification_accuracy'}, {u'Regex': u'#quality_metric: host=\\\\S+, test binary_classification_cross_entropy <loss>=(\\\\S+)', u'Name': u'test:binary_classification_cross_entropy'}, {u'Regex': u'#quality_metric: host=\\\\S+, train absolute_loss <loss>=(\\\\S+)', u'Name': u'train:absolute_loss'}, {u'Regex': u'#throughput_metric: host=\\\\S+, train throughput=(\\\\S+) records/second', u'Name': u'train:throughput'}, {u'Regex': u'#quality_metric: host=\\\\S+, test binary_classification_accuracy <score>=(\\\\S+)', u'Name': u'test:binary_classification_accuracy'}, {u'Regex': u'#quality_metric: host=\\\\S+, epoch=\\\\S+, batch=\\\\S+ train binary_classification_cross_entropy <loss>=(\\\\S+)', u'Name': u'train:binary_classification_cross_entropy:batch'}]}, u'HyperParameters': {u'predictor_type': u'regressor', u'epochs': u'10', u'feature_dim': u'178729', u'bias_lr': u'0.02', u'num_factors': u'512', u'mini_batch_size': u'200'}, u'RoleArn': u'arn:aws:iam::835319576252:role/service-role/AmazonSageMaker-ExecutionRole-20191006T135881', u'CreationTime': datetime.datetime(2020, 10, 27, 0, 41, 14, 990000, tzinfo=tzlocal()), u'SecondaryStatusTransitions': [{u'Status': u'Starting', u'StatusMessage': u'Preparing the instances for training', u'StartTime': datetime.datetime(2020, 10, 27, 0, 41, 14, 990000, tzinfo=tzlocal())}], u'EnableManagedSpotTraining': False, u'TrainingJobStatus': u'InProgress', u'EnableInterContainerTrafficEncryption': False, u'OutputDataConfig': {u'KmsKeyId': u'', u'S3OutputPath': u's3://sagemaker-us-east-1-835319576252/train/'}, u'StoppingCondition': {u'MaxRuntimeInSeconds': 86400}, u'EnableNetworkIsolation': False, u'ResourceConfig': {u'VolumeSizeInGB': 30, u'InstanceCount': 1, u'InstanceType': u'ml.c5.4xlarge'}, u'LastModifiedTime': datetime.datetime(2020, 10, 27, 0, 42, 46, 366000, tzinfo=tzlocal()), u'SecondaryStatus': u'Starting'}\n",
      "Reminder: the training job has not been completed.\n"
     ]
    }
   ],
   "source": [
    "# run this cell to check current status of training job\n",
    "fm_training_job_result = sm.describe_training_job(TrainingJobName=training_job_name)\n",
    "print(fm_training_job_result)\n",
    "\n",
    "status = fm_training_job_result['TrainingJobStatus']\n",
    "if status != 'Completed':\n",
    "    print('Reminder: the training job has not been completed.')\n",
    "else:\n",
    "    print('The training job is completed')"
   ]
  },
  {
   "cell_type": "code",
   "execution_count": 41,
   "metadata": {},
   "outputs": [
    {
     "name": "stdout",
     "output_type": "stream",
     "text": [
      "\n",
      "2020-10-27 00:44:04 Starting - Preparing the instances for training\n",
      "2020-10-27 00:44:04 Downloading - Downloading input data\n",
      "2020-10-27 00:44:04 Training - Training image download completed. Training in progress.....................................\n",
      "2020-10-27 00:48:01 Uploading - Uploading generated training model........\n",
      "2020-10-27 00:48:48 Completed - Training job completed\n"
     ]
    }
   ],
   "source": [
    "%%time\n",
    "\n",
    "fm.latest_training_job.wait(logs=False)"
   ]
  },
  {
   "cell_type": "markdown",
   "metadata": {},
   "source": [
    "# Wait for the job ^^ above ^^ to complete"
   ]
  },
  {
   "cell_type": "code",
   "execution_count": 42,
   "metadata": {},
   "outputs": [
    {
     "data": {
      "text/html": [
       "<div>\n",
       "<style scoped>\n",
       "    .dataframe tbody tr th:only-of-type {\n",
       "        vertical-align: middle;\n",
       "    }\n",
       "\n",
       "    .dataframe tbody tr th {\n",
       "        vertical-align: top;\n",
       "    }\n",
       "\n",
       "    .dataframe thead th {\n",
       "        text-align: right;\n",
       "    }\n",
       "</style>\n",
       "<table border=\"1\" class=\"dataframe\">\n",
       "  <thead>\n",
       "    <tr style=\"text-align: right;\">\n",
       "      <th></th>\n",
       "      <th>metric_name</th>\n",
       "      <th>timestamp</th>\n",
       "      <th>value</th>\n",
       "    </tr>\n",
       "  </thead>\n",
       "  <tbody>\n",
       "    <tr>\n",
       "      <th>0</th>\n",
       "      <td>train:rmse:epoch</td>\n",
       "      <td>0.0</td>\n",
       "      <td>1.185032</td>\n",
       "    </tr>\n",
       "    <tr>\n",
       "      <th>1</th>\n",
       "      <td>train:rmse:epoch</td>\n",
       "      <td>60.0</td>\n",
       "      <td>0.998977</td>\n",
       "    </tr>\n",
       "    <tr>\n",
       "      <th>2</th>\n",
       "      <td>train:rmse:epoch</td>\n",
       "      <td>120.0</td>\n",
       "      <td>0.866597</td>\n",
       "    </tr>\n",
       "  </tbody>\n",
       "</table>\n",
       "</div>"
      ],
      "text/plain": [
       "        metric_name  timestamp     value\n",
       "0  train:rmse:epoch        0.0  1.185032\n",
       "1  train:rmse:epoch       60.0  0.998977\n",
       "2  train:rmse:epoch      120.0  0.866597"
      ]
     },
     "execution_count": 42,
     "metadata": {},
     "output_type": "execute_result"
    }
   ],
   "source": [
    "# plug-in the training job name and metrics to be captured\n",
    "metrics_dataframe = TrainingJobAnalytics(training_job_name=training_job_name,\n",
    "                                         metric_names=[metric_name]).dataframe()\n",
    "metrics_dataframe"
   ]
  },
  {
   "cell_type": "code",
   "execution_count": 43,
   "metadata": {},
   "outputs": [
    {
     "data": {
      "image/png": "[encoded data removed]",
      "text/plain": [
       "<Figure size 864x360 with 1 Axes>"
      ]
     },
     "metadata": {
      "needs_background": "light"
     },
     "output_type": "display_data"
    }
   ],
   "source": [
    "plt = metrics_dataframe.plot(kind='line', figsize=(12,5), x='timestamp', y='value', style='b.', legend=False)\n",
    "plt.set_ylabel(metric_name);"
   ]
  },
  {
   "cell_type": "markdown",
   "metadata": {},
   "source": [
    "As the number of epochs increased, RMSE goes down which is a good sign that the predicted values are getting closer to the actual values from the test set. We can increase number of epochs or change the hyperparameters and try to tweak the model. Let's try to deploy this model and make predictions to see how close the predictions are. Then we can run a hyper-parameter tuning job to determine the best model."
   ]
  },
  {
   "cell_type": "markdown",
   "metadata": {},
   "source": [
    "#### Utility Functions"
   ]
  },
  {
   "cell_type": "markdown",
   "metadata": {},
   "source": [
    "We will define some common utility functions here that will be used during inference and evaluating results"
   ]
  },
  {
   "cell_type": "code",
   "execution_count": 44,
   "metadata": {},
   "outputs": [],
   "source": [
    "def convert_to_protobuf(X, Y=None):\n",
    "    buf = io.BytesIO()\n",
    "    smac.write_spmatrix_to_sparse_tensor(buf, X, Y)\n",
    "    buf.seek(0)\n",
    "    return buf"
   ]
  },
  {
   "cell_type": "code",
   "execution_count": 45,
   "metadata": {},
   "outputs": [],
   "source": [
    "def convert_sparse_matrix_X(df, nb_rows, nb_customer, nb_products):\n",
    "    # dataframe to array\n",
    "    df_val = df.values\n",
    "\n",
    "    # determine feature size\n",
    "    nb_cols = nb_customer + nb_products\n",
    "    \n",
    "    # extract customers and ratings\n",
    "    df_X = df_val[:,0:2]\n",
    "    # Features are one-hot encoded in a sparse matrix\n",
    "    X = lil_matrix((nb_rows, nb_cols)).astype('float32')\n",
    "    df_X[:,1] = nb_customer + df_X[:,1]\n",
    "    coords = df_X[:,0:2]\n",
    "    X[np.arange(nb_rows), coords[:, 0]] = 1\n",
    "    X[np.arange(nb_rows), coords[:, 1]] = 1\n",
    "\n",
    "    # validate size and shape\n",
    "    assert X.shape == (nb_rows, nb_cols)\n",
    "    \n",
    "    return X"
   ]
  },
  {
   "cell_type": "markdown",
   "metadata": {},
   "source": [
    "---"
   ]
  },
  {
   "cell_type": "markdown",
   "metadata": {},
   "source": [
    "## Inference "
   ]
  },
  {
   "cell_type": "markdown",
   "metadata": {},
   "source": [
    "### Real-Time Inference "
   ]
  },
  {
   "cell_type": "markdown",
   "metadata": {},
   "source": [
    "Since the model is trained, all it takes to deploy the model is a Sagemaker API call `deploy()` that creates the model package, sets up endpoint configuration and finally creates the endpoint."
   ]
  },
  {
   "cell_type": "code",
   "execution_count": 46,
   "metadata": {},
   "outputs": [
    {
     "name": "stdout",
     "output_type": "stream",
     "text": [
      "-----------------!"
     ]
    }
   ],
   "source": [
    "%%time\n",
    "\n",
    "fm_predictor = fm.deploy(instance_type='ml.c4.xlarge', initial_instance_count=1)"
   ]
  },
  {
   "cell_type": "markdown",
   "metadata": {},
   "source": [
    "Predictions could be done by sending HTTP POST requests from a separate web service, but to keep things easy, we'll just use the `.predict()` method from the SageMaker Python SDK. The API expects JSON or RecordIO format for  request and JSON for response data."
   ]
  },
  {
   "cell_type": "code",
   "execution_count": 47,
   "metadata": {},
   "outputs": [],
   "source": [
    "fm_predictor.content_type = 'application/x-recordio-protobuf'"
   ]
  },
  {
   "cell_type": "markdown",
   "metadata": {},
   "source": [
    "Let's test the model with sample ratings from test data set using `predict()` API call"
   ]
  },
  {
   "cell_type": "code",
   "execution_count": 48,
   "metadata": {},
   "outputs": [],
   "source": [
    "test_pb = convert_to_protobuf(test_X[1000:1010]).getvalue()"
   ]
  },
  {
   "cell_type": "code",
   "execution_count": 49,
   "metadata": {},
   "outputs": [
    {
     "data": {
      "text/plain": [
       "'{\"predictions\": [{\"score\": 3.8316574096679688}, {\"score\": 3.7261946201324463}, {\"score\": 3.6552248001098633}, {\"score\": 4.027756214141846}, {\"score\": 3.8856489658355713}, {\"score\": 3.7821013927459717}, {\"score\": 3.425412178039551}, {\"score\": 4.217108249664307}, {\"score\": 3.693544387817383}, {\"score\": 4.35484504699707}]}'"
      ]
     },
     "execution_count": 49,
     "metadata": {},
     "output_type": "execute_result"
    }
   ],
   "source": [
    "response = fm_predictor.predict(test_pb)\n",
    "response"
   ]
  },
  {
   "cell_type": "code",
   "execution_count": 50,
   "metadata": {},
   "outputs": [
    {
     "data": {
      "text/plain": [
       "[3.83, 3.73, 3.66, 4.03, 3.89, 3.78, 3.43, 4.22, 3.69, 4.35]"
      ]
     },
     "execution_count": 50,
     "metadata": {},
     "output_type": "execute_result"
    }
   ],
   "source": [
    "predicted = [round(r['score'], 2) for r in json.loads(response)['predictions']]\n",
    "predicted"
   ]
  },
  {
   "cell_type": "code",
   "execution_count": 51,
   "metadata": {},
   "outputs": [
    {
     "data": {
      "text/html": [
       "<div>\n",
       "<style scoped>\n",
       "    .dataframe tbody tr th:only-of-type {\n",
       "        vertical-align: middle;\n",
       "    }\n",
       "\n",
       "    .dataframe tbody tr th {\n",
       "        vertical-align: top;\n",
       "    }\n",
       "\n",
       "    .dataframe thead th {\n",
       "        text-align: right;\n",
       "    }\n",
       "</style>\n",
       "<table border=\"1\" class=\"dataframe\">\n",
       "  <thead>\n",
       "    <tr style=\"text-align: right;\">\n",
       "      <th></th>\n",
       "      <th>actual_rating</th>\n",
       "      <th>predicted_rating</th>\n",
       "    </tr>\n",
       "  </thead>\n",
       "  <tbody>\n",
       "    <tr>\n",
       "      <th>0</th>\n",
       "      <td>5.0</td>\n",
       "      <td>3.83</td>\n",
       "    </tr>\n",
       "    <tr>\n",
       "      <th>1</th>\n",
       "      <td>5.0</td>\n",
       "      <td>3.73</td>\n",
       "    </tr>\n",
       "    <tr>\n",
       "      <th>2</th>\n",
       "      <td>2.0</td>\n",
       "      <td>3.66</td>\n",
       "    </tr>\n",
       "    <tr>\n",
       "      <th>3</th>\n",
       "      <td>5.0</td>\n",
       "      <td>4.03</td>\n",
       "    </tr>\n",
       "    <tr>\n",
       "      <th>4</th>\n",
       "      <td>4.0</td>\n",
       "      <td>3.89</td>\n",
       "    </tr>\n",
       "    <tr>\n",
       "      <th>5</th>\n",
       "      <td>4.0</td>\n",
       "      <td>3.78</td>\n",
       "    </tr>\n",
       "    <tr>\n",
       "      <th>6</th>\n",
       "      <td>3.0</td>\n",
       "      <td>3.43</td>\n",
       "    </tr>\n",
       "    <tr>\n",
       "      <th>7</th>\n",
       "      <td>5.0</td>\n",
       "      <td>4.22</td>\n",
       "    </tr>\n",
       "    <tr>\n",
       "      <th>8</th>\n",
       "      <td>1.0</td>\n",
       "      <td>3.69</td>\n",
       "    </tr>\n",
       "    <tr>\n",
       "      <th>9</th>\n",
       "      <td>5.0</td>\n",
       "      <td>4.35</td>\n",
       "    </tr>\n",
       "  </tbody>\n",
       "</table>\n",
       "</div>"
      ],
      "text/plain": [
       "   actual_rating  predicted_rating\n",
       "0            5.0              3.83\n",
       "1            5.0              3.73\n",
       "2            2.0              3.66\n",
       "3            5.0              4.03\n",
       "4            4.0              3.89\n",
       "5            4.0              3.78\n",
       "6            3.0              3.43\n",
       "7            5.0              4.22\n",
       "8            1.0              3.69\n",
       "9            5.0              4.35"
      ]
     },
     "execution_count": 51,
     "metadata": {},
     "output_type": "execute_result"
    }
   ],
   "source": [
    "results_df = pd.DataFrame(zip(test_Y[1000:1010], predicted), columns = [\"actual_rating\", \"predicted_rating\"])\n",
    "results_df"
   ]
  },
  {
   "cell_type": "markdown",
   "metadata": {},
   "source": [
    "---"
   ]
  },
  {
   "cell_type": "markdown",
   "metadata": {},
   "source": [
    "### Batch Inference"
   ]
  },
  {
   "cell_type": "markdown",
   "metadata": {},
   "source": [
    "Here we will perform batch inference on the test data set prepared earlier (chunking into multiple protobuf files). To run batch transform, create a model package for the transform endpoint "
   ]
  },
  {
   "cell_type": "markdown",
   "metadata": {},
   "source": [
    "- Create the model from the training estimator"
   ]
  },
  {
   "cell_type": "code",
   "execution_count": 52,
   "metadata": {},
   "outputs": [],
   "source": [
    "fm_model = fm.create_model()"
   ]
  },
  {
   "cell_type": "markdown",
   "metadata": {},
   "source": [
    "- Perform batch inference on the test data set and save results to S3"
   ]
  },
  {
   "cell_type": "code",
   "execution_count": 53,
   "metadata": {},
   "outputs": [],
   "source": [
    "fm_transformer = fm_model.transformer(\n",
    "    instance_type='ml.c4.xlarge', \n",
    "    instance_count=1, \n",
    "    strategy=\"MultiRecord\", \n",
    "    output_path=\"s3://{}/transform/\".format(bucket)\n",
    ")"
   ]
  },
  {
   "cell_type": "code",
   "execution_count": 54,
   "metadata": {},
   "outputs": [],
   "source": [
    "fm_transformer.transform(\n",
    "    data=\"s3://{}/prepare/test/\".format(bucket), \n",
    "    data_type='S3Prefix', \n",
    "    content_type=\"application/x-recordio-protobuf\")"
   ]
  },
  {
   "cell_type": "code",
   "execution_count": 55,
   "metadata": {},
   "outputs": [
    {
     "name": "stdout",
     "output_type": "stream",
     "text": [
      "Waiting for transform job: factorization-machines-2020-10-27-00-59-2020-10-27-00-59-00-681\n",
      "................................\u001b[34mDocker entrypoint called with argument(s): serve\u001b[0m\n",
      "\u001b[34mRunning default environment configuration script\u001b[0m\n",
      "\u001b[34m/opt/amazon/lib/python2.7/site-packages/pandas/util/nosetester.py:13: DeprecationWarning: Importing from numpy.testing.nosetester is deprecated, import from numpy.testing instead.\n",
      "  from numpy.testing import nosetester\u001b[0m\n",
      "\u001b[34m[10/27/2020 01:04:05 INFO 140106874853184] loaded entry point class algorithm.serve.server_config:config_api\u001b[0m\n",
      "\u001b[34m[10/27/2020 01:04:05 INFO 140106874853184] loading entry points\u001b[0m\n",
      "\u001b[34m/opt/amazon/lib/python2.7/site-packages/ai_algorithms_sdk/serve.py:195: DeprecationWarning: entrypoint algorithm.request_iterators is deprecated in favor of algorithm.io.data_handlers.serve\n",
      "  \"in favor of algorithm.io.data_handlers.serve\", DeprecationWarning)\u001b[0m\n",
      "\u001b[34m[10/27/2020 01:04:05 INFO 140106874853184] loaded request iterator application/x-recordio-protobuf\u001b[0m\n",
      "\u001b[34m[10/27/2020 01:04:05 INFO 140106874853184] loaded request iterator application/json\u001b[0m\n",
      "\u001b[34m[10/27/2020 01:04:05 INFO 140106874853184] loaded request iterator application/jsonlines\u001b[0m\n",
      "\u001b[34m[10/27/2020 01:04:05 INFO 140106874853184] loaded response encoder application/x-recordio-protobuf\u001b[0m\n",
      "\u001b[34m[10/27/2020 01:04:05 INFO 140106874853184] loaded response encoder application/json\u001b[0m\n",
      "\u001b[34m[10/27/2020 01:04:05 INFO 140106874853184] loaded response encoder application/jsonlines\u001b[0m\n",
      "\u001b[34m[10/27/2020 01:04:05 INFO 140106874853184] loaded entry point class algorithm:model\u001b[0m\n",
      "\u001b[34m[10/27/2020 01:04:05 INFO 140106874853184] Model Size: 369615766 bytes\u001b[0m\n",
      "\u001b[34m[10/27/2020 01:04:05 INFO 140106874853184] Number of vCPUs: 4\u001b[0m\n",
      "\u001b[34m[10/27/2020 01:04:05 INFO 140106874853184] Number of server workers: 4\u001b[0m\n",
      "\u001b[34m[2020-10-27 01:04:05 +0000] [1] [INFO] Starting gunicorn 19.7.1\u001b[0m\n",
      "\u001b[34m[2020-10-27 01:04:05 +0000] [1] [INFO] Listening at: http://0.0.0.0:8080 (1)\u001b[0m\n",
      "\u001b[34m[2020-10-27 01:04:05 +0000] [1] [INFO] Using worker: sync\u001b[0m\n",
      "\u001b[34m[2020-10-27 01:04:05 +0000] [35] [INFO] Booting worker with pid: 35\u001b[0m\n",
      "\u001b[34m[10/27/2020 01:04:05 INFO 140106874853184] loading model...\u001b[0m\n",
      "\u001b[34m[2020-10-27 01:04:05 +0000] [36] [INFO] Booting worker with pid: 36\u001b[0m\n",
      "\u001b[34m[10/27/2020 01:04:05 INFO 140106874853184] loading model...\u001b[0m\n",
      "\u001b[34m[2020-10-27 01:04:05 +0000] [37] [INFO] Booting worker with pid: 37\u001b[0m\n",
      "\u001b[34m[10/27/2020 01:04:05 INFO 140106874853184] loading model...\u001b[0m\n",
      "\u001b[34m[2020-10-27 01:04:05 +0000] [38] [INFO] Booting worker with pid: 38\u001b[0m\n",
      "\u001b[34m[10/27/2020 01:04:05 INFO 140106874853184] loading model...\u001b[0m\n",
      "\n",
      "\u001b[34m[10/27/2020 01:04:20 WARNING 140106874853184] Requesting context without setting the requested num of gpus. Using 'auto'\u001b[0m\n",
      "\u001b[34m[10/27/2020 01:04:20 WARNING 140106874853184] Requesting context without setting the requested num of gpus. Using 'auto'\u001b[0m\n",
      "\u001b[34m[10/27/2020 01:04:20 WARNING 140106874853184] Requesting context without setting the requested num of gpus. Using 'auto'\u001b[0m\n",
      "\u001b[34m[10/27/2020 01:04:20 WARNING 140106874853184] Requesting context without setting the requested num of gpus. Using 'auto'\u001b[0m\n",
      "\u001b[34m[10/27/2020 01:04:20 INFO 140106874853184] nvidia-smi took: 0.0252709388733 secs to identify 0 gpus\u001b[0m\n",
      "\u001b[34m[10/27/2020 01:04:20 INFO 140106874853184] nvidia-smi took: 0.0252799987793 secs to identify 0 gpus\u001b[0m\n",
      "\u001b[34m[10/27/2020 01:04:20 INFO 140106874853184] Number of GPUs being used: 0\u001b[0m\n",
      "\u001b[35m[10/27/2020 01:04:20 WARNING 140106874853184] Requesting context without setting the requested num of gpus. Using 'auto'\u001b[0m\n",
      "\u001b[35m[10/27/2020 01:04:20 WARNING 140106874853184] Requesting context without setting the requested num of gpus. Using 'auto'\u001b[0m\n",
      "\u001b[35m[10/27/2020 01:04:20 WARNING 140106874853184] Requesting context without setting the requested num of gpus. Using 'auto'\u001b[0m\n",
      "\u001b[35m[10/27/2020 01:04:20 WARNING 140106874853184] Requesting context without setting the requested num of gpus. Using 'auto'\u001b[0m\n",
      "\u001b[35m[10/27/2020 01:04:20 INFO 140106874853184] nvidia-smi took: 0.0252709388733 secs to identify 0 gpus\u001b[0m\n",
      "\u001b[35m[10/27/2020 01:04:20 INFO 140106874853184] nvidia-smi took: 0.0252799987793 secs to identify 0 gpus\u001b[0m\n",
      "\u001b[35m[10/27/2020 01:04:20 INFO 140106874853184] Number of GPUs being used: 0\u001b[0m\n",
      "\u001b[34m[10/27/2020 01:04:20 INFO 140106874853184] Number of GPUs being used: 0\u001b[0m\n",
      "\u001b[34m[10/27/2020 01:04:20 INFO 140106874853184] nvidia-smi took: 0.0252089500427 secs to identify 0 gpus\u001b[0m\n",
      "\u001b[34m[10/27/2020 01:04:20 INFO 140106874853184] Number of GPUs being used: 0\u001b[0m\n",
      "\u001b[34m[10/27/2020 01:04:20 INFO 140106874853184] nvidia-smi took: 0.0252788066864 secs to identify 0 gpus\u001b[0m\n",
      "\u001b[34m[10/27/2020 01:04:20 INFO 140106874853184] Number of GPUs being used: 0\u001b[0m\n",
      "\u001b[35m[10/27/2020 01:04:20 INFO 140106874853184] Number of GPUs being used: 0\u001b[0m\n",
      "\u001b[35m[10/27/2020 01:04:20 INFO 140106874853184] nvidia-smi took: 0.0252089500427 secs to identify 0 gpus\u001b[0m\n",
      "\u001b[35m[10/27/2020 01:04:20 INFO 140106874853184] Number of GPUs being used: 0\u001b[0m\n",
      "\u001b[35m[10/27/2020 01:04:20 INFO 140106874853184] nvidia-smi took: 0.0252788066864 secs to identify 0 gpus\u001b[0m\n",
      "\u001b[35m[10/27/2020 01:04:20 INFO 140106874853184] Number of GPUs being used: 0\u001b[0m\n",
      "\u001b[34m[10/27/2020 01:04:22 INFO 140106874853184] Loading regression model.\u001b[0m\n",
      "\u001b[34m[10/27/2020 01:04:22 INFO 140106874853184] ...model loaded.\u001b[0m\n",
      "\u001b[34m[10/27/2020 01:04:22 INFO 140106874853184] Model Size: 369615766 bytes\u001b[0m\n",
      "\u001b[34m[10/27/2020 01:04:22 INFO 140106874853184] Number of vCPUs: 4\u001b[0m\n",
      "\u001b[34m#metrics {\"Metrics\": {\"execution_parameters.count\": {\"count\": 1, \"max\": 1, \"sum\": 1.0, \"min\": 1}}, \"EndTime\": 1603760662.149428, \"Dimensions\": {\"Host\": \"UNKNOWN\", \"Operation\": \"scoring\", \"Algorithm\": \"AlgorithmModel\"}, \"StartTime\": 1603760662.12956}\n",
      "\u001b[0m\n",
      "\u001b[34m[10/27/2020 01:04:22 INFO 140106874853184] Loading regression model.\u001b[0m\n",
      "\u001b[34m[10/27/2020 01:04:22 INFO 140106874853184] ...model loaded.\u001b[0m\n",
      "\u001b[34m[10/27/2020 01:04:22 INFO 140106874853184] Loading regression model.\u001b[0m\n",
      "\u001b[35m[10/27/2020 01:04:22 INFO 140106874853184] Loading regression model.\u001b[0m\n",
      "\u001b[35m[10/27/2020 01:04:22 INFO 140106874853184] ...model loaded.\u001b[0m\n",
      "\u001b[35m[10/27/2020 01:04:22 INFO 140106874853184] Model Size: 369615766 bytes\u001b[0m\n",
      "\u001b[35m[10/27/2020 01:04:22 INFO 140106874853184] Number of vCPUs: 4\u001b[0m\n",
      "\u001b[35m#metrics {\"Metrics\": {\"execution_parameters.count\": {\"count\": 1, \"max\": 1, \"sum\": 1.0, \"min\": 1}}, \"EndTime\": 1603760662.149428, \"Dimensions\": {\"Host\": \"UNKNOWN\", \"Operation\": \"scoring\", \"Algorithm\": \"AlgorithmModel\"}, \"StartTime\": 1603760662.12956}\n",
      "\u001b[0m\n",
      "\u001b[35m[10/27/2020 01:04:22 INFO 140106874853184] Loading regression model.\u001b[0m\n",
      "\u001b[35m[10/27/2020 01:04:22 INFO 140106874853184] ...model loaded.\u001b[0m\n",
      "\u001b[35m[10/27/2020 01:04:22 INFO 140106874853184] Loading regression model.\u001b[0m\n",
      "\u001b[34m[10/27/2020 01:04:22 INFO 140106874853184] ...model loaded.\u001b[0m\n",
      "\u001b[35m[10/27/2020 01:04:22 INFO 140106874853184] ...model loaded.\u001b[0m\n",
      "\u001b[34m/opt/amazon/lib/python2.7/site-packages/mxnet/module/base_module.py:65: UserWarning: Data provided by label_shapes don't match names specified by label_names ([] vs. [u'out_label'])\n",
      "  warnings.warn(msg)\u001b[0m\n",
      "\u001b[34m/opt/amazon/lib/python2.7/site-packages/mxnet/module/base_module.py:65: UserWarning: Data provided by label_shapes don't match names specified by label_names ([] vs. [u'out_label'])\n",
      "  warnings.warn(msg)\u001b[0m\n",
      "\u001b[34m/opt/amazon/lib/python2.7/site-packages/mxnet/module/base_module.py:65: UserWarning: Data provided by label_shapes don't match names specified by label_names ([] vs. [u'out_label'])\n",
      "  warnings.warn(msg)\u001b[0m\n",
      "\u001b[34m[10/27/2020 01:04:22 INFO 140106874853184] Loading regression model.\u001b[0m\n",
      "\u001b[34m[10/27/2020 01:04:22 INFO 140106874853184] ...model loaded.\u001b[0m\n",
      "\u001b[34m[2020-10-27 01:04:23.141] [tensorio] [info] epoch_stats={\"data_pipeline\": \"/tmp/tmpxch5ZC/tmpumksSJ\", \"epoch\": 0, \"duration\": 866, \"num_examples\": 1, \"num_bytes\": 667236}\u001b[0m\n",
      "\u001b[35m/opt/amazon/lib/python2.7/site-packages/mxnet/module/base_module.py:65: UserWarning: Data provided by label_shapes don't match names specified by label_names ([] vs. [u'out_label'])\n",
      "  warnings.warn(msg)\u001b[0m\n",
      "\u001b[35m/opt/amazon/lib/python2.7/site-packages/mxnet/module/base_module.py:65: UserWarning: Data provided by label_shapes don't match names specified by label_names ([] vs. [u'out_label'])\n",
      "  warnings.warn(msg)\u001b[0m\n",
      "\u001b[35m/opt/amazon/lib/python2.7/site-packages/mxnet/module/base_module.py:65: UserWarning: Data provided by label_shapes don't match names specified by label_names ([] vs. [u'out_label'])\n",
      "  warnings.warn(msg)\u001b[0m\n",
      "\u001b[35m[10/27/2020 01:04:22 INFO 140106874853184] Loading regression model.\u001b[0m\n",
      "\u001b[35m[10/27/2020 01:04:22 INFO 140106874853184] ...model loaded.\u001b[0m\n",
      "\u001b[35m[2020-10-27 01:04:23.141] [tensorio] [info] epoch_stats={\"data_pipeline\": \"/tmp/tmpxch5ZC/tmpumksSJ\", \"epoch\": 0, \"duration\": 866, \"num_examples\": 1, \"num_bytes\": 667236}\u001b[0m\n",
      "\u001b[32m2020-10-27T01:04:22.175:[sagemaker logs]: MaxConcurrentTransforms=3, MaxPayloadInMB=6, BatchStrategy=MULTI_RECORD\u001b[0m\n",
      "\u001b[34m[2020-10-27 01:04:23.539] [tensorio] [info] epoch_stats={\"data_pipeline\": \"/tmp/tmppX_Ygo/tmp1NCiMw\", \"epoch\": 0, \"duration\": 1271, \"num_examples\": 1, \"num_bytes\": 667516}\u001b[0m\n",
      "\u001b[34m#metrics {\"Metrics\": {\"invocations.count\": {\"count\": 1, \"max\": 1, \"sum\": 1.0, \"min\": 1}}, \"EndTime\": 1603760663.602707, \"Dimensions\": {\"Host\": \"UNKNOWN\", \"Operation\": \"scoring\", \"Algorithm\": \"AlgorithmModel\"}, \"StartTime\": 1603760662.149826}\n",
      "\u001b[0m\n",
      "\u001b[34m[2020-10-27 01:04:23.626] [tensorio] [info] epoch_stats={\"data_pipeline\": \"/tmp/tmp177rB6/tmpIf_HoF\", \"epoch\": 0, \"duration\": 1364, \"num_examples\": 1, \"num_bytes\": 667648}\u001b[0m\n",
      "\u001b[34m#metrics {\"Metrics\": {\"invocations.count\": {\"count\": 1, \"max\": 1, \"sum\": 1.0, \"min\": 1}}, \"EndTime\": 1603760663.678914, \"Dimensions\": {\"Host\": \"UNKNOWN\", \"Operation\": \"scoring\", \"Algorithm\": \"AlgorithmModel\"}, \"StartTime\": 1603760662.156319}\n",
      "\u001b[0m\n",
      "\u001b[34m#metrics {\"Metrics\": {\"invocations.count\": {\"count\": 1, \"max\": 1, \"sum\": 1.0, \"min\": 1}}, \"EndTime\": 1603760663.709997, \"Dimensions\": {\"Host\": \"UNKNOWN\", \"Operation\": \"scoring\", \"Algorithm\": \"AlgorithmModel\"}, \"StartTime\": 1603760662.192355}\n",
      "\u001b[0m\n",
      "\u001b[34m[2020-10-27 01:04:23.875] [tensorio] [warning] TensorIO is already initialized; ignoring the initialization routine.\u001b[0m\n",
      "\u001b[34m[2020-10-27 01:04:23.877] [tensorio] [warning] TensorIO is already initialized; ignoring the initialization routine.\u001b[0m\n",
      "\u001b[34m/opt/amazon/lib/python2.7/site-packages/mxnet/module/base_module.py:65: UserWarning: Data provided by label_shapes don't match names specified by label_names ([] vs. [u'out_label'])\n",
      "  warnings.warn(msg)\u001b[0m\n",
      "\u001b[35m[2020-10-27 01:04:23.539] [tensorio] [info] epoch_stats={\"data_pipeline\": \"/tmp/tmppX_Ygo/tmp1NCiMw\", \"epoch\": 0, \"duration\": 1271, \"num_examples\": 1, \"num_bytes\": 667516}\u001b[0m\n",
      "\u001b[35m#metrics {\"Metrics\": {\"invocations.count\": {\"count\": 1, \"max\": 1, \"sum\": 1.0, \"min\": 1}}, \"EndTime\": 1603760663.602707, \"Dimensions\": {\"Host\": \"UNKNOWN\", \"Operation\": \"scoring\", \"Algorithm\": \"AlgorithmModel\"}, \"StartTime\": 1603760662.149826}\n",
      "\u001b[0m\n",
      "\u001b[35m[2020-10-27 01:04:23.626] [tensorio] [info] epoch_stats={\"data_pipeline\": \"/tmp/tmp177rB6/tmpIf_HoF\", \"epoch\": 0, \"duration\": 1364, \"num_examples\": 1, \"num_bytes\": 667648}\u001b[0m\n",
      "\u001b[35m#metrics {\"Metrics\": {\"invocations.count\": {\"count\": 1, \"max\": 1, \"sum\": 1.0, \"min\": 1}}, \"EndTime\": 1603760663.678914, \"Dimensions\": {\"Host\": \"UNKNOWN\", \"Operation\": \"scoring\", \"Algorithm\": \"AlgorithmModel\"}, \"StartTime\": 1603760662.156319}\n",
      "\u001b[0m\n",
      "\u001b[35m#metrics {\"Metrics\": {\"invocations.count\": {\"count\": 1, \"max\": 1, \"sum\": 1.0, \"min\": 1}}, \"EndTime\": 1603760663.709997, \"Dimensions\": {\"Host\": \"UNKNOWN\", \"Operation\": \"scoring\", \"Algorithm\": \"AlgorithmModel\"}, \"StartTime\": 1603760662.192355}\n",
      "\u001b[0m\n",
      "\u001b[35m[2020-10-27 01:04:23.875] [tensorio] [warning] TensorIO is already initialized; ignoring the initialization routine.\u001b[0m\n",
      "\u001b[35m[2020-10-27 01:04:23.877] [tensorio] [warning] TensorIO is already initialized; ignoring the initialization routine.\u001b[0m\n",
      "\u001b[35m/opt/amazon/lib/python2.7/site-packages/mxnet/module/base_module.py:65: UserWarning: Data provided by label_shapes don't match names specified by label_names ([] vs. [u'out_label'])\n",
      "  warnings.warn(msg)\u001b[0m\n",
      "\u001b[34m[2020-10-27 01:04:24.284] [tensorio] [info] epoch_stats={\"data_pipeline\": \"/tmp/tmpIie_Pj/tmpPs6Yqk\", \"epoch\": 0, \"duration\": 408, \"num_examples\": 1, \"num_bytes\": 667248}\u001b[0m\n",
      "\u001b[35m[2020-10-27 01:04:24.284] [tensorio] [info] epoch_stats={\"data_pipeline\": \"/tmp/tmpIie_Pj/tmpPs6Yqk\", \"epoch\": 0, \"duration\": 408, \"num_examples\": 1, \"num_bytes\": 667248}\u001b[0m\n",
      "\u001b[34m#metrics {\"Metrics\": {\"invocations.count\": {\"count\": 1, \"max\": 1, \"sum\": 1.0, \"min\": 1}}, \"EndTime\": 1603760664.406516, \"Dimensions\": {\"Host\": \"UNKNOWN\", \"Operation\": \"scoring\", \"Algorithm\": \"AlgorithmModel\"}, \"StartTime\": 1603760663.710094}\n",
      "\u001b[0m\n",
      "\u001b[34m[2020-10-27 01:04:24.413] [tensorio] [info] epoch_stats={\"data_pipeline\": \"/tmp/tmpW12uz9/tmpcVeBIW\", \"epoch\": 0, \"duration\": 536, \"num_examples\": 1, \"num_bytes\": 667688}\u001b[0m\n",
      "\u001b[34m[2020-10-27 01:04:24.470] [tensorio] [warning] TensorIO is already initialized; ignoring the initialization routine.\u001b[0m\n",
      "\u001b[34m#metrics {\"Metrics\": {\"invocations.count\": {\"count\": 1, \"max\": 1, \"sum\": 1.0, \"min\": 1}}, \"EndTime\": 1603760664.510233, \"Dimensions\": {\"Host\": \"UNKNOWN\", \"Operation\": \"scoring\", \"Algorithm\": \"AlgorithmModel\"}, \"StartTime\": 1603760663.679023}\n",
      "\u001b[0m\n",
      "\u001b[34m[2020-10-27 01:04:24.545] [tensorio] [warning] TensorIO is already initialized; ignoring the initialization routine.\u001b[0m\n",
      "\u001b[34m[2020-10-27 01:04:24.946] [tensorio] [info] epoch_stats={\"data_pipeline\": \"/tmp/tmpaMFXul/tmph6EWN9\", \"epoch\": 0, \"duration\": 475, \"num_examples\": 1, \"num_bytes\": 667396}\u001b[0m\n",
      "\u001b[34m#metrics {\"Metrics\": {\"invocations.count\": {\"count\": 1, \"max\": 1, \"sum\": 1.0, \"min\": 1}}, \"EndTime\": 1603760665.050605, \"Dimensions\": {\"Host\": \"UNKNOWN\", \"Operation\": \"scoring\", \"Algorithm\": \"AlgorithmModel\"}, \"StartTime\": 1603760663.603436}\n",
      "\u001b[0m\n",
      "\u001b[34m[2020-10-27 01:04:25.126] [tensorio] [warning] TensorIO is already initialized; ignoring the initialization routine.\u001b[0m\n",
      "\u001b[34m[2020-10-27 01:04:25.169] [tensorio] [info] epoch_stats={\"data_pipeline\": \"/tmp/tmp0QrDua/tmpR0xkPw\", \"epoch\": 0, \"duration\": 623, \"num_examples\": 1, \"num_bytes\": 667556}\u001b[0m\n",
      "\u001b[34m#metrics {\"Metrics\": {\"invocations.count\": {\"count\": 1, \"max\": 1, \"sum\": 1.0, \"min\": 1}}, \"EndTime\": 1603760665.227643, \"Dimensions\": {\"Host\": \"UNKNOWN\", \"Operation\": \"scoring\", \"Algorithm\": \"AlgorithmModel\"}, \"StartTime\": 1603760664.407049}\n",
      "\u001b[0m\n",
      "\u001b[34m[2020-10-27 01:04:25.262] [tensorio] [warning] TensorIO is already initialized; ignoring the initialization routine.\u001b[0m\n",
      "\u001b[34m[2020-10-27 01:04:25.262] [tensorio] [info] epoch_stats={\"data_pipeline\": \"/tmp/tmpO3npl3/tmpM4T6uW\", \"epoch\": 0, \"duration\": 1362, \"num_examples\": 1, \"num_bytes\": 667232}\u001b[0m\n",
      "\u001b[35m#metrics {\"Metrics\": {\"invocations.count\": {\"count\": 1, \"max\": 1, \"sum\": 1.0, \"min\": 1}}, \"EndTime\": 1603760664.406516, \"Dimensions\": {\"Host\": \"UNKNOWN\", \"Operation\": \"scoring\", \"Algorithm\": \"AlgorithmModel\"}, \"StartTime\": 1603760663.710094}\n",
      "\u001b[0m\n",
      "\u001b[35m[2020-10-27 01:04:24.413] [tensorio] [info] epoch_stats={\"data_pipeline\": \"/tmp/tmpW12uz9/tmpcVeBIW\", \"epoch\": 0, \"duration\": 536, \"num_examples\": 1, \"num_bytes\": 667688}\u001b[0m\n",
      "\u001b[35m[2020-10-27 01:04:24.470] [tensorio] [warning] TensorIO is already initialized; ignoring the initialization routine.\u001b[0m\n",
      "\u001b[35m#metrics {\"Metrics\": {\"invocations.count\": {\"count\": 1, \"max\": 1, \"sum\": 1.0, \"min\": 1}}, \"EndTime\": 1603760664.510233, \"Dimensions\": {\"Host\": \"UNKNOWN\", \"Operation\": \"scoring\", \"Algorithm\": \"AlgorithmModel\"}, \"StartTime\": 1603760663.679023}\n",
      "\u001b[0m\n",
      "\u001b[35m[2020-10-27 01:04:24.545] [tensorio] [warning] TensorIO is already initialized; ignoring the initialization routine.\u001b[0m\n",
      "\u001b[35m[2020-10-27 01:04:24.946] [tensorio] [info] epoch_stats={\"data_pipeline\": \"/tmp/tmpaMFXul/tmph6EWN9\", \"epoch\": 0, \"duration\": 475, \"num_examples\": 1, \"num_bytes\": 667396}\u001b[0m\n",
      "\u001b[35m#metrics {\"Metrics\": {\"invocations.count\": {\"count\": 1, \"max\": 1, \"sum\": 1.0, \"min\": 1}}, \"EndTime\": 1603760665.050605, \"Dimensions\": {\"Host\": \"UNKNOWN\", \"Operation\": \"scoring\", \"Algorithm\": \"AlgorithmModel\"}, \"StartTime\": 1603760663.603436}\n",
      "\u001b[0m\n",
      "\u001b[35m[2020-10-27 01:04:25.126] [tensorio] [warning] TensorIO is already initialized; ignoring the initialization routine.\u001b[0m\n",
      "\u001b[35m[2020-10-27 01:04:25.169] [tensorio] [info] epoch_stats={\"data_pipeline\": \"/tmp/tmp0QrDua/tmpR0xkPw\", \"epoch\": 0, \"duration\": 623, \"num_examples\": 1, \"num_bytes\": 667556}\u001b[0m\n",
      "\u001b[35m#metrics {\"Metrics\": {\"invocations.count\": {\"count\": 1, \"max\": 1, \"sum\": 1.0, \"min\": 1}}, \"EndTime\": 1603760665.227643, \"Dimensions\": {\"Host\": \"UNKNOWN\", \"Operation\": \"scoring\", \"Algorithm\": \"AlgorithmModel\"}, \"StartTime\": 1603760664.407049}\n",
      "\u001b[0m\n",
      "\u001b[35m[2020-10-27 01:04:25.262] [tensorio] [warning] TensorIO is already initialized; ignoring the initialization routine.\u001b[0m\n",
      "\u001b[35m[2020-10-27 01:04:25.262] [tensorio] [info] epoch_stats={\"data_pipeline\": \"/tmp/tmpO3npl3/tmpM4T6uW\", \"epoch\": 0, \"duration\": 1362, \"num_examples\": 1, \"num_bytes\": 667232}\u001b[0m\n",
      "\u001b[34m#metrics {\"Metrics\": {\"invocations.count\": {\"count\": 1, \"max\": 1, \"sum\": 1.0, \"min\": 1}}, \"EndTime\": 1603760665.328393, \"Dimensions\": {\"Host\": \"UNKNOWN\", \"Operation\": \"scoring\", \"Algorithm\": \"AlgorithmModel\"}, \"StartTime\": 1603760662.83335}\n",
      "\u001b[0m\n",
      "\u001b[34m[2020-10-27 01:04:25.374] [tensorio] [warning] TensorIO is already initialized; ignoring the initialization routine.\u001b[0m\n",
      "\u001b[34m[2020-10-27 01:04:25.685] [tensorio] [info] epoch_stats={\"data_pipeline\": \"/tmp/tmpW2TbFd/tmptE8gVL\", \"epoch\": 0, \"duration\": 558, \"num_examples\": 1, \"num_bytes\": 667256}\u001b[0m\n",
      "\u001b[34m#metrics {\"Metrics\": {\"invocations.count\": {\"count\": 1, \"max\": 1, \"sum\": 1.0, \"min\": 1}}, \"EndTime\": 1603760665.738643, \"Dimensions\": {\"Host\": \"UNKNOWN\", \"Operation\": \"scoring\", \"Algorithm\": \"AlgorithmModel\"}, \"StartTime\": 1603760665.051394}\n",
      "\u001b[0m\n",
      "\u001b[34m[2020-10-27 01:04:25.779] [tensorio] [info] epoch_stats={\"data_pipeline\": \"/tmp/tmpLD6cz4/tmpCUAbsD\", \"epoch\": 0, \"duration\": 515, \"num_examples\": 1, \"num_bytes\": 667536}\u001b[0m\n",
      "\u001b[34m[2020-10-27 01:04:25.792] [tensorio] [warning] TensorIO is already initialized; ignoring the initialization routine.\u001b[0m\n",
      "\u001b[34m#metrics {\"Metrics\": {\"invocations.count\": {\"count\": 1, \"max\": 1, \"sum\": 1.0, \"min\": 1}}, \"EndTime\": 1603760665.841835, \"Dimensions\": {\"Host\": \"UNKNOWN\", \"Operation\": \"scoring\", \"Algorithm\": \"AlgorithmModel\"}, \"StartTime\": 1603760664.510315}\n",
      "\u001b[0m\n",
      "\u001b[34m[2020-10-27 01:04:25.884] [tensorio] [warning] TensorIO is already initialized; ignoring the initialization routine.\u001b[0m\n",
      "\u001b[34m[2020-10-27 01:04:25.923] [tensorio] [info] epoch_stats={\"data_pipeline\": \"/tmp/tmpQqYXf2/tmpwrzTam\", \"epoch\": 0, \"duration\": 548, \"num_examples\": 1, \"num_bytes\": 667204}\u001b[0m\n",
      "\u001b[34m#metrics {\"Metrics\": {\"invocations.count\": {\"count\": 1, \"max\": 1, \"sum\": 1.0, \"min\": 1}}, \"EndTime\": 1603760666.033772, \"Dimensions\": {\"Host\": \"UNKNOWN\", \"Operation\": \"scoring\", \"Algorithm\": \"AlgorithmModel\"}, \"StartTime\": 1603760665.328948}\n",
      "\u001b[0m\n",
      "\u001b[34m[2020-10-27 01:04:26.069] [tensorio] [warning] TensorIO is already initialized; ignoring the initialization routine.\u001b[0m\n",
      "\u001b[35m#metrics {\"Metrics\": {\"invocations.count\": {\"count\": 1, \"max\": 1, \"sum\": 1.0, \"min\": 1}}, \"EndTime\": 1603760665.328393, \"Dimensions\": {\"Host\": \"UNKNOWN\", \"Operation\": \"scoring\", \"Algorithm\": \"AlgorithmModel\"}, \"StartTime\": 1603760662.83335}\n",
      "\u001b[0m\n",
      "\u001b[35m[2020-10-27 01:04:25.374] [tensorio] [warning] TensorIO is already initialized; ignoring the initialization routine.\u001b[0m\n",
      "\u001b[35m[2020-10-27 01:04:25.685] [tensorio] [info] epoch_stats={\"data_pipeline\": \"/tmp/tmpW2TbFd/tmptE8gVL\", \"epoch\": 0, \"duration\": 558, \"num_examples\": 1, \"num_bytes\": 667256}\u001b[0m\n",
      "\u001b[35m#metrics {\"Metrics\": {\"invocations.count\": {\"count\": 1, \"max\": 1, \"sum\": 1.0, \"min\": 1}}, \"EndTime\": 1603760665.738643, \"Dimensions\": {\"Host\": \"UNKNOWN\", \"Operation\": \"scoring\", \"Algorithm\": \"AlgorithmModel\"}, \"StartTime\": 1603760665.051394}\n",
      "\u001b[0m\n",
      "\u001b[35m[2020-10-27 01:04:25.779] [tensorio] [info] epoch_stats={\"data_pipeline\": \"/tmp/tmpLD6cz4/tmpCUAbsD\", \"epoch\": 0, \"duration\": 515, \"num_examples\": 1, \"num_bytes\": 667536}\u001b[0m\n",
      "\u001b[35m[2020-10-27 01:04:25.792] [tensorio] [warning] TensorIO is already initialized; ignoring the initialization routine.\u001b[0m\n",
      "\u001b[35m#metrics {\"Metrics\": {\"invocations.count\": {\"count\": 1, \"max\": 1, \"sum\": 1.0, \"min\": 1}}, \"EndTime\": 1603760665.841835, \"Dimensions\": {\"Host\": \"UNKNOWN\", \"Operation\": \"scoring\", \"Algorithm\": \"AlgorithmModel\"}, \"StartTime\": 1603760664.510315}\n",
      "\u001b[0m\n",
      "\u001b[35m[2020-10-27 01:04:25.884] [tensorio] [warning] TensorIO is already initialized; ignoring the initialization routine.\u001b[0m\n",
      "\u001b[35m[2020-10-27 01:04:25.923] [tensorio] [info] epoch_stats={\"data_pipeline\": \"/tmp/tmpQqYXf2/tmpwrzTam\", \"epoch\": 0, \"duration\": 548, \"num_examples\": 1, \"num_bytes\": 667204}\u001b[0m\n",
      "\u001b[35m#metrics {\"Metrics\": {\"invocations.count\": {\"count\": 1, \"max\": 1, \"sum\": 1.0, \"min\": 1}}, \"EndTime\": 1603760666.033772, \"Dimensions\": {\"Host\": \"UNKNOWN\", \"Operation\": \"scoring\", \"Algorithm\": \"AlgorithmModel\"}, \"StartTime\": 1603760665.328948}\n",
      "\u001b[0m\n",
      "\u001b[35m[2020-10-27 01:04:26.069] [tensorio] [warning] TensorIO is already initialized; ignoring the initialization routine.\u001b[0m\n",
      "\u001b[34m[2020-10-27 01:04:26.289] [tensorio] [info] epoch_stats={\"data_pipeline\": \"/tmp/tmpG5X7gA/tmpcnWDm7\", \"epoch\": 0, \"duration\": 495, \"num_examples\": 1, \"num_bytes\": 667236}\u001b[0m\n",
      "\u001b[34m#metrics {\"Metrics\": {\"invocations.count\": {\"count\": 1, \"max\": 1, \"sum\": 1.0, \"min\": 1}}, \"EndTime\": 1603760666.342728, \"Dimensions\": {\"Host\": \"UNKNOWN\", \"Operation\": \"scoring\", \"Algorithm\": \"AlgorithmModel\"}, \"StartTime\": 1603760665.228108}\n",
      "\u001b[0m\n",
      "\u001b[34m[2020-10-27 01:04:26.377] [tensorio] [warning] TensorIO is already initialized; ignoring the initialization routine.\u001b[0m\n",
      "\u001b[34m[2020-10-27 01:04:26.429] [tensorio] [info] epoch_stats={\"data_pipeline\": \"/tmp/tmpSd0W0b/tmp70WKXY\", \"epoch\": 0, \"duration\": 544, \"num_examples\": 1, \"num_bytes\": 667536}\u001b[0m\n",
      "\u001b[34m#metrics {\"Metrics\": {\"invocations.count\": {\"count\": 1, \"max\": 1, \"sum\": 1.0, \"min\": 1}}, \"EndTime\": 1603760666.489884, \"Dimensions\": {\"Host\": \"UNKNOWN\", \"Operation\": \"scoring\", \"Algorithm\": \"AlgorithmModel\"}, \"StartTime\": 1603760665.842006}\n",
      "\u001b[0m\n",
      "\u001b[34m[2020-10-27 01:04:26.614] [tensorio] [info] epoch_stats={\"data_pipeline\": \"/tmp/tmpGILTfx/tmpdopKvS\", \"epoch\": 0, \"duration\": 545, \"num_examples\": 1, \"num_bytes\": 667728}\u001b[0m\n",
      "\u001b[34m[2020-10-27 01:04:26.622] [tensorio] [warning] TensorIO is already initialized; ignoring the initialization routine.\u001b[0m\n",
      "\u001b[34m#metrics {\"Metrics\": {\"invocations.count\": {\"count\": 1, \"max\": 1, \"sum\": 1.0, \"min\": 1}}, \"EndTime\": 1603760666.676805, \"Dimensions\": {\"Host\": \"UNKNOWN\", \"Operation\": \"scoring\", \"Algorithm\": \"AlgorithmModel\"}, \"StartTime\": 1603760665.738744}\n",
      "\u001b[0m\n",
      "\u001b[34m[2020-10-27 01:04:26.708] [tensorio] [warning] TensorIO is already initialized; ignoring the initialization routine.\u001b[0m\n",
      "\u001b[34m[2020-10-27 01:04:26.810] [tensorio] [info] epoch_stats={\"data_pipeline\": \"/tmp/tmpmQ4g88/tmpbq2v7P\", \"epoch\": 0, \"duration\": 432, \"num_examples\": 1, \"num_bytes\": 667220}\u001b[0m\n",
      "\u001b[34m#metrics {\"Metrics\": {\"invocations.count\": {\"count\": 1, \"max\": 1, \"sum\": 1.0, \"min\": 1}}, \"EndTime\": 1603760666.865932, \"Dimensions\": {\"Host\": \"UNKNOWN\", \"Operation\": \"scoring\", \"Algorithm\": \"AlgorithmModel\"}, \"StartTime\": 1603760666.034332}\n",
      "\u001b[0m\n",
      "\u001b[34m[2020-10-27 01:04:26.900] [tensorio] [warning] TensorIO is already initialized; ignoring the initialization routine.\u001b[0m\n",
      "\u001b[34m[2020-10-27 01:04:27.139] [tensorio] [info] epoch_stats={\"data_pipeline\": \"/tmp/tmpZ4rN6c/tmp4tPZiX\", \"epoch\": 0, \"duration\": 516, \"num_examples\": 1, \"num_bytes\": 667588}\u001b[0m\n",
      "\u001b[34m#metrics {\"Metrics\": {\"invocations.count\": {\"count\": 1, \"max\": 1, \"sum\": 1.0, \"min\": 1}}, \"EndTime\": 1603760667.193073, \"Dimensions\": {\"Host\": \"UNKNOWN\", \"Operation\": \"scoring\", \"Algorithm\": \"AlgorithmModel\"}, \"StartTime\": 1603760666.343223}\n",
      "\u001b[0m\n",
      "\u001b[34m[2020-10-27 01:04:27.235] [tensorio] [warning] TensorIO is already initialized; ignoring the initialization routine.\u001b[0m\n",
      "\u001b[35m[2020-10-27 01:04:26.289] [tensorio] [info] epoch_stats={\"data_pipeline\": \"/tmp/tmpG5X7gA/tmpcnWDm7\", \"epoch\": 0, \"duration\": 495, \"num_examples\": 1, \"num_bytes\": 667236}\u001b[0m\n",
      "\u001b[35m#metrics {\"Metrics\": {\"invocations.count\": {\"count\": 1, \"max\": 1, \"sum\": 1.0, \"min\": 1}}, \"EndTime\": 1603760666.342728, \"Dimensions\": {\"Host\": \"UNKNOWN\", \"Operation\": \"scoring\", \"Algorithm\": \"AlgorithmModel\"}, \"StartTime\": 1603760665.228108}\n",
      "\u001b[0m\n",
      "\u001b[35m[2020-10-27 01:04:26.377] [tensorio] [warning] TensorIO is already initialized; ignoring the initialization routine.\u001b[0m\n",
      "\u001b[35m[2020-10-27 01:04:26.429] [tensorio] [info] epoch_stats={\"data_pipeline\": \"/tmp/tmpSd0W0b/tmp70WKXY\", \"epoch\": 0, \"duration\": 544, \"num_examples\": 1, \"num_bytes\": 667536}\u001b[0m\n",
      "\u001b[35m#metrics {\"Metrics\": {\"invocations.count\": {\"count\": 1, \"max\": 1, \"sum\": 1.0, \"min\": 1}}, \"EndTime\": 1603760666.489884, \"Dimensions\": {\"Host\": \"UNKNOWN\", \"Operation\": \"scoring\", \"Algorithm\": \"AlgorithmModel\"}, \"StartTime\": 1603760665.842006}\n",
      "\u001b[0m\n",
      "\u001b[35m[2020-10-27 01:04:26.614] [tensorio] [info] epoch_stats={\"data_pipeline\": \"/tmp/tmpGILTfx/tmpdopKvS\", \"epoch\": 0, \"duration\": 545, \"num_examples\": 1, \"num_bytes\": 667728}\u001b[0m\n",
      "\u001b[35m[2020-10-27 01:04:26.622] [tensorio] [warning] TensorIO is already initialized; ignoring the initialization routine.\u001b[0m\n",
      "\u001b[35m#metrics {\"Metrics\": {\"invocations.count\": {\"count\": 1, \"max\": 1, \"sum\": 1.0, \"min\": 1}}, \"EndTime\": 1603760666.676805, \"Dimensions\": {\"Host\": \"UNKNOWN\", \"Operation\": \"scoring\", \"Algorithm\": \"AlgorithmModel\"}, \"StartTime\": 1603760665.738744}\n",
      "\u001b[0m\n",
      "\u001b[35m[2020-10-27 01:04:26.708] [tensorio] [warning] TensorIO is already initialized; ignoring the initialization routine.\u001b[0m\n",
      "\u001b[35m[2020-10-27 01:04:26.810] [tensorio] [info] epoch_stats={\"data_pipeline\": \"/tmp/tmpmQ4g88/tmpbq2v7P\", \"epoch\": 0, \"duration\": 432, \"num_examples\": 1, \"num_bytes\": 667220}\u001b[0m\n",
      "\u001b[35m#metrics {\"Metrics\": {\"invocations.count\": {\"count\": 1, \"max\": 1, \"sum\": 1.0, \"min\": 1}}, \"EndTime\": 1603760666.865932, \"Dimensions\": {\"Host\": \"UNKNOWN\", \"Operation\": \"scoring\", \"Algorithm\": \"AlgorithmModel\"}, \"StartTime\": 1603760666.034332}\n",
      "\u001b[0m\n",
      "\u001b[35m[2020-10-27 01:04:26.900] [tensorio] [warning] TensorIO is already initialized; ignoring the initialization routine.\u001b[0m\n",
      "\u001b[35m[2020-10-27 01:04:27.139] [tensorio] [info] epoch_stats={\"data_pipeline\": \"/tmp/tmpZ4rN6c/tmp4tPZiX\", \"epoch\": 0, \"duration\": 516, \"num_examples\": 1, \"num_bytes\": 667588}\u001b[0m\n",
      "\u001b[35m#metrics {\"Metrics\": {\"invocations.count\": {\"count\": 1, \"max\": 1, \"sum\": 1.0, \"min\": 1}}, \"EndTime\": 1603760667.193073, \"Dimensions\": {\"Host\": \"UNKNOWN\", \"Operation\": \"scoring\", \"Algorithm\": \"AlgorithmModel\"}, \"StartTime\": 1603760666.343223}\n",
      "\u001b[0m\n",
      "\u001b[35m[2020-10-27 01:04:27.235] [tensorio] [warning] TensorIO is already initialized; ignoring the initialization routine.\u001b[0m\n",
      "\u001b[34m[2020-10-27 01:04:27.364] [tensorio] [info] epoch_stats={\"data_pipeline\": \"/tmp/tmpCn5skS/tmpQqekkA\", \"epoch\": 0, \"duration\": 464, \"num_examples\": 1, \"num_bytes\": 667468}\u001b[0m\n",
      "\u001b[34m#metrics {\"Metrics\": {\"invocations.count\": {\"count\": 1, \"max\": 1, \"sum\": 1.0, \"min\": 1}}, \"EndTime\": 1603760667.425749, \"Dimensions\": {\"Host\": \"UNKNOWN\", \"Operation\": \"scoring\", \"Algorithm\": \"AlgorithmModel\"}, \"StartTime\": 1603760666.490372}\n",
      "\u001b[0m\n",
      "\u001b[34m[2020-10-27 01:04:27.674] [tensorio] [info] epoch_stats={\"data_pipeline\": \"/tmp/tmpIaXIuN/tmpcNuU8A\", \"epoch\": 0, \"duration\": 438, \"num_examples\": 1, \"num_bytes\": 667652}\u001b[0m\n",
      "\u001b[34m[2020-10-27 01:04:27.689] [tensorio] [info] epoch_stats={\"data_pipeline\": \"/tmp/tmpuI0cmX/tmpxdrekz\", \"epoch\": 0, \"duration\": 980, \"num_examples\": 1, \"num_bytes\": 252528}\u001b[0m\n",
      "\u001b[34m[2020-10-27 01:04:27.699] [tensorio] [warning] TensorIO is already initialized; ignoring the initialization routine.\u001b[0m\n",
      "\u001b[34m#metrics {\"Metrics\": {\"invocations.count\": {\"count\": 1, \"max\": 1, \"sum\": 1.0, \"min\": 1}}, \"EndTime\": 1603760667.70197, \"Dimensions\": {\"Host\": \"UNKNOWN\", \"Operation\": \"scoring\", \"Algorithm\": \"AlgorithmModel\"}, \"StartTime\": 1603760666.677211}\n",
      "\u001b[0m\n",
      "\u001b[34m[2020-10-27 01:04:27.728] [tensorio] [warning] TensorIO is already initialized; ignoring the initialization routine.\u001b[0m\n",
      "\u001b[34m#metrics {\"Metrics\": {\"invocations.count\": {\"count\": 1, \"max\": 1, \"sum\": 1.0, \"min\": 1}}, \"EndTime\": 1603760667.736226, \"Dimensions\": {\"Host\": \"UNKNOWN\", \"Operation\": \"scoring\", \"Algorithm\": \"AlgorithmModel\"}, \"StartTime\": 1603760667.193762}\n",
      "\u001b[0m\n",
      "\u001b[34m[2020-10-27 01:04:27.786] [tensorio] [warning] TensorIO is already initialized; ignoring the initialization routine.\u001b[0m\n",
      "\u001b[34m[2020-10-27 01:04:28.194] [tensorio] [info] epoch_stats={\"data_pipeline\": \"/tmp/tmp0wNdzE/tmpguytAx\", \"epoch\": 0, \"duration\": 494, \"num_examples\": 1, \"num_bytes\": 667432}\u001b[0m\n",
      "\u001b[34m[2020-10-27 01:04:28.249] [tensorio] [info] epoch_stats={\"data_pipeline\": \"/tmp/tmpTPaINr/tmphRE5X3\", \"epoch\": 0, \"duration\": 520, \"num_examples\": 1, \"num_bytes\": 667620}\u001b[0m\n",
      "\u001b[34m#metrics {\"Metrics\": {\"invocations.count\": {\"count\": 1, \"max\": 1, \"sum\": 1.0, \"min\": 1}}, \"EndTime\": 1603760668.256363, \"Dimensions\": {\"Host\": \"UNKNOWN\", \"Operation\": \"scoring\", \"Algorithm\": \"AlgorithmModel\"}, \"StartTime\": 1603760666.866428}\n",
      "\u001b[0m\n",
      "\u001b[35m[2020-10-27 01:04:27.364] [tensorio] [info] epoch_stats={\"data_pipeline\": \"/tmp/tmpCn5skS/tmpQqekkA\", \"epoch\": 0, \"duration\": 464, \"num_examples\": 1, \"num_bytes\": 667468}\u001b[0m\n",
      "\u001b[35m#metrics {\"Metrics\": {\"invocations.count\": {\"count\": 1, \"max\": 1, \"sum\": 1.0, \"min\": 1}}, \"EndTime\": 1603760667.425749, \"Dimensions\": {\"Host\": \"UNKNOWN\", \"Operation\": \"scoring\", \"Algorithm\": \"AlgorithmModel\"}, \"StartTime\": 1603760666.490372}\n",
      "\u001b[0m\n",
      "\u001b[35m[2020-10-27 01:04:27.674] [tensorio] [info] epoch_stats={\"data_pipeline\": \"/tmp/tmpIaXIuN/tmpcNuU8A\", \"epoch\": 0, \"duration\": 438, \"num_examples\": 1, \"num_bytes\": 667652}\u001b[0m\n",
      "\u001b[35m[2020-10-27 01:04:27.689] [tensorio] [info] epoch_stats={\"data_pipeline\": \"/tmp/tmpuI0cmX/tmpxdrekz\", \"epoch\": 0, \"duration\": 980, \"num_examples\": 1, \"num_bytes\": 252528}\u001b[0m\n",
      "\u001b[35m[2020-10-27 01:04:27.699] [tensorio] [warning] TensorIO is already initialized; ignoring the initialization routine.\u001b[0m\n",
      "\u001b[35m#metrics {\"Metrics\": {\"invocations.count\": {\"count\": 1, \"max\": 1, \"sum\": 1.0, \"min\": 1}}, \"EndTime\": 1603760667.70197, \"Dimensions\": {\"Host\": \"UNKNOWN\", \"Operation\": \"scoring\", \"Algorithm\": \"AlgorithmModel\"}, \"StartTime\": 1603760666.677211}\n",
      "\u001b[0m\n",
      "\u001b[35m[2020-10-27 01:04:27.728] [tensorio] [warning] TensorIO is already initialized; ignoring the initialization routine.\u001b[0m\n",
      "\u001b[35m#metrics {\"Metrics\": {\"invocations.count\": {\"count\": 1, \"max\": 1, \"sum\": 1.0, \"min\": 1}}, \"EndTime\": 1603760667.736226, \"Dimensions\": {\"Host\": \"UNKNOWN\", \"Operation\": \"scoring\", \"Algorithm\": \"AlgorithmModel\"}, \"StartTime\": 1603760667.193762}\n",
      "\u001b[0m\n",
      "\u001b[35m[2020-10-27 01:04:27.786] [tensorio] [warning] TensorIO is already initialized; ignoring the initialization routine.\u001b[0m\n",
      "\u001b[35m[2020-10-27 01:04:28.194] [tensorio] [info] epoch_stats={\"data_pipeline\": \"/tmp/tmp0wNdzE/tmpguytAx\", \"epoch\": 0, \"duration\": 494, \"num_examples\": 1, \"num_bytes\": 667432}\u001b[0m\n",
      "\u001b[35m[2020-10-27 01:04:28.249] [tensorio] [info] epoch_stats={\"data_pipeline\": \"/tmp/tmpTPaINr/tmphRE5X3\", \"epoch\": 0, \"duration\": 520, \"num_examples\": 1, \"num_bytes\": 667620}\u001b[0m\n",
      "\u001b[35m#metrics {\"Metrics\": {\"invocations.count\": {\"count\": 1, \"max\": 1, \"sum\": 1.0, \"min\": 1}}, \"EndTime\": 1603760668.256363, \"Dimensions\": {\"Host\": \"UNKNOWN\", \"Operation\": \"scoring\", \"Algorithm\": \"AlgorithmModel\"}, \"StartTime\": 1603760666.866428}\n",
      "\u001b[0m\n",
      "\u001b[34m[2020-10-27 01:04:28.283] [tensorio] [warning] TensorIO is already initialized; ignoring the initialization routine.\u001b[0m\n",
      "\u001b[34m#metrics {\"Metrics\": {\"invocations.count\": {\"count\": 1, \"max\": 1, \"sum\": 1.0, \"min\": 1}}, \"EndTime\": 1603760668.306995, \"Dimensions\": {\"Host\": \"UNKNOWN\", \"Operation\": \"scoring\", \"Algorithm\": \"AlgorithmModel\"}, \"StartTime\": 1603760667.426298}\n",
      "\u001b[0m\n",
      "\u001b[34m[2020-10-27 01:04:28.329] [tensorio] [warning] TensorIO is already initialized; ignoring the initialization routine.\u001b[0m\n",
      "\u001b[34m[2020-10-27 01:04:28.799] [tensorio] [info] epoch_stats={\"data_pipeline\": \"/tmp/tmpGBNOoL/tmphRwDFt\", \"epoch\": 0, \"duration\": 516, \"num_examples\": 1, \"num_bytes\": 667496}\u001b[0m\n",
      "\u001b[34m#metrics {\"Metrics\": {\"invocations.count\": {\"count\": 1, \"max\": 1, \"sum\": 1.0, \"min\": 1}}, \"EndTime\": 1603760668.859825, \"Dimensions\": {\"Host\": \"UNKNOWN\", \"Operation\": \"scoring\", \"Algorithm\": \"AlgorithmModel\"}, \"StartTime\": 1603760668.256458}\n",
      "\u001b[0m\n",
      "\u001b[34m[2020-10-27 01:04:28.883] [tensorio] [info] epoch_stats={\"data_pipeline\": \"/tmp/tmptBdhQM/tmpiTfa_P\", \"epoch\": 0, \"duration\": 553, \"num_examples\": 1, \"num_bytes\": 667352}\u001b[0m\n",
      "\u001b[34m#metrics {\"Metrics\": {\"invocations.count\": {\"count\": 1, \"max\": 1, \"sum\": 1.0, \"min\": 1}}, \"EndTime\": 1603760668.935236, \"Dimensions\": {\"Host\": \"UNKNOWN\", \"Operation\": \"scoring\", \"Algorithm\": \"AlgorithmModel\"}, \"StartTime\": 1603760668.307091}\n",
      "\u001b[0m\n",
      "\u001b[34m[2020-10-27 01:04:28.955] [tensorio] [info] epoch_stats={\"data_pipeline\": \"/tmp/tmpVc5kd1/tmp8bk9Je\", \"epoch\": 0, \"duration\": 1167, \"num_examples\": 1, \"num_bytes\": 667792}\u001b[0m\n",
      "\u001b[34m#metrics {\"Metrics\": {\"invocations.count\": {\"count\": 1, \"max\": 1, \"sum\": 1.0, \"min\": 1}}, \"EndTime\": 1603760668.990456, \"Dimensions\": {\"Host\": \"UNKNOWN\", \"Operation\": \"scoring\", \"Algorithm\": \"AlgorithmModel\"}, \"StartTime\": 1603760667.702023}\n",
      "\u001b[0m\n",
      "\u001b[35m[2020-10-27 01:04:28.283] [tensorio] [warning] TensorIO is already initialized; ignoring the initialization routine.\u001b[0m\n",
      "\u001b[35m#metrics {\"Metrics\": {\"invocations.count\": {\"count\": 1, \"max\": 1, \"sum\": 1.0, \"min\": 1}}, \"EndTime\": 1603760668.306995, \"Dimensions\": {\"Host\": \"UNKNOWN\", \"Operation\": \"scoring\", \"Algorithm\": \"AlgorithmModel\"}, \"StartTime\": 1603760667.426298}\n",
      "\u001b[0m\n",
      "\u001b[35m[2020-10-27 01:04:28.329] [tensorio] [warning] TensorIO is already initialized; ignoring the initialization routine.\u001b[0m\n",
      "\u001b[35m[2020-10-27 01:04:28.799] [tensorio] [info] epoch_stats={\"data_pipeline\": \"/tmp/tmpGBNOoL/tmphRwDFt\", \"epoch\": 0, \"duration\": 516, \"num_examples\": 1, \"num_bytes\": 667496}\u001b[0m\n",
      "\u001b[35m#metrics {\"Metrics\": {\"invocations.count\": {\"count\": 1, \"max\": 1, \"sum\": 1.0, \"min\": 1}}, \"EndTime\": 1603760668.859825, \"Dimensions\": {\"Host\": \"UNKNOWN\", \"Operation\": \"scoring\", \"Algorithm\": \"AlgorithmModel\"}, \"StartTime\": 1603760668.256458}\n",
      "\u001b[0m\n",
      "\u001b[35m[2020-10-27 01:04:28.883] [tensorio] [info] epoch_stats={\"data_pipeline\": \"/tmp/tmptBdhQM/tmpiTfa_P\", \"epoch\": 0, \"duration\": 553, \"num_examples\": 1, \"num_bytes\": 667352}\u001b[0m\n",
      "\u001b[35m#metrics {\"Metrics\": {\"invocations.count\": {\"count\": 1, \"max\": 1, \"sum\": 1.0, \"min\": 1}}, \"EndTime\": 1603760668.935236, \"Dimensions\": {\"Host\": \"UNKNOWN\", \"Operation\": \"scoring\", \"Algorithm\": \"AlgorithmModel\"}, \"StartTime\": 1603760668.307091}\n",
      "\u001b[0m\n",
      "\u001b[35m[2020-10-27 01:04:28.955] [tensorio] [info] epoch_stats={\"data_pipeline\": \"/tmp/tmpVc5kd1/tmp8bk9Je\", \"epoch\": 0, \"duration\": 1167, \"num_examples\": 1, \"num_bytes\": 667792}\u001b[0m\n",
      "\u001b[35m#metrics {\"Metrics\": {\"invocations.count\": {\"count\": 1, \"max\": 1, \"sum\": 1.0, \"min\": 1}}, \"EndTime\": 1603760668.990456, \"Dimensions\": {\"Host\": \"UNKNOWN\", \"Operation\": \"scoring\", \"Algorithm\": \"AlgorithmModel\"}, \"StartTime\": 1603760667.702023}\n",
      "\u001b[0m\n"
     ]
    }
   ],
   "source": [
    "%%time\n",
    "\n",
    "print('Waiting for transform job: ' + fm_transformer.latest_transform_job.job_name)\n",
    "fm_transformer.wait()"
   ]
  },
  {
   "cell_type": "markdown",
   "metadata": {},
   "source": [
    "- Inference results will be stored in a separate file for each test file chunk. Let's download the results from S3 and merge them"
   ]
  },
  {
   "cell_type": "code",
   "execution_count": 56,
   "metadata": {},
   "outputs": [],
   "source": [
    "def download_from_s3(bucket, key):\n",
    "    s3 = boto3.resource('s3')\n",
    "    obj = s3.Object( bucket, key)\n",
    "    content = obj.get()['Body'].read()\n",
    "    return content"
   ]
  },
  {
   "cell_type": "code",
   "execution_count": 57,
   "metadata": {},
   "outputs": [],
   "source": [
    "test_preds = []\n",
    "for i in range(N):\n",
    "    key = 'transform/test_' + str(i) + '.protobuf.out'\n",
    "    response = download_from_s3(bucket, key)\n",
    "    result = [json.loads(row)[\"score\"] for row in response.split(\"\\n\") if len(row) > 0]\n",
    "    test_preds.extend(result)"
   ]
  },
  {
   "cell_type": "code",
   "execution_count": 58,
   "metadata": {},
   "outputs": [],
   "source": [
    "test_preds = np.array(test_preds)"
   ]
  },
  {
   "cell_type": "code",
   "execution_count": 59,
   "metadata": {},
   "outputs": [
    {
     "data": {
      "text/plain": [
       "(233781,)"
      ]
     },
     "execution_count": 59,
     "metadata": {},
     "output_type": "execute_result"
    }
   ],
   "source": [
    "test_preds.shape"
   ]
  },
  {
   "cell_type": "markdown",
   "metadata": {},
   "source": [
    "---"
   ]
  },
  {
   "cell_type": "markdown",
   "metadata": {},
   "source": [
    "## Evaluate Model Performance\n",
    "\n",
    "Let's start by calculating a naive baseline to approximate how well our model is doing.  The simplest estimate would be to assume every user item rating is just the average rating over all ratings.\n",
    "\n",
    "*Note, we could do better by using each individual video's average, however, in this case it doesn't really matter as the same conclusions would hold.*"
   ]
  },
  {
   "cell_type": "code",
   "execution_count": 60,
   "metadata": {},
   "outputs": [
    {
     "name": "stdout",
     "output_type": "stream",
     "text": [
      "('Naive MSE:', 1.447061540076283)\n"
     ]
    }
   ],
   "source": [
    "print('Naive MSE:', np.mean((test_df['star_rating'] - np.mean(train_df['star_rating'])) ** 2))"
   ]
  },
  {
   "cell_type": "markdown",
   "metadata": {},
   "source": [
    "Now, we'll calculate predictions for our test dataset."
   ]
  },
  {
   "cell_type": "code",
   "execution_count": 61,
   "metadata": {},
   "outputs": [
    {
     "name": "stdout",
     "output_type": "stream",
     "text": [
      "('MSE:', 1.1478783285179637)\n"
     ]
    }
   ],
   "source": [
    "print('MSE:', np.mean((test_Y - test_preds) ** 2))"
   ]
  },
  {
   "cell_type": "markdown",
   "metadata": {},
   "source": [
    "We can see that our neural network and embedding model produces substantially better results (~1.44 vs 1.13 on the mean square error).\n",
    "\n",
    "For recommender systems, subjective accuracy also matters.  Let's get some recommendations for a random user to see if they make intuitive sense."
   ]
  },
  {
   "cell_type": "code",
   "execution_count": 62,
   "metadata": {},
   "outputs": [
    {
     "data": {
      "text/html": [
       "<div>\n",
       "<style scoped>\n",
       "    .dataframe tbody tr th:only-of-type {\n",
       "        vertical-align: middle;\n",
       "    }\n",
       "\n",
       "    .dataframe tbody tr th {\n",
       "        vertical-align: top;\n",
       "    }\n",
       "\n",
       "    .dataframe thead th {\n",
       "        text-align: right;\n",
       "    }\n",
       "</style>\n",
       "<table border=\"1\" class=\"dataframe\">\n",
       "  <thead>\n",
       "    <tr style=\"text-align: right;\">\n",
       "      <th></th>\n",
       "      <th>customer_id</th>\n",
       "      <th>product_id</th>\n",
       "      <th>star_rating</th>\n",
       "      <th>product_title</th>\n",
       "      <th>customer</th>\n",
       "      <th>product</th>\n",
       "    </tr>\n",
       "  </thead>\n",
       "  <tbody>\n",
       "    <tr>\n",
       "      <th>55325</th>\n",
       "      <td>50818682</td>\n",
       "      <td>B00DAHSY58</td>\n",
       "      <td>5</td>\n",
       "      <td>Under The Dome, Season 1</td>\n",
       "      <td>6</td>\n",
       "      <td>5</td>\n",
       "    </tr>\n",
       "    <tr>\n",
       "      <th>96037</th>\n",
       "      <td>50818682</td>\n",
       "      <td>B00LI0VA4Q</td>\n",
       "      <td>5</td>\n",
       "      <td>Extant, Season 1</td>\n",
       "      <td>6</td>\n",
       "      <td>6</td>\n",
       "    </tr>\n",
       "    <tr>\n",
       "      <th>39812</th>\n",
       "      <td>50818682</td>\n",
       "      <td>B00L86ZKAK</td>\n",
       "      <td>5</td>\n",
       "      <td>Under The Dome, Season 2</td>\n",
       "      <td>6</td>\n",
       "      <td>21</td>\n",
       "    </tr>\n",
       "    <tr>\n",
       "      <th>182878</th>\n",
       "      <td>50818682</td>\n",
       "      <td>B006IX92XO</td>\n",
       "      <td>5</td>\n",
       "      <td>Rome Season 1</td>\n",
       "      <td>6</td>\n",
       "      <td>27</td>\n",
       "    </tr>\n",
       "    <tr>\n",
       "      <th>83326</th>\n",
       "      <td>50818682</td>\n",
       "      <td>B00821OX98</td>\n",
       "      <td>5</td>\n",
       "      <td>Falling Skies Season 1</td>\n",
       "      <td>6</td>\n",
       "      <td>40</td>\n",
       "    </tr>\n",
       "    <tr>\n",
       "      <th>160154</th>\n",
       "      <td>50818682</td>\n",
       "      <td>B008BQG3RE</td>\n",
       "      <td>5</td>\n",
       "      <td>Falling Skies Season 2</td>\n",
       "      <td>6</td>\n",
       "      <td>80</td>\n",
       "    </tr>\n",
       "    <tr>\n",
       "      <th>227942</th>\n",
       "      <td>50818682</td>\n",
       "      <td>B00I8H6MGS</td>\n",
       "      <td>5</td>\n",
       "      <td>Dallas Buyers Club</td>\n",
       "      <td>6</td>\n",
       "      <td>98</td>\n",
       "    </tr>\n",
       "    <tr>\n",
       "      <th>569635</th>\n",
       "      <td>50818682</td>\n",
       "      <td>B00F35B8F8</td>\n",
       "      <td>5</td>\n",
       "      <td>Star Trek Into Darkness (Plus Bonus Features)</td>\n",
       "      <td>6</td>\n",
       "      <td>216</td>\n",
       "    </tr>\n",
       "    <tr>\n",
       "      <th>474425</th>\n",
       "      <td>50818682</td>\n",
       "      <td>B004HWYTP4</td>\n",
       "      <td>5</td>\n",
       "      <td>Red</td>\n",
       "      <td>6</td>\n",
       "      <td>226</td>\n",
       "    </tr>\n",
       "    <tr>\n",
       "      <th>161472</th>\n",
       "      <td>50818682</td>\n",
       "      <td>B0077RUCRK</td>\n",
       "      <td>5</td>\n",
       "      <td>Carnivale: Season 2</td>\n",
       "      <td>6</td>\n",
       "      <td>286</td>\n",
       "    </tr>\n",
       "    <tr>\n",
       "      <th>895607</th>\n",
       "      <td>50818682</td>\n",
       "      <td>B001BR5NLW</td>\n",
       "      <td>1</td>\n",
       "      <td>The Chronicles of Riddick - Unrated Director's...</td>\n",
       "      <td>6</td>\n",
       "      <td>6352</td>\n",
       "    </tr>\n",
       "    <tr>\n",
       "      <th>876748</th>\n",
       "      <td>50818682</td>\n",
       "      <td>B005BZQS1E</td>\n",
       "      <td>1</td>\n",
       "      <td>Your Highness</td>\n",
       "      <td>6</td>\n",
       "      <td>6977</td>\n",
       "    </tr>\n",
       "    <tr>\n",
       "      <th>1020854</th>\n",
       "      <td>50818682</td>\n",
       "      <td>B004GWL3FE</td>\n",
       "      <td>1</td>\n",
       "      <td>Dinner for Schmucks</td>\n",
       "      <td>6</td>\n",
       "      <td>7712</td>\n",
       "    </tr>\n",
       "    <tr>\n",
       "      <th>1032119</th>\n",
       "      <td>50818682</td>\n",
       "      <td>B00SY9R5FC</td>\n",
       "      <td>1</td>\n",
       "      <td>Suburban Gothic</td>\n",
       "      <td>6</td>\n",
       "      <td>10243</td>\n",
       "    </tr>\n",
       "    <tr>\n",
       "      <th>881306</th>\n",
       "      <td>50818682</td>\n",
       "      <td>B000I9U8MI</td>\n",
       "      <td>1</td>\n",
       "      <td>Never Been Kissed</td>\n",
       "      <td>6</td>\n",
       "      <td>10438</td>\n",
       "    </tr>\n",
       "    <tr>\n",
       "      <th>1060730</th>\n",
       "      <td>50818682</td>\n",
       "      <td>B00TY68T6I</td>\n",
       "      <td>1</td>\n",
       "      <td>The Returned Season 1</td>\n",
       "      <td>6</td>\n",
       "      <td>11403</td>\n",
       "    </tr>\n",
       "    <tr>\n",
       "      <th>938151</th>\n",
       "      <td>50818682</td>\n",
       "      <td>B00KQFOLBI</td>\n",
       "      <td>1</td>\n",
       "      <td>Mirage Men</td>\n",
       "      <td>6</td>\n",
       "      <td>13011</td>\n",
       "    </tr>\n",
       "    <tr>\n",
       "      <th>957084</th>\n",
       "      <td>50818682</td>\n",
       "      <td>B001JDQXCG</td>\n",
       "      <td>1</td>\n",
       "      <td>The New World (2005)</td>\n",
       "      <td>6</td>\n",
       "      <td>13576</td>\n",
       "    </tr>\n",
       "    <tr>\n",
       "      <th>900955</th>\n",
       "      <td>50818682</td>\n",
       "      <td>B00IAKN6V2</td>\n",
       "      <td>1</td>\n",
       "      <td>Welcome To The Jungle</td>\n",
       "      <td>6</td>\n",
       "      <td>17271</td>\n",
       "    </tr>\n",
       "    <tr>\n",
       "      <th>996252</th>\n",
       "      <td>50818682</td>\n",
       "      <td>B00A4OC0LO</td>\n",
       "      <td>1</td>\n",
       "      <td>The Love You Save</td>\n",
       "      <td>6</td>\n",
       "      <td>20128</td>\n",
       "    </tr>\n",
       "  </tbody>\n",
       "</table>\n",
       "</div>"
      ],
      "text/plain": [
       "         customer_id  product_id  star_rating  \\\n",
       "55325       50818682  B00DAHSY58            5   \n",
       "96037       50818682  B00LI0VA4Q            5   \n",
       "39812       50818682  B00L86ZKAK            5   \n",
       "182878      50818682  B006IX92XO            5   \n",
       "83326       50818682  B00821OX98            5   \n",
       "160154      50818682  B008BQG3RE            5   \n",
       "227942      50818682  B00I8H6MGS            5   \n",
       "569635      50818682  B00F35B8F8            5   \n",
       "474425      50818682  B004HWYTP4            5   \n",
       "161472      50818682  B0077RUCRK            5   \n",
       "895607      50818682  B001BR5NLW            1   \n",
       "876748      50818682  B005BZQS1E            1   \n",
       "1020854     50818682  B004GWL3FE            1   \n",
       "1032119     50818682  B00SY9R5FC            1   \n",
       "881306      50818682  B000I9U8MI            1   \n",
       "1060730     50818682  B00TY68T6I            1   \n",
       "938151      50818682  B00KQFOLBI            1   \n",
       "957084      50818682  B001JDQXCG            1   \n",
       "900955      50818682  B00IAKN6V2            1   \n",
       "996252      50818682  B00A4OC0LO            1   \n",
       "\n",
       "                                             product_title  customer  product  \n",
       "55325                             Under The Dome, Season 1         6        5  \n",
       "96037                                     Extant, Season 1         6        6  \n",
       "39812                             Under The Dome, Season 2         6       21  \n",
       "182878                                       Rome Season 1         6       27  \n",
       "83326                               Falling Skies Season 1         6       40  \n",
       "160154                              Falling Skies Season 2         6       80  \n",
       "227942                                  Dallas Buyers Club         6       98  \n",
       "569635       Star Trek Into Darkness (Plus Bonus Features)         6      216  \n",
       "474425                                                 Red         6      226  \n",
       "161472                                 Carnivale: Season 2         6      286  \n",
       "895607   The Chronicles of Riddick - Unrated Director's...         6     6352  \n",
       "876748                                       Your Highness         6     6977  \n",
       "1020854                                Dinner for Schmucks         6     7712  \n",
       "1032119                                    Suburban Gothic         6    10243  \n",
       "881306                                   Never Been Kissed         6    10438  \n",
       "1060730                              The Returned Season 1         6    11403  \n",
       "938151                                          Mirage Men         6    13011  \n",
       "957084                                The New World (2005)         6    13576  \n",
       "900955                               Welcome To The Jungle         6    17271  \n",
       "996252                                   The Love You Save         6    20128  "
      ]
     },
     "execution_count": 62,
     "metadata": {},
     "output_type": "execute_result"
    }
   ],
   "source": [
    "df_customer_6 = reduced_df[reduced_df['customer'] == 6].sort_values(['star_rating', 'product'], ascending=[False, True])\n",
    "pd.concat((df_customer_6.head(10), df_customer_6.tail(10)))"
   ]
  },
  {
   "cell_type": "markdown",
   "metadata": {},
   "source": [
    "As we can see, user #6 seems to like sprawling dramamtic television series and sci-fi, but they dislike silly comedies.\n",
    "\n",
    "Now we'll loop through and predict user #6's ratings for every common video in the catalog, to see which ones we'd recommend and which ones we wouldn't."
   ]
  },
  {
   "cell_type": "code",
   "execution_count": 63,
   "metadata": {},
   "outputs": [],
   "source": [
    "def create_payload(cust_id, nb_customer, nb_products, product_index):\n",
    "    # prepare payload for user #6\n",
    "    c = [cust_id] * nb_products\n",
    "    p = product_index['product'].values\n",
    "    x = pd.DataFrame(zip(c,p))\n",
    "    p_x = convert_sparse_matrix_X(x, x.shape[0], nb_customer, nb_products)\n",
    "    x_pb = convert_to_protobuf(p_x)\n",
    "    return x_pb"
   ]
  },
  {
   "cell_type": "code",
   "execution_count": 64,
   "metadata": {},
   "outputs": [],
   "source": [
    "x_pb = create_payload(6, nb_customer, nb_products, product_index)"
   ]
  },
  {
   "cell_type": "code",
   "execution_count": 65,
   "metadata": {},
   "outputs": [],
   "source": [
    "# make predictions using end-point created in Real-Time Inference\n",
    "response = fm_predictor.predict(x_pb)\n",
    "predictions = [round(r['score'], 2) for r in json.loads(response)['predictions']]"
   ]
  },
  {
   "cell_type": "code",
   "execution_count": 66,
   "metadata": {},
   "outputs": [],
   "source": [
    "predictions_df = pd.DataFrame({'product': product_index['product'],\n",
    "                            'prediction': predictions})"
   ]
  },
  {
   "cell_type": "code",
   "execution_count": 67,
   "metadata": {},
   "outputs": [
    {
     "data": {
      "text/html": [
       "<div>\n",
       "<style scoped>\n",
       "    .dataframe tbody tr th:only-of-type {\n",
       "        vertical-align: middle;\n",
       "    }\n",
       "\n",
       "    .dataframe tbody tr th {\n",
       "        vertical-align: top;\n",
       "    }\n",
       "\n",
       "    .dataframe thead th {\n",
       "        text-align: right;\n",
       "    }\n",
       "</style>\n",
       "<table border=\"1\" class=\"dataframe\">\n",
       "  <thead>\n",
       "    <tr style=\"text-align: right;\">\n",
       "      <th></th>\n",
       "      <th>customer</th>\n",
       "      <th>customer_id</th>\n",
       "      <th>product</th>\n",
       "      <th>product_id</th>\n",
       "      <th>product_title</th>\n",
       "      <th>star_rating</th>\n",
       "      <th>prediction</th>\n",
       "    </tr>\n",
       "  </thead>\n",
       "  <tbody>\n",
       "    <tr>\n",
       "      <th>4</th>\n",
       "      <td>6</td>\n",
       "      <td>50818682</td>\n",
       "      <td>40</td>\n",
       "      <td>B00821OX98</td>\n",
       "      <td>Falling Skies Season 1</td>\n",
       "      <td>5</td>\n",
       "      <td>5.49</td>\n",
       "    </tr>\n",
       "    <tr>\n",
       "      <th>7</th>\n",
       "      <td>6</td>\n",
       "      <td>50818682</td>\n",
       "      <td>216</td>\n",
       "      <td>B00F35B8F8</td>\n",
       "      <td>Star Trek Into Darkness (Plus Bonus Features)</td>\n",
       "      <td>5</td>\n",
       "      <td>5.28</td>\n",
       "    </tr>\n",
       "    <tr>\n",
       "      <th>43</th>\n",
       "      <td>6</td>\n",
       "      <td>50818682</td>\n",
       "      <td>1710</td>\n",
       "      <td>B009CP81EQ</td>\n",
       "      <td>Bones Season 8</td>\n",
       "      <td>5</td>\n",
       "      <td>5.25</td>\n",
       "    </tr>\n",
       "    <tr>\n",
       "      <th>26</th>\n",
       "      <td>6</td>\n",
       "      <td>50818682</td>\n",
       "      <td>911</td>\n",
       "      <td>B002BI6SMI</td>\n",
       "      <td>Taken</td>\n",
       "      <td>5</td>\n",
       "      <td>5.22</td>\n",
       "    </tr>\n",
       "    <tr>\n",
       "      <th>0</th>\n",
       "      <td>6</td>\n",
       "      <td>50818682</td>\n",
       "      <td>5</td>\n",
       "      <td>B00DAHSY58</td>\n",
       "      <td>Under The Dome, Season 1</td>\n",
       "      <td>5</td>\n",
       "      <td>5.13</td>\n",
       "    </tr>\n",
       "    <tr>\n",
       "      <th>8</th>\n",
       "      <td>6</td>\n",
       "      <td>50818682</td>\n",
       "      <td>226</td>\n",
       "      <td>B004HWYTP4</td>\n",
       "      <td>Red</td>\n",
       "      <td>5</td>\n",
       "      <td>5.12</td>\n",
       "    </tr>\n",
       "    <tr>\n",
       "      <th>23</th>\n",
       "      <td>6</td>\n",
       "      <td>50818682</td>\n",
       "      <td>716</td>\n",
       "      <td>B00F406S2U</td>\n",
       "      <td>Arrow: The Complete Second Season</td>\n",
       "      <td>5</td>\n",
       "      <td>5.11</td>\n",
       "    </tr>\n",
       "    <tr>\n",
       "      <th>38</th>\n",
       "      <td>6</td>\n",
       "      <td>50818682</td>\n",
       "      <td>1499</td>\n",
       "      <td>B00F49F96C</td>\n",
       "      <td>Almost Human: The Complete First Season</td>\n",
       "      <td>5</td>\n",
       "      <td>5.11</td>\n",
       "    </tr>\n",
       "    <tr>\n",
       "      <th>27</th>\n",
       "      <td>6</td>\n",
       "      <td>50818682</td>\n",
       "      <td>978</td>\n",
       "      <td>B00NEFWXNK</td>\n",
       "      <td>Arrow: Season 3</td>\n",
       "      <td>5</td>\n",
       "      <td>5.09</td>\n",
       "    </tr>\n",
       "    <tr>\n",
       "      <th>52</th>\n",
       "      <td>6</td>\n",
       "      <td>50818682</td>\n",
       "      <td>2285</td>\n",
       "      <td>B001LLGA7E</td>\n",
       "      <td>Heroes Volume 1</td>\n",
       "      <td>5</td>\n",
       "      <td>5.07</td>\n",
       "    </tr>\n",
       "    <tr>\n",
       "      <th>48</th>\n",
       "      <td>6</td>\n",
       "      <td>50818682</td>\n",
       "      <td>2170</td>\n",
       "      <td>B00F4AST04</td>\n",
       "      <td>The Heat</td>\n",
       "      <td>5</td>\n",
       "      <td>5.04</td>\n",
       "    </tr>\n",
       "    <tr>\n",
       "      <th>83</th>\n",
       "      <td>6</td>\n",
       "      <td>50818682</td>\n",
       "      <td>3911</td>\n",
       "      <td>B001O31VVE</td>\n",
       "      <td>The Wedding Date</td>\n",
       "      <td>5</td>\n",
       "      <td>5.03</td>\n",
       "    </tr>\n",
       "    <tr>\n",
       "      <th>5</th>\n",
       "      <td>6</td>\n",
       "      <td>50818682</td>\n",
       "      <td>80</td>\n",
       "      <td>B008BQG3RE</td>\n",
       "      <td>Falling Skies Season 2</td>\n",
       "      <td>5</td>\n",
       "      <td>5.02</td>\n",
       "    </tr>\n",
       "    <tr>\n",
       "      <th>59</th>\n",
       "      <td>6</td>\n",
       "      <td>50818682</td>\n",
       "      <td>2656</td>\n",
       "      <td>B00B0TNZ02</td>\n",
       "      <td>The Twilight Saga: Breaking Dawn Part 2</td>\n",
       "      <td>5</td>\n",
       "      <td>4.98</td>\n",
       "    </tr>\n",
       "    <tr>\n",
       "      <th>129</th>\n",
       "      <td>6</td>\n",
       "      <td>50818682</td>\n",
       "      <td>6946</td>\n",
       "      <td>B0094M2W24</td>\n",
       "      <td>Broken Trail</td>\n",
       "      <td>5</td>\n",
       "      <td>4.98</td>\n",
       "    </tr>\n",
       "    <tr>\n",
       "      <th>15</th>\n",
       "      <td>6</td>\n",
       "      <td>50818682</td>\n",
       "      <td>432</td>\n",
       "      <td>B00KKGS1KK</td>\n",
       "      <td>Falling Skies Season 4</td>\n",
       "      <td>5</td>\n",
       "      <td>4.97</td>\n",
       "    </tr>\n",
       "    <tr>\n",
       "      <th>45</th>\n",
       "      <td>6</td>\n",
       "      <td>50818682</td>\n",
       "      <td>1956</td>\n",
       "      <td>B000NGTJTY</td>\n",
       "      <td>The Departed</td>\n",
       "      <td>5</td>\n",
       "      <td>4.96</td>\n",
       "    </tr>\n",
       "    <tr>\n",
       "      <th>33</th>\n",
       "      <td>6</td>\n",
       "      <td>50818682</td>\n",
       "      <td>1304</td>\n",
       "      <td>B004IYDSPS</td>\n",
       "      <td>Life As We Know It (2010)</td>\n",
       "      <td>5</td>\n",
       "      <td>4.94</td>\n",
       "    </tr>\n",
       "    <tr>\n",
       "      <th>155</th>\n",
       "      <td>6</td>\n",
       "      <td>50818682</td>\n",
       "      <td>8924</td>\n",
       "      <td>B00KCGSRYI</td>\n",
       "      <td>Enemy Of The State</td>\n",
       "      <td>5</td>\n",
       "      <td>4.94</td>\n",
       "    </tr>\n",
       "    <tr>\n",
       "      <th>60</th>\n",
       "      <td>6</td>\n",
       "      <td>50818682</td>\n",
       "      <td>2678</td>\n",
       "      <td>B003XQM2YU</td>\n",
       "      <td>Robin Hood (Unrated)</td>\n",
       "      <td>5</td>\n",
       "      <td>4.92</td>\n",
       "    </tr>\n",
       "    <tr>\n",
       "      <th>94</th>\n",
       "      <td>6</td>\n",
       "      <td>50818682</td>\n",
       "      <td>4670</td>\n",
       "      <td>B0026O475M</td>\n",
       "      <td>Cast Away</td>\n",
       "      <td>5</td>\n",
       "      <td>4.92</td>\n",
       "    </tr>\n",
       "    <tr>\n",
       "      <th>29</th>\n",
       "      <td>6</td>\n",
       "      <td>50818682</td>\n",
       "      <td>1058</td>\n",
       "      <td>B009329Y30</td>\n",
       "      <td>The Lucky One</td>\n",
       "      <td>5</td>\n",
       "      <td>4.91</td>\n",
       "    </tr>\n",
       "    <tr>\n",
       "      <th>6</th>\n",
       "      <td>6</td>\n",
       "      <td>50818682</td>\n",
       "      <td>98</td>\n",
       "      <td>B00I8H6MGS</td>\n",
       "      <td>Dallas Buyers Club</td>\n",
       "      <td>5</td>\n",
       "      <td>4.90</td>\n",
       "    </tr>\n",
       "    <tr>\n",
       "      <th>76</th>\n",
       "      <td>6</td>\n",
       "      <td>50818682</td>\n",
       "      <td>3528</td>\n",
       "      <td>B009NXVGX0</td>\n",
       "      <td>Eye for an Eye</td>\n",
       "      <td>5</td>\n",
       "      <td>4.89</td>\n",
       "    </tr>\n",
       "    <tr>\n",
       "      <th>35</th>\n",
       "      <td>6</td>\n",
       "      <td>50818682</td>\n",
       "      <td>1352</td>\n",
       "      <td>B001M432XA</td>\n",
       "      <td>It's A Wonderful Life (Black &amp; White Version)</td>\n",
       "      <td>5</td>\n",
       "      <td>4.87</td>\n",
       "    </tr>\n",
       "    <tr>\n",
       "      <th>62</th>\n",
       "      <td>6</td>\n",
       "      <td>50818682</td>\n",
       "      <td>2766</td>\n",
       "      <td>B001GY1JDQ</td>\n",
       "      <td>Man On Fire</td>\n",
       "      <td>5</td>\n",
       "      <td>4.87</td>\n",
       "    </tr>\n",
       "    <tr>\n",
       "      <th>116</th>\n",
       "      <td>6</td>\n",
       "      <td>50818682</td>\n",
       "      <td>6022</td>\n",
       "      <td>B0063B2BNE</td>\n",
       "      <td>Bones Season 7</td>\n",
       "      <td>5</td>\n",
       "      <td>4.87</td>\n",
       "    </tr>\n",
       "    <tr>\n",
       "      <th>144</th>\n",
       "      <td>6</td>\n",
       "      <td>50818682</td>\n",
       "      <td>8371</td>\n",
       "      <td>B000JZ3TYA</td>\n",
       "      <td>The Game</td>\n",
       "      <td>5</td>\n",
       "      <td>4.87</td>\n",
       "    </tr>\n",
       "    <tr>\n",
       "      <th>165</th>\n",
       "      <td>6</td>\n",
       "      <td>50818682</td>\n",
       "      <td>11868</td>\n",
       "      <td>B000W5KBI4</td>\n",
       "      <td>Numb3rs Season 4</td>\n",
       "      <td>5</td>\n",
       "      <td>4.87</td>\n",
       "    </tr>\n",
       "    <tr>\n",
       "      <th>185</th>\n",
       "      <td>6</td>\n",
       "      <td>50818682</td>\n",
       "      <td>15367</td>\n",
       "      <td>B000IK882Y</td>\n",
       "      <td>Bones Season 2</td>\n",
       "      <td>5</td>\n",
       "      <td>4.86</td>\n",
       "    </tr>\n",
       "    <tr>\n",
       "      <th>...</th>\n",
       "      <td>...</td>\n",
       "      <td>...</td>\n",
       "      <td>...</td>\n",
       "      <td>...</td>\n",
       "      <td>...</td>\n",
       "      <td>...</td>\n",
       "      <td>...</td>\n",
       "    </tr>\n",
       "    <tr>\n",
       "      <th>319</th>\n",
       "      <td>6</td>\n",
       "      <td>50818682</td>\n",
       "      <td>13011</td>\n",
       "      <td>B00KQFOLBI</td>\n",
       "      <td>Mirage Men</td>\n",
       "      <td>1</td>\n",
       "      <td>3.44</td>\n",
       "    </tr>\n",
       "    <tr>\n",
       "      <th>275</th>\n",
       "      <td>6</td>\n",
       "      <td>50818682</td>\n",
       "      <td>3775</td>\n",
       "      <td>B00F49AV2E</td>\n",
       "      <td>The Tomorrow People: The Complete First Season</td>\n",
       "      <td>3</td>\n",
       "      <td>3.40</td>\n",
       "    </tr>\n",
       "    <tr>\n",
       "      <th>273</th>\n",
       "      <td>6</td>\n",
       "      <td>50818682</td>\n",
       "      <td>2635</td>\n",
       "      <td>B00D5P20UA</td>\n",
       "      <td>Sinbad Season 1</td>\n",
       "      <td>3</td>\n",
       "      <td>3.38</td>\n",
       "    </tr>\n",
       "    <tr>\n",
       "      <th>284</th>\n",
       "      <td>6</td>\n",
       "      <td>50818682</td>\n",
       "      <td>10213</td>\n",
       "      <td>B009ENNENE</td>\n",
       "      <td>You May Not Kiss The Bride</td>\n",
       "      <td>3</td>\n",
       "      <td>3.37</td>\n",
       "    </tr>\n",
       "    <tr>\n",
       "      <th>318</th>\n",
       "      <td>6</td>\n",
       "      <td>50818682</td>\n",
       "      <td>11403</td>\n",
       "      <td>B00TY68T6I</td>\n",
       "      <td>The Returned Season 1</td>\n",
       "      <td>1</td>\n",
       "      <td>3.37</td>\n",
       "    </tr>\n",
       "    <tr>\n",
       "      <th>283</th>\n",
       "      <td>6</td>\n",
       "      <td>50818682</td>\n",
       "      <td>6951</td>\n",
       "      <td>B008EQIA7W</td>\n",
       "      <td>Wrath of the Titans</td>\n",
       "      <td>3</td>\n",
       "      <td>3.36</td>\n",
       "    </tr>\n",
       "    <tr>\n",
       "      <th>222</th>\n",
       "      <td>6</td>\n",
       "      <td>50818682</td>\n",
       "      <td>647</td>\n",
       "      <td>B00JB3NUHM</td>\n",
       "      <td>Noah</td>\n",
       "      <td>4</td>\n",
       "      <td>3.35</td>\n",
       "    </tr>\n",
       "    <tr>\n",
       "      <th>304</th>\n",
       "      <td>6</td>\n",
       "      <td>50818682</td>\n",
       "      <td>25473</td>\n",
       "      <td>B001EYVT74</td>\n",
       "      <td>Code 46</td>\n",
       "      <td>2</td>\n",
       "      <td>3.29</td>\n",
       "    </tr>\n",
       "    <tr>\n",
       "      <th>296</th>\n",
       "      <td>6</td>\n",
       "      <td>50818682</td>\n",
       "      <td>4512</td>\n",
       "      <td>B00HQCSFTI</td>\n",
       "      <td>Murph: The Protector</td>\n",
       "      <td>2</td>\n",
       "      <td>3.28</td>\n",
       "    </tr>\n",
       "    <tr>\n",
       "      <th>312</th>\n",
       "      <td>6</td>\n",
       "      <td>50818682</td>\n",
       "      <td>5208</td>\n",
       "      <td>B004EQJHLE</td>\n",
       "      <td>Bread &amp; Tulips (English Subtitled)</td>\n",
       "      <td>1</td>\n",
       "      <td>3.28</td>\n",
       "    </tr>\n",
       "    <tr>\n",
       "      <th>281</th>\n",
       "      <td>6</td>\n",
       "      <td>50818682</td>\n",
       "      <td>5643</td>\n",
       "      <td>B00KD9K6KC</td>\n",
       "      <td>A Night in Old Mexico</td>\n",
       "      <td>3</td>\n",
       "      <td>3.28</td>\n",
       "    </tr>\n",
       "    <tr>\n",
       "      <th>303</th>\n",
       "      <td>6</td>\n",
       "      <td>50818682</td>\n",
       "      <td>18885</td>\n",
       "      <td>B00J2PQPBC</td>\n",
       "      <td>Sparks</td>\n",
       "      <td>2</td>\n",
       "      <td>3.28</td>\n",
       "    </tr>\n",
       "    <tr>\n",
       "      <th>25</th>\n",
       "      <td>6</td>\n",
       "      <td>50818682</td>\n",
       "      <td>907</td>\n",
       "      <td>B00OCEDVW4</td>\n",
       "      <td>Automata</td>\n",
       "      <td>5</td>\n",
       "      <td>3.25</td>\n",
       "    </tr>\n",
       "    <tr>\n",
       "      <th>277</th>\n",
       "      <td>6</td>\n",
       "      <td>50818682</td>\n",
       "      <td>4341</td>\n",
       "      <td>B00BT0ZDF2</td>\n",
       "      <td>Cloud Atlas +Bonus Features</td>\n",
       "      <td>3</td>\n",
       "      <td>3.25</td>\n",
       "    </tr>\n",
       "    <tr>\n",
       "      <th>320</th>\n",
       "      <td>6</td>\n",
       "      <td>50818682</td>\n",
       "      <td>13576</td>\n",
       "      <td>B001JDQXCG</td>\n",
       "      <td>The New World (2005)</td>\n",
       "      <td>1</td>\n",
       "      <td>3.25</td>\n",
       "    </tr>\n",
       "    <tr>\n",
       "      <th>321</th>\n",
       "      <td>6</td>\n",
       "      <td>50818682</td>\n",
       "      <td>17271</td>\n",
       "      <td>B00IAKN6V2</td>\n",
       "      <td>Welcome To The Jungle</td>\n",
       "      <td>1</td>\n",
       "      <td>3.24</td>\n",
       "    </tr>\n",
       "    <tr>\n",
       "      <th>317</th>\n",
       "      <td>6</td>\n",
       "      <td>50818682</td>\n",
       "      <td>10438</td>\n",
       "      <td>B000I9U8MI</td>\n",
       "      <td>Never Been Kissed</td>\n",
       "      <td>1</td>\n",
       "      <td>3.23</td>\n",
       "    </tr>\n",
       "    <tr>\n",
       "      <th>282</th>\n",
       "      <td>6</td>\n",
       "      <td>50818682</td>\n",
       "      <td>5891</td>\n",
       "      <td>B005MSD75U</td>\n",
       "      <td>Zookeeper</td>\n",
       "      <td>3</td>\n",
       "      <td>3.22</td>\n",
       "    </tr>\n",
       "    <tr>\n",
       "      <th>300</th>\n",
       "      <td>6</td>\n",
       "      <td>50818682</td>\n",
       "      <td>7811</td>\n",
       "      <td>B001HQKB1Y</td>\n",
       "      <td>Baby Mama</td>\n",
       "      <td>2</td>\n",
       "      <td>3.21</td>\n",
       "    </tr>\n",
       "    <tr>\n",
       "      <th>274</th>\n",
       "      <td>6</td>\n",
       "      <td>50818682</td>\n",
       "      <td>3041</td>\n",
       "      <td>B0088WG89O</td>\n",
       "      <td>Journey 2: The Mysterious Island</td>\n",
       "      <td>3</td>\n",
       "      <td>3.16</td>\n",
       "    </tr>\n",
       "    <tr>\n",
       "      <th>272</th>\n",
       "      <td>6</td>\n",
       "      <td>50818682</td>\n",
       "      <td>2580</td>\n",
       "      <td>B00O4U8WNE</td>\n",
       "      <td>Horns</td>\n",
       "      <td>3</td>\n",
       "      <td>3.13</td>\n",
       "    </tr>\n",
       "    <tr>\n",
       "      <th>298</th>\n",
       "      <td>6</td>\n",
       "      <td>50818682</td>\n",
       "      <td>5530</td>\n",
       "      <td>B001BXQ95U</td>\n",
       "      <td>The Flash Season 1 (Classic Series)</td>\n",
       "      <td>2</td>\n",
       "      <td>3.08</td>\n",
       "    </tr>\n",
       "    <tr>\n",
       "      <th>315</th>\n",
       "      <td>6</td>\n",
       "      <td>50818682</td>\n",
       "      <td>7712</td>\n",
       "      <td>B004GWL3FE</td>\n",
       "      <td>Dinner for Schmucks</td>\n",
       "      <td>1</td>\n",
       "      <td>3.06</td>\n",
       "    </tr>\n",
       "    <tr>\n",
       "      <th>267</th>\n",
       "      <td>6</td>\n",
       "      <td>50818682</td>\n",
       "      <td>738</td>\n",
       "      <td>B00HUNO3JE</td>\n",
       "      <td>Enough Said</td>\n",
       "      <td>3</td>\n",
       "      <td>3.05</td>\n",
       "    </tr>\n",
       "    <tr>\n",
       "      <th>301</th>\n",
       "      <td>6</td>\n",
       "      <td>50818682</td>\n",
       "      <td>8004</td>\n",
       "      <td>B008FWHUQM</td>\n",
       "      <td>360</td>\n",
       "      <td>2</td>\n",
       "      <td>2.94</td>\n",
       "    </tr>\n",
       "    <tr>\n",
       "      <th>310</th>\n",
       "      <td>6</td>\n",
       "      <td>50818682</td>\n",
       "      <td>851</td>\n",
       "      <td>B00G32Q4CC</td>\n",
       "      <td>The Internship</td>\n",
       "      <td>1</td>\n",
       "      <td>2.79</td>\n",
       "    </tr>\n",
       "    <tr>\n",
       "      <th>266</th>\n",
       "      <td>6</td>\n",
       "      <td>50818682</td>\n",
       "      <td>516</td>\n",
       "      <td>B00NTSYP3S</td>\n",
       "      <td>Neighbors</td>\n",
       "      <td>3</td>\n",
       "      <td>2.65</td>\n",
       "    </tr>\n",
       "    <tr>\n",
       "      <th>308</th>\n",
       "      <td>6</td>\n",
       "      <td>50818682</td>\n",
       "      <td>465</td>\n",
       "      <td>B009329ZF2</td>\n",
       "      <td>Battleship</td>\n",
       "      <td>1</td>\n",
       "      <td>2.58</td>\n",
       "    </tr>\n",
       "    <tr>\n",
       "      <th>265</th>\n",
       "      <td>6</td>\n",
       "      <td>50818682</td>\n",
       "      <td>30</td>\n",
       "      <td>B006MYGL8S</td>\n",
       "      <td>Deadwood Season 1</td>\n",
       "      <td>3</td>\n",
       "      <td>2.38</td>\n",
       "    </tr>\n",
       "    <tr>\n",
       "      <th>293</th>\n",
       "      <td>6</td>\n",
       "      <td>50818682</td>\n",
       "      <td>575</td>\n",
       "      <td>B00HYTNBU6</td>\n",
       "      <td>All Is Lost</td>\n",
       "      <td>2</td>\n",
       "      <td>2.27</td>\n",
       "    </tr>\n",
       "  </tbody>\n",
       "</table>\n",
       "<p>323 rows × 7 columns</p>\n",
       "</div>"
      ],
      "text/plain": [
       "     customer  customer_id  product  product_id  \\\n",
       "4           6     50818682       40  B00821OX98   \n",
       "7           6     50818682      216  B00F35B8F8   \n",
       "43          6     50818682     1710  B009CP81EQ   \n",
       "26          6     50818682      911  B002BI6SMI   \n",
       "0           6     50818682        5  B00DAHSY58   \n",
       "8           6     50818682      226  B004HWYTP4   \n",
       "23          6     50818682      716  B00F406S2U   \n",
       "38          6     50818682     1499  B00F49F96C   \n",
       "27          6     50818682      978  B00NEFWXNK   \n",
       "52          6     50818682     2285  B001LLGA7E   \n",
       "48          6     50818682     2170  B00F4AST04   \n",
       "83          6     50818682     3911  B001O31VVE   \n",
       "5           6     50818682       80  B008BQG3RE   \n",
       "59          6     50818682     2656  B00B0TNZ02   \n",
       "129         6     50818682     6946  B0094M2W24   \n",
       "15          6     50818682      432  B00KKGS1KK   \n",
       "45          6     50818682     1956  B000NGTJTY   \n",
       "33          6     50818682     1304  B004IYDSPS   \n",
       "155         6     50818682     8924  B00KCGSRYI   \n",
       "60          6     50818682     2678  B003XQM2YU   \n",
       "94          6     50818682     4670  B0026O475M   \n",
       "29          6     50818682     1058  B009329Y30   \n",
       "6           6     50818682       98  B00I8H6MGS   \n",
       "76          6     50818682     3528  B009NXVGX0   \n",
       "35          6     50818682     1352  B001M432XA   \n",
       "62          6     50818682     2766  B001GY1JDQ   \n",
       "116         6     50818682     6022  B0063B2BNE   \n",
       "144         6     50818682     8371  B000JZ3TYA   \n",
       "165         6     50818682    11868  B000W5KBI4   \n",
       "185         6     50818682    15367  B000IK882Y   \n",
       "..        ...          ...      ...         ...   \n",
       "319         6     50818682    13011  B00KQFOLBI   \n",
       "275         6     50818682     3775  B00F49AV2E   \n",
       "273         6     50818682     2635  B00D5P20UA   \n",
       "284         6     50818682    10213  B009ENNENE   \n",
       "318         6     50818682    11403  B00TY68T6I   \n",
       "283         6     50818682     6951  B008EQIA7W   \n",
       "222         6     50818682      647  B00JB3NUHM   \n",
       "304         6     50818682    25473  B001EYVT74   \n",
       "296         6     50818682     4512  B00HQCSFTI   \n",
       "312         6     50818682     5208  B004EQJHLE   \n",
       "281         6     50818682     5643  B00KD9K6KC   \n",
       "303         6     50818682    18885  B00J2PQPBC   \n",
       "25          6     50818682      907  B00OCEDVW4   \n",
       "277         6     50818682     4341  B00BT0ZDF2   \n",
       "320         6     50818682    13576  B001JDQXCG   \n",
       "321         6     50818682    17271  B00IAKN6V2   \n",
       "317         6     50818682    10438  B000I9U8MI   \n",
       "282         6     50818682     5891  B005MSD75U   \n",
       "300         6     50818682     7811  B001HQKB1Y   \n",
       "274         6     50818682     3041  B0088WG89O   \n",
       "272         6     50818682     2580  B00O4U8WNE   \n",
       "298         6     50818682     5530  B001BXQ95U   \n",
       "315         6     50818682     7712  B004GWL3FE   \n",
       "267         6     50818682      738  B00HUNO3JE   \n",
       "301         6     50818682     8004  B008FWHUQM   \n",
       "310         6     50818682      851  B00G32Q4CC   \n",
       "266         6     50818682      516  B00NTSYP3S   \n",
       "308         6     50818682      465  B009329ZF2   \n",
       "265         6     50818682       30  B006MYGL8S   \n",
       "293         6     50818682      575  B00HYTNBU6   \n",
       "\n",
       "                                      product_title  star_rating  prediction  \n",
       "4                            Falling Skies Season 1            5        5.49  \n",
       "7     Star Trek Into Darkness (Plus Bonus Features)            5        5.28  \n",
       "43                                   Bones Season 8            5        5.25  \n",
       "26                                            Taken            5        5.22  \n",
       "0                          Under The Dome, Season 1            5        5.13  \n",
       "8                                               Red            5        5.12  \n",
       "23                Arrow: The Complete Second Season            5        5.11  \n",
       "38          Almost Human: The Complete First Season            5        5.11  \n",
       "27                                  Arrow: Season 3            5        5.09  \n",
       "52                                  Heroes Volume 1            5        5.07  \n",
       "48                                         The Heat            5        5.04  \n",
       "83                                 The Wedding Date            5        5.03  \n",
       "5                            Falling Skies Season 2            5        5.02  \n",
       "59          The Twilight Saga: Breaking Dawn Part 2            5        4.98  \n",
       "129                                    Broken Trail            5        4.98  \n",
       "15                           Falling Skies Season 4            5        4.97  \n",
       "45                                     The Departed            5        4.96  \n",
       "33                        Life As We Know It (2010)            5        4.94  \n",
       "155                              Enemy Of The State            5        4.94  \n",
       "60                             Robin Hood (Unrated)            5        4.92  \n",
       "94                                        Cast Away            5        4.92  \n",
       "29                                    The Lucky One            5        4.91  \n",
       "6                                Dallas Buyers Club            5        4.90  \n",
       "76                                   Eye for an Eye            5        4.89  \n",
       "35    It's A Wonderful Life (Black & White Version)            5        4.87  \n",
       "62                                      Man On Fire            5        4.87  \n",
       "116                                  Bones Season 7            5        4.87  \n",
       "144                                        The Game            5        4.87  \n",
       "165                                Numb3rs Season 4            5        4.87  \n",
       "185                                  Bones Season 2            5        4.86  \n",
       "..                                              ...          ...         ...  \n",
       "319                                      Mirage Men            1        3.44  \n",
       "275  The Tomorrow People: The Complete First Season            3        3.40  \n",
       "273                                 Sinbad Season 1            3        3.38  \n",
       "284                      You May Not Kiss The Bride            3        3.37  \n",
       "318                           The Returned Season 1            1        3.37  \n",
       "283                             Wrath of the Titans            3        3.36  \n",
       "222                                            Noah            4        3.35  \n",
       "304                                         Code 46            2        3.29  \n",
       "296                            Murph: The Protector            2        3.28  \n",
       "312              Bread & Tulips (English Subtitled)            1        3.28  \n",
       "281                           A Night in Old Mexico            3        3.28  \n",
       "303                                          Sparks            2        3.28  \n",
       "25                                         Automata            5        3.25  \n",
       "277                     Cloud Atlas +Bonus Features            3        3.25  \n",
       "320                            The New World (2005)            1        3.25  \n",
       "321                           Welcome To The Jungle            1        3.24  \n",
       "317                               Never Been Kissed            1        3.23  \n",
       "282                                       Zookeeper            3        3.22  \n",
       "300                                       Baby Mama            2        3.21  \n",
       "274                Journey 2: The Mysterious Island            3        3.16  \n",
       "272                                           Horns            3        3.13  \n",
       "298             The Flash Season 1 (Classic Series)            2        3.08  \n",
       "315                             Dinner for Schmucks            1        3.06  \n",
       "267                                     Enough Said            3        3.05  \n",
       "301                                             360            2        2.94  \n",
       "310                                  The Internship            1        2.79  \n",
       "266                                       Neighbors            3        2.65  \n",
       "308                                      Battleship            1        2.58  \n",
       "265                               Deadwood Season 1            3        2.38  \n",
       "293                                     All Is Lost            2        2.27  \n",
       "\n",
       "[323 rows x 7 columns]"
      ]
     },
     "execution_count": 67,
     "metadata": {},
     "output_type": "execute_result"
    }
   ],
   "source": [
    "df_results_cust_6 = df_customer_6.merge(predictions_df, on=['product'])[['customer', 'customer_id', 'product', 'product_id', 'product_title', 'star_rating', 'prediction']]\n",
    "df_results_cust_6.sort_values(['prediction', 'product'], ascending=[False, True])"
   ]
  },
  {
   "cell_type": "markdown",
   "metadata": {},
   "source": [
    "Indeed, our predicted highly rated shows have some well-reviewed TV dramas and some sci-fi.  Meanwhile, our bottom rated shows include goofball comedies.\n",
    "\n",
    "*Note, because of random initialization in the weights, results on subsequent runs may differ slightly.*\n",
    "\n",
    "Let's confirm that we no longer have almost perfect correlation in recommendations with user #7."
   ]
  },
  {
   "cell_type": "code",
   "execution_count": 68,
   "metadata": {},
   "outputs": [],
   "source": [
    "x_pb = create_payload(7, nb_customer, nb_products, product_index)\n",
    "response = fm_predictor.predict(x_pb)\n",
    "predictions_user7 = [round(r['score'], 2) for r in json.loads(response)['predictions']]"
   ]
  },
  {
   "cell_type": "code",
   "execution_count": 69,
   "metadata": {},
   "outputs": [
    {
     "ename": "AttributeError",
     "evalue": "'AxesSubplot' object has no attribute 'show'",
     "output_type": "error",
     "traceback": [
      "\u001b[0;31m\u001b[0m",
      "\u001b[0;31mAttributeError\u001b[0mTraceback (most recent call last)",
      "\u001b[0;32m<ipython-input-69-582ba3dbfe69>\u001b[0m in \u001b[0;36m<module>\u001b[0;34m()\u001b[0m\n\u001b[1;32m      1\u001b[0m \u001b[0mplt\u001b[0m\u001b[0;34m.\u001b[0m\u001b[0mscatter\u001b[0m\u001b[0;34m(\u001b[0m\u001b[0mpredictions_df\u001b[0m\u001b[0;34m[\u001b[0m\u001b[0;34m'prediction'\u001b[0m\u001b[0;34m]\u001b[0m\u001b[0;34m,\u001b[0m \u001b[0mnp\u001b[0m\u001b[0;34m.\u001b[0m\u001b[0marray\u001b[0m\u001b[0;34m(\u001b[0m\u001b[0mpredictions_user7\u001b[0m\u001b[0;34m)\u001b[0m\u001b[0;34m)\u001b[0m\u001b[0;34m\u001b[0m\u001b[0m\n\u001b[0;32m----> 2\u001b[0;31m \u001b[0mplt\u001b[0m\u001b[0;34m.\u001b[0m\u001b[0mshow\u001b[0m\u001b[0;34m(\u001b[0m\u001b[0;34m)\u001b[0m\u001b[0;34m\u001b[0m\u001b[0m\n\u001b[0m",
      "\u001b[0;31mAttributeError\u001b[0m: 'AxesSubplot' object has no attribute 'show'"
     ]
    }
   ],
   "source": [
    "plt.scatter(predictions_df['prediction'], np.array(predictions_user7))\n",
    "plt.show()"
   ]
  },
  {
   "cell_type": "markdown",
   "metadata": {},
   "source": [
    "---"
   ]
  },
  {
   "cell_type": "markdown",
   "metadata": {},
   "source": [
    "## Model Tuning\n",
    "\n",
    "So far, we have developed a deep learning model to predict customer ratings but the model could be improved further by various techniques. In this section, let's see if tuning the hyper-parameters of Factorization Machine is going to make the model any better."
   ]
  },
  {
   "cell_type": "code",
   "execution_count": null,
   "metadata": {},
   "outputs": [],
   "source": [
    "output_location = 's3://{}/train/'.format(bucket)\n",
    "s3_train_path = 's3://{}/prepare/train/train.protobuf'.format(bucket)\n",
    "s3_val_path = 's3://{}/prepare/validate/validate.protobuf'.format(bucket)"
   ]
  },
  {
   "cell_type": "markdown",
   "metadata": {},
   "source": [
    "- Let's create the estimator with Factorization Machines container similar to how we defined in training the model. Also, set the initial hyper-parameters that we know worked before."
   ]
  },
  {
   "cell_type": "code",
   "execution_count": null,
   "metadata": {},
   "outputs": [],
   "source": [
    "fm_estimator = sagemaker.estimator.Estimator(container,\n",
    "                                   role, \n",
    "                                   train_instance_count=1, \n",
    "                                   train_instance_type='ml.c5.4xlarge',\n",
    "                                   output_path=output_location,\n",
    "                                   sagemaker_session=sess)"
   ]
  },
  {
   "cell_type": "code",
   "execution_count": null,
   "metadata": {},
   "outputs": [],
   "source": [
    "fm_estimator.set_hyperparameters(\n",
    "    feature_dim=feature_dim,\n",
    "    predictor_type='regressor',\n",
    "    mini_batch_size=200,\n",
    "    num_factors=512,\n",
    "    bias_lr=0.02,\n",
    "    epochs=20)"
   ]
  },
  {
   "cell_type": "markdown",
   "metadata": {},
   "source": [
    "- Find best hyperparameters with Sagemaker's Automatic Model Tuning. Following hyperparameters will be tuned\n",
    "    - ***factors_lr:*** The learning rate for factorization terms.\n",
    "    - ***factors_init_sigma:*** The standard deviation for initialization of factorization terms. Takes effect if factors_init_method is set to normal.\n",
    "    \n",
    "\n",
    "- Define the hyperparameter tuning ranges to be searched and set the objective metric"
   ]
  },
  {
   "cell_type": "code",
   "execution_count": null,
   "metadata": {},
   "outputs": [],
   "source": [
    "hyperparameter_ranges=  {\n",
    "    \"factors_lr\": ContinuousParameter(0.0001, 0.2),\n",
    "    \"factors_init_sigma\": ContinuousParameter(0.0001, 1)\n",
    "}"
   ]
  },
  {
   "cell_type": "markdown",
   "metadata": {},
   "source": [
    "- Now that we have our ranges defined we want to define our success metric"
   ]
  },
  {
   "cell_type": "code",
   "execution_count": null,
   "metadata": {},
   "outputs": [],
   "source": [
    "objective_metric_name = \"test:rmse\"\n",
    "objective_type = \"Minimize\""
   ]
  },
  {
   "cell_type": "markdown",
   "metadata": {},
   "source": [
    "- Start hyperparameter tuning job with the ranges defined"
   ]
  },
  {
   "cell_type": "code",
   "execution_count": null,
   "metadata": {},
   "outputs": [],
   "source": [
    "fm_tuner = HyperparameterTuner(\n",
    "    estimator=fm_estimator,\n",
    "    objective_metric_name=objective_metric_name, \n",
    "    hyperparameter_ranges=hyperparameter_ranges,\n",
    "    objective_type=objective_type,\n",
    "    max_jobs=10,\n",
    "    max_parallel_jobs=2\n",
    ")"
   ]
  },
  {
   "cell_type": "code",
   "execution_count": null,
   "metadata": {},
   "outputs": [],
   "source": [
    "timestamp_prefix = time.strftime(\"%Y%m%d-%H%M%S\", time.gmtime())\n",
    "fm_tuner_job_name = 'hpo-fm-' + timestamp_prefix"
   ]
  },
  {
   "cell_type": "code",
   "execution_count": null,
   "metadata": {},
   "outputs": [],
   "source": [
    "fm_tuner.fit({'train': s3_train_path, 'test': s3_val_path}, job_name=fm_tuner_job_name, wait=False)"
   ]
  },
  {
   "cell_type": "markdown",
   "metadata": {},
   "source": [
    "- Track hyperparameter tuning job progress"
   ]
  },
  {
   "cell_type": "code",
   "execution_count": null,
   "metadata": {},
   "outputs": [],
   "source": [
    "# run this cell to check current status of hyperparameter tuning job\n",
    "tuning_job_result = sm.describe_hyper_parameter_tuning_job(HyperParameterTuningJobName=fm_tuner_job_name)\n",
    "\n",
    "status = tuning_job_result['HyperParameterTuningJobStatus']\n",
    "if status != 'Completed':\n",
    "    print('Reminder: the tuning job has not been completed.')\n",
    "    \n",
    "job_count = tuning_job_result['TrainingJobStatusCounters']['Completed']\n",
    "print(\"%d training jobs have completed\" % job_count)\n",
    "    \n",
    "is_minimize = (tuning_job_result['HyperParameterTuningJobConfig']['HyperParameterTuningJobObjective']['Type'] != 'Maximize')\n",
    "objective_name = tuning_job_result['HyperParameterTuningJobConfig']['HyperParameterTuningJobObjective']['MetricName']"
   ]
  },
  {
   "cell_type": "code",
   "execution_count": null,
   "metadata": {},
   "outputs": [],
   "source": [
    "%%time\n",
    "\n",
    "fm_tuner.wait()"
   ]
  },
  {
   "cell_type": "markdown",
   "metadata": {},
   "source": [
    "* Analyze Hyper-Parameter Tuning Job Results"
   ]
  },
  {
   "cell_type": "code",
   "execution_count": null,
   "metadata": {},
   "outputs": [],
   "source": [
    "# plug-in the training job name and metrics to be captured\n",
    "fm_tuner_analytics = HyperparameterTuningJobAnalytics(hyperparameter_tuning_job_name=fm_tuner_job_name)\n",
    "df_fm_tuner_metrics = fm_tuner_analytics.dataframe()\n",
    "df_fm_tuner_metrics"
   ]
  },
  {
   "cell_type": "code",
   "execution_count": null,
   "metadata": {},
   "outputs": [],
   "source": [
    "# analyze using seaborn\n",
    "plt = df_fm_tuner_metrics.plot(kind='line', figsize=(12,5), x='TrainingStartTime', \n",
    "                             y='FinalObjectiveValue', \n",
    "                             style='b.', legend=False)\n",
    "plt.set_ylabel(objective_metric_name);"
   ]
  },
  {
   "cell_type": "markdown",
   "metadata": {},
   "source": [
    "- Best Factorization Machine Model after Hyper-Parameter Optimization"
   ]
  },
  {
   "cell_type": "code",
   "execution_count": null,
   "metadata": {},
   "outputs": [],
   "source": [
    "print(\"fm_tuner_job_name: \" + fm_tuner_job_name)\n",
    "fm_tuner = HyperparameterTuner.attach(fm_tuner_job_name)\n",
    "\n",
    "fm_tuner_analytics = HyperparameterTuningJobAnalytics(hyperparameter_tuning_job_name=fm_tuner_job_name)\n",
    "df_fm_tuner_metrics = fm_tuner_analytics.dataframe()\n",
    "\n",
    "fm_best_model_name = fm_tuner.best_training_job()\n",
    "print(\"fm_best_model_name: \" + fm_best_model_name)\n",
    "\n",
    "fm_model_info = sm.describe_training_job(TrainingJobName=fm_best_model_name)"
   ]
  },
  {
   "cell_type": "code",
   "execution_count": null,
   "metadata": {},
   "outputs": [],
   "source": [
    "df_fm_tuner_metrics[df_fm_tuner_metrics['TrainingJobName']==fm_best_model_name]"
   ]
  },
  {
   "cell_type": "markdown",
   "metadata": {},
   "source": [
    "- Let's evaluate the results with the best training job from hyper-parameter tuning job."
   ]
  },
  {
   "cell_type": "markdown",
   "metadata": {},
   "source": [
    "We can deploy the endpoint using hyper-parameter tuning job and test the predictions. "
   ]
  },
  {
   "cell_type": "code",
   "execution_count": null,
   "metadata": {},
   "outputs": [],
   "source": [
    "fm = sagemaker.estimator.Estimator.attach(fm_best_model_name)"
   ]
  },
  {
   "cell_type": "markdown",
   "metadata": {},
   "source": [
    "We can re-run the cells in Batch Inference and Evaluation section to evaluate the performance of the model with tuned hyper-parameters. \n",
    "\n",
    "Assuming batch inference is carried out, let's calculate predictions for our test dataset and see if we do better than the training job with default hyper-parameters."
   ]
  },
  {
   "cell_type": "code",
   "execution_count": null,
   "metadata": {},
   "outputs": [],
   "source": [
    "print('MSE:', np.mean((test_Y - test_preds) ** 2))"
   ]
  },
  {
   "cell_type": "markdown",
   "metadata": {},
   "source": [
    "---\n",
    "\n",
    "## Wrap-up\n",
    "\n",
    "In this example, we developed a deep learning model to predict customer ratings.  This could serve as the foundation of a recommender system in a variety of use cases.  However, there are many ways in which it could be improved.  For example we did very little with:\n",
    "- hyperparameter tuning\n",
    "- controlling for overfitting (early stopping, dropout, etc.)\n",
    "- testing whether binarizing our target variable would improve results\n",
    "- including other information sources (video genres, historical ratings, time of review)\n",
    "- adjusting our threshold for user and item inclusion \n",
    "\n",
    "In addition to improving the model, we could improve the engineering by:\n",
    "- Setting the context and key value store up for distributed training\n",
    "- Fine tuning our data ingestion (e.g. num_workers on our data iterators) to ensure we're fully utilizing our GPU\n",
    "- Thinking about how pre-processing would need to change as datasets scale beyond a single machine\n",
    "\n",
    "Beyond that, recommenders are a very active area of research and techniques from active learning, reinforcement learning, segmentation, ensembling, and more should be investigated to deliver well-rounded recommendations.\n",
    "\n",
    "### Clean-up (optional)\n",
    "\n",
    "Let's finish by deleting our endpoint to avoid stray hosting charges."
   ]
  },
  {
   "cell_type": "code",
   "execution_count": null,
   "metadata": {},
   "outputs": [],
   "source": [
    "endpoint_name_contains = ['-fm-', 'factorization-machines-']\n",
    "for name in endpoint_name_contains:\n",
    "    endpoints = sm.list_endpoints(NameContains=name, StatusEquals='InService')\n",
    "    endpoint_names = [r['EndpointName'] for r in endpoints['Endpoints']]\n",
    "    for endpoint_name in endpoint_names:\n",
    "        print(\"Deleting endpoint: \" + endpoint_name)\n",
    "        sm.delete_endpoint(EndpointName=endpoint_name)"
   ]
  },
  {
   "cell_type": "markdown",
   "metadata": {},
   "source": [
    "---"
   ]
  }
 ],
 "metadata": {
  "kernelspec": {
   "display_name": "conda_python2",
   "language": "python",
   "name": "conda_python2"
  },
  "language_info": {
   "codemirror_mode": {
    "name": "ipython",
    "version": 2
   },
   "file_extension": ".py",
   "mimetype": "text/x-python",
   "name": "python",
   "nbconvert_exporter": "python",
   "pygments_lexer": "ipython2",
   "version": "2.7.17"
  },
  "notice": "Copyright 2017 Amazon.com, Inc. or its affiliates. All Rights Reserved.  Licensed under the Apache License, Version 2.0 (the \"License\"). You may not use this file except in compliance with the License. A copy of the License is located at http://aws.amazon.com/apache2.0/ or in the \"license\" file accompanying this file. This file is distributed on an \"AS IS\" BASIS, WITHOUT WARRANTIES OR CONDITIONS OF ANY KIND, either express or implied. See the License for the specific language governing permissions and limitations under the License."
 },
 "nbformat": 4,
 "nbformat_minor": 2
}
