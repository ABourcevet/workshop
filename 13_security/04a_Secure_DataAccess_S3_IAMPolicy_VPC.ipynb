{
 "cells": [
  {
   "cell_type": "markdown",
   "metadata": {},
   "source": [
    "# Secure Data Access To S3 Bucket via IAM Policy using VPC"
   ]
  },
  {
   "cell_type": "code",
   "execution_count": 1,
   "metadata": {},
   "outputs": [],
   "source": [
    "import boto3\n",
    "import sagemaker\n",
    "\n",
    "session = boto3.session.Session()\n",
    "region = session.region_name\n",
    "sagemaker_session = sagemaker.Session()\n",
    "bucket = sagemaker_session.default_bucket()\n",
    "\n",
    "s3 = boto3.Session().client(service_name='s3', region_name=region)\n",
    "iam = boto3.Session().client(service_name='iam', region_name=region)"
   ]
  },
  {
   "cell_type": "code",
   "execution_count": 2,
   "metadata": {},
   "outputs": [],
   "source": [
    "import time\n",
    "timestamp = int(time.time())"
   ]
  },
  {
   "cell_type": "code",
   "execution_count": 3,
   "metadata": {},
   "outputs": [
    {
     "name": "stdout",
     "output_type": "stream",
     "text": [
      "bucket-secure-iam-policy-vpc-1608442211\n"
     ]
    }
   ],
   "source": [
    "bucket_secure_name = 'bucket-secure-iam-policy-vpc-{}'.format(timestamp)\n",
    "print(bucket_secure_name)"
   ]
  },
  {
   "cell_type": "code",
   "execution_count": 4,
   "metadata": {},
   "outputs": [
    {
     "name": "stdout",
     "output_type": "stream",
     "text": [
      "make_bucket: bucket-secure-iam-policy-vpc-1608442211\r\n"
     ]
    }
   ],
   "source": [
    "!aws s3 mb s3://$bucket_secure_name"
   ]
  },
  {
   "cell_type": "code",
   "execution_count": 5,
   "metadata": {},
   "outputs": [],
   "source": [
    "!aws s3 ls s3://$bucket_secure_name"
   ]
  },
  {
   "cell_type": "markdown",
   "metadata": {},
   "source": [
    "# TODO: split to get name"
   ]
  },
  {
   "cell_type": "code",
   "execution_count": 6,
   "metadata": {},
   "outputs": [],
   "source": [
    "#role_name = sagemaker.get_execution_role()\n",
    "#print(role_name)\n",
    "role_name='TeamRole'"
   ]
  },
  {
   "cell_type": "code",
   "execution_count": 7,
   "metadata": {},
   "outputs": [
    {
     "name": "stdout",
     "output_type": "stream",
     "text": [
      "DSOAWS_SecureBucket_Policy_VPC_1608442211\n"
     ]
    }
   ],
   "source": [
    "policy_name='DSOAWS_SecureBucket_Policy_VPC_{}'.format(timestamp)\n",
    "print(policy_name)"
   ]
  },
  {
   "cell_type": "code",
   "execution_count": 8,
   "metadata": {},
   "outputs": [],
   "source": [
    "# TODO:  Lock down to VPC"
   ]
  },
  {
   "cell_type": "code",
   "execution_count": 9,
   "metadata": {},
   "outputs": [],
   "source": [
    "different_vpc_id='blah'"
   ]
  },
  {
   "cell_type": "code",
   "execution_count": 10,
   "metadata": {},
   "outputs": [],
   "source": [
    "# Create the IAM policy\n",
    "iam_policy_deny = {\n",
    "        'Version': '2012-10-17',\n",
    "        'Statement': [{\n",
    "            'Sid': '',\n",
    "            'Effect': 'Deny',\n",
    "            'Action': [\n",
    "                's3:ListBucket'\n",
    "            ],\n",
    "            'Resource': [\n",
    "                'arn:aws:s3:::{}'.format(bucket_secure_name)\n",
    "            ],\n",
    "            'Condition': {\n",
    "                'StringNotEquals': {\n",
    "                    'aws:sourceVpce': different_vpc_id\n",
    "                }\n",
    "            }\n",
    "            \n",
    "        }]\n",
    "    }"
   ]
  },
  {
   "cell_type": "code",
   "execution_count": 11,
   "metadata": {},
   "outputs": [
    {
     "name": "stdout",
     "output_type": "stream",
     "text": [
      "{'ResponseMetadata': {'RequestId': '1eeedba9-a1b5-4015-bf9f-8a56f6f5c003', 'HTTPStatusCode': 200, 'HTTPHeaders': {'x-amzn-requestid': '1eeedba9-a1b5-4015-bf9f-8a56f6f5c003', 'content-type': 'text/xml', 'content-length': '206', 'date': 'Sun, 20 Dec 2020 05:30:30 GMT'}, 'RetryAttempts': 0}}\n"
     ]
    }
   ],
   "source": [
    "import json \n",
    "\n",
    "response = iam.put_role_policy(\n",
    "    RoleName=role_name,\n",
    "    PolicyName=policy_name,\n",
    "    PolicyDocument=json.dumps(iam_policy_deny)\n",
    ")\n",
    "\n",
    "print(response)\n",
    "\n",
    "time.sleep(5)"
   ]
  },
  {
   "cell_type": "markdown",
   "metadata": {},
   "source": [
    "# TODO:  Check why this is still working.  LIkely because TeamRole has AdministratorAccess?"
   ]
  },
  {
   "cell_type": "code",
   "execution_count": 12,
   "metadata": {},
   "outputs": [],
   "source": [
    "!aws s3 ls s3://$bucket_secure_name"
   ]
  },
  {
   "cell_type": "code",
   "execution_count": 13,
   "metadata": {},
   "outputs": [
    {
     "name": "stdout",
     "output_type": "stream",
     "text": [
      "{'ResponseMetadata': {'RequestId': '2ebf8217-3715-4e86-8e6e-5e385c634b3b', 'HTTPStatusCode': 200, 'HTTPHeaders': {'x-amzn-requestid': '2ebf8217-3715-4e86-8e6e-5e385c634b3b', 'content-type': 'text/xml', 'content-length': '212', 'date': 'Sun, 20 Dec 2020 05:30:50 GMT'}, 'RetryAttempts': 0}}\n"
     ]
    }
   ],
   "source": [
    "response = iam.delete_role_policy(\n",
    "    RoleName=role_name,\n",
    "    PolicyName=policy_name\n",
    ")\n",
    "print(response)"
   ]
  },
  {
   "cell_type": "code",
   "execution_count": 14,
   "metadata": {},
   "outputs": [],
   "source": [
    "!aws s3 ls s3://$bucket_secure_name"
   ]
  },
  {
   "cell_type": "code",
   "execution_count": null,
   "metadata": {},
   "outputs": [],
   "source": []
  }
 ],
 "metadata": {
  "kernelspec": {
   "display_name": "conda_python3",
   "language": "python",
   "name": "conda_python3"
  },
  "language_info": {
   "codemirror_mode": {
    "name": "ipython",
    "version": 3
   },
   "file_extension": ".py",
   "mimetype": "text/x-python",
   "name": "python",
   "nbconvert_exporter": "python",
   "pygments_lexer": "ipython3",
   "version": "3.6.10"
  }
 },
 "nbformat": 4,
 "nbformat_minor": 4
}
