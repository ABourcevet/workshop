{
 "cells": [
  {
   "cell_type": "markdown",
   "metadata": {},
   "source": [
    "# TODO:\n",
    "\n",
    "1) creating a new bucket called ${bucket}-bucket-policy with NO priviledges\n",
    "\n",
    "2) call `aws s3 ls ${bucket}-bucket-policy` and show that it doesn't work\n",
    "\n",
    "3) applying a bucket policy that allows access FOR THIS USER\n",
    "\n",
    "4) call `aws s3 ls ${bucket}-bucket-policy` and show that it works"
   ]
  },
  {
   "cell_type": "code",
   "execution_count": null,
   "metadata": {},
   "outputs": [],
   "source": []
  }
 ],
 "metadata": {
  "kernelspec": {
   "display_name": "conda_python3",
   "language": "python",
   "name": "conda_python3"
  },
  "language_info": {
   "codemirror_mode": {
    "name": "ipython",
    "version": 3
   },
   "file_extension": ".py",
   "mimetype": "text/x-python",
   "name": "python",
   "nbconvert_exporter": "python",
   "pygments_lexer": "ipython3",
   "version": "3.6.10"
  }
 },
 "nbformat": 4,
 "nbformat_minor": 4
}
