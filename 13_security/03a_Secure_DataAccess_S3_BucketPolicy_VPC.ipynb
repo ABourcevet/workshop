{
 "cells": [
  {
   "cell_type": "markdown",
   "metadata": {},
   "source": [
    "# Create a Bucket and Lock it Down to a Specific VPC"
   ]
  },
  {
   "cell_type": "code",
   "execution_count": null,
   "metadata": {},
   "outputs": [],
   "source": [
    "import boto3\n",
    "import sagemaker\n",
    "import pandas as pd\n",
    "\n",
    "sess   = sagemaker.Session()\n",
    "bucket = sess.default_bucket()\n",
    "role = sagemaker.get_execution_role()\n",
    "region = boto3.Session().region_name\n",
    "\n",
    "sm = boto3.Session().client(service_name='sagemaker', region_name=region)\n",
    "s3 = boto3.Session().client(service_name='s3', region_name=region)"
   ]
  },
  {
   "cell_type": "code",
   "execution_count": null,
   "metadata": {},
   "outputs": [],
   "source": [
    "import time\n",
    "\n",
    "timestamp = int(time.time())\n",
    "\n",
    "bucket_secure_name = 'bucket-secure-bucket-policy-vpc-{}'.format(timestamp)\n",
    "print(bucket_secure_name)"
   ]
  },
  {
   "cell_type": "code",
   "execution_count": null,
   "metadata": {},
   "outputs": [],
   "source": [
    "!aws s3 mb s3://$bucket_secure_name"
   ]
  },
  {
   "cell_type": "code",
   "execution_count": 7,
   "metadata": {},
   "outputs": [],
   "source": [
    "!aws s3 ls s3://$bucket_secure_name"
   ]
  },
  {
   "cell_type": "code",
   "execution_count": 16,
   "metadata": {},
   "outputs": [],
   "source": [
    "# Create the bucket policy\n",
    "bucket_policy_deny = {\n",
    "        \"Version\": \"2008-10-17\",\n",
    "        \"Statement\": [\n",
    "            {\n",
    "                \"Effect\": \"Deny\",\n",
    "                \"Principal\": \"*\",\n",
    "                \"Action\": [\n",
    "                    \"s3:ListBucket\"\n",
    "                ],\n",
    "                \"Resource\": [\n",
    "                    \"arn:aws:s3:::{}\".format(bucket_secure_name)\n",
    "                ],\n",
    "                \"Condition\": {\n",
    "                    \"StringNotEquals\": {\n",
    "                        \"aws:sourceVpc\": vpc_id\n",
    "                    }\n",
    "                }\n",
    "            }\n",
    "        ]\n",
    "    }"
   ]
  },
  {
   "cell_type": "markdown",
   "metadata": {},
   "source": [
    "# Set the Deny Policy on the Bucket"
   ]
  },
  {
   "cell_type": "code",
   "execution_count": 19,
   "metadata": {},
   "outputs": [
    {
     "name": "stdout",
     "output_type": "stream",
     "text": [
      "{'ResponseMetadata': {'RequestId': 'DCC486FBC88E9551', 'HostId': '+UYdxcKmxMYXzRT83xNF+VlQcwS9hKNx0auqd6DvDFXdN2ocn0bcSXpOS76v+EwINjlyHovGy10=', 'HTTPStatusCode': 204, 'HTTPHeaders': {'x-amz-id-2': '+UYdxcKmxMYXzRT83xNF+VlQcwS9hKNx0auqd6DvDFXdN2ocn0bcSXpOS76v+EwINjlyHovGy10=', 'x-amz-request-id': 'DCC486FBC88E9551', 'date': 'Sun, 20 Dec 2020 22:51:38 GMT', 'server': 'AmazonS3'}, 'RetryAttempts': 0}}\n"
     ]
    }
   ],
   "source": [
    "import json\n",
    "import time\n",
    "\n",
    "response = s3.put_bucket_policy(Bucket=bucket_secure_name, \n",
    "                                Policy=json.dumps(bucket_policy_deny))\n",
    "\n",
    "print(response)\n",
    "\n",
    "time.sleep(30)"
   ]
  },
  {
   "cell_type": "markdown",
   "metadata": {},
   "source": [
    "# Verify `AccessDenied`"
   ]
  },
  {
   "cell_type": "code",
   "execution_count": 14,
   "metadata": {
    "scrolled": true
   },
   "outputs": [
    {
     "name": "stdout",
     "output_type": "stream",
     "text": [
      "\r\n",
      "An error occurred (AccessDenied) when calling the ListObjectsV2 operation: Access Denied\r\n"
     ]
    }
   ],
   "source": [
    "!aws s3 ls s3://$bucket_secure_name"
   ]
  },
  {
   "cell_type": "markdown",
   "metadata": {},
   "source": [
    "# Remove the Policy"
   ]
  },
  {
   "cell_type": "code",
   "execution_count": 21,
   "metadata": {},
   "outputs": [
    {
     "name": "stdout",
     "output_type": "stream",
     "text": [
      "{'ResponseMetadata': {'RequestId': 'B73FAA6B270A28B6', 'HostId': 'eVRQSkytCL0osV89EIiVpjN6HF+w8dyQgUjcP06ocXJJUUN2peD66bA22Z+6cmj/QbCRfZ+5v5Q=', 'HTTPStatusCode': 204, 'HTTPHeaders': {'x-amz-id-2': 'eVRQSkytCL0osV89EIiVpjN6HF+w8dyQgUjcP06ocXJJUUN2peD66bA22Z+6cmj/QbCRfZ+5v5Q=', 'x-amz-request-id': 'B73FAA6B270A28B6', 'date': 'Sun, 20 Dec 2020 22:53:23 GMT', 'server': 'AmazonS3'}, 'RetryAttempts': 0}}\n"
     ]
    }
   ],
   "source": [
    "response = s3.delete_bucket_policy(Bucket=bucket_secure_name)\n",
    "print(response)\n",
    "\n",
    "time.sleep(30)"
   ]
  },
  {
   "cell_type": "markdown",
   "metadata": {},
   "source": [
    "# Verify Access After Removing the Policy"
   ]
  },
  {
   "cell_type": "code",
   "execution_count": 22,
   "metadata": {},
   "outputs": [],
   "source": [
    "!aws s3 ls s3://$bucket_secure_name"
   ]
  },
  {
   "cell_type": "markdown",
   "metadata": {},
   "source": [
    "# Remove the Bucket"
   ]
  },
  {
   "cell_type": "code",
   "execution_count": 23,
   "metadata": {},
   "outputs": [],
   "source": [
    "!aws s3 rm s3://$bucket_secure_name"
   ]
  },
  {
   "cell_type": "code",
   "execution_count": null,
   "metadata": {},
   "outputs": [],
   "source": []
  }
 ],
 "metadata": {
  "kernelspec": {
   "display_name": "conda_python3",
   "language": "python",
   "name": "conda_python3"
  },
  "language_info": {
   "codemirror_mode": {
    "name": "ipython",
    "version": 3
   },
   "file_extension": ".py",
   "mimetype": "text/x-python",
   "name": "python",
   "nbconvert_exporter": "python",
   "pygments_lexer": "ipython3",
   "version": "3.6.10"
  }
 },
 "nbformat": 4,
 "nbformat_minor": 4
}
