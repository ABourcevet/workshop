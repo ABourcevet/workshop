{
 "cells": [
  {
   "cell_type": "markdown",
   "metadata": {},
   "source": [
    "# Secure Data Access To S3 Bucket via IAM Policy"
   ]
  },
  {
   "cell_type": "markdown",
   "metadata": {},
   "source": [
    "# TODO:\n",
    "\n",
    "1) creating a new bucket called ${bucket}-iam-user with NO priviledges\n",
    "\n",
    "2) call `aws s3 ls ${bucket}-iam-user` and show that it doesn't work\n",
    "\n",
    "3) applying a bucket policy that allows access FOR THIS USER\n",
    "\n",
    "4) call `aws s3 ls ${bucket}-iam-user` and show that it works"
   ]
  },
  {
   "cell_type": "code",
   "execution_count": 16,
   "metadata": {},
   "outputs": [],
   "source": [
    "import boto3\n",
    "import sagemaker\n",
    "\n",
    "session = boto3.session.Session()\n",
    "region = session.region_name\n",
    "sagemaker_session = sagemaker.Session()\n",
    "bucket = sagemaker_session.default_bucket()\n",
    "\n",
    "s3 = boto3.Session().client(service_name='s3', region_name=region)\n",
    "iam = boto3.Session().client(service_name='iam', region_name=region)"
   ]
  },
  {
   "cell_type": "code",
   "execution_count": 2,
   "metadata": {},
   "outputs": [],
   "source": [
    "import time\n",
    "timestamp = int(time.time())"
   ]
  },
  {
   "cell_type": "code",
   "execution_count": 3,
   "metadata": {},
   "outputs": [
    {
     "name": "stdout",
     "output_type": "stream",
     "text": [
      "bucket-secure-iam-policy-role-1608439293\n"
     ]
    }
   ],
   "source": [
    "bucket_secure_name = 'bucket-secure-iam-policy-role-{}'.format(timestamp)\n",
    "print(bucket_secure_name)"
   ]
  },
  {
   "cell_type": "code",
   "execution_count": 4,
   "metadata": {},
   "outputs": [
    {
     "name": "stdout",
     "output_type": "stream",
     "text": [
      "make_bucket: bucket-secure-iam-policy-role-1608439293\n"
     ]
    }
   ],
   "source": [
    "!aws s3 mb s3://$bucket_secure_name"
   ]
  },
  {
   "cell_type": "code",
   "execution_count": 5,
   "metadata": {},
   "outputs": [],
   "source": [
    "!aws s3 ls s3://$bucket_secure_name"
   ]
  },
  {
   "cell_type": "markdown",
   "metadata": {},
   "source": [
    "# TODO: split to get name"
   ]
  },
  {
   "cell_type": "code",
   "execution_count": 6,
   "metadata": {},
   "outputs": [
    {
     "name": "stdout",
     "output_type": "stream",
     "text": [
      "arn:aws:iam::231218423789:role/TeamRole\n"
     ]
    }
   ],
   "source": [
    "role = sagemaker.get_execution_role()\n",
    "print(role)"
   ]
  },
  {
   "cell_type": "code",
   "execution_count": 8,
   "metadata": {},
   "outputs": [
    {
     "name": "stdout",
     "output_type": "stream",
     "text": [
      "DSOAWS_SecureBucket_Policy_1608439293\n"
     ]
    }
   ],
   "source": [
    "policy_name='DSOAWS_SecureBucket_Policy_{}'.format(timestamp)\n",
    "print(policy_name)"
   ]
  },
  {
   "cell_type": "code",
   "execution_count": 7,
   "metadata": {},
   "outputs": [],
   "source": [
    "# Create the IAM policy\n",
    "iam_policy_deny = {\n",
    "        'Version': '2012-10-17',\n",
    "        'Statement': [{\n",
    "            'Sid': '',\n",
    "            'Effect': 'Deny',\n",
    "            'Action': [\n",
    "                's3:ListBucket'\n",
    "            ],\n",
    "            'Resource': [\n",
    "                'arn:aws:s3:::{}'.format(bucket_secure_name)\n",
    "            ]\n",
    "        }]\n",
    "    }"
   ]
  },
  {
   "cell_type": "code",
   "execution_count": 11,
   "metadata": {},
   "outputs": [
    {
     "name": "stdout",
     "output_type": "stream",
     "text": [
      "{'ResponseMetadata': {'RequestId': '02f1488b-7c9b-4a78-a24e-c63819fb1f22', 'HTTPStatusCode': 200, 'HTTPHeaders': {'x-amzn-requestid': '02f1488b-7c9b-4a78-a24e-c63819fb1f22', 'content-type': 'text/xml', 'content-length': '206', 'date': 'Sun, 20 Dec 2020 04:49:43 GMT'}, 'RetryAttempts': 0}}\n"
     ]
    }
   ],
   "source": [
    "import json \n",
    "\n",
    "response = iam.put_role_policy(\n",
    "    RoleName='TeamRole',\n",
    "    PolicyName=policy_name,\n",
    "    PolicyDocument=json.dumps(iam_policy_deny)\n",
    ")\n",
    "\n",
    "print(response)\n",
    "\n",
    "time.sleep(5)"
   ]
  },
  {
   "cell_type": "code",
   "execution_count": 13,
   "metadata": {},
   "outputs": [
    {
     "name": "stdout",
     "output_type": "stream",
     "text": [
      "\n",
      "An error occurred (AccessDenied) when calling the ListObjectsV2 operation: Access Denied\n"
     ]
    }
   ],
   "source": [
    "!aws s3 ls s3://$bucket_secure_name"
   ]
  },
  {
   "cell_type": "code",
   "execution_count": 20,
   "metadata": {},
   "outputs": [
    {
     "name": "stdout",
     "output_type": "stream",
     "text": [
      "{'ResponseMetadata': {'RequestId': '62eb4cb3-0de1-4676-813e-806f9a68ad41', 'HTTPStatusCode': 200, 'HTTPHeaders': {'x-amzn-requestid': '62eb4cb3-0de1-4676-813e-806f9a68ad41', 'content-type': 'text/xml', 'content-length': '212', 'date': 'Sun, 20 Dec 2020 05:05:15 GMT'}, 'RetryAttempts': 0}}\n"
     ]
    }
   ],
   "source": [
    "response = iam.delete_role_policy(\n",
    "    RoleName='TeamRole',\n",
    "    PolicyName=policy_name\n",
    ")\n",
    "print(response)"
   ]
  },
  {
   "cell_type": "code",
   "execution_count": 21,
   "metadata": {},
   "outputs": [],
   "source": [
    "!aws s3 ls s3://$bucket_secure_name"
   ]
  }
 ],
 "metadata": {
  "kernelspec": {
   "display_name": "conda_python3",
   "language": "python",
   "name": "conda_python3"
  },
  "language_info": {
   "codemirror_mode": {
    "name": "ipython",
    "version": 3
   },
   "file_extension": ".py",
   "mimetype": "text/x-python",
   "name": "python",
   "nbconvert_exporter": "python",
   "pygments_lexer": "ipython3",
   "version": "3.6.10"
  }
 },
 "nbformat": 4,
 "nbformat_minor": 4
}
