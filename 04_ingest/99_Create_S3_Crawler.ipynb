{
 "cells": [
  {
   "cell_type": "code",
   "execution_count": 1,
   "metadata": {},
   "outputs": [],
   "source": [
    "import boto3\n",
    "import sagemaker\n",
    "\n",
    "sagemaker_session = sagemaker.Session()\n",
    "role = sagemaker.get_execution_role()\n",
    "bucket = sagemaker_session.default_bucket()\n",
    "region = boto3.Session().region_name\n",
    "\n",
    "glue = boto3.Session().client(service_name='glue', region_name=region)"
   ]
  },
  {
   "cell_type": "code",
   "execution_count": 4,
   "metadata": {},
   "outputs": [
    {
     "ename": "InvalidInputException",
     "evalue": "An error occurred (InvalidInputException) when calling the CreateCrawler operation: The SchemaChangePolicy for catalog targets can have only LOG DeleteBehavior value. Specify a value of LOG for the DeleteBehavior property.",
     "output_type": "error",
     "traceback": [
      "\u001b[0;31m---------------------------------------------------------------------------\u001b[0m",
      "\u001b[0;31mInvalidInputException\u001b[0m                     Traceback (most recent call last)",
      "\u001b[0;32m<ipython-input-4-5ec4085d2a69>\u001b[0m in \u001b[0;36m<module>\u001b[0;34m\u001b[0m\n\u001b[1;32m     41\u001b[0m                 \u001b[0;34m'DatabaseName'\u001b[0m\u001b[0;34m:\u001b[0m \u001b[0;34m'dsoaws'\u001b[0m\u001b[0;34m,\u001b[0m\u001b[0;34m\u001b[0m\u001b[0;34m\u001b[0m\u001b[0m\n\u001b[1;32m     42\u001b[0m                 'Tables': [\n\u001b[0;32m---> 43\u001b[0;31m                     \u001b[0;34m'amazon_reviews_tsv'\u001b[0m\u001b[0;34m,\u001b[0m\u001b[0;34m\u001b[0m\u001b[0;34m\u001b[0m\u001b[0m\n\u001b[0m\u001b[1;32m     44\u001b[0m                 ]\n\u001b[1;32m     45\u001b[0m             },\n",
      "\u001b[0;32m~/anaconda3/envs/python3/lib/python3.6/site-packages/botocore/client.py\u001b[0m in \u001b[0;36m_api_call\u001b[0;34m(self, *args, **kwargs)\u001b[0m\n\u001b[1;32m    355\u001b[0m                     \"%s() only accepts keyword arguments.\" % py_operation_name)\n\u001b[1;32m    356\u001b[0m             \u001b[0;31m# The \"self\" in this scope is referring to the BaseClient.\u001b[0m\u001b[0;34m\u001b[0m\u001b[0;34m\u001b[0m\u001b[0;34m\u001b[0m\u001b[0m\n\u001b[0;32m--> 357\u001b[0;31m             \u001b[0;32mreturn\u001b[0m \u001b[0mself\u001b[0m\u001b[0;34m.\u001b[0m\u001b[0m_make_api_call\u001b[0m\u001b[0;34m(\u001b[0m\u001b[0moperation_name\u001b[0m\u001b[0;34m,\u001b[0m \u001b[0mkwargs\u001b[0m\u001b[0;34m)\u001b[0m\u001b[0;34m\u001b[0m\u001b[0;34m\u001b[0m\u001b[0m\n\u001b[0m\u001b[1;32m    358\u001b[0m \u001b[0;34m\u001b[0m\u001b[0m\n\u001b[1;32m    359\u001b[0m         \u001b[0m_api_call\u001b[0m\u001b[0;34m.\u001b[0m\u001b[0m__name__\u001b[0m \u001b[0;34m=\u001b[0m \u001b[0mstr\u001b[0m\u001b[0;34m(\u001b[0m\u001b[0mpy_operation_name\u001b[0m\u001b[0;34m)\u001b[0m\u001b[0;34m\u001b[0m\u001b[0;34m\u001b[0m\u001b[0m\n",
      "\u001b[0;32m~/anaconda3/envs/python3/lib/python3.6/site-packages/botocore/client.py\u001b[0m in \u001b[0;36m_make_api_call\u001b[0;34m(self, operation_name, api_params)\u001b[0m\n\u001b[1;32m    674\u001b[0m             \u001b[0merror_code\u001b[0m \u001b[0;34m=\u001b[0m \u001b[0mparsed_response\u001b[0m\u001b[0;34m.\u001b[0m\u001b[0mget\u001b[0m\u001b[0;34m(\u001b[0m\u001b[0;34m\"Error\"\u001b[0m\u001b[0;34m,\u001b[0m \u001b[0;34m{\u001b[0m\u001b[0;34m}\u001b[0m\u001b[0;34m)\u001b[0m\u001b[0;34m.\u001b[0m\u001b[0mget\u001b[0m\u001b[0;34m(\u001b[0m\u001b[0;34m\"Code\"\u001b[0m\u001b[0;34m)\u001b[0m\u001b[0;34m\u001b[0m\u001b[0;34m\u001b[0m\u001b[0m\n\u001b[1;32m    675\u001b[0m             \u001b[0merror_class\u001b[0m \u001b[0;34m=\u001b[0m \u001b[0mself\u001b[0m\u001b[0;34m.\u001b[0m\u001b[0mexceptions\u001b[0m\u001b[0;34m.\u001b[0m\u001b[0mfrom_code\u001b[0m\u001b[0;34m(\u001b[0m\u001b[0merror_code\u001b[0m\u001b[0;34m)\u001b[0m\u001b[0;34m\u001b[0m\u001b[0;34m\u001b[0m\u001b[0m\n\u001b[0;32m--> 676\u001b[0;31m             \u001b[0;32mraise\u001b[0m \u001b[0merror_class\u001b[0m\u001b[0;34m(\u001b[0m\u001b[0mparsed_response\u001b[0m\u001b[0;34m,\u001b[0m \u001b[0moperation_name\u001b[0m\u001b[0;34m)\u001b[0m\u001b[0;34m\u001b[0m\u001b[0;34m\u001b[0m\u001b[0m\n\u001b[0m\u001b[1;32m    677\u001b[0m         \u001b[0;32melse\u001b[0m\u001b[0;34m:\u001b[0m\u001b[0;34m\u001b[0m\u001b[0;34m\u001b[0m\u001b[0m\n\u001b[1;32m    678\u001b[0m             \u001b[0;32mreturn\u001b[0m \u001b[0mparsed_response\u001b[0m\u001b[0;34m\u001b[0m\u001b[0;34m\u001b[0m\u001b[0m\n",
      "\u001b[0;31mInvalidInputException\u001b[0m: An error occurred (InvalidInputException) when calling the CreateCrawler operation: The SchemaChangePolicy for catalog targets can have only LOG DeleteBehavior value. Specify a value of LOG for the DeleteBehavior property."
     ]
    }
   ],
   "source": [
    "create_response = glue.create_crawler(\n",
    "    Name='amazon_reviews_crawler',\n",
    "    Role=role,\n",
    "#    Role='service-role/AWSGlueServiceRole-DSOAWS-Crawler',\n",
    "    DatabaseName='dsoaws',\n",
    "    Description='string',\n",
    "    Targets={\n",
    "#         'S3Targets': [\n",
    "#             {\n",
    "#                 'Path': 'string',\n",
    "#                 'Exclusions': [\n",
    "#                     'string',\n",
    "#                 ],\n",
    "#                 'ConnectionName': 'string'\n",
    "#             },\n",
    "#         ],\n",
    "#         'JdbcTargets': [\n",
    "#             {\n",
    "#                 'ConnectionName': 'string',\n",
    "#                 'Path': 'string',\n",
    "#                 'Exclusions': [\n",
    "#                     'string',\n",
    "#                 ]\n",
    "#             },\n",
    "#         ],\n",
    "#         'MongoDBTargets': [\n",
    "#             {\n",
    "#                 'ConnectionName': 'string',\n",
    "#                 'Path': 'string',\n",
    "#                 'ScanAll': True|False\n",
    "#             },\n",
    "#         ],\n",
    "#         'DynamoDBTargets': [\n",
    "#             {\n",
    "#                 'Path': 'string',\n",
    "#                 'scanAll': True|False,\n",
    "#                 'scanRate': 123.0\n",
    "#             },\n",
    "#         ],\n",
    "        'CatalogTargets': [\n",
    "            {\n",
    "                'DatabaseName': 'dsoaws',\n",
    "                'Tables': [\n",
    "                    'amazon_reviews_tsv',\n",
    "                ]\n",
    "            },\n",
    "        ]\n",
    "    },\n",
    "#     Schedule='string',\n",
    "#     Classifiers=[\n",
    "#         'string',\n",
    "#     ],\n",
    "#     TablePrefix='string',\n",
    "#     SchemaChangePolicy={\n",
    "#         'UpdateBehavior': 'LOG'|'UPDATE_IN_DATABASE',\n",
    "#         'DeleteBehavior': 'LOG'|'DELETE_FROM_DATABASE'|'DEPRECATE_IN_DATABASE'\n",
    "#     },\n",
    "#     RecrawlPolicy={\n",
    "#         'RecrawlBehavior': 'CRAWL_EVERYTHING'|'CRAWL_NEW_FOLDERS_ONLY'\n",
    "#     },\n",
    "#     LineageConfiguration={\n",
    "#         'CrawlerLineageSettings': 'ENABLE'|'DISABLE'\n",
    "#     },\n",
    "#     Configuration='string',\n",
    "#     CrawlerSecurityConfiguration='string',\n",
    "#     Tags={\n",
    "#         'string': 'string'\n",
    "#     }\n",
    ")"
   ]
  },
  {
   "cell_type": "code",
   "execution_count": null,
   "metadata": {},
   "outputs": [],
   "source": []
  }
 ],
 "metadata": {
  "kernelspec": {
   "display_name": "conda_python3",
   "language": "python",
   "name": "conda_python3"
  },
  "language_info": {
   "codemirror_mode": {
    "name": "ipython",
    "version": 3
   },
   "file_extension": ".py",
   "mimetype": "text/x-python",
   "name": "python",
   "nbconvert_exporter": "python",
   "pygments_lexer": "ipython3",
   "version": "3.6.10"
  }
 },
 "nbformat": 4,
 "nbformat_minor": 4
}
