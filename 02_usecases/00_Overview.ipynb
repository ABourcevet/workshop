{
 "cells": [
  {
   "cell_type": "markdown",
   "metadata": {},
   "source": [
    "This section provides a walkthrough of the following Amazon Rekognition APIs to identify objects and text in images and videos:\n",
    "* [Object Detection API](https://docs.aws.amazon.com/rekognition/latest/dg/labels.html) to detect objects such as personal protective equipment (PPE) and safety equipment on job sites.\n",
    "* [Celebrity Recognition API](https://docs.aws.amazon.com/rekognition/latest/dg/celebrities.html) to identify well known people to catalog footage and photos for marketing, advertising, and media industry use cases.\n",
    "* [Content Moderation APIs](https://docs.aws.amazon.com/rekognition/latest/dg/moderation.html) to identify inappropriate content in your video and image libraries.\n",
    "* [Text Detection API](https://docs.aws.amazon.com/rekognition/latest/dg/text-detection.html) to identify inappropriate text and catalog footage in your video and image libraries to catalog footage and photos for marketing, advertising, and media industry use cases."
   ]
  },
  {
   "cell_type": "code",
   "execution_count": null,
   "metadata": {},
   "outputs": [],
   "source": []
  }
 ],
 "metadata": {
  "kernelspec": {
   "display_name": "conda_python3",
   "language": "python",
   "name": "conda_python3"
  },
  "language_info": {
   "codemirror_mode": {
    "name": "ipython",
    "version": 3
   },
   "file_extension": ".py",
   "mimetype": "text/x-python",
   "name": "python",
   "nbconvert_exporter": "python",
   "pygments_lexer": "ipython3",
   "version": "3.6.10"
  }
 },
 "nbformat": 4,
 "nbformat_minor": 4
}
