{
 "cells": [
  {
   "cell_type": "markdown",
   "metadata": {},
   "source": [
    "# Upload Sample Images and Videos"
   ]
  },
  {
   "cell_type": "code",
   "execution_count": 1,
   "metadata": {},
   "outputs": [],
   "source": [
    "import boto3\n",
    "import sagemaker\n",
    "\n",
    "sagemaker_session = sagemaker.Session()\n",
    "role = sagemaker.get_execution_role()\n",
    "bucket = sagemaker_session.default_bucket()\n",
    "region = boto3.Session().region_name\n",
    "\n",
    "sm = boto3.Session().client(service_name='sagemaker', region_name=region)"
   ]
  },
  {
   "cell_type": "code",
   "execution_count": 2,
   "metadata": {},
   "outputs": [
    {
     "name": "stdout",
     "output_type": "stream",
     "text": [
      "upload: media/weapon.mp4 to s3://sagemaker-us-east-1-835319576252/content-moderation/media/weapon.mp4\n",
      "upload: media/serverless-bytes.mov to s3://sagemaker-us-east-1-835319576252/content-moderation/media/serverless-bytes.mov\n",
      "upload: media/hat-detection.png to s3://sagemaker-us-east-1-835319576252/content-moderation/media/hat-detection.png\n",
      "upload: media/cars.png to s3://sagemaker-us-east-1-835319576252/content-moderation/media/cars.png\n",
      "upload: media/coffee.jpg to s3://sagemaker-us-east-1-835319576252/content-moderation/media/coffee.jpg\n",
      "upload: media/weapon.png to s3://sagemaker-us-east-1-835319576252/content-moderation/media/weapon.png\n",
      "upload: media/GrandTour720.mp4 to s3://sagemaker-us-east-1-835319576252/content-moderation/media/GrandTour720.mp4\n"
     ]
    }
   ],
   "source": [
    "!aws s3 cp --recursive ./media/ s3://$bucket/content-moderation/media/"
   ]
  },
  {
   "cell_type": "code",
   "execution_count": null,
   "metadata": {},
   "outputs": [],
   "source": []
  }
 ],
 "metadata": {
  "kernelspec": {
   "display_name": "conda_python3",
   "language": "python",
   "name": "conda_python3"
  },
  "language_info": {
   "codemirror_mode": {
    "name": "ipython",
    "version": 3
   },
   "file_extension": ".py",
   "mimetype": "text/x-python",
   "name": "python",
   "nbconvert_exporter": "python",
   "pygments_lexer": "ipython3",
   "version": "3.6.10"
  }
 },
 "nbformat": 4,
 "nbformat_minor": 4
}
