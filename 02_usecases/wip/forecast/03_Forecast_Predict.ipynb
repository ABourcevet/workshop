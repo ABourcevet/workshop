{
 "cells": [
  {
   "cell_type": "markdown",
   "metadata": {},
   "source": [
    "# Evaluating Your Forecast\n",
    "\n",
    "So far you have prepared your data, and generated your first Forecast. Now is the time to pull down the predictions from this Predictor, and compare them to the actual observed values. This will let us know the impact of accuracy based on the Forecast.\n",
    "\n",
    "You can extend the approaches here to compare multiple models or predictors and to determine the impact of improved accuracy on your use case.\n",
    "\n",
    "Overview:\n",
    "\n",
    "* Setup\n",
    "* Obtaining a Prediction\n",
    "* Plotting the Actual Results\n",
    "* Plotting the Prediction\n",
    "* Comparing the Prediction to Actual Results"
   ]
  },
  {
   "cell_type": "markdown",
   "metadata": {},
   "source": [
    "## Setup"
   ]
  },
  {
   "cell_type": "markdown",
   "metadata": {},
   "source": [
    "Import the standard Python Libraries that are used in this lesson."
   ]
  },
  {
   "cell_type": "code",
   "execution_count": 7,
   "metadata": {},
   "outputs": [],
   "source": [
    "import json\n",
    "import time\n",
    "import dateutil.parser\n",
    "\n",
    "import boto3\n",
    "import pandas as pd"
   ]
  },
  {
   "cell_type": "markdown",
   "metadata": {},
   "source": [
    "The line below will retrieve your shared variables from the earlier notebooks."
   ]
  },
  {
   "cell_type": "code",
   "execution_count": 8,
   "metadata": {},
   "outputs": [],
   "source": [
    "# %store -r"
   ]
  },
  {
   "cell_type": "markdown",
   "metadata": {},
   "source": [
    "Once again connect to the Forecast APIs via the SDK."
   ]
  },
  {
   "cell_type": "code",
   "execution_count": 9,
   "metadata": {},
   "outputs": [],
   "source": [
    "import sagemaker\n",
    "import boto3\n",
    "\n",
    "sagemaker_session = sagemaker.Session()\n",
    "role = sagemaker.get_execution_role()\n",
    "bucket = sagemaker_session.default_bucket()\n",
    "region = boto3.Session().region_name\n",
    "\n",
    "session = boto3.Session(region_name=region) \n",
    "forecast = session.client(service_name='forecast') \n",
    "forecastquery = session.client(service_name='forecastquery')"
   ]
  },
  {
   "cell_type": "code",
   "execution_count": 10,
   "metadata": {},
   "outputs": [],
   "source": [
    "%store -r forecast_arn\n",
    "%store -r forecast_predictor_arn"
   ]
  },
  {
   "cell_type": "markdown",
   "metadata": {},
   "source": [
    "## Obtaining a Prediction:\n",
    "\n",
    "Now that your predictor is active we will query it to get a prediction that will be plotted later."
   ]
  },
  {
   "cell_type": "code",
   "execution_count": 11,
   "metadata": {},
   "outputs": [],
   "source": [
    "forecastResponse = forecastquery.query_forecast(\n",
    "    ForecastArn=forecast_arn,\n",
    "    Filters={\"item_id\":\"client_12\"}\n",
    ")"
   ]
  },
  {
   "cell_type": "markdown",
   "metadata": {},
   "source": [
    "## Plotting the Actual Results\n",
    "\n",
    "In the first notebook we created a file of observed values, we are now going to select a given date and customer from that dataframe and are going to plot the actual usage data for that customer. "
   ]
  },
  {
   "cell_type": "code",
   "execution_count": 12,
   "metadata": {},
   "outputs": [
    {
     "data": {
      "text/html": [
       "<div>\n",
       "<style scoped>\n",
       "    .dataframe tbody tr th:only-of-type {\n",
       "        vertical-align: middle;\n",
       "    }\n",
       "\n",
       "    .dataframe tbody tr th {\n",
       "        vertical-align: top;\n",
       "    }\n",
       "\n",
       "    .dataframe thead th {\n",
       "        text-align: right;\n",
       "    }\n",
       "</style>\n",
       "<table border=\"1\" class=\"dataframe\">\n",
       "  <thead>\n",
       "    <tr style=\"text-align: right;\">\n",
       "      <th></th>\n",
       "      <th>timestamp</th>\n",
       "      <th>value</th>\n",
       "      <th>item</th>\n",
       "    </tr>\n",
       "  </thead>\n",
       "  <tbody>\n",
       "    <tr>\n",
       "      <th>0</th>\n",
       "      <td>2014-10-31 00:00:00</td>\n",
       "      <td>62.396352</td>\n",
       "      <td>client_12</td>\n",
       "    </tr>\n",
       "    <tr>\n",
       "      <th>1</th>\n",
       "      <td>2014-10-31 01:00:00</td>\n",
       "      <td>59.286899</td>\n",
       "      <td>client_12</td>\n",
       "    </tr>\n",
       "    <tr>\n",
       "      <th>2</th>\n",
       "      <td>2014-10-31 02:00:00</td>\n",
       "      <td>49.129353</td>\n",
       "      <td>client_12</td>\n",
       "    </tr>\n",
       "    <tr>\n",
       "      <th>3</th>\n",
       "      <td>2014-10-31 03:00:00</td>\n",
       "      <td>55.555556</td>\n",
       "      <td>client_12</td>\n",
       "    </tr>\n",
       "    <tr>\n",
       "      <th>4</th>\n",
       "      <td>2014-10-31 04:00:00</td>\n",
       "      <td>50.580431</td>\n",
       "      <td>client_12</td>\n",
       "    </tr>\n",
       "  </tbody>\n",
       "</table>\n",
       "</div>"
      ],
      "text/plain": [
       "             timestamp      value       item\n",
       "0  2014-10-31 00:00:00  62.396352  client_12\n",
       "1  2014-10-31 01:00:00  59.286899  client_12\n",
       "2  2014-10-31 02:00:00  49.129353  client_12\n",
       "3  2014-10-31 03:00:00  55.555556  client_12\n",
       "4  2014-10-31 04:00:00  50.580431  client_12"
      ]
     },
     "execution_count": 12,
     "metadata": {},
     "output_type": "execute_result"
    }
   ],
   "source": [
    "actual_df = pd.read_csv(\"data/item-demand-time-validation.csv\", names=['timestamp','value','item'])\n",
    "actual_df.head()"
   ]
  },
  {
   "cell_type": "markdown",
   "metadata": {},
   "source": [
    "Next we need to reduce the data to just the day we wish to plot, which is the First of November 2014."
   ]
  },
  {
   "cell_type": "code",
   "execution_count": 13,
   "metadata": {},
   "outputs": [],
   "source": [
    "actual_df = actual_df[(actual_df['timestamp'] >= '2014-10-31') & (actual_df['timestamp'] < '2014-11-01')]"
   ]
  },
  {
   "cell_type": "markdown",
   "metadata": {},
   "source": [
    "Lastly, only grab the items for client_12"
   ]
  },
  {
   "cell_type": "code",
   "execution_count": 14,
   "metadata": {},
   "outputs": [
    {
     "data": {
      "text/html": [
       "<div>\n",
       "<style scoped>\n",
       "    .dataframe tbody tr th:only-of-type {\n",
       "        vertical-align: middle;\n",
       "    }\n",
       "\n",
       "    .dataframe tbody tr th {\n",
       "        vertical-align: top;\n",
       "    }\n",
       "\n",
       "    .dataframe thead th {\n",
       "        text-align: right;\n",
       "    }\n",
       "</style>\n",
       "<table border=\"1\" class=\"dataframe\">\n",
       "  <thead>\n",
       "    <tr style=\"text-align: right;\">\n",
       "      <th></th>\n",
       "      <th>timestamp</th>\n",
       "      <th>value</th>\n",
       "      <th>item</th>\n",
       "    </tr>\n",
       "  </thead>\n",
       "  <tbody>\n",
       "    <tr>\n",
       "      <th>0</th>\n",
       "      <td>2014-10-31 00:00:00</td>\n",
       "      <td>62.396352</td>\n",
       "      <td>client_12</td>\n",
       "    </tr>\n",
       "    <tr>\n",
       "      <th>1</th>\n",
       "      <td>2014-10-31 01:00:00</td>\n",
       "      <td>59.286899</td>\n",
       "      <td>client_12</td>\n",
       "    </tr>\n",
       "    <tr>\n",
       "      <th>2</th>\n",
       "      <td>2014-10-31 02:00:00</td>\n",
       "      <td>49.129353</td>\n",
       "      <td>client_12</td>\n",
       "    </tr>\n",
       "    <tr>\n",
       "      <th>3</th>\n",
       "      <td>2014-10-31 03:00:00</td>\n",
       "      <td>55.555556</td>\n",
       "      <td>client_12</td>\n",
       "    </tr>\n",
       "    <tr>\n",
       "      <th>4</th>\n",
       "      <td>2014-10-31 04:00:00</td>\n",
       "      <td>50.580431</td>\n",
       "      <td>client_12</td>\n",
       "    </tr>\n",
       "  </tbody>\n",
       "</table>\n",
       "</div>"
      ],
      "text/plain": [
       "             timestamp      value       item\n",
       "0  2014-10-31 00:00:00  62.396352  client_12\n",
       "1  2014-10-31 01:00:00  59.286899  client_12\n",
       "2  2014-10-31 02:00:00  49.129353  client_12\n",
       "3  2014-10-31 03:00:00  55.555556  client_12\n",
       "4  2014-10-31 04:00:00  50.580431  client_12"
      ]
     },
     "execution_count": 14,
     "metadata": {},
     "output_type": "execute_result"
    }
   ],
   "source": [
    "actual_df = actual_df[(actual_df['item'] == 'client_12')]\n",
    "actual_df.head()"
   ]
  },
  {
   "cell_type": "code",
   "execution_count": 15,
   "metadata": {},
   "outputs": [
    {
     "data": {
      "text/plain": [
       "<AxesSubplot:>"
      ]
     },
     "execution_count": 15,
     "metadata": {},
     "output_type": "execute_result"
    },
    {
     "data": {
      "image/png": "[encoded data removed]",
      "text/plain": [
       "<Figure size 432x288 with 1 Axes>"
      ]
     },
     "metadata": {
      "needs_background": "light"
     },
     "output_type": "display_data"
    }
   ],
   "source": [
    "actual_df.plot()"
   ]
  },
  {
   "cell_type": "markdown",
   "metadata": {},
   "source": [
    "## Plotting the Prediction:\n",
    "\n",
    "Next we need to convert the JSON response from the Predictor to a dataframe that we can plot."
   ]
  },
  {
   "cell_type": "code",
   "execution_count": 16,
   "metadata": {},
   "outputs": [
    {
     "data": {
      "text/html": [
       "<div>\n",
       "<style scoped>\n",
       "    .dataframe tbody tr th:only-of-type {\n",
       "        vertical-align: middle;\n",
       "    }\n",
       "\n",
       "    .dataframe tbody tr th {\n",
       "        vertical-align: top;\n",
       "    }\n",
       "\n",
       "    .dataframe thead th {\n",
       "        text-align: right;\n",
       "    }\n",
       "</style>\n",
       "<table border=\"1\" class=\"dataframe\">\n",
       "  <thead>\n",
       "    <tr style=\"text-align: right;\">\n",
       "      <th></th>\n",
       "      <th>Timestamp</th>\n",
       "      <th>Value</th>\n",
       "    </tr>\n",
       "  </thead>\n",
       "  <tbody>\n",
       "    <tr>\n",
       "      <th>0</th>\n",
       "      <td>2014-10-31T00:00:00</td>\n",
       "      <td>63.739094</td>\n",
       "    </tr>\n",
       "    <tr>\n",
       "      <th>1</th>\n",
       "      <td>2014-10-31T01:00:00</td>\n",
       "      <td>68.324295</td>\n",
       "    </tr>\n",
       "    <tr>\n",
       "      <th>2</th>\n",
       "      <td>2014-10-31T02:00:00</td>\n",
       "      <td>73.379265</td>\n",
       "    </tr>\n",
       "    <tr>\n",
       "      <th>3</th>\n",
       "      <td>2014-10-31T03:00:00</td>\n",
       "      <td>70.110954</td>\n",
       "    </tr>\n",
       "    <tr>\n",
       "      <th>4</th>\n",
       "      <td>2014-10-31T04:00:00</td>\n",
       "      <td>70.576889</td>\n",
       "    </tr>\n",
       "  </tbody>\n",
       "</table>\n",
       "</div>"
      ],
      "text/plain": [
       "             Timestamp      Value\n",
       "0  2014-10-31T00:00:00  63.739094\n",
       "1  2014-10-31T01:00:00  68.324295\n",
       "2  2014-10-31T02:00:00  73.379265\n",
       "3  2014-10-31T03:00:00  70.110954\n",
       "4  2014-10-31T04:00:00  70.576889"
      ]
     },
     "execution_count": 16,
     "metadata": {},
     "output_type": "execute_result"
    }
   ],
   "source": [
    "# Generate DF \n",
    "prediction_df_p10 = pd.DataFrame.from_dict(forecastResponse['Forecast']['Predictions']['p10'])\n",
    "prediction_df_p10.head()"
   ]
  },
  {
   "cell_type": "code",
   "execution_count": 17,
   "metadata": {},
   "outputs": [
    {
     "data": {
      "text/plain": [
       "<AxesSubplot:>"
      ]
     },
     "execution_count": 17,
     "metadata": {},
     "output_type": "execute_result"
    },
    {
     "data": {
      "image/png": "[encoded data removed]",
      "text/plain": [
       "<Figure size 432x288 with 1 Axes>"
      ]
     },
     "metadata": {
      "needs_background": "light"
     },
     "output_type": "display_data"
    }
   ],
   "source": [
    "# Plot\n",
    "prediction_df_p10.plot()"
   ]
  },
  {
   "cell_type": "markdown",
   "metadata": {},
   "source": [
    "The above merely did the p10 values, now do the same for p50 and p90."
   ]
  },
  {
   "cell_type": "code",
   "execution_count": 18,
   "metadata": {},
   "outputs": [],
   "source": [
    "prediction_df_p50 = pd.DataFrame.from_dict(forecastResponse['Forecast']['Predictions']['p50'])\n",
    "prediction_df_p90 = pd.DataFrame.from_dict(forecastResponse['Forecast']['Predictions']['p90'])"
   ]
  },
  {
   "cell_type": "markdown",
   "metadata": {},
   "source": [
    "## Comparing the Prediction to Actual Results\n",
    "\n",
    "After obtaining the dataframes the next task is to plot them together to determine the best fit."
   ]
  },
  {
   "cell_type": "code",
   "execution_count": 19,
   "metadata": {},
   "outputs": [],
   "source": [
    "# We start by creating a dataframe to house our content, here source will be which dataframe it came from\n",
    "results_df = pd.DataFrame(columns=['timestamp', 'value', 'source'])"
   ]
  },
  {
   "cell_type": "markdown",
   "metadata": {},
   "source": [
    "Import the observed values into the dataframe:"
   ]
  },
  {
   "cell_type": "code",
   "execution_count": 20,
   "metadata": {},
   "outputs": [],
   "source": [
    "for index, row in actual_df.iterrows():\n",
    "    clean_timestamp = dateutil.parser.parse(row['timestamp'])\n",
    "    results_df = results_df.append({'timestamp' : clean_timestamp , 'value' : row['value'], 'source': 'actual'} , ignore_index=True)"
   ]
  },
  {
   "cell_type": "code",
   "execution_count": 21,
   "metadata": {},
   "outputs": [
    {
     "data": {
      "text/html": [
       "<div>\n",
       "<style scoped>\n",
       "    .dataframe tbody tr th:only-of-type {\n",
       "        vertical-align: middle;\n",
       "    }\n",
       "\n",
       "    .dataframe tbody tr th {\n",
       "        vertical-align: top;\n",
       "    }\n",
       "\n",
       "    .dataframe thead th {\n",
       "        text-align: right;\n",
       "    }\n",
       "</style>\n",
       "<table border=\"1\" class=\"dataframe\">\n",
       "  <thead>\n",
       "    <tr style=\"text-align: right;\">\n",
       "      <th></th>\n",
       "      <th>timestamp</th>\n",
       "      <th>value</th>\n",
       "      <th>source</th>\n",
       "    </tr>\n",
       "  </thead>\n",
       "  <tbody>\n",
       "    <tr>\n",
       "      <th>0</th>\n",
       "      <td>2014-10-31 00:00:00</td>\n",
       "      <td>62.396352</td>\n",
       "      <td>actual</td>\n",
       "    </tr>\n",
       "    <tr>\n",
       "      <th>1</th>\n",
       "      <td>2014-10-31 01:00:00</td>\n",
       "      <td>59.286899</td>\n",
       "      <td>actual</td>\n",
       "    </tr>\n",
       "    <tr>\n",
       "      <th>2</th>\n",
       "      <td>2014-10-31 02:00:00</td>\n",
       "      <td>49.129353</td>\n",
       "      <td>actual</td>\n",
       "    </tr>\n",
       "    <tr>\n",
       "      <th>3</th>\n",
       "      <td>2014-10-31 03:00:00</td>\n",
       "      <td>55.555556</td>\n",
       "      <td>actual</td>\n",
       "    </tr>\n",
       "    <tr>\n",
       "      <th>4</th>\n",
       "      <td>2014-10-31 04:00:00</td>\n",
       "      <td>50.580431</td>\n",
       "      <td>actual</td>\n",
       "    </tr>\n",
       "  </tbody>\n",
       "</table>\n",
       "</div>"
      ],
      "text/plain": [
       "            timestamp      value  source\n",
       "0 2014-10-31 00:00:00  62.396352  actual\n",
       "1 2014-10-31 01:00:00  59.286899  actual\n",
       "2 2014-10-31 02:00:00  49.129353  actual\n",
       "3 2014-10-31 03:00:00  55.555556  actual\n",
       "4 2014-10-31 04:00:00  50.580431  actual"
      ]
     },
     "execution_count": 21,
     "metadata": {},
     "output_type": "execute_result"
    }
   ],
   "source": [
    "# To show the new dataframe\n",
    "results_df.head()"
   ]
  },
  {
   "cell_type": "code",
   "execution_count": 22,
   "metadata": {},
   "outputs": [],
   "source": [
    "# Now add the P10, P50, and P90 Values\n",
    "for index, row in prediction_df_p10.iterrows():\n",
    "    clean_timestamp = dateutil.parser.parse(row['Timestamp'])\n",
    "    results_df = results_df.append({'timestamp' : clean_timestamp , 'value' : row['Value'], 'source': 'p10'} , ignore_index=True)\n",
    "for index, row in prediction_df_p50.iterrows():\n",
    "    clean_timestamp = dateutil.parser.parse(row['Timestamp'])\n",
    "    results_df = results_df.append({'timestamp' : clean_timestamp , 'value' : row['Value'], 'source': 'p50'} , ignore_index=True)\n",
    "for index, row in prediction_df_p90.iterrows():\n",
    "    clean_timestamp = dateutil.parser.parse(row['Timestamp'])\n",
    "    results_df = results_df.append({'timestamp' : clean_timestamp , 'value' : row['Value'], 'source': 'p90'} , ignore_index=True)"
   ]
  },
  {
   "cell_type": "code",
   "execution_count": 23,
   "metadata": {},
   "outputs": [
    {
     "data": {
      "text/html": [
       "<div>\n",
       "<style scoped>\n",
       "    .dataframe tbody tr th:only-of-type {\n",
       "        vertical-align: middle;\n",
       "    }\n",
       "\n",
       "    .dataframe tbody tr th {\n",
       "        vertical-align: top;\n",
       "    }\n",
       "\n",
       "    .dataframe thead th {\n",
       "        text-align: right;\n",
       "    }\n",
       "</style>\n",
       "<table border=\"1\" class=\"dataframe\">\n",
       "  <thead>\n",
       "    <tr style=\"text-align: right;\">\n",
       "      <th></th>\n",
       "      <th>timestamp</th>\n",
       "      <th>value</th>\n",
       "      <th>source</th>\n",
       "    </tr>\n",
       "  </thead>\n",
       "  <tbody>\n",
       "    <tr>\n",
       "      <th>0</th>\n",
       "      <td>2014-10-31 00:00:00</td>\n",
       "      <td>62.396352</td>\n",
       "      <td>actual</td>\n",
       "    </tr>\n",
       "    <tr>\n",
       "      <th>1</th>\n",
       "      <td>2014-10-31 01:00:00</td>\n",
       "      <td>59.286899</td>\n",
       "      <td>actual</td>\n",
       "    </tr>\n",
       "    <tr>\n",
       "      <th>2</th>\n",
       "      <td>2014-10-31 02:00:00</td>\n",
       "      <td>49.129353</td>\n",
       "      <td>actual</td>\n",
       "    </tr>\n",
       "    <tr>\n",
       "      <th>3</th>\n",
       "      <td>2014-10-31 03:00:00</td>\n",
       "      <td>55.555556</td>\n",
       "      <td>actual</td>\n",
       "    </tr>\n",
       "    <tr>\n",
       "      <th>4</th>\n",
       "      <td>2014-10-31 04:00:00</td>\n",
       "      <td>50.580431</td>\n",
       "      <td>actual</td>\n",
       "    </tr>\n",
       "    <tr>\n",
       "      <th>...</th>\n",
       "      <td>...</td>\n",
       "      <td>...</td>\n",
       "      <td>...</td>\n",
       "    </tr>\n",
       "    <tr>\n",
       "      <th>91</th>\n",
       "      <td>2014-10-31 19:00:00</td>\n",
       "      <td>183.845062</td>\n",
       "      <td>p90</td>\n",
       "    </tr>\n",
       "    <tr>\n",
       "      <th>92</th>\n",
       "      <td>2014-10-31 20:00:00</td>\n",
       "      <td>166.067169</td>\n",
       "      <td>p90</td>\n",
       "    </tr>\n",
       "    <tr>\n",
       "      <th>93</th>\n",
       "      <td>2014-10-31 21:00:00</td>\n",
       "      <td>121.030724</td>\n",
       "      <td>p90</td>\n",
       "    </tr>\n",
       "    <tr>\n",
       "      <th>94</th>\n",
       "      <td>2014-10-31 22:00:00</td>\n",
       "      <td>103.018616</td>\n",
       "      <td>p90</td>\n",
       "    </tr>\n",
       "    <tr>\n",
       "      <th>95</th>\n",
       "      <td>2014-10-31 23:00:00</td>\n",
       "      <td>98.017059</td>\n",
       "      <td>p90</td>\n",
       "    </tr>\n",
       "  </tbody>\n",
       "</table>\n",
       "<p>96 rows × 3 columns</p>\n",
       "</div>"
      ],
      "text/plain": [
       "             timestamp       value  source\n",
       "0  2014-10-31 00:00:00   62.396352  actual\n",
       "1  2014-10-31 01:00:00   59.286899  actual\n",
       "2  2014-10-31 02:00:00   49.129353  actual\n",
       "3  2014-10-31 03:00:00   55.555556  actual\n",
       "4  2014-10-31 04:00:00   50.580431  actual\n",
       "..                 ...         ...     ...\n",
       "91 2014-10-31 19:00:00  183.845062     p90\n",
       "92 2014-10-31 20:00:00  166.067169     p90\n",
       "93 2014-10-31 21:00:00  121.030724     p90\n",
       "94 2014-10-31 22:00:00  103.018616     p90\n",
       "95 2014-10-31 23:00:00   98.017059     p90\n",
       "\n",
       "[96 rows x 3 columns]"
      ]
     },
     "execution_count": 23,
     "metadata": {},
     "output_type": "execute_result"
    }
   ],
   "source": [
    "results_df"
   ]
  },
  {
   "cell_type": "code",
   "execution_count": 24,
   "metadata": {},
   "outputs": [
    {
     "data": {
      "text/html": [
       "<div>\n",
       "<style scoped>\n",
       "    .dataframe tbody tr th:only-of-type {\n",
       "        vertical-align: middle;\n",
       "    }\n",
       "\n",
       "    .dataframe tbody tr th {\n",
       "        vertical-align: top;\n",
       "    }\n",
       "\n",
       "    .dataframe thead th {\n",
       "        text-align: right;\n",
       "    }\n",
       "</style>\n",
       "<table border=\"1\" class=\"dataframe\">\n",
       "  <thead>\n",
       "    <tr style=\"text-align: right;\">\n",
       "      <th>source</th>\n",
       "      <th>actual</th>\n",
       "      <th>p10</th>\n",
       "      <th>p50</th>\n",
       "      <th>p90</th>\n",
       "    </tr>\n",
       "    <tr>\n",
       "      <th>timestamp</th>\n",
       "      <th></th>\n",
       "      <th></th>\n",
       "      <th></th>\n",
       "      <th></th>\n",
       "    </tr>\n",
       "  </thead>\n",
       "  <tbody>\n",
       "    <tr>\n",
       "      <th>2014-10-31 00:00:00</th>\n",
       "      <td>62.396352</td>\n",
       "      <td>63.739094</td>\n",
       "      <td>69.637909</td>\n",
       "      <td>74.483139</td>\n",
       "    </tr>\n",
       "    <tr>\n",
       "      <th>2014-10-31 01:00:00</th>\n",
       "      <td>59.286899</td>\n",
       "      <td>68.324295</td>\n",
       "      <td>73.748146</td>\n",
       "      <td>79.344429</td>\n",
       "    </tr>\n",
       "    <tr>\n",
       "      <th>2014-10-31 02:00:00</th>\n",
       "      <td>49.129353</td>\n",
       "      <td>73.379265</td>\n",
       "      <td>77.700432</td>\n",
       "      <td>84.202301</td>\n",
       "    </tr>\n",
       "    <tr>\n",
       "      <th>2014-10-31 03:00:00</th>\n",
       "      <td>55.555556</td>\n",
       "      <td>70.110954</td>\n",
       "      <td>75.931252</td>\n",
       "      <td>82.099564</td>\n",
       "    </tr>\n",
       "    <tr>\n",
       "      <th>2014-10-31 04:00:00</th>\n",
       "      <td>50.580431</td>\n",
       "      <td>70.576889</td>\n",
       "      <td>75.660271</td>\n",
       "      <td>80.301422</td>\n",
       "    </tr>\n",
       "    <tr>\n",
       "      <th>2014-10-31 05:00:00</th>\n",
       "      <td>55.140962</td>\n",
       "      <td>73.692039</td>\n",
       "      <td>80.126129</td>\n",
       "      <td>86.148819</td>\n",
       "    </tr>\n",
       "    <tr>\n",
       "      <th>2014-10-31 06:00:00</th>\n",
       "      <td>47.470978</td>\n",
       "      <td>77.817131</td>\n",
       "      <td>83.226570</td>\n",
       "      <td>92.110252</td>\n",
       "    </tr>\n",
       "    <tr>\n",
       "      <th>2014-10-31 07:00:00</th>\n",
       "      <td>49.543947</td>\n",
       "      <td>82.586388</td>\n",
       "      <td>88.822586</td>\n",
       "      <td>97.317825</td>\n",
       "    </tr>\n",
       "    <tr>\n",
       "      <th>2014-10-31 08:00:00</th>\n",
       "      <td>72.346600</td>\n",
       "      <td>97.615158</td>\n",
       "      <td>111.521873</td>\n",
       "      <td>127.942665</td>\n",
       "    </tr>\n",
       "    <tr>\n",
       "      <th>2014-10-31 09:00:00</th>\n",
       "      <td>146.558872</td>\n",
       "      <td>164.963120</td>\n",
       "      <td>198.107590</td>\n",
       "      <td>224.939774</td>\n",
       "    </tr>\n",
       "    <tr>\n",
       "      <th>2014-10-31 10:00:00</th>\n",
       "      <td>164.386401</td>\n",
       "      <td>179.423676</td>\n",
       "      <td>215.372787</td>\n",
       "      <td>253.174896</td>\n",
       "    </tr>\n",
       "    <tr>\n",
       "      <th>2014-10-31 11:00:00</th>\n",
       "      <td>164.179104</td>\n",
       "      <td>164.862473</td>\n",
       "      <td>200.427139</td>\n",
       "      <td>238.160095</td>\n",
       "    </tr>\n",
       "    <tr>\n",
       "      <th>2014-10-31 12:00:00</th>\n",
       "      <td>172.056385</td>\n",
       "      <td>168.325089</td>\n",
       "      <td>199.903824</td>\n",
       "      <td>240.320511</td>\n",
       "    </tr>\n",
       "    <tr>\n",
       "      <th>2014-10-31 13:00:00</th>\n",
       "      <td>147.595357</td>\n",
       "      <td>143.743408</td>\n",
       "      <td>171.976364</td>\n",
       "      <td>202.352005</td>\n",
       "    </tr>\n",
       "    <tr>\n",
       "      <th>2014-10-31 14:00:00</th>\n",
       "      <td>123.134328</td>\n",
       "      <td>131.954865</td>\n",
       "      <td>154.203995</td>\n",
       "      <td>181.336441</td>\n",
       "    </tr>\n",
       "    <tr>\n",
       "      <th>2014-10-31 15:00:00</th>\n",
       "      <td>167.081260</td>\n",
       "      <td>161.921021</td>\n",
       "      <td>194.489182</td>\n",
       "      <td>227.129227</td>\n",
       "    </tr>\n",
       "    <tr>\n",
       "      <th>2014-10-31 16:00:00</th>\n",
       "      <td>148.631841</td>\n",
       "      <td>149.748520</td>\n",
       "      <td>186.653961</td>\n",
       "      <td>220.206970</td>\n",
       "    </tr>\n",
       "    <tr>\n",
       "      <th>2014-10-31 17:00:00</th>\n",
       "      <td>147.180763</td>\n",
       "      <td>148.002594</td>\n",
       "      <td>174.835846</td>\n",
       "      <td>204.490997</td>\n",
       "    </tr>\n",
       "    <tr>\n",
       "      <th>2014-10-31 18:00:00</th>\n",
       "      <td>169.983416</td>\n",
       "      <td>150.067383</td>\n",
       "      <td>173.546799</td>\n",
       "      <td>207.068649</td>\n",
       "    </tr>\n",
       "    <tr>\n",
       "      <th>2014-10-31 19:00:00</th>\n",
       "      <td>151.119403</td>\n",
       "      <td>139.557724</td>\n",
       "      <td>163.068588</td>\n",
       "      <td>183.845062</td>\n",
       "    </tr>\n",
       "    <tr>\n",
       "      <th>2014-10-31 20:00:00</th>\n",
       "      <td>127.280265</td>\n",
       "      <td>117.710060</td>\n",
       "      <td>144.686188</td>\n",
       "      <td>166.067169</td>\n",
       "    </tr>\n",
       "    <tr>\n",
       "      <th>2014-10-31 21:00:00</th>\n",
       "      <td>72.139303</td>\n",
       "      <td>88.990173</td>\n",
       "      <td>106.405159</td>\n",
       "      <td>121.030724</td>\n",
       "    </tr>\n",
       "    <tr>\n",
       "      <th>2014-10-31 22:00:00</th>\n",
       "      <td>44.776119</td>\n",
       "      <td>74.848923</td>\n",
       "      <td>88.936264</td>\n",
       "      <td>103.018616</td>\n",
       "    </tr>\n",
       "    <tr>\n",
       "      <th>2014-10-31 23:00:00</th>\n",
       "      <td>48.507463</td>\n",
       "      <td>71.419968</td>\n",
       "      <td>83.031013</td>\n",
       "      <td>98.017059</td>\n",
       "    </tr>\n",
       "  </tbody>\n",
       "</table>\n",
       "</div>"
      ],
      "text/plain": [
       "source                   actual         p10         p50         p90\n",
       "timestamp                                                          \n",
       "2014-10-31 00:00:00   62.396352   63.739094   69.637909   74.483139\n",
       "2014-10-31 01:00:00   59.286899   68.324295   73.748146   79.344429\n",
       "2014-10-31 02:00:00   49.129353   73.379265   77.700432   84.202301\n",
       "2014-10-31 03:00:00   55.555556   70.110954   75.931252   82.099564\n",
       "2014-10-31 04:00:00   50.580431   70.576889   75.660271   80.301422\n",
       "2014-10-31 05:00:00   55.140962   73.692039   80.126129   86.148819\n",
       "2014-10-31 06:00:00   47.470978   77.817131   83.226570   92.110252\n",
       "2014-10-31 07:00:00   49.543947   82.586388   88.822586   97.317825\n",
       "2014-10-31 08:00:00   72.346600   97.615158  111.521873  127.942665\n",
       "2014-10-31 09:00:00  146.558872  164.963120  198.107590  224.939774\n",
       "2014-10-31 10:00:00  164.386401  179.423676  215.372787  253.174896\n",
       "2014-10-31 11:00:00  164.179104  164.862473  200.427139  238.160095\n",
       "2014-10-31 12:00:00  172.056385  168.325089  199.903824  240.320511\n",
       "2014-10-31 13:00:00  147.595357  143.743408  171.976364  202.352005\n",
       "2014-10-31 14:00:00  123.134328  131.954865  154.203995  181.336441\n",
       "2014-10-31 15:00:00  167.081260  161.921021  194.489182  227.129227\n",
       "2014-10-31 16:00:00  148.631841  149.748520  186.653961  220.206970\n",
       "2014-10-31 17:00:00  147.180763  148.002594  174.835846  204.490997\n",
       "2014-10-31 18:00:00  169.983416  150.067383  173.546799  207.068649\n",
       "2014-10-31 19:00:00  151.119403  139.557724  163.068588  183.845062\n",
       "2014-10-31 20:00:00  127.280265  117.710060  144.686188  166.067169\n",
       "2014-10-31 21:00:00   72.139303   88.990173  106.405159  121.030724\n",
       "2014-10-31 22:00:00   44.776119   74.848923   88.936264  103.018616\n",
       "2014-10-31 23:00:00   48.507463   71.419968   83.031013   98.017059"
      ]
     },
     "execution_count": 24,
     "metadata": {},
     "output_type": "execute_result"
    }
   ],
   "source": [
    "pivot_df = results_df.pivot(columns='source', values='value', index=\"timestamp\")\n",
    "\n",
    "pivot_df"
   ]
  },
  {
   "cell_type": "code",
   "execution_count": 25,
   "metadata": {},
   "outputs": [
    {
     "data": {
      "text/plain": [
       "<AxesSubplot:xlabel='timestamp'>"
      ]
     },
     "execution_count": 25,
     "metadata": {},
     "output_type": "execute_result"
    },
    {
     "data": {
      "image/png": "[encoded data removed]",
      "text/plain": [
       "<Figure size 432x288 with 1 Axes>"
      ]
     },
     "metadata": {
      "needs_background": "light"
     },
     "output_type": "display_data"
    }
   ],
   "source": [
    "pivot_df.plot()"
   ]
  },
  {
   "cell_type": "markdown",
   "metadata": {},
   "source": [
    "Once you are done exploring this Forecast you can cleanup all the work that was done by executing the cells inside `Cleanup.ipynb` within this folder."
   ]
  }
 ],
 "metadata": {
  "kernelspec": {
   "display_name": "conda_python3",
   "language": "python",
   "name": "conda_python3"
  },
  "language_info": {
   "codemirror_mode": {
    "name": "ipython",
    "version": 3
   },
   "file_extension": ".py",
   "mimetype": "text/x-python",
   "name": "python",
   "nbconvert_exporter": "python",
   "pygments_lexer": "ipython3",
   "version": "3.6.10"
  }
 },
 "nbformat": 4,
 "nbformat_minor": 4
}
