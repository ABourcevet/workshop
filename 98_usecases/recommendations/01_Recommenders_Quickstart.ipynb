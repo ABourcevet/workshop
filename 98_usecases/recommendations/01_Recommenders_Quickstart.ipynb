{
 "cells": [
  {
   "cell_type": "markdown",
   "metadata": {
    "colab_type": "text",
    "id": "sT8AyHRMNh41"
   },
   "source": [
    "# TensorFlow Recommenders: Quickstart"
   ]
  },
  {
   "cell_type": "markdown",
   "metadata": {
    "colab_type": "text",
    "id": "8f-reQ11gbLB"
   },
   "source": [
    "In this tutorial, we build a simple matrix factorization model using the [MovieLens 100K dataset](https://grouplens.org/datasets/movielens/100k/) with TFRS. We can use this model to recommend movies for a given user."
   ]
  },
  {
   "cell_type": "markdown",
   "metadata": {
    "colab_type": "text",
    "id": "qA00wBE2Ntdm"
   },
   "source": [
    "### Import TFRS\n",
    "\n",
    "First, install and import TFRS:"
   ]
  },
  {
   "cell_type": "code",
   "execution_count": 8,
   "metadata": {
    "colab": {},
    "colab_type": "code",
    "id": "n3oYt3R6Nr9l"
   },
   "outputs": [],
   "source": [
    "from typing import Dict, Text\n",
    "\n",
    "import numpy as np\n",
    "import tensorflow as tf\n",
    "\n",
    "import tensorflow_datasets as tfds\n",
    "import tensorflow_recommenders as tfrs"
   ]
  },
  {
   "cell_type": "markdown",
   "metadata": {
    "colab_type": "text",
    "id": "zCxQ1CZcO2wh"
   },
   "source": [
    "### Read the data"
   ]
  },
  {
   "cell_type": "code",
   "execution_count": 9,
   "metadata": {
    "colab": {},
    "colab_type": "code",
    "id": "M-mxBYjdO5m7"
   },
   "outputs": [],
   "source": [
    "# Ratings data.\n",
    "ratings = tfds.load('movie_lens/100k-ratings', split=\"train\")\n",
    "# Features of all the available movies.\n",
    "movies = tfds.load('movie_lens/100k-movies', split=\"train\")"
   ]
  },
  {
   "cell_type": "code",
   "execution_count": 11,
   "metadata": {},
   "outputs": [
    {
     "name": "stdout",
     "output_type": "stream",
     "text": [
      "<PrefetchDataset shapes: {bucketized_user_age: (), movie_genres: (None,), movie_id: (), movie_title: (), raw_user_age: (), timestamp: (), user_gender: (), user_id: (), user_occupation_label: (), user_occupation_text: (), user_rating: (), user_zip_code: ()}, types: {bucketized_user_age: tf.float32, movie_genres: tf.int64, movie_id: tf.string, movie_title: tf.string, raw_user_age: tf.float32, timestamp: tf.int64, user_gender: tf.bool, user_id: tf.string, user_occupation_label: tf.int64, user_occupation_text: tf.string, user_rating: tf.float32, user_zip_code: tf.string}>\n"
     ]
    }
   ],
   "source": [
    "print(ratings)"
   ]
  },
  {
   "cell_type": "code",
   "execution_count": 12,
   "metadata": {},
   "outputs": [
    {
     "name": "stdout",
     "output_type": "stream",
     "text": [
      "<PrefetchDataset shapes: {movie_genres: (None,), movie_id: (), movie_title: ()}, types: {movie_genres: tf.int64, movie_id: tf.string, movie_title: tf.string}>\n"
     ]
    }
   ],
   "source": [
    "print(movies)"
   ]
  },
  {
   "cell_type": "code",
   "execution_count": 13,
   "metadata": {},
   "outputs": [],
   "source": [
    "# Select the basic features.\n",
    "ratings = ratings.map(lambda x: {\n",
    "    \"movie_title\": x[\"movie_title\"],\n",
    "    \"user_id\": x[\"user_id\"]\n",
    "})\n",
    "movies = movies.map(lambda x: x[\"movie_title\"])"
   ]
  },
  {
   "cell_type": "code",
   "execution_count": 14,
   "metadata": {},
   "outputs": [
    {
     "name": "stdout",
     "output_type": "stream",
     "text": [
      "<class 'tensorflow.python.data.ops.dataset_ops.MapDataset'>\n",
      "<class 'tensorflow.python.data.ops.dataset_ops.MapDataset'>\n"
     ]
    }
   ],
   "source": [
    "print(type(ratings))\n",
    "print(type(movies))"
   ]
  },
  {
   "cell_type": "markdown",
   "metadata": {
    "colab_type": "text",
    "id": "5W0HSfmSNCWm"
   },
   "source": [
    "Build vocabularies to convert user ids and movie titles into integer indices for embedding layers:"
   ]
  },
  {
   "cell_type": "code",
   "execution_count": 3,
   "metadata": {
    "colab": {},
    "colab_type": "code",
    "id": "9I1VTEjHzpfX"
   },
   "outputs": [],
   "source": [
    "user_ids_vocabulary = tf.keras.layers.experimental.preprocessing.StringLookup(mask_token=None)\n",
    "user_ids_vocabulary.adapt(ratings.map(lambda x: x[\"user_id\"]))\n",
    "\n",
    "movie_titles_vocabulary = tf.keras.layers.experimental.preprocessing.StringLookup(mask_token=None)\n",
    "movie_titles_vocabulary.adapt(movies)"
   ]
  },
  {
   "cell_type": "code",
   "execution_count": 16,
   "metadata": {},
   "outputs": [
    {
     "name": "stdout",
     "output_type": "stream",
     "text": [
      "['[UNK]', '405', '655', '13', '450', '276', '416', '537', '303', '234', '393', '181', '279', '429', '846', '7', '94', '682', '308', '92', '293', '222', '201', '59', '435', '378', '880', '417', '896', '592', '796', '758', '561', '130', '406', '551', '334', '804', '268', '474', '889', '269', '727', '399', '642', '916', '145', '650', '363', '151', '524', '749', '194', '387', '90', '648', '291', '864', '311', '747', '85', '286', '327', '653', '328', '385', '299', '497', '95', '271', '457', '18', '301', '532', '374', '805', '178', '1', '389', '870', '716', '883', '833', '472', '437', '313', '533', '881', '280', '339', '504', '184', '788', '894', '666', '314', '506', '932', '886', '798', '244', '343', '707', '606', '454', '109', '373', '354', '782', '62', '345', '790', '487', '207', '622', '892', '407', '588', '500', '774', '660', '312', '305', '711', '43', '535', '919', '854', '456', '618', '200', '102', '49', '495', '87', '6', '851', '868', '60', '256', '643', '452', '144', '843', '807', '425', '409', '479', '342', '64', '347', '840', '543', '379', '295', '246', '514', '346', '297', '659', '344', '486', '455', '577', '56', '326', '189', '897', '823', '267', '933', '128', '10', '815', '458', '42', '332', '125', '627', '198', '119', '11', '21', '174', '766', '5', '934', '318', '158', '398', '887', '621', '943', '82', '751', '721', '715', '757', '664', '586', '862', '608', '536', '712', '545', '380', '773', '249', '503', '262', '795', '254', '239', '663', '694', '593', '453', '83', '567', '548', '693', '58', '488', '320', '401', '44', '23', '848', '521', '294', '290', '699', '566', '498', '394', '738', '639', '601', '907', '654', '330', '296', '847', '221', '825', '436', '468', '442', '116', '936', '665', '325', '624', '224', '806', '16', '484', '447', '709', '270', '882', '72', '527', '99', '903', '899', '634', '542', '493', '445', '878', '541', '463', '230', '110', '913', '210', '70', '216', '336', '763', '496', '22', '214', '922', '698', '381', '298', '213', '321', '901', '671', '292', '236', '263', '645', '250', '661', '629', '391', '38', '361', '193', '927', '264', '160', '890', '632', '459', '197', '786', '871', '826', '690', '177', '705', '554', '478', '505', '307', '188', '392', '104', '921', '620', '233', '764', '756', '640', '489', '938', '748', '630', '617', '940', '863', '733', '26', '159', '141', '830', '625', '57', '152', '776', '708', '697', '223', '828', '741', '637', '15', '918', '615', '885', '835', '499', '397', '360', '560', '466', '426', '669', '553', '523', '911', '91', '587', '451', '14', '422', '253', '595', '195', '867', '275', '235', '838', '717', '63', '232', '215', '186', '115', '704', '605', '875', '619', '600', '323', '508', '315', '710', '684', '117', '724', '591', '552', '731', '476', '255', '924', '76', '877', '844', '568', '538', '243', '65', '585', '534', '465', '942', '75', '28', '25', '676', '251', '89', '559', '357', '217', '802', '683', '610', '449', '370', '338', '316', '288', '923', '908', '579', '121', '831', '752', '518', '501', '77', '562', '872', '860', '686', '658', '383', '274', '118', '771', '569', '331', '168', '167', '84', '526', '460', '402', '24', '746', '719', '638', '101', '865', '761', '73', '48', '372', '324', '778', '69', '54', '430', '329', '148', '829', '770', '768', '734', '423', '206', '106', '97', '930', '540', '180', '176', '164', '821', '679', '582', '432', '421', '287', '2', '931', '122', '910', '745', '480', '893', '8', '546', '483', '190', '100', '81', '647', '633', '507', '411', '367', '365', '348', '227', '161', '839', '787', '753', '490', '470', '395', '37', '257', '96', '539', '52', '481', '248', '187', '793', '79', '780', '492', '428', '135', '834', '525', '396', '3', '277', '123', '912', '735', '557', '528', '464', '382', '283', '218', '183', '555', '41', '388', '850', '573', '440', '412', '371', '322', '272', '157', '154', '138', '12', '113', '836', '413', '403', '350', '226', '939', '929', '902', '852', '677', '519', '590', '45', '237', '20', '185', '114', '904', '891', '869', '792', '703', '667', '603', '599', '580', '494', '284', '137', '837', '670', '668', '574', '265', '259', '112', '900', '623', '530', '368', '126', '714', '556', '467', '434', '424', '404', '351', '340', '884', '861', '616', '589', '529', '469', '358', '30', '203', '173', '781', '722', '644', '611', '352', '204', '179', '162', '906', '853', '760', '674', '597', '433', '349', '32', '937', '905', '692', '641', '550', '515', '199', '935', '859', '794', '784', '74', '718', '614', '196', '755', '730', '71', '695', '680', '66', '646', '448', '175', '779', '767', '607', '517', '502', '211', '169', '156', '817', '777', '689', '576', '446', '420', '31', '149', '917', '814', '743', '739', '673', '565', '477', '473', '40', '192', '136', '874', '754', '68', '675', '635', '564', '337', '29', '803', '789', '772', '750', '737', '701', '509', '491', '462', '438', '377', '366', '209', '208', '142', '108', '928', '925', '759', '691', '626', '419', '306', '285', '150', '845', '841', '702', '544', '471', '439', '427', '390', '898', '783', '720', '713', '67', '563', '531', '522', '510', '376', '229', '165', '131', '129', '879', '813', '80', '769', '706', '696', '672', '657', '602', '238', '146', '103', '827', '819', '800', '775', '678', '613', '609', '581', '53', '410', '375', '219', '182', '171', '17', '98', '842', '785', '744', '628', '612', '604', '583', '46', '408', '359', '289', '261', '225', '191', '172', '920', '915', '909', '856', '810', '801', '797', '742', '728', '575', '485', '482', '355', '333', '304', '281', '247', '133', '120', '832', '822', '816', '791', '725', '598', '594', '549', '47', '414', '362', '353', '35', '27', '212', '134', '799', '736', '726', '688', '656', '649', '584', '578', '511', '50', '444', '443', '415', '4', '356', '33', '260', '240', '139', '124', '111', '914', '86', '855', '849', '808', '765', '662', '547', '520', '51', '461', '386', '319', '278', '266', '258', '241', '163', '153', '127', '105', '941', '9', '857', '723', '681', '652', '570', '513', '400', '39', '384', '369', '335', '317', '282', '273', '245', '220', '205', '170', '155', '132', '107', '88', '876', '858', '820', '818', '811', '78', '762', '729', '700', '687', '651', '61', '55', '516', '512', '431', '341', '310', '302', '252', '231', '228', '140', '93', '926', '895', '888', '873', '866', '824', '812', '809', '740', '732', '685', '636', '631', '596', '572', '571', '558', '475', '441', '418', '364', '36', '34', '309', '300', '242', '202', '19', '166', '147', '143']\n"
     ]
    }
   ],
   "source": [
    "print(user_ids_vocabulary.get_vocabulary())"
   ]
  },
  {
   "cell_type": "markdown",
   "metadata": {
    "colab_type": "text",
    "id": "Lrch6rVBOB9Q"
   },
   "source": [
    "### Define a model\n",
    "\n",
    "We can define a TFRS model by inheriting from `tfrs.Model` and implementing the `compute_loss` method:"
   ]
  },
  {
   "cell_type": "code",
   "execution_count": 4,
   "metadata": {
    "colab": {},
    "colab_type": "code",
    "id": "e5dNbDZwOIHR"
   },
   "outputs": [],
   "source": [
    "class MovieLensModel(tfrs.Model):\n",
    "  # We derive from a custom base class to help reduce boilerplate. Under the hood,\n",
    "  # these are still plain Keras Models.\n",
    "\n",
    "  def __init__(\n",
    "      self,\n",
    "      user_model: tf.keras.Model,\n",
    "      movie_model: tf.keras.Model,\n",
    "      task: tfrs.tasks.Retrieval):\n",
    "    super().__init__()\n",
    "\n",
    "    # Set up user and movie representations.\n",
    "    self.user_model = user_model\n",
    "    self.movie_model = movie_model\n",
    "\n",
    "    # Set up a retrieval task.\n",
    "    self.task = task\n",
    "\n",
    "  def compute_loss(self, features: Dict[Text, tf.Tensor], training=False) -> tf.Tensor:\n",
    "    # Define how the loss is computed.\n",
    "\n",
    "    user_embeddings = self.user_model(features[\"user_id\"])\n",
    "    movie_embeddings = self.movie_model(features[\"movie_title\"])\n",
    "\n",
    "    return self.task(user_embeddings, movie_embeddings)"
   ]
  },
  {
   "cell_type": "markdown",
   "metadata": {
    "colab_type": "text",
    "id": "wdwtgUCEOI8y"
   },
   "source": [
    "Define the two models and the retrieval task."
   ]
  },
  {
   "cell_type": "code",
   "execution_count": 5,
   "metadata": {
    "colab": {},
    "colab_type": "code",
    "id": "EvtnUN6aUY4U"
   },
   "outputs": [],
   "source": [
    "# Define user and movie models.\n",
    "user_model = tf.keras.Sequential([\n",
    "    user_ids_vocabulary,\n",
    "    tf.keras.layers.Embedding(user_ids_vocabulary.vocab_size(), 64)\n",
    "])\n",
    "movie_model = tf.keras.Sequential([\n",
    "    movie_titles_vocabulary,\n",
    "    tf.keras.layers.Embedding(movie_titles_vocabulary.vocab_size(), 64)\n",
    "])\n",
    "\n",
    "# Define your objectives.\n",
    "task = tfrs.tasks.Retrieval(metrics=tfrs.metrics.FactorizedTopK(\n",
    "    movies.batch(128).map(movie_model)\n",
    "  )\n",
    ")"
   ]
  },
  {
   "cell_type": "markdown",
   "metadata": {
    "colab_type": "text",
    "id": "BMV0HpzmJGWk"
   },
   "source": [
    "\n",
    "### Fit and evaluate it.\n",
    "\n",
    "Create the model, train it, and generate predictions:\n",
    "\n"
   ]
  },
  {
   "cell_type": "code",
   "execution_count": 6,
   "metadata": {
    "colab": {},
    "colab_type": "code",
    "id": "H2tQDhqkOKf1"
   },
   "outputs": [
    {
     "name": "stdout",
     "output_type": "stream",
     "text": [
      "Epoch 1/3\n",
      "25/25 [==============================] - 6s 234ms/step - factorized_top_k: 0.0302 - factorized_top_k/top_1_categorical_accuracy: 9.0000e-05 - factorized_top_k/top_5_categorical_accuracy: 0.0017 - factorized_top_k/top_10_categorical_accuracy: 0.0050 - factorized_top_k/top_50_categorical_accuracy: 0.0443 - factorized_top_k/top_100_categorical_accuracy: 0.1000 - loss: 33102.9246 - regularization_loss: 0.0000e+00 - total_loss: 33102.9246\n",
      "Epoch 2/3\n",
      "25/25 [==============================] - 6s 232ms/step - factorized_top_k: 0.0671 - factorized_top_k/top_1_categorical_accuracy: 2.7000e-04 - factorized_top_k/top_5_categorical_accuracy: 0.0052 - factorized_top_k/top_10_categorical_accuracy: 0.0144 - factorized_top_k/top_50_categorical_accuracy: 0.1052 - factorized_top_k/top_100_categorical_accuracy: 0.2101 - loss: 31014.6264 - regularization_loss: 0.0000e+00 - total_loss: 31014.6264\n",
      "Epoch 3/3\n",
      "25/25 [==============================] - 6s 232ms/step - factorized_top_k: 0.0887 - factorized_top_k/top_1_categorical_accuracy: 5.5000e-04 - factorized_top_k/top_5_categorical_accuracy: 0.0082 - factorized_top_k/top_10_categorical_accuracy: 0.0222 - factorized_top_k/top_50_categorical_accuracy: 0.1448 - factorized_top_k/top_100_categorical_accuracy: 0.2676 - loss: 30418.4879 - regularization_loss: 0.0000e+00 - total_loss: 30418.4879\n",
      "Top 3 recommendations for user 42: [b'Rent-a-Kid (1995)' b'Just Cause (1995)' b'Aristocats, The (1970)']\n"
     ]
    }
   ],
   "source": [
    "# Create a retrieval model.\n",
    "model = MovieLensModel(user_model, movie_model, task)\n",
    "model.compile(optimizer=tf.keras.optimizers.Adagrad(0.5))\n",
    "\n",
    "# Train for 3 epochs.\n",
    "model.fit(ratings.batch(4096), epochs=3)\n",
    "\n",
    "# Use brute-force search to set up retrieval using the trained representations.\n",
    "index = tfrs.layers.ann.BruteForce(model.user_model)\n",
    "index.index(movies.batch(100).map(model.movie_model), movies)\n",
    "\n",
    "# Get some recommendations.\n",
    "_, titles = index(np.array([\"42\"]))\n",
    "print(f\"Top 3 recommendations for user 42: {titles[0, :3]}\")"
   ]
  }
 ],
 "metadata": {
  "colab": {
   "collapsed_sections": [],
   "name": "quickstart.ipynb",
   "private_outputs": true,
   "provenance": [],
   "toc_visible": true
  },
  "kernelspec": {
   "display_name": "conda_python3",
   "language": "python",
   "name": "conda_python3"
  },
  "language_info": {
   "codemirror_mode": {
    "name": "ipython",
    "version": 3
   },
   "file_extension": ".py",
   "mimetype": "text/x-python",
   "name": "python",
   "nbconvert_exporter": "python",
   "pygments_lexer": "ipython3",
   "version": "3.6.10"
  }
 },
 "nbformat": 4,
 "nbformat_minor": 4
}
