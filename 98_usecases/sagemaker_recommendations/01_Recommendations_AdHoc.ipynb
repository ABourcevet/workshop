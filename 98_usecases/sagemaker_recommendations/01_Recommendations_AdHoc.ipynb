{
 "cells": [
  {
   "cell_type": "markdown",
   "metadata": {
    "colab_type": "text",
    "id": "sT8AyHRMNh41"
   },
   "source": [
    "# TensorFlow Recommenders: Quickstart"
   ]
  },
  {
   "cell_type": "markdown",
   "metadata": {
    "colab_type": "text",
    "id": "8f-reQ11gbLB"
   },
   "source": [
    "In this tutorial, we build a simple matrix factorization model using the [MovieLens 100K dataset](https://grouplens.org/datasets/movielens/100k/) with TFRS. We can use this model to recommend movies for a given user."
   ]
  },
  {
   "cell_type": "markdown",
   "metadata": {},
   "source": [
    "# Import TensorFlow Recommender System (TFRS)"
   ]
  },
  {
   "cell_type": "code",
   "execution_count": null,
   "metadata": {},
   "outputs": [],
   "source": [
    "!pip install -q tensorflow==2.3.0\n",
    "!pip install -q tensorflow-recommenders==0.1.3\n",
    "!pip install -q tensorflow-datasets==3.2.1"
   ]
  },
  {
   "cell_type": "markdown",
   "metadata": {},
   "source": [
    "# Annoy\n",
    "https://github.com/spotify/annoy"
   ]
  },
  {
   "cell_type": "code",
   "execution_count": null,
   "metadata": {},
   "outputs": [],
   "source": [
    "!pip install -q annoy==1.16.3"
   ]
  },
  {
   "cell_type": "code",
   "execution_count": 1,
   "metadata": {
    "colab": {},
    "colab_type": "code",
    "id": "n3oYt3R6Nr9l"
   },
   "outputs": [],
   "source": [
    "from typing import Dict, Text\n",
    "\n",
    "import numpy as np\n",
    "import tensorflow as tf\n",
    "\n",
    "import tensorflow_datasets as tfds\n",
    "import tensorflow_recommenders as tfrs"
   ]
  },
  {
   "cell_type": "markdown",
   "metadata": {
    "colab_type": "text",
    "id": "zCxQ1CZcO2wh"
   },
   "source": [
    "# Load Ratings"
   ]
  },
  {
   "cell_type": "code",
   "execution_count": 2,
   "metadata": {
    "colab": {},
    "colab_type": "code",
    "id": "M-mxBYjdO5m7"
   },
   "outputs": [
    {
     "name": "stdout",
     "output_type": "stream",
     "text": [
      "<PrefetchDataset shapes: {bucketized_user_age: (), movie_genres: (None,), movie_id: (), movie_title: (), raw_user_age: (), timestamp: (), user_gender: (), user_id: (), user_occupation_label: (), user_occupation_text: (), user_rating: (), user_zip_code: ()}, types: {bucketized_user_age: tf.float32, movie_genres: tf.int64, movie_id: tf.string, movie_title: tf.string, raw_user_age: tf.float32, timestamp: tf.int64, user_gender: tf.bool, user_id: tf.string, user_occupation_label: tf.int64, user_occupation_text: tf.string, user_rating: tf.float32, user_zip_code: tf.string}>\n"
     ]
    }
   ],
   "source": [
    "ratings = tfds.load('movie_lens/100k-ratings', split=\"train\")\n",
    "print(ratings)"
   ]
  },
  {
   "cell_type": "markdown",
   "metadata": {},
   "source": [
    "# Load Movies"
   ]
  },
  {
   "cell_type": "code",
   "execution_count": 3,
   "metadata": {
    "scrolled": true
   },
   "outputs": [
    {
     "name": "stdout",
     "output_type": "stream",
     "text": [
      "<PrefetchDataset shapes: {movie_genres: (None,), movie_id: (), movie_title: ()}, types: {movie_genres: tf.int64, movie_id: tf.string, movie_title: tf.string}>\n"
     ]
    }
   ],
   "source": [
    "movies = tfds.load('movie_lens/100k-movies', split=\"train\")\n",
    "print(movies)"
   ]
  },
  {
   "cell_type": "markdown",
   "metadata": {},
   "source": [
    "# Select Basic Features"
   ]
  },
  {
   "cell_type": "code",
   "execution_count": 4,
   "metadata": {},
   "outputs": [
    {
     "name": "stdout",
     "output_type": "stream",
     "text": [
      "<MapDataset shapes: {movie_title: (), user_id: ()}, types: {movie_title: tf.string, user_id: tf.string}>\n"
     ]
    }
   ],
   "source": [
    "ratings = ratings.map(lambda x: {\n",
    "    \"movie_title\": x[\"movie_title\"],\n",
    "    \"user_id\": x[\"user_id\"]\n",
    "})\n",
    "print(ratings)"
   ]
  },
  {
   "cell_type": "code",
   "execution_count": 5,
   "metadata": {},
   "outputs": [
    {
     "name": "stdout",
     "output_type": "stream",
     "text": [
      "<MapDataset shapes: (), types: tf.string>\n"
     ]
    }
   ],
   "source": [
    "movies = movies.map(lambda x: x[\"movie_title\"])\n",
    "print(movies)"
   ]
  },
  {
   "cell_type": "code",
   "execution_count": 6,
   "metadata": {},
   "outputs": [],
   "source": [
    "#print(type(ratings))\n",
    "#print(type(movies))"
   ]
  },
  {
   "cell_type": "markdown",
   "metadata": {
    "colab_type": "text",
    "id": "5W0HSfmSNCWm"
   },
   "source": [
    "# Create Vocabularies\n",
    "Build vocabularies to convert user ids and movie titles into integer indices for embedding layers:"
   ]
  },
  {
   "cell_type": "code",
   "execution_count": 7,
   "metadata": {
    "colab": {},
    "colab_type": "code",
    "id": "9I1VTEjHzpfX"
   },
   "outputs": [],
   "source": [
    "user_ids_vocabulary = tf.keras.layers.experimental.preprocessing.StringLookup(mask_token=None)\n",
    "user_ids_vocabulary.adapt(ratings.map(lambda x: x[\"user_id\"]))\n",
    "\n",
    "movie_titles_vocabulary = tf.keras.layers.experimental.preprocessing.StringLookup(mask_token=None)\n",
    "movie_titles_vocabulary.adapt(movies)"
   ]
  },
  {
   "cell_type": "code",
   "execution_count": 8,
   "metadata": {},
   "outputs": [],
   "source": [
    "#print(user_ids_vocabulary.get_vocabulary())"
   ]
  },
  {
   "cell_type": "markdown",
   "metadata": {
    "colab_type": "text",
    "id": "Lrch6rVBOB9Q"
   },
   "source": [
    "# Create the Model\n",
    "\n",
    "We can define a TFRS model by inheriting from `tfrs.Model` and implementing the `compute_loss` method:"
   ]
  },
  {
   "cell_type": "code",
   "execution_count": 13,
   "metadata": {
    "colab": {},
    "colab_type": "code",
    "id": "e5dNbDZwOIHR"
   },
   "outputs": [],
   "source": [
    "class MovieLensModel(tfrs.Model):\n",
    "  # We derive from a custom base class to help reduce boilerplate. Under the hood,\n",
    "  # these are still plain Keras Models.\n",
    "\n",
    "  def __init__(\n",
    "      self,\n",
    "      user_model: tf.keras.Model,\n",
    "      movie_model: tf.keras.Model,\n",
    "      task: tfrs.tasks.Retrieval):\n",
    "    super().__init__()\n",
    "\n",
    "    # Set up user and movie representations.\n",
    "    self.user_model = user_model\n",
    "    self.movie_model = movie_model\n",
    "\n",
    "    # Set up a retrieval task.\n",
    "    self.task = task\n",
    "\n",
    "  def compute_loss(self, features: Dict[Text, tf.Tensor], training=False) -> tf.Tensor:\n",
    "    # Define how the loss is computed.\n",
    "\n",
    "    user_embeddings = self.user_model(features[\"user_id\"])\n",
    "    movie_embeddings = self.movie_model(features[\"movie_title\"])\n",
    "\n",
    "    return self.task(user_embeddings, movie_embeddings)"
   ]
  },
  {
   "cell_type": "markdown",
   "metadata": {
    "colab_type": "text",
    "id": "wdwtgUCEOI8y"
   },
   "source": [
    "# Define User and Movie Models\n",
    "Define the two models."
   ]
  },
  {
   "cell_type": "code",
   "execution_count": 14,
   "metadata": {
    "colab": {},
    "colab_type": "code",
    "id": "EvtnUN6aUY4U"
   },
   "outputs": [],
   "source": [
    "user_model = tf.keras.Sequential([\n",
    "    user_ids_vocabulary,\n",
    "    tf.keras.layers.Embedding(user_ids_vocabulary.vocab_size(), 128)\n",
    "])\n",
    "\n",
    "movie_model = tf.keras.Sequential([\n",
    "    movie_titles_vocabulary,\n",
    "    tf.keras.layers.Embedding(movie_titles_vocabulary.vocab_size(), 128)\n",
    "])"
   ]
  },
  {
   "cell_type": "markdown",
   "metadata": {},
   "source": [
    "# Define the Retrieval Task"
   ]
  },
  {
   "cell_type": "code",
   "execution_count": null,
   "metadata": {},
   "outputs": [],
   "source": [
    "task = tfrs.tasks.Retrieval(metrics=tfrs.metrics.FactorizedTopK(\n",
    "    movies.batch(128).map(movie_model)\n",
    "  )\n",
    ")"
   ]
  },
  {
   "cell_type": "markdown",
   "metadata": {
    "colab_type": "text",
    "id": "BMV0HpzmJGWk"
   },
   "source": [
    "# Train the Retrieval Model"
   ]
  },
  {
   "cell_type": "code",
   "execution_count": null,
   "metadata": {
    "colab": {},
    "colab_type": "code",
    "id": "H2tQDhqkOKf1",
    "scrolled": true
   },
   "outputs": [
    {
     "name": "stdout",
     "output_type": "stream",
     "text": [
      "Epoch 1/100\n",
      "25/25 [==============================] - 6s 244ms/step - factorized_top_k: 0.0233 - factorized_top_k/top_1_categorical_accuracy: 3.0000e-05 - factorized_top_k/top_5_categorical_accuracy: 8.0000e-04 - factorized_top_k/top_10_categorical_accuracy: 0.0030 - factorized_top_k/top_50_categorical_accuracy: 0.0338 - factorized_top_k/top_100_categorical_accuracy: 0.0786 - loss: 35764.4455 - regularization_loss: 0.0000e+00 - total_loss: 35764.4455\n",
      "Epoch 2/100\n",
      "25/25 [==============================] - 6s 245ms/step - factorized_top_k: 0.0648 - factorized_top_k/top_1_categorical_accuracy: 1.6000e-04 - factorized_top_k/top_5_categorical_accuracy: 0.0036 - factorized_top_k/top_10_categorical_accuracy: 0.0113 - factorized_top_k/top_50_categorical_accuracy: 0.1005 - factorized_top_k/top_100_categorical_accuracy: 0.2085 - loss: 31245.6944 - regularization_loss: 0.0000e+00 - total_loss: 31245.6944\n",
      "Epoch 3/100\n",
      "25/25 [==============================] - 6s 245ms/step - factorized_top_k: 0.0919 - factorized_top_k/top_1_categorical_accuracy: 5.3000e-04 - factorized_top_k/top_5_categorical_accuracy: 0.0059 - factorized_top_k/top_10_categorical_accuracy: 0.0177 - factorized_top_k/top_50_categorical_accuracy: 0.1497 - factorized_top_k/top_100_categorical_accuracy: 0.2858 - loss: 30508.5838 - regularization_loss: 0.0000e+00 - total_loss: 30508.5838\n",
      "Epoch 4/100\n",
      "25/25 [==============================] - 6s 245ms/step - factorized_top_k: 0.1114 - factorized_top_k/top_1_categorical_accuracy: 4.6000e-04 - factorized_top_k/top_5_categorical_accuracy: 0.0068 - factorized_top_k/top_10_categorical_accuracy: 0.0220 - factorized_top_k/top_50_categorical_accuracy: 0.1862 - factorized_top_k/top_100_categorical_accuracy: 0.3416 - loss: 30135.7016 - regularization_loss: 0.0000e+00 - total_loss: 30135.7016\n",
      "Epoch 5/100\n",
      "25/25 [==============================] - 6s 245ms/step - factorized_top_k: 0.1228 - factorized_top_k/top_1_categorical_accuracy: 4.0000e-04 - factorized_top_k/top_5_categorical_accuracy: 0.0073 - factorized_top_k/top_10_categorical_accuracy: 0.0238 - factorized_top_k/top_50_categorical_accuracy: 0.2071 - factorized_top_k/top_100_categorical_accuracy: 0.3752 - loss: 29863.3007 - regularization_loss: 0.0000e+00 - total_loss: 29863.3007\n",
      "Epoch 6/100\n",
      "25/25 [==============================] - 6s 245ms/step - factorized_top_k: 0.1311 - factorized_top_k/top_1_categorical_accuracy: 4.0000e-04 - factorized_top_k/top_5_categorical_accuracy: 0.0080 - factorized_top_k/top_10_categorical_accuracy: 0.0246 - factorized_top_k/top_50_categorical_accuracy: 0.2224 - factorized_top_k/top_100_categorical_accuracy: 0.4003 - loss: 29651.1125 - regularization_loss: 0.0000e+00 - total_loss: 29651.1125\n",
      "Epoch 7/100\n",
      "25/25 [==============================] - 6s 245ms/step - factorized_top_k: 0.1375 - factorized_top_k/top_1_categorical_accuracy: 4.7000e-04 - factorized_top_k/top_5_categorical_accuracy: 0.0083 - factorized_top_k/top_10_categorical_accuracy: 0.0253 - factorized_top_k/top_50_categorical_accuracy: 0.2341 - factorized_top_k/top_100_categorical_accuracy: 0.4194 - loss: 29468.8887 - regularization_loss: 0.0000e+00 - total_loss: 29468.8887\n",
      "Epoch 8/100\n",
      "25/25 [==============================] - 6s 244ms/step - factorized_top_k: 0.1425 - factorized_top_k/top_1_categorical_accuracy: 4.0000e-04 - factorized_top_k/top_5_categorical_accuracy: 0.0087 - factorized_top_k/top_10_categorical_accuracy: 0.0259 - factorized_top_k/top_50_categorical_accuracy: 0.2438 - factorized_top_k/top_100_categorical_accuracy: 0.4336 - loss: 29320.1943 - regularization_loss: 0.0000e+00 - total_loss: 29320.1943\n",
      "Epoch 9/100\n",
      "25/25 [==============================] - 6s 245ms/step - factorized_top_k: 0.1465 - factorized_top_k/top_1_categorical_accuracy: 4.5000e-04 - factorized_top_k/top_5_categorical_accuracy: 0.0089 - factorized_top_k/top_10_categorical_accuracy: 0.0265 - factorized_top_k/top_50_categorical_accuracy: 0.2509 - factorized_top_k/top_100_categorical_accuracy: 0.4458 - loss: 29183.0212 - regularization_loss: 0.0000e+00 - total_loss: 29183.0212\n",
      "Epoch 10/100\n",
      "25/25 [==============================] - 6s 244ms/step - factorized_top_k: 0.1498 - factorized_top_k/top_1_categorical_accuracy: 4.2000e-04 - factorized_top_k/top_5_categorical_accuracy: 0.0093 - factorized_top_k/top_10_categorical_accuracy: 0.0274 - factorized_top_k/top_50_categorical_accuracy: 0.2566 - factorized_top_k/top_100_categorical_accuracy: 0.4551 - loss: 29067.9419 - regularization_loss: 0.0000e+00 - total_loss: 29067.9419\n",
      "Epoch 11/100\n",
      "25/25 [==============================] - 6s 244ms/step - factorized_top_k: 0.1527 - factorized_top_k/top_1_categorical_accuracy: 5.9000e-04 - factorized_top_k/top_5_categorical_accuracy: 0.0095 - factorized_top_k/top_10_categorical_accuracy: 0.0280 - factorized_top_k/top_50_categorical_accuracy: 0.2614 - factorized_top_k/top_100_categorical_accuracy: 0.4639 - loss: 28963.0288 - regularization_loss: 0.0000e+00 - total_loss: 28963.0288\n",
      "Epoch 12/100\n",
      "25/25 [==============================] - 6s 244ms/step - factorized_top_k: 0.1550 - factorized_top_k/top_1_categorical_accuracy: 5.5000e-04 - factorized_top_k/top_5_categorical_accuracy: 0.0100 - factorized_top_k/top_10_categorical_accuracy: 0.0285 - factorized_top_k/top_50_categorical_accuracy: 0.2656 - factorized_top_k/top_100_categorical_accuracy: 0.4702 - loss: 28869.0627 - regularization_loss: 0.0000e+00 - total_loss: 28869.0627\n",
      "Epoch 13/100\n",
      "25/25 [==============================] - 6s 245ms/step - factorized_top_k: 0.1568 - factorized_top_k/top_1_categorical_accuracy: 5.4000e-04 - factorized_top_k/top_5_categorical_accuracy: 0.0100 - factorized_top_k/top_10_categorical_accuracy: 0.0290 - factorized_top_k/top_50_categorical_accuracy: 0.2687 - factorized_top_k/top_100_categorical_accuracy: 0.4756 - loss: 28784.4566 - regularization_loss: 0.0000e+00 - total_loss: 28784.4566\n",
      "Epoch 14/100\n",
      "25/25 [==============================] - 6s 245ms/step - factorized_top_k: 0.1586 - factorized_top_k/top_1_categorical_accuracy: 6.3000e-04 - factorized_top_k/top_5_categorical_accuracy: 0.0103 - factorized_top_k/top_10_categorical_accuracy: 0.0291 - factorized_top_k/top_50_categorical_accuracy: 0.2720 - factorized_top_k/top_100_categorical_accuracy: 0.4810 - loss: 28707.0252 - regularization_loss: 0.0000e+00 - total_loss: 28707.0252\n",
      "Epoch 15/100\n",
      "25/25 [==============================] - 6s 244ms/step - factorized_top_k: 0.1603 - factorized_top_k/top_1_categorical_accuracy: 6.9000e-04 - factorized_top_k/top_5_categorical_accuracy: 0.0106 - factorized_top_k/top_10_categorical_accuracy: 0.0298 - factorized_top_k/top_50_categorical_accuracy: 0.2748 - factorized_top_k/top_100_categorical_accuracy: 0.4856 - loss: 28635.7668 - regularization_loss: 0.0000e+00 - total_loss: 28635.7668\n",
      "Epoch 16/100\n",
      "25/25 [==============================] - 6s 245ms/step - factorized_top_k: 0.1619 - factorized_top_k/top_1_categorical_accuracy: 7.2000e-04 - factorized_top_k/top_5_categorical_accuracy: 0.0109 - factorized_top_k/top_10_categorical_accuracy: 0.0305 - factorized_top_k/top_50_categorical_accuracy: 0.2777 - factorized_top_k/top_100_categorical_accuracy: 0.4895 - loss: 28570.9760 - regularization_loss: 0.0000e+00 - total_loss: 28570.9760\n",
      "Epoch 17/100\n",
      "25/25 [==============================] - 6s 245ms/step - factorized_top_k: 0.1630 - factorized_top_k/top_1_categorical_accuracy: 6.4000e-04 - factorized_top_k/top_5_categorical_accuracy: 0.0109 - factorized_top_k/top_10_categorical_accuracy: 0.0309 - factorized_top_k/top_50_categorical_accuracy: 0.2794 - factorized_top_k/top_100_categorical_accuracy: 0.4933 - loss: 28510.6796 - regularization_loss: 0.0000e+00 - total_loss: 28510.6796\n",
      "Epoch 18/100\n",
      "25/25 [==============================] - 6s 244ms/step - factorized_top_k: 0.1644 - factorized_top_k/top_1_categorical_accuracy: 5.8000e-04 - factorized_top_k/top_5_categorical_accuracy: 0.0114 - factorized_top_k/top_10_categorical_accuracy: 0.0315 - factorized_top_k/top_50_categorical_accuracy: 0.2820 - factorized_top_k/top_100_categorical_accuracy: 0.4965 - loss: 28454.1647 - regularization_loss: 0.0000e+00 - total_loss: 28454.1647\n",
      "Epoch 19/100\n",
      "25/25 [==============================] - 6s 255ms/step - factorized_top_k: 0.1653 - factorized_top_k/top_1_categorical_accuracy: 8.0000e-04 - factorized_top_k/top_5_categorical_accuracy: 0.0115 - factorized_top_k/top_10_categorical_accuracy: 0.0318 - factorized_top_k/top_50_categorical_accuracy: 0.2831 - factorized_top_k/top_100_categorical_accuracy: 0.4994 - loss: 28401.5451 - regularization_loss: 0.0000e+00 - total_loss: 28401.5451\n",
      "Epoch 20/100\n",
      "25/25 [==============================] - 6s 244ms/step - factorized_top_k: 0.1662 - factorized_top_k/top_1_categorical_accuracy: 7.2000e-04 - factorized_top_k/top_5_categorical_accuracy: 0.0115 - factorized_top_k/top_10_categorical_accuracy: 0.0323 - factorized_top_k/top_50_categorical_accuracy: 0.2847 - factorized_top_k/top_100_categorical_accuracy: 0.5017 - loss: 28354.2351 - regularization_loss: 0.0000e+00 - total_loss: 28354.2351\n",
      "Epoch 21/100\n",
      "25/25 [==============================] - 6s 244ms/step - factorized_top_k: 0.1674 - factorized_top_k/top_1_categorical_accuracy: 7.1000e-04 - factorized_top_k/top_5_categorical_accuracy: 0.0119 - factorized_top_k/top_10_categorical_accuracy: 0.0329 - factorized_top_k/top_50_categorical_accuracy: 0.2866 - factorized_top_k/top_100_categorical_accuracy: 0.5049 - loss: 28307.3544 - regularization_loss: 0.0000e+00 - total_loss: 28307.3544\n",
      "Epoch 22/100\n",
      "25/25 [==============================] - 6s 244ms/step - factorized_top_k: 0.1681 - factorized_top_k/top_1_categorical_accuracy: 8.0000e-04 - factorized_top_k/top_5_categorical_accuracy: 0.0120 - factorized_top_k/top_10_categorical_accuracy: 0.0333 - factorized_top_k/top_50_categorical_accuracy: 0.2879 - factorized_top_k/top_100_categorical_accuracy: 0.5066 - loss: 28264.6214 - regularization_loss: 0.0000e+00 - total_loss: 28264.6214\n",
      "Epoch 23/100\n",
      "25/25 [==============================] - 6s 244ms/step - factorized_top_k: 0.1691 - factorized_top_k/top_1_categorical_accuracy: 8.5000e-04 - factorized_top_k/top_5_categorical_accuracy: 0.0123 - factorized_top_k/top_10_categorical_accuracy: 0.0337 - factorized_top_k/top_50_categorical_accuracy: 0.2896 - factorized_top_k/top_100_categorical_accuracy: 0.5091 - loss: 28223.8649 - regularization_loss: 0.0000e+00 - total_loss: 28223.8649\n",
      "Epoch 24/100\n",
      "25/25 [==============================] - 6s 244ms/step - factorized_top_k: 0.1698 - factorized_top_k/top_1_categorical_accuracy: 6.8000e-04 - factorized_top_k/top_5_categorical_accuracy: 0.0122 - factorized_top_k/top_10_categorical_accuracy: 0.0342 - factorized_top_k/top_50_categorical_accuracy: 0.2907 - factorized_top_k/top_100_categorical_accuracy: 0.5110 - loss: 28186.7734 - regularization_loss: 0.0000e+00 - total_loss: 28186.7734\n",
      "Epoch 25/100\n",
      "25/25 [==============================] - 6s 245ms/step - factorized_top_k: 0.1707 - factorized_top_k/top_1_categorical_accuracy: 8.3000e-04 - factorized_top_k/top_5_categorical_accuracy: 0.0127 - factorized_top_k/top_10_categorical_accuracy: 0.0345 - factorized_top_k/top_50_categorical_accuracy: 0.2922 - factorized_top_k/top_100_categorical_accuracy: 0.5132 - loss: 28149.5925 - regularization_loss: 0.0000e+00 - total_loss: 28149.5925\n",
      "Epoch 26/100\n",
      "25/25 [==============================] - 6s 245ms/step - factorized_top_k: 0.1714 - factorized_top_k/top_1_categorical_accuracy: 6.8000e-04 - factorized_top_k/top_5_categorical_accuracy: 0.0128 - factorized_top_k/top_10_categorical_accuracy: 0.0350 - factorized_top_k/top_50_categorical_accuracy: 0.2936 - factorized_top_k/top_100_categorical_accuracy: 0.5148 - loss: 28114.5663 - regularization_loss: 0.0000e+00 - total_loss: 28114.5663\n",
      "Epoch 27/100\n",
      "25/25 [==============================] - 6s 246ms/step - factorized_top_k: 0.1721 - factorized_top_k/top_1_categorical_accuracy: 9.0000e-04 - factorized_top_k/top_5_categorical_accuracy: 0.0130 - factorized_top_k/top_10_categorical_accuracy: 0.0355 - factorized_top_k/top_50_categorical_accuracy: 0.2946 - factorized_top_k/top_100_categorical_accuracy: 0.5163 - loss: 28081.2381 - regularization_loss: 0.0000e+00 - total_loss: 28081.2381\n",
      "Epoch 28/100\n",
      "25/25 [==============================] - 6s 245ms/step - factorized_top_k: 0.1727 - factorized_top_k/top_1_categorical_accuracy: 7.2000e-04 - factorized_top_k/top_5_categorical_accuracy: 0.0131 - factorized_top_k/top_10_categorical_accuracy: 0.0357 - factorized_top_k/top_50_categorical_accuracy: 0.2958 - factorized_top_k/top_100_categorical_accuracy: 0.5183 - loss: 28050.8699 - regularization_loss: 0.0000e+00 - total_loss: 28050.8699\n",
      "Epoch 29/100\n",
      "25/25 [==============================] - 6s 244ms/step - factorized_top_k: 0.1734 - factorized_top_k/top_1_categorical_accuracy: 8.8000e-04 - factorized_top_k/top_5_categorical_accuracy: 0.0135 - factorized_top_k/top_10_categorical_accuracy: 0.0362 - factorized_top_k/top_50_categorical_accuracy: 0.2970 - factorized_top_k/top_100_categorical_accuracy: 0.5197 - loss: 28019.7366 - regularization_loss: 0.0000e+00 - total_loss: 28019.7366\n",
      "Epoch 30/100\n",
      "25/25 [==============================] - 6s 245ms/step - factorized_top_k: 0.1737 - factorized_top_k/top_1_categorical_accuracy: 8.5000e-04 - factorized_top_k/top_5_categorical_accuracy: 0.0133 - factorized_top_k/top_10_categorical_accuracy: 0.0362 - factorized_top_k/top_50_categorical_accuracy: 0.2974 - factorized_top_k/top_100_categorical_accuracy: 0.5208 - loss: 27992.2778 - regularization_loss: 0.0000e+00 - total_loss: 27992.2778\n",
      "Epoch 31/100\n",
      "25/25 [==============================] - 6s 245ms/step - factorized_top_k: 0.1744 - factorized_top_k/top_1_categorical_accuracy: 9.6000e-04 - factorized_top_k/top_5_categorical_accuracy: 0.0138 - factorized_top_k/top_10_categorical_accuracy: 0.0366 - factorized_top_k/top_50_categorical_accuracy: 0.2984 - factorized_top_k/top_100_categorical_accuracy: 0.5222 - loss: 27963.5246 - regularization_loss: 0.0000e+00 - total_loss: 27963.5246\n",
      "Epoch 32/100\n",
      "25/25 [==============================] - 6s 244ms/step - factorized_top_k: 0.1749 - factorized_top_k/top_1_categorical_accuracy: 8.7000e-04 - factorized_top_k/top_5_categorical_accuracy: 0.0139 - factorized_top_k/top_10_categorical_accuracy: 0.0370 - factorized_top_k/top_50_categorical_accuracy: 0.2993 - factorized_top_k/top_100_categorical_accuracy: 0.5233 - loss: 27938.5760 - regularization_loss: 0.0000e+00 - total_loss: 27938.5760\n",
      "Epoch 33/100\n",
      "25/25 [==============================] - 6s 245ms/step - factorized_top_k: 0.1755 - factorized_top_k/top_1_categorical_accuracy: 9.3000e-04 - factorized_top_k/top_5_categorical_accuracy: 0.0140 - factorized_top_k/top_10_categorical_accuracy: 0.0373 - factorized_top_k/top_50_categorical_accuracy: 0.3002 - factorized_top_k/top_100_categorical_accuracy: 0.5248 - loss: 27912.4633 - regularization_loss: 0.0000e+00 - total_loss: 27912.4633\n",
      "Epoch 34/100\n",
      "25/25 [==============================] - 6s 244ms/step - factorized_top_k: 0.1759 - factorized_top_k/top_1_categorical_accuracy: 9.2000e-04 - factorized_top_k/top_5_categorical_accuracy: 0.0142 - factorized_top_k/top_10_categorical_accuracy: 0.0377 - factorized_top_k/top_50_categorical_accuracy: 0.3009 - factorized_top_k/top_100_categorical_accuracy: 0.5257 - loss: 27888.7398 - regularization_loss: 0.0000e+00 - total_loss: 27888.7398\n",
      "Epoch 35/100\n",
      "25/25 [==============================] - 6s 245ms/step - factorized_top_k: 0.1764 - factorized_top_k/top_1_categorical_accuracy: 8.9000e-04 - factorized_top_k/top_5_categorical_accuracy: 0.0142 - factorized_top_k/top_10_categorical_accuracy: 0.0382 - factorized_top_k/top_50_categorical_accuracy: 0.3019 - factorized_top_k/top_100_categorical_accuracy: 0.5270 - loss: 27864.7949 - regularization_loss: 0.0000e+00 - total_loss: 27864.7949\n",
      "Epoch 36/100\n",
      "25/25 [==============================] - 6s 244ms/step - factorized_top_k: 0.1768 - factorized_top_k/top_1_categorical_accuracy: 8.2000e-04 - factorized_top_k/top_5_categorical_accuracy: 0.0145 - factorized_top_k/top_10_categorical_accuracy: 0.0382 - factorized_top_k/top_50_categorical_accuracy: 0.3026 - factorized_top_k/top_100_categorical_accuracy: 0.5278 - loss: 27842.7846 - regularization_loss: 0.0000e+00 - total_loss: 27842.7846\n",
      "Epoch 37/100\n"
     ]
    },
    {
     "name": "stdout",
     "output_type": "stream",
     "text": [
      "25/25 [==============================] - 6s 244ms/step - factorized_top_k: 0.1772 - factorized_top_k/top_1_categorical_accuracy: 0.0010 - factorized_top_k/top_5_categorical_accuracy: 0.0146 - factorized_top_k/top_10_categorical_accuracy: 0.0385 - factorized_top_k/top_50_categorical_accuracy: 0.3031 - factorized_top_k/top_100_categorical_accuracy: 0.5289 - loss: 27820.6092 - regularization_loss: 0.0000e+00 - total_loss: 27820.6092\n",
      "Epoch 38/100\n",
      "25/25 [==============================] - 6s 245ms/step - factorized_top_k: 0.1776 - factorized_top_k/top_1_categorical_accuracy: 9.5000e-04 - factorized_top_k/top_5_categorical_accuracy: 0.0147 - factorized_top_k/top_10_categorical_accuracy: 0.0387 - factorized_top_k/top_50_categorical_accuracy: 0.3041 - factorized_top_k/top_100_categorical_accuracy: 0.5298 - loss: 27800.8864 - regularization_loss: 0.0000e+00 - total_loss: 27800.8864\n",
      "Epoch 39/100\n",
      "25/25 [==============================] - 6s 246ms/step - factorized_top_k: 0.1781 - factorized_top_k/top_1_categorical_accuracy: 0.0010 - factorized_top_k/top_5_categorical_accuracy: 0.0152 - factorized_top_k/top_10_categorical_accuracy: 0.0389 - factorized_top_k/top_50_categorical_accuracy: 0.3045 - factorized_top_k/top_100_categorical_accuracy: 0.5308 - loss: 27780.0318 - regularization_loss: 0.0000e+00 - total_loss: 27780.0318\n",
      "Epoch 40/100\n",
      "25/25 [==============================] - 6s 245ms/step - factorized_top_k: 0.1783 - factorized_top_k/top_1_categorical_accuracy: 0.0010 - factorized_top_k/top_5_categorical_accuracy: 0.0150 - factorized_top_k/top_10_categorical_accuracy: 0.0389 - factorized_top_k/top_50_categorical_accuracy: 0.3051 - factorized_top_k/top_100_categorical_accuracy: 0.5314 - loss: 27761.0352 - regularization_loss: 0.0000e+00 - total_loss: 27761.0352\n",
      "Epoch 41/100\n",
      "25/25 [==============================] - 6s 243ms/step - factorized_top_k: 0.1788 - factorized_top_k/top_1_categorical_accuracy: 9.3000e-04 - factorized_top_k/top_5_categorical_accuracy: 0.0153 - factorized_top_k/top_10_categorical_accuracy: 0.0391 - factorized_top_k/top_50_categorical_accuracy: 0.3063 - factorized_top_k/top_100_categorical_accuracy: 0.5325 - loss: 27741.7483 - regularization_loss: 0.0000e+00 - total_loss: 27741.7483\n",
      "Epoch 42/100\n",
      "25/25 [==============================] - 6s 244ms/step - factorized_top_k: 0.1790 - factorized_top_k/top_1_categorical_accuracy: 8.6000e-04 - factorized_top_k/top_5_categorical_accuracy: 0.0151 - factorized_top_k/top_10_categorical_accuracy: 0.0395 - factorized_top_k/top_50_categorical_accuracy: 0.3066 - factorized_top_k/top_100_categorical_accuracy: 0.5329 - loss: 27724.1635 - regularization_loss: 0.0000e+00 - total_loss: 27724.1635\n",
      "Epoch 43/100\n",
      "25/25 [==============================] - 6s 245ms/step - factorized_top_k: 0.1794 - factorized_top_k/top_1_categorical_accuracy: 9.4000e-04 - factorized_top_k/top_5_categorical_accuracy: 0.0155 - factorized_top_k/top_10_categorical_accuracy: 0.0397 - factorized_top_k/top_50_categorical_accuracy: 0.3070 - factorized_top_k/top_100_categorical_accuracy: 0.5337 - loss: 27706.3102 - regularization_loss: 0.0000e+00 - total_loss: 27706.3102\n",
      "Epoch 44/100\n",
      "25/25 [==============================] - 6s 244ms/step - factorized_top_k: 0.1797 - factorized_top_k/top_1_categorical_accuracy: 9.5000e-04 - factorized_top_k/top_5_categorical_accuracy: 0.0156 - factorized_top_k/top_10_categorical_accuracy: 0.0399 - factorized_top_k/top_50_categorical_accuracy: 0.3076 - factorized_top_k/top_100_categorical_accuracy: 0.5344 - loss: 27689.5928 - regularization_loss: 0.0000e+00 - total_loss: 27689.5928\n",
      "Epoch 45/100\n",
      "25/25 [==============================] - 6s 245ms/step - factorized_top_k: 0.1800 - factorized_top_k/top_1_categorical_accuracy: 0.0011 - factorized_top_k/top_5_categorical_accuracy: 0.0158 - factorized_top_k/top_10_categorical_accuracy: 0.0402 - factorized_top_k/top_50_categorical_accuracy: 0.3080 - factorized_top_k/top_100_categorical_accuracy: 0.5351 - loss: 27672.8021 - regularization_loss: 0.0000e+00 - total_loss: 27672.8021\n",
      "Epoch 46/100\n",
      "25/25 [==============================] - 6s 245ms/step - factorized_top_k: 0.1802 - factorized_top_k/top_1_categorical_accuracy: 9.8000e-04 - factorized_top_k/top_5_categorical_accuracy: 0.0156 - factorized_top_k/top_10_categorical_accuracy: 0.0403 - factorized_top_k/top_50_categorical_accuracy: 0.3083 - factorized_top_k/top_100_categorical_accuracy: 0.5359 - loss: 27656.5365 - regularization_loss: 0.0000e+00 - total_loss: 27656.5365\n",
      "Epoch 47/100\n",
      "25/25 [==============================] - 6s 259ms/step - factorized_top_k: 0.1805 - factorized_top_k/top_1_categorical_accuracy: 9.2000e-04 - factorized_top_k/top_5_categorical_accuracy: 0.0159 - factorized_top_k/top_10_categorical_accuracy: 0.0405 - factorized_top_k/top_50_categorical_accuracy: 0.3088 - factorized_top_k/top_100_categorical_accuracy: 0.5363 - loss: 27640.7135 - regularization_loss: 0.0000e+00 - total_loss: 27640.7135\n",
      "Epoch 48/100\n",
      "25/25 [==============================] - 6s 244ms/step - factorized_top_k: 0.1809 - factorized_top_k/top_1_categorical_accuracy: 0.0011 - factorized_top_k/top_5_categorical_accuracy: 0.0160 - factorized_top_k/top_10_categorical_accuracy: 0.0408 - factorized_top_k/top_50_categorical_accuracy: 0.3094 - factorized_top_k/top_100_categorical_accuracy: 0.5372 - loss: 27625.9126 - regularization_loss: 0.0000e+00 - total_loss: 27625.9126\n",
      "Epoch 49/100\n",
      "25/25 [==============================] - 6s 245ms/step - factorized_top_k: 0.1811 - factorized_top_k/top_1_categorical_accuracy: 9.7000e-04 - factorized_top_k/top_5_categorical_accuracy: 0.0161 - factorized_top_k/top_10_categorical_accuracy: 0.0410 - factorized_top_k/top_50_categorical_accuracy: 0.3098 - factorized_top_k/top_100_categorical_accuracy: 0.5377 - loss: 27610.9153 - regularization_loss: 0.0000e+00 - total_loss: 27610.9153\n",
      "Epoch 50/100\n",
      "25/25 [==============================] - 6s 244ms/step - factorized_top_k: 0.1815 - factorized_top_k/top_1_categorical_accuracy: 0.0011 - factorized_top_k/top_5_categorical_accuracy: 0.0162 - factorized_top_k/top_10_categorical_accuracy: 0.0412 - factorized_top_k/top_50_categorical_accuracy: 0.3106 - factorized_top_k/top_100_categorical_accuracy: 0.5384 - loss: 27596.6952 - regularization_loss: 0.0000e+00 - total_loss: 27596.6952\n",
      "Epoch 51/100\n",
      "25/25 [==============================] - 6s 245ms/step - factorized_top_k: 0.1816 - factorized_top_k/top_1_categorical_accuracy: 8.6000e-04 - factorized_top_k/top_5_categorical_accuracy: 0.0161 - factorized_top_k/top_10_categorical_accuracy: 0.0414 - factorized_top_k/top_50_categorical_accuracy: 0.3109 - factorized_top_k/top_100_categorical_accuracy: 0.5388 - loss: 27582.3475 - regularization_loss: 0.0000e+00 - total_loss: 27582.3475\n",
      "Epoch 52/100\n",
      "25/25 [==============================] - 6s 246ms/step - factorized_top_k: 0.1818 - factorized_top_k/top_1_categorical_accuracy: 9.1000e-04 - factorized_top_k/top_5_categorical_accuracy: 0.0162 - factorized_top_k/top_10_categorical_accuracy: 0.0417 - factorized_top_k/top_50_categorical_accuracy: 0.3113 - factorized_top_k/top_100_categorical_accuracy: 0.5391 - loss: 27568.7279 - regularization_loss: 0.0000e+00 - total_loss: 27568.7279\n",
      "Epoch 53/100\n",
      "25/25 [==============================] - 6s 244ms/step - factorized_top_k: 0.1820 - factorized_top_k/top_1_categorical_accuracy: 9.8000e-04 - factorized_top_k/top_5_categorical_accuracy: 0.0163 - factorized_top_k/top_10_categorical_accuracy: 0.0417 - factorized_top_k/top_50_categorical_accuracy: 0.3116 - factorized_top_k/top_100_categorical_accuracy: 0.5396 - loss: 27555.4177 - regularization_loss: 0.0000e+00 - total_loss: 27555.4177\n",
      "Epoch 54/100\n",
      "25/25 [==============================] - 6s 245ms/step - factorized_top_k: 0.1823 - factorized_top_k/top_1_categorical_accuracy: 0.0010 - factorized_top_k/top_5_categorical_accuracy: 0.0165 - factorized_top_k/top_10_categorical_accuracy: 0.0417 - factorized_top_k/top_50_categorical_accuracy: 0.3122 - factorized_top_k/top_100_categorical_accuracy: 0.5402 - loss: 27542.6534 - regularization_loss: 0.0000e+00 - total_loss: 27542.6534\n",
      "Epoch 55/100\n",
      "25/25 [==============================] - 6s 244ms/step - factorized_top_k: 0.1826 - factorized_top_k/top_1_categorical_accuracy: 0.0010 - factorized_top_k/top_5_categorical_accuracy: 0.0165 - factorized_top_k/top_10_categorical_accuracy: 0.0421 - factorized_top_k/top_50_categorical_accuracy: 0.3124 - factorized_top_k/top_100_categorical_accuracy: 0.5408 - loss: 27529.9979 - regularization_loss: 0.0000e+00 - total_loss: 27529.9979\n",
      "Epoch 56/100\n",
      "25/25 [==============================] - 6s 245ms/step - factorized_top_k: 0.1828 - factorized_top_k/top_1_categorical_accuracy: 9.8000e-04 - factorized_top_k/top_5_categorical_accuracy: 0.0167 - factorized_top_k/top_10_categorical_accuracy: 0.0423 - factorized_top_k/top_50_categorical_accuracy: 0.3129 - factorized_top_k/top_100_categorical_accuracy: 0.5412 - loss: 27517.8396 - regularization_loss: 0.0000e+00 - total_loss: 27517.8396\n",
      "Epoch 57/100\n",
      "25/25 [==============================] - 6s 246ms/step - factorized_top_k: 0.1830 - factorized_top_k/top_1_categorical_accuracy: 9.1000e-04 - factorized_top_k/top_5_categorical_accuracy: 0.0167 - factorized_top_k/top_10_categorical_accuracy: 0.0423 - factorized_top_k/top_50_categorical_accuracy: 0.3132 - factorized_top_k/top_100_categorical_accuracy: 0.5418 - loss: 27505.4071 - regularization_loss: 0.0000e+00 - total_loss: 27505.4071\n",
      "Epoch 58/100\n",
      " 9/25 [=========>....................] - ETA: 3s - factorized_top_k: 0.1835 - factorized_top_k/top_1_categorical_accuracy: 9.7656e-04 - factorized_top_k/top_5_categorical_accuracy: 0.0168 - factorized_top_k/top_10_categorical_accuracy: 0.0426 - factorized_top_k/top_50_categorical_accuracy: 0.3138 - factorized_top_k/top_100_categorical_accuracy: 0.5432 - loss: 28929.8596 - regularization_loss: 0.0000e+00 - total_loss: 28929.8596"
     ]
    }
   ],
   "source": [
    "model = MovieLensModel(user_model, movie_model, task)\n",
    "model.compile(optimizer=tf.keras.optimizers.Adagrad(0.5))\n",
    "\n",
    "# Train.\n",
    "model.fit(ratings.batch(4096), epochs=100)"
   ]
  },
  {
   "cell_type": "markdown",
   "metadata": {},
   "source": [
    "# Make Predictions\n",
    "Use brute-force search to set up retrieval using the trained representations."
   ]
  },
  {
   "cell_type": "code",
   "execution_count": 12,
   "metadata": {},
   "outputs": [
    {
     "name": "stdout",
     "output_type": "stream",
     "text": [
      "Top 3 recommendations for user 42: [b'Rent-a-Kid (1995)' b'House Arrest (1996)' b'Clean Slate (1994)']\n"
     ]
    }
   ],
   "source": [
    "index = tfrs.layers.ann.BruteForce(model.user_model)\n",
    "index.index(movies.batch(100).map(model.movie_model), movies)\n",
    "\n",
    "# Get some recommendations.\n",
    "_, titles = index(np.array([\"42\"]))\n",
    "print(f\"Top 3 recommendations for user 42: {titles[0, :3]}\")"
   ]
  }
 ],
 "metadata": {
  "colab": {
   "collapsed_sections": [],
   "name": "quickstart.ipynb",
   "private_outputs": true,
   "provenance": [],
   "toc_visible": true
  },
  "kernelspec": {
   "display_name": "conda_python3",
   "language": "python",
   "name": "conda_python3"
  },
  "language_info": {
   "codemirror_mode": {
    "name": "ipython",
    "version": 3
   },
   "file_extension": ".py",
   "mimetype": "text/x-python",
   "name": "python",
   "nbconvert_exporter": "python",
   "pygments_lexer": "ipython3",
   "version": "3.6.10"
  }
 },
 "nbformat": 4,
 "nbformat_minor": 4
}
